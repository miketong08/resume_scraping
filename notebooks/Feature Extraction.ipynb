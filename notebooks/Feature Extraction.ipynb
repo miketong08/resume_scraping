{
 "cells": [
  {
   "cell_type": "markdown",
   "metadata": {},
   "source": [
    "# Feature Extraction\n",
    "## Pandas"
   ]
  },
  {
   "cell_type": "code",
   "execution_count": 2,
   "metadata": {},
   "outputs": [],
   "source": [
    "import pandas as pd"
   ]
  },
  {
   "cell_type": "code",
   "execution_count": 3,
   "metadata": {},
   "outputs": [],
   "source": [
    "df_large = pd.read_csv(\"./../assets/data_large.csv\", index_col = 0)"
   ]
  },
  {
   "cell_type": "code",
   "execution_count": 4,
   "metadata": {},
   "outputs": [
    {
     "data": {
      "text/html": [
       "<div>\n",
       "<style scoped>\n",
       "    .dataframe tbody tr th:only-of-type {\n",
       "        vertical-align: middle;\n",
       "    }\n",
       "\n",
       "    .dataframe tbody tr th {\n",
       "        vertical-align: top;\n",
       "    }\n",
       "\n",
       "    .dataframe thead th {\n",
       "        text-align: right;\n",
       "    }\n",
       "</style>\n",
       "<table border=\"1\" class=\"dataframe\">\n",
       "  <thead>\n",
       "    <tr style=\"text-align: right;\">\n",
       "      <th></th>\n",
       "      <th>city</th>\n",
       "      <th>searched_zipcode</th>\n",
       "      <th>url</th>\n",
       "      <th>content</th>\n",
       "      <th>posting_date</th>\n",
       "      <th>education</th>\n",
       "      <th>n_photos</th>\n",
       "      <th>availability</th>\n",
       "    </tr>\n",
       "  </thead>\n",
       "  <tbody>\n",
       "    <tr>\n",
       "      <td>7204</td>\n",
       "      <td>NewYork</td>\n",
       "      <td>10025</td>\n",
       "      <td>https://delaware.craigslist.org/res/d/it-profe...</td>\n",
       "      <td>Hi. I am IT professional. I am expert in fixin...</td>\n",
       "      <td>2019-08-03 13:53</td>\n",
       "      <td>masters</td>\n",
       "      <td>0</td>\n",
       "      <td>['afternoons', 'evenings', 'mornings', 'overni...</td>\n",
       "    </tr>\n",
       "    <tr>\n",
       "      <td>23107</td>\n",
       "      <td>Chicago</td>\n",
       "      <td>60617</td>\n",
       "      <td>https://rockford.craigslist.org/res/d/bookkeep...</td>\n",
       "      <td>You don't have to panic this year. Don't wait ...</td>\n",
       "      <td>2019-07-27 10:38</td>\n",
       "      <td>some college</td>\n",
       "      <td>1</td>\n",
       "      <td>['afternoons', 'evenings', 'mornings', 'weekda...</td>\n",
       "    </tr>\n",
       "    <tr>\n",
       "      <td>8553</td>\n",
       "      <td>NewYork</td>\n",
       "      <td>10025</td>\n",
       "      <td>https://newyork.craigslist.org/mnh/res/d/biz-d...</td>\n",
       "      <td>I specialize in growing startups BtoB only\\nCo...</td>\n",
       "      <td>2019-08-08 17:37</td>\n",
       "      <td>associates</td>\n",
       "      <td>1</td>\n",
       "      <td>['weekdays']</td>\n",
       "    </tr>\n",
       "    <tr>\n",
       "      <td>30511</td>\n",
       "      <td>Chicago</td>\n",
       "      <td>60625</td>\n",
       "      <td>https://bn.craigslist.org/res/d/painter-genera...</td>\n",
       "      <td>Im in need of a job, will do manual labor or i...</td>\n",
       "      <td>2019-08-02 15:42</td>\n",
       "      <td>high school/GED</td>\n",
       "      <td>0</td>\n",
       "      <td>['afternoons', 'mornings']</td>\n",
       "    </tr>\n",
       "    <tr>\n",
       "      <td>20997</td>\n",
       "      <td>SanDiego</td>\n",
       "      <td>92154</td>\n",
       "      <td>https://inlandempire.craigslist.org/res/d/seek...</td>\n",
       "      <td>Hello Craigslist,\\nMy name is Angela I am a 24...</td>\n",
       "      <td>2019-07-27 12:56</td>\n",
       "      <td>some college</td>\n",
       "      <td>0</td>\n",
       "      <td>['afternoons', 'evenings', 'mornings', 'overni...</td>\n",
       "    </tr>\n",
       "  </tbody>\n",
       "</table>\n",
       "</div>"
      ],
      "text/plain": [
       "           city  searched_zipcode  \\\n",
       "7204    NewYork             10025   \n",
       "23107   Chicago             60617   \n",
       "8553    NewYork             10025   \n",
       "30511   Chicago             60625   \n",
       "20997  SanDiego             92154   \n",
       "\n",
       "                                                     url  \\\n",
       "7204   https://delaware.craigslist.org/res/d/it-profe...   \n",
       "23107  https://rockford.craigslist.org/res/d/bookkeep...   \n",
       "8553   https://newyork.craigslist.org/mnh/res/d/biz-d...   \n",
       "30511  https://bn.craigslist.org/res/d/painter-genera...   \n",
       "20997  https://inlandempire.craigslist.org/res/d/seek...   \n",
       "\n",
       "                                                 content      posting_date  \\\n",
       "7204   Hi. I am IT professional. I am expert in fixin...  2019-08-03 13:53   \n",
       "23107  You don't have to panic this year. Don't wait ...  2019-07-27 10:38   \n",
       "8553   I specialize in growing startups BtoB only\\nCo...  2019-08-08 17:37   \n",
       "30511  Im in need of a job, will do manual labor or i...  2019-08-02 15:42   \n",
       "20997  Hello Craigslist,\\nMy name is Angela I am a 24...  2019-07-27 12:56   \n",
       "\n",
       "             education  n_photos  \\\n",
       "7204           masters         0   \n",
       "23107     some college         1   \n",
       "8553        associates         1   \n",
       "30511  high school/GED         0   \n",
       "20997     some college         0   \n",
       "\n",
       "                                            availability  \n",
       "7204   ['afternoons', 'evenings', 'mornings', 'overni...  \n",
       "23107  ['afternoons', 'evenings', 'mornings', 'weekda...  \n",
       "8553                                        ['weekdays']  \n",
       "30511                         ['afternoons', 'mornings']  \n",
       "20997  ['afternoons', 'evenings', 'mornings', 'overni...  "
      ]
     },
     "execution_count": 4,
     "metadata": {},
     "output_type": "execute_result"
    }
   ],
   "source": [
    "df_large.sample(5)"
   ]
  },
  {
   "cell_type": "code",
   "execution_count": 5,
   "metadata": {},
   "outputs": [
    {
     "data": {
      "text/plain": [
       "(33727, 8)"
      ]
     },
     "execution_count": 5,
     "metadata": {},
     "output_type": "execute_result"
    }
   ],
   "source": [
    "df_large.shape"
   ]
  },
  {
   "cell_type": "code",
   "execution_count": 6,
   "metadata": {},
   "outputs": [
    {
     "name": "stdout",
     "output_type": "stream",
     "text": [
      "<class 'pandas.core.frame.DataFrame'>\n",
      "Int64Index: 33727 entries, 0 to 33726\n",
      "Data columns (total 8 columns):\n",
      "city                33727 non-null object\n",
      "searched_zipcode    33727 non-null int64\n",
      "url                 33727 non-null object\n",
      "content             33727 non-null object\n",
      "posting_date        33727 non-null object\n",
      "education           33721 non-null object\n",
      "n_photos            33727 non-null int64\n",
      "availability        33727 non-null object\n",
      "dtypes: int64(2), object(6)\n",
      "memory usage: 2.3+ MB\n"
     ]
    }
   ],
   "source": [
    "df_large.info()"
   ]
  },
  {
   "cell_type": "markdown",
   "metadata": {},
   "source": [
    "### .fillna()\n",
    "`.fillna(object)` can be used to fill any empty item in the dataframe"
   ]
  },
  {
   "cell_type": "code",
   "execution_count": 6,
   "metadata": {},
   "outputs": [],
   "source": [
    "df_large.fillna(\"-\", inplace = True)"
   ]
  },
  {
   "cell_type": "markdown",
   "metadata": {},
   "source": [
    "### .loc([*condition*])\n",
    "`.loc([condition])` can be used to filter the dataframe"
   ]
  },
  {
   "cell_type": "code",
   "execution_count": 7,
   "metadata": {},
   "outputs": [
    {
     "data": {
      "text/html": [
       "<div>\n",
       "<style scoped>\n",
       "    .dataframe tbody tr th:only-of-type {\n",
       "        vertical-align: middle;\n",
       "    }\n",
       "\n",
       "    .dataframe tbody tr th {\n",
       "        vertical-align: top;\n",
       "    }\n",
       "\n",
       "    .dataframe thead th {\n",
       "        text-align: right;\n",
       "    }\n",
       "</style>\n",
       "<table border=\"1\" class=\"dataframe\">\n",
       "  <thead>\n",
       "    <tr style=\"text-align: right;\">\n",
       "      <th></th>\n",
       "      <th>city</th>\n",
       "      <th>searched_zipcode</th>\n",
       "      <th>url</th>\n",
       "      <th>content</th>\n",
       "      <th>posting_date</th>\n",
       "      <th>education</th>\n",
       "      <th>n_photos</th>\n",
       "      <th>availability</th>\n",
       "    </tr>\n",
       "  </thead>\n",
       "  <tbody>\n",
       "    <tr>\n",
       "      <td>6332</td>\n",
       "      <td>NewYork</td>\n",
       "      <td>10025</td>\n",
       "      <td>https://newyork.craigslist.org/mnh/res/d/famil...</td>\n",
       "      <td>Chauffeur for a family/business, school year. ...</td>\n",
       "      <td>2019-08-08 23:54</td>\n",
       "      <td>bachelors</td>\n",
       "      <td>0</td>\n",
       "      <td>['weekdays']</td>\n",
       "    </tr>\n",
       "    <tr>\n",
       "      <td>6333</td>\n",
       "      <td>NewYork</td>\n",
       "      <td>10025</td>\n",
       "      <td>https://boston.craigslist.org/gbs/res/d/lingui...</td>\n",
       "      <td>I am a recent graduated Linguist from Turkey w...</td>\n",
       "      <td>2019-09-05 23:21</td>\n",
       "      <td>bachelors</td>\n",
       "      <td>0</td>\n",
       "      <td>['afternoons', 'evenings', 'mornings', 'weekda...</td>\n",
       "    </tr>\n",
       "    <tr>\n",
       "      <td>6334</td>\n",
       "      <td>NewYork</td>\n",
       "      <td>10025</td>\n",
       "      <td>https://boston.craigslist.org/gbs/res/d/big-ap...</td>\n",
       "      <td>I am in search of a Houseman position. I enjoy...</td>\n",
       "      <td>2019-08-27 14:45</td>\n",
       "      <td>masters</td>\n",
       "      <td>4</td>\n",
       "      <td>['mornings']</td>\n",
       "    </tr>\n",
       "    <tr>\n",
       "      <td>6335</td>\n",
       "      <td>NewYork</td>\n",
       "      <td>10025</td>\n",
       "      <td>https://newyork.craigslist.org/mnh/res/d/mobil...</td>\n",
       "      <td>Need a quick pick me up? Your hair is a mess a...</td>\n",
       "      <td>2019-09-05 22:36</td>\n",
       "      <td>some college</td>\n",
       "      <td>3</td>\n",
       "      <td>['afternoons', 'evenings', 'mornings', 'weekda...</td>\n",
       "    </tr>\n",
       "    <tr>\n",
       "      <td>6336</td>\n",
       "      <td>NewYork</td>\n",
       "      <td>10025</td>\n",
       "      <td>https://newyork.craigslist.org/mnh/res/d/hire-...</td>\n",
       "      <td>Male 38yrs of age willing and able to meet mos...</td>\n",
       "      <td>2019-09-05 20:45</td>\n",
       "      <td>high school/GED</td>\n",
       "      <td>0</td>\n",
       "      <td>['overnight', 'weekdays', 'weekends']</td>\n",
       "    </tr>\n",
       "    <tr>\n",
       "      <td>6337</td>\n",
       "      <td>NewYork</td>\n",
       "      <td>10025</td>\n",
       "      <td>https://baltimore.craigslist.org/res/d/cdl-dri...</td>\n",
       "      <td>O points and no accidents ever.millions of mil...</td>\n",
       "      <td>2019-08-25 08:29</td>\n",
       "      <td>high school/GED</td>\n",
       "      <td>0</td>\n",
       "      <td>['mornings', 'weekdays']</td>\n",
       "    </tr>\n",
       "    <tr>\n",
       "      <td>6338</td>\n",
       "      <td>NewYork</td>\n",
       "      <td>10025</td>\n",
       "      <td>https://newyork.craigslist.org/mnh/res/d/curre...</td>\n",
       "      <td>&gt; You open a forex trading account in your nam...</td>\n",
       "      <td>2019-08-16 15:36</td>\n",
       "      <td>bachelors</td>\n",
       "      <td>0</td>\n",
       "      <td>['afternoons', 'evenings', 'mornings', 'overni...</td>\n",
       "    </tr>\n",
       "    <tr>\n",
       "      <td>6339</td>\n",
       "      <td>NewYork</td>\n",
       "      <td>10025</td>\n",
       "      <td>https://newyork.craigslist.org/fct/res/d/stamf...</td>\n",
       "      <td>I am intelligent. Well spoken. Can readily pas...</td>\n",
       "      <td>2019-09-05 22:02</td>\n",
       "      <td>masters</td>\n",
       "      <td>0</td>\n",
       "      <td>['afternoons', 'evenings', 'mornings', 'overni...</td>\n",
       "    </tr>\n",
       "    <tr>\n",
       "      <td>6340</td>\n",
       "      <td>NewYork</td>\n",
       "      <td>10025</td>\n",
       "      <td>https://newyork.craigslist.org/wch/res/d/handy...</td>\n",
       "      <td>My name is Juan\\nI have experience in interior...</td>\n",
       "      <td>2019-09-05 22:00</td>\n",
       "      <td>some college</td>\n",
       "      <td>0</td>\n",
       "      <td>['afternoons', 'mornings', 'weekdays', 'weeken...</td>\n",
       "    </tr>\n",
       "    <tr>\n",
       "      <td>6341</td>\n",
       "      <td>NewYork</td>\n",
       "      <td>10025</td>\n",
       "      <td>https://westernmass.craigslist.org/res/d/house...</td>\n",
       "      <td>Your an elderly person and need help with clea...</td>\n",
       "      <td>2019-09-05 21:38</td>\n",
       "      <td>high school/GED</td>\n",
       "      <td>1</td>\n",
       "      <td>['afternoons', 'mornings', 'weekdays']</td>\n",
       "    </tr>\n",
       "  </tbody>\n",
       "</table>\n",
       "</div>"
      ],
      "text/plain": [
       "         city  searched_zipcode  \\\n",
       "6332  NewYork             10025   \n",
       "6333  NewYork             10025   \n",
       "6334  NewYork             10025   \n",
       "6335  NewYork             10025   \n",
       "6336  NewYork             10025   \n",
       "6337  NewYork             10025   \n",
       "6338  NewYork             10025   \n",
       "6339  NewYork             10025   \n",
       "6340  NewYork             10025   \n",
       "6341  NewYork             10025   \n",
       "\n",
       "                                                    url  \\\n",
       "6332  https://newyork.craigslist.org/mnh/res/d/famil...   \n",
       "6333  https://boston.craigslist.org/gbs/res/d/lingui...   \n",
       "6334  https://boston.craigslist.org/gbs/res/d/big-ap...   \n",
       "6335  https://newyork.craigslist.org/mnh/res/d/mobil...   \n",
       "6336  https://newyork.craigslist.org/mnh/res/d/hire-...   \n",
       "6337  https://baltimore.craigslist.org/res/d/cdl-dri...   \n",
       "6338  https://newyork.craigslist.org/mnh/res/d/curre...   \n",
       "6339  https://newyork.craigslist.org/fct/res/d/stamf...   \n",
       "6340  https://newyork.craigslist.org/wch/res/d/handy...   \n",
       "6341  https://westernmass.craigslist.org/res/d/house...   \n",
       "\n",
       "                                                content      posting_date  \\\n",
       "6332  Chauffeur for a family/business, school year. ...  2019-08-08 23:54   \n",
       "6333  I am a recent graduated Linguist from Turkey w...  2019-09-05 23:21   \n",
       "6334  I am in search of a Houseman position. I enjoy...  2019-08-27 14:45   \n",
       "6335  Need a quick pick me up? Your hair is a mess a...  2019-09-05 22:36   \n",
       "6336  Male 38yrs of age willing and able to meet mos...  2019-09-05 20:45   \n",
       "6337  O points and no accidents ever.millions of mil...  2019-08-25 08:29   \n",
       "6338  > You open a forex trading account in your nam...  2019-08-16 15:36   \n",
       "6339  I am intelligent. Well spoken. Can readily pas...  2019-09-05 22:02   \n",
       "6340  My name is Juan\\nI have experience in interior...  2019-09-05 22:00   \n",
       "6341  Your an elderly person and need help with clea...  2019-09-05 21:38   \n",
       "\n",
       "            education  n_photos  \\\n",
       "6332        bachelors         0   \n",
       "6333        bachelors         0   \n",
       "6334          masters         4   \n",
       "6335     some college         3   \n",
       "6336  high school/GED         0   \n",
       "6337  high school/GED         0   \n",
       "6338        bachelors         0   \n",
       "6339          masters         0   \n",
       "6340     some college         0   \n",
       "6341  high school/GED         1   \n",
       "\n",
       "                                           availability  \n",
       "6332                                       ['weekdays']  \n",
       "6333  ['afternoons', 'evenings', 'mornings', 'weekda...  \n",
       "6334                                       ['mornings']  \n",
       "6335  ['afternoons', 'evenings', 'mornings', 'weekda...  \n",
       "6336              ['overnight', 'weekdays', 'weekends']  \n",
       "6337                           ['mornings', 'weekdays']  \n",
       "6338  ['afternoons', 'evenings', 'mornings', 'overni...  \n",
       "6339  ['afternoons', 'evenings', 'mornings', 'overni...  \n",
       "6340  ['afternoons', 'mornings', 'weekdays', 'weeken...  \n",
       "6341             ['afternoons', 'mornings', 'weekdays']  "
      ]
     },
     "execution_count": 7,
     "metadata": {},
     "output_type": "execute_result"
    }
   ],
   "source": [
    "new_york_df = df_large.loc[df_large['city'] == 'NewYork']\n",
    "new_york_df.head(10)"
   ]
  },
  {
   "cell_type": "markdown",
   "metadata": {},
   "source": [
    "### .nunique()\n",
    "`.nunique()` can be used to count the number of unique items in each column."
   ]
  },
  {
   "cell_type": "code",
   "execution_count": 8,
   "metadata": {},
   "outputs": [
    {
     "data": {
      "text/plain": [
       "city                   1\n",
       "searched_zipcode       3\n",
       "url                 3026\n",
       "content             2743\n",
       "posting_date        2817\n",
       "education              8\n",
       "n_photos              25\n",
       "availability          62\n",
       "dtype: int64"
      ]
     },
     "execution_count": 8,
     "metadata": {},
     "output_type": "execute_result"
    }
   ],
   "source": [
    "# Count number of unique information in each column\n",
    "new_york_df.nunique()"
   ]
  },
  {
   "cell_type": "code",
   "execution_count": 9,
   "metadata": {},
   "outputs": [
    {
     "data": {
      "text/plain": [
       "(8998, 8)"
      ]
     },
     "execution_count": 9,
     "metadata": {},
     "output_type": "execute_result"
    }
   ],
   "source": [
    "# Get the shape of the data (row, columns)\n",
    "new_york_df.shape"
   ]
  },
  {
   "cell_type": "markdown",
   "metadata": {},
   "source": [
    "### .drop_duplicates()\n",
    "`.drop_duplicates()` drops duplicate rows in the dataframe. Parameters can be modified to specify which rows to drop such as `subset` to specify which columns to check for duplicates and `keep` to specify which data point of the duplicates will be kept."
   ]
  },
  {
   "cell_type": "code",
   "execution_count": 10,
   "metadata": {},
   "outputs": [
    {
     "name": "stdout",
     "output_type": "stream",
     "text": [
      "Shape of no duplicates in content column (2743, 8)\n"
     ]
    },
    {
     "data": {
      "text/html": [
       "<div>\n",
       "<style scoped>\n",
       "    .dataframe tbody tr th:only-of-type {\n",
       "        vertical-align: middle;\n",
       "    }\n",
       "\n",
       "    .dataframe tbody tr th {\n",
       "        vertical-align: top;\n",
       "    }\n",
       "\n",
       "    .dataframe thead th {\n",
       "        text-align: right;\n",
       "    }\n",
       "</style>\n",
       "<table border=\"1\" class=\"dataframe\">\n",
       "  <thead>\n",
       "    <tr style=\"text-align: right;\">\n",
       "      <th></th>\n",
       "      <th>city</th>\n",
       "      <th>searched_zipcode</th>\n",
       "      <th>url</th>\n",
       "      <th>content</th>\n",
       "      <th>posting_date</th>\n",
       "      <th>education</th>\n",
       "      <th>n_photos</th>\n",
       "      <th>availability</th>\n",
       "    </tr>\n",
       "  </thead>\n",
       "  <tbody>\n",
       "    <tr>\n",
       "      <td>6332</td>\n",
       "      <td>NewYork</td>\n",
       "      <td>10025</td>\n",
       "      <td>https://newyork.craigslist.org/mnh/res/d/famil...</td>\n",
       "      <td>Chauffeur for a family/business, school year. ...</td>\n",
       "      <td>2019-08-08 23:54</td>\n",
       "      <td>bachelors</td>\n",
       "      <td>0</td>\n",
       "      <td>['weekdays']</td>\n",
       "    </tr>\n",
       "    <tr>\n",
       "      <td>6333</td>\n",
       "      <td>NewYork</td>\n",
       "      <td>10025</td>\n",
       "      <td>https://boston.craigslist.org/gbs/res/d/lingui...</td>\n",
       "      <td>I am a recent graduated Linguist from Turkey w...</td>\n",
       "      <td>2019-09-05 23:21</td>\n",
       "      <td>bachelors</td>\n",
       "      <td>0</td>\n",
       "      <td>['afternoons', 'evenings', 'mornings', 'weekda...</td>\n",
       "    </tr>\n",
       "    <tr>\n",
       "      <td>6334</td>\n",
       "      <td>NewYork</td>\n",
       "      <td>10025</td>\n",
       "      <td>https://boston.craigslist.org/gbs/res/d/big-ap...</td>\n",
       "      <td>I am in search of a Houseman position. I enjoy...</td>\n",
       "      <td>2019-08-27 14:45</td>\n",
       "      <td>masters</td>\n",
       "      <td>4</td>\n",
       "      <td>['mornings']</td>\n",
       "    </tr>\n",
       "    <tr>\n",
       "      <td>6335</td>\n",
       "      <td>NewYork</td>\n",
       "      <td>10025</td>\n",
       "      <td>https://newyork.craigslist.org/mnh/res/d/mobil...</td>\n",
       "      <td>Need a quick pick me up? Your hair is a mess a...</td>\n",
       "      <td>2019-09-05 22:36</td>\n",
       "      <td>some college</td>\n",
       "      <td>3</td>\n",
       "      <td>['afternoons', 'evenings', 'mornings', 'weekda...</td>\n",
       "    </tr>\n",
       "    <tr>\n",
       "      <td>6336</td>\n",
       "      <td>NewYork</td>\n",
       "      <td>10025</td>\n",
       "      <td>https://newyork.craigslist.org/mnh/res/d/hire-...</td>\n",
       "      <td>Male 38yrs of age willing and able to meet mos...</td>\n",
       "      <td>2019-09-05 20:45</td>\n",
       "      <td>high school/GED</td>\n",
       "      <td>0</td>\n",
       "      <td>['overnight', 'weekdays', 'weekends']</td>\n",
       "    </tr>\n",
       "  </tbody>\n",
       "</table>\n",
       "</div>"
      ],
      "text/plain": [
       "         city  searched_zipcode  \\\n",
       "6332  NewYork             10025   \n",
       "6333  NewYork             10025   \n",
       "6334  NewYork             10025   \n",
       "6335  NewYork             10025   \n",
       "6336  NewYork             10025   \n",
       "\n",
       "                                                    url  \\\n",
       "6332  https://newyork.craigslist.org/mnh/res/d/famil...   \n",
       "6333  https://boston.craigslist.org/gbs/res/d/lingui...   \n",
       "6334  https://boston.craigslist.org/gbs/res/d/big-ap...   \n",
       "6335  https://newyork.craigslist.org/mnh/res/d/mobil...   \n",
       "6336  https://newyork.craigslist.org/mnh/res/d/hire-...   \n",
       "\n",
       "                                                content      posting_date  \\\n",
       "6332  Chauffeur for a family/business, school year. ...  2019-08-08 23:54   \n",
       "6333  I am a recent graduated Linguist from Turkey w...  2019-09-05 23:21   \n",
       "6334  I am in search of a Houseman position. I enjoy...  2019-08-27 14:45   \n",
       "6335  Need a quick pick me up? Your hair is a mess a...  2019-09-05 22:36   \n",
       "6336  Male 38yrs of age willing and able to meet mos...  2019-09-05 20:45   \n",
       "\n",
       "            education  n_photos  \\\n",
       "6332        bachelors         0   \n",
       "6333        bachelors         0   \n",
       "6334          masters         4   \n",
       "6335     some college         3   \n",
       "6336  high school/GED         0   \n",
       "\n",
       "                                           availability  \n",
       "6332                                       ['weekdays']  \n",
       "6333  ['afternoons', 'evenings', 'mornings', 'weekda...  \n",
       "6334                                       ['mornings']  \n",
       "6335  ['afternoons', 'evenings', 'mornings', 'weekda...  \n",
       "6336              ['overnight', 'weekdays', 'weekends']  "
      ]
     },
     "execution_count": 10,
     "metadata": {},
     "output_type": "execute_result"
    }
   ],
   "source": [
    "no_duplicate_shape = new_york_df.drop_duplicates(subset='content', keep = 'first').shape\n",
    "print(f\"Shape of no duplicates in content column {no_duplicate_shape}\")\n",
    "new_york_df.drop_duplicates(subset='content', keep = 'first').head()\n",
    "\n",
    "# It is important to note that .drop_duplicates() doesn't change the original data unless\n",
    "# the parameter 'inplace' is set to 'True'"
   ]
  },
  {
   "cell_type": "markdown",
   "metadata": {},
   "source": [
    "### .unique()\n",
    "`.unique()` returns a list of unique items in a Pandas Series."
   ]
  },
  {
   "cell_type": "code",
   "execution_count": 11,
   "metadata": {},
   "outputs": [
    {
     "data": {
      "text/plain": [
       "array([10025, 10002, 10029])"
      ]
     },
     "execution_count": 11,
     "metadata": {},
     "output_type": "execute_result"
    }
   ],
   "source": [
    "# Get the unique values in searched_zipcode\n",
    "new_york_df['searched_zipcode'].unique()"
   ]
  },
  {
   "cell_type": "markdown",
   "metadata": {},
   "source": [
    "### .groupby()\n",
    "`.groupby()` groups the dataframe based on a certain feature. It needs to be paired with another function such as `.sum()` or `.count()`. The parameter `by` takes in a string or list. If it's a list, the order of features matters."
   ]
  },
  {
   "cell_type": "code",
   "execution_count": 12,
   "metadata": {},
   "outputs": [
    {
     "data": {
      "text/plain": [
       "<pandas.core.groupby.generic.DataFrameGroupBy object at 0x121268550>"
      ]
     },
     "execution_count": 12,
     "metadata": {},
     "output_type": "execute_result"
    }
   ],
   "source": [
    "# .groupby() alone doesn't help\n",
    "df_large.groupby(by = ['city'])"
   ]
  },
  {
   "cell_type": "code",
   "execution_count": 13,
   "metadata": {
    "scrolled": true
   },
   "outputs": [
    {
     "data": {
      "text/html": [
       "<div>\n",
       "<style scoped>\n",
       "    .dataframe tbody tr th:only-of-type {\n",
       "        vertical-align: middle;\n",
       "    }\n",
       "\n",
       "    .dataframe tbody tr th {\n",
       "        vertical-align: top;\n",
       "    }\n",
       "\n",
       "    .dataframe thead th {\n",
       "        text-align: right;\n",
       "    }\n",
       "</style>\n",
       "<table border=\"1\" class=\"dataframe\">\n",
       "  <thead>\n",
       "    <tr style=\"text-align: right;\">\n",
       "      <th></th>\n",
       "      <th></th>\n",
       "      <th>url</th>\n",
       "      <th>content</th>\n",
       "      <th>posting_date</th>\n",
       "      <th>education</th>\n",
       "      <th>n_photos</th>\n",
       "      <th>availability</th>\n",
       "    </tr>\n",
       "    <tr>\n",
       "      <th>city</th>\n",
       "      <th>searched_zipcode</th>\n",
       "      <th></th>\n",
       "      <th></th>\n",
       "      <th></th>\n",
       "      <th></th>\n",
       "      <th></th>\n",
       "      <th></th>\n",
       "    </tr>\n",
       "  </thead>\n",
       "  <tbody>\n",
       "    <tr>\n",
       "      <td>Albuquerque</td>\n",
       "      <td>87121</td>\n",
       "      <td>120</td>\n",
       "      <td>120</td>\n",
       "      <td>120</td>\n",
       "      <td>120</td>\n",
       "      <td>120</td>\n",
       "      <td>120</td>\n",
       "    </tr>\n",
       "    <tr>\n",
       "      <td>Atlanta</td>\n",
       "      <td>30349</td>\n",
       "      <td>850</td>\n",
       "      <td>850</td>\n",
       "      <td>850</td>\n",
       "      <td>850</td>\n",
       "      <td>850</td>\n",
       "      <td>850</td>\n",
       "    </tr>\n",
       "    <tr>\n",
       "      <td>Bakersfield</td>\n",
       "      <td>93307</td>\n",
       "      <td>2036</td>\n",
       "      <td>2036</td>\n",
       "      <td>2036</td>\n",
       "      <td>2036</td>\n",
       "      <td>2036</td>\n",
       "      <td>2036</td>\n",
       "    </tr>\n",
       "    <tr>\n",
       "      <td>Brownsville</td>\n",
       "      <td>78521</td>\n",
       "      <td>116</td>\n",
       "      <td>116</td>\n",
       "      <td>116</td>\n",
       "      <td>116</td>\n",
       "      <td>116</td>\n",
       "      <td>116</td>\n",
       "    </tr>\n",
       "    <tr>\n",
       "      <td>Charlotte</td>\n",
       "      <td>28269</td>\n",
       "      <td>1059</td>\n",
       "      <td>1059</td>\n",
       "      <td>1059</td>\n",
       "      <td>1059</td>\n",
       "      <td>1059</td>\n",
       "      <td>1059</td>\n",
       "    </tr>\n",
       "    <tr>\n",
       "      <td rowspan=\"5\" valign=\"top\">Chicago</td>\n",
       "      <td>60617</td>\n",
       "      <td>820</td>\n",
       "      <td>820</td>\n",
       "      <td>820</td>\n",
       "      <td>820</td>\n",
       "      <td>820</td>\n",
       "      <td>820</td>\n",
       "    </tr>\n",
       "    <tr>\n",
       "      <td>60618</td>\n",
       "      <td>811</td>\n",
       "      <td>811</td>\n",
       "      <td>811</td>\n",
       "      <td>811</td>\n",
       "      <td>811</td>\n",
       "      <td>811</td>\n",
       "    </tr>\n",
       "    <tr>\n",
       "      <td>60625</td>\n",
       "      <td>812</td>\n",
       "      <td>812</td>\n",
       "      <td>812</td>\n",
       "      <td>812</td>\n",
       "      <td>812</td>\n",
       "      <td>812</td>\n",
       "    </tr>\n",
       "    <tr>\n",
       "      <td>60629</td>\n",
       "      <td>818</td>\n",
       "      <td>818</td>\n",
       "      <td>818</td>\n",
       "      <td>818</td>\n",
       "      <td>818</td>\n",
       "      <td>818</td>\n",
       "    </tr>\n",
       "    <tr>\n",
       "      <td>60647</td>\n",
       "      <td>811</td>\n",
       "      <td>811</td>\n",
       "      <td>811</td>\n",
       "      <td>811</td>\n",
       "      <td>811</td>\n",
       "      <td>811</td>\n",
       "    </tr>\n",
       "    <tr>\n",
       "      <td rowspan=\"2\" valign=\"top\">Dallas</td>\n",
       "      <td>75211</td>\n",
       "      <td>994</td>\n",
       "      <td>994</td>\n",
       "      <td>994</td>\n",
       "      <td>994</td>\n",
       "      <td>994</td>\n",
       "      <td>994</td>\n",
       "    </tr>\n",
       "    <tr>\n",
       "      <td>75217</td>\n",
       "      <td>976</td>\n",
       "      <td>976</td>\n",
       "      <td>976</td>\n",
       "      <td>976</td>\n",
       "      <td>976</td>\n",
       "      <td>976</td>\n",
       "    </tr>\n",
       "    <tr>\n",
       "      <td rowspan=\"2\" valign=\"top\">ElPaso</td>\n",
       "      <td>79912</td>\n",
       "      <td>66</td>\n",
       "      <td>66</td>\n",
       "      <td>66</td>\n",
       "      <td>66</td>\n",
       "      <td>66</td>\n",
       "      <td>66</td>\n",
       "    </tr>\n",
       "    <tr>\n",
       "      <td>79936</td>\n",
       "      <td>66</td>\n",
       "      <td>66</td>\n",
       "      <td>66</td>\n",
       "      <td>66</td>\n",
       "      <td>66</td>\n",
       "      <td>66</td>\n",
       "    </tr>\n",
       "    <tr>\n",
       "      <td>Fresno</td>\n",
       "      <td>93722</td>\n",
       "      <td>1381</td>\n",
       "      <td>1381</td>\n",
       "      <td>1381</td>\n",
       "      <td>1381</td>\n",
       "      <td>1381</td>\n",
       "      <td>1381</td>\n",
       "    </tr>\n",
       "    <tr>\n",
       "      <td rowspan=\"3\" valign=\"top\">Houston</td>\n",
       "      <td>77036</td>\n",
       "      <td>1004</td>\n",
       "      <td>1004</td>\n",
       "      <td>1004</td>\n",
       "      <td>1004</td>\n",
       "      <td>1004</td>\n",
       "      <td>1004</td>\n",
       "    </tr>\n",
       "    <tr>\n",
       "      <td>77083</td>\n",
       "      <td>1004</td>\n",
       "      <td>1004</td>\n",
       "      <td>1004</td>\n",
       "      <td>1004</td>\n",
       "      <td>1004</td>\n",
       "      <td>1004</td>\n",
       "    </tr>\n",
       "    <tr>\n",
       "      <td>77084</td>\n",
       "      <td>1008</td>\n",
       "      <td>1008</td>\n",
       "      <td>1008</td>\n",
       "      <td>1008</td>\n",
       "      <td>1008</td>\n",
       "      <td>1008</td>\n",
       "    </tr>\n",
       "    <tr>\n",
       "      <td>Lancaster</td>\n",
       "      <td>93535</td>\n",
       "      <td>7</td>\n",
       "      <td>7</td>\n",
       "      <td>7</td>\n",
       "      <td>7</td>\n",
       "      <td>7</td>\n",
       "      <td>7</td>\n",
       "    </tr>\n",
       "    <tr>\n",
       "      <td>LasVegas</td>\n",
       "      <td>89110</td>\n",
       "      <td>439</td>\n",
       "      <td>439</td>\n",
       "      <td>439</td>\n",
       "      <td>439</td>\n",
       "      <td>439</td>\n",
       "      <td>439</td>\n",
       "    </tr>\n",
       "    <tr>\n",
       "      <td rowspan=\"2\" valign=\"top\">LosAngeles</td>\n",
       "      <td>90011</td>\n",
       "      <td>2163</td>\n",
       "      <td>2163</td>\n",
       "      <td>2163</td>\n",
       "      <td>2163</td>\n",
       "      <td>2163</td>\n",
       "      <td>2163</td>\n",
       "    </tr>\n",
       "    <tr>\n",
       "      <td>90044</td>\n",
       "      <td>2161</td>\n",
       "      <td>2161</td>\n",
       "      <td>2161</td>\n",
       "      <td>2161</td>\n",
       "      <td>2161</td>\n",
       "      <td>2161</td>\n",
       "    </tr>\n",
       "    <tr>\n",
       "      <td>Nashville</td>\n",
       "      <td>37211</td>\n",
       "      <td>552</td>\n",
       "      <td>552</td>\n",
       "      <td>552</td>\n",
       "      <td>552</td>\n",
       "      <td>552</td>\n",
       "      <td>552</td>\n",
       "    </tr>\n",
       "    <tr>\n",
       "      <td rowspan=\"3\" valign=\"top\">NewYork</td>\n",
       "      <td>10002</td>\n",
       "      <td>2999</td>\n",
       "      <td>2999</td>\n",
       "      <td>2999</td>\n",
       "      <td>2999</td>\n",
       "      <td>2999</td>\n",
       "      <td>2999</td>\n",
       "    </tr>\n",
       "    <tr>\n",
       "      <td>10025</td>\n",
       "      <td>2999</td>\n",
       "      <td>2999</td>\n",
       "      <td>2999</td>\n",
       "      <td>2999</td>\n",
       "      <td>2999</td>\n",
       "      <td>2999</td>\n",
       "    </tr>\n",
       "    <tr>\n",
       "      <td>10029</td>\n",
       "      <td>3000</td>\n",
       "      <td>3000</td>\n",
       "      <td>3000</td>\n",
       "      <td>3000</td>\n",
       "      <td>3000</td>\n",
       "      <td>3000</td>\n",
       "    </tr>\n",
       "    <tr>\n",
       "      <td>Sacramento</td>\n",
       "      <td>95823</td>\n",
       "      <td>1216</td>\n",
       "      <td>1216</td>\n",
       "      <td>1216</td>\n",
       "      <td>1216</td>\n",
       "      <td>1216</td>\n",
       "      <td>1216</td>\n",
       "    </tr>\n",
       "    <tr>\n",
       "      <td>SanDiego</td>\n",
       "      <td>92154</td>\n",
       "      <td>2025</td>\n",
       "      <td>2025</td>\n",
       "      <td>2025</td>\n",
       "      <td>2025</td>\n",
       "      <td>2025</td>\n",
       "      <td>2025</td>\n",
       "    </tr>\n",
       "    <tr>\n",
       "      <td>Yuma</td>\n",
       "      <td>85364</td>\n",
       "      <td>1414</td>\n",
       "      <td>1414</td>\n",
       "      <td>1414</td>\n",
       "      <td>1414</td>\n",
       "      <td>1414</td>\n",
       "      <td>1414</td>\n",
       "    </tr>\n",
       "  </tbody>\n",
       "</table>\n",
       "</div>"
      ],
      "text/plain": [
       "                               url  content  posting_date  education  \\\n",
       "city        searched_zipcode                                           \n",
       "Albuquerque 87121              120      120           120        120   \n",
       "Atlanta     30349              850      850           850        850   \n",
       "Bakersfield 93307             2036     2036          2036       2036   \n",
       "Brownsville 78521              116      116           116        116   \n",
       "Charlotte   28269             1059     1059          1059       1059   \n",
       "Chicago     60617              820      820           820        820   \n",
       "            60618              811      811           811        811   \n",
       "            60625              812      812           812        812   \n",
       "            60629              818      818           818        818   \n",
       "            60647              811      811           811        811   \n",
       "Dallas      75211              994      994           994        994   \n",
       "            75217              976      976           976        976   \n",
       "ElPaso      79912               66       66            66         66   \n",
       "            79936               66       66            66         66   \n",
       "Fresno      93722             1381     1381          1381       1381   \n",
       "Houston     77036             1004     1004          1004       1004   \n",
       "            77083             1004     1004          1004       1004   \n",
       "            77084             1008     1008          1008       1008   \n",
       "Lancaster   93535                7        7             7          7   \n",
       "LasVegas    89110              439      439           439        439   \n",
       "LosAngeles  90011             2163     2163          2163       2163   \n",
       "            90044             2161     2161          2161       2161   \n",
       "Nashville   37211              552      552           552        552   \n",
       "NewYork     10002             2999     2999          2999       2999   \n",
       "            10025             2999     2999          2999       2999   \n",
       "            10029             3000     3000          3000       3000   \n",
       "Sacramento  95823             1216     1216          1216       1216   \n",
       "SanDiego    92154             2025     2025          2025       2025   \n",
       "Yuma        85364             1414     1414          1414       1414   \n",
       "\n",
       "                              n_photos  availability  \n",
       "city        searched_zipcode                          \n",
       "Albuquerque 87121                  120           120  \n",
       "Atlanta     30349                  850           850  \n",
       "Bakersfield 93307                 2036          2036  \n",
       "Brownsville 78521                  116           116  \n",
       "Charlotte   28269                 1059          1059  \n",
       "Chicago     60617                  820           820  \n",
       "            60618                  811           811  \n",
       "            60625                  812           812  \n",
       "            60629                  818           818  \n",
       "            60647                  811           811  \n",
       "Dallas      75211                  994           994  \n",
       "            75217                  976           976  \n",
       "ElPaso      79912                   66            66  \n",
       "            79936                   66            66  \n",
       "Fresno      93722                 1381          1381  \n",
       "Houston     77036                 1004          1004  \n",
       "            77083                 1004          1004  \n",
       "            77084                 1008          1008  \n",
       "Lancaster   93535                    7             7  \n",
       "LasVegas    89110                  439           439  \n",
       "LosAngeles  90011                 2163          2163  \n",
       "            90044                 2161          2161  \n",
       "Nashville   37211                  552           552  \n",
       "NewYork     10002                 2999          2999  \n",
       "            10025                 2999          2999  \n",
       "            10029                 3000          3000  \n",
       "Sacramento  95823                 1216          1216  \n",
       "SanDiego    92154                 2025          2025  \n",
       "Yuma        85364                 1414          1414  "
      ]
     },
     "execution_count": 13,
     "metadata": {},
     "output_type": "execute_result"
    }
   ],
   "source": [
    "# Group by city and then searched_zipcode\n",
    "df_large.groupby(by = ['city', 'searched_zipcode']).count()"
   ]
  },
  {
   "cell_type": "code",
   "execution_count": 14,
   "metadata": {
    "scrolled": true
   },
   "outputs": [
    {
     "data": {
      "text/html": [
       "<div>\n",
       "<style scoped>\n",
       "    .dataframe tbody tr th:only-of-type {\n",
       "        vertical-align: middle;\n",
       "    }\n",
       "\n",
       "    .dataframe tbody tr th {\n",
       "        vertical-align: top;\n",
       "    }\n",
       "\n",
       "    .dataframe thead th {\n",
       "        text-align: right;\n",
       "    }\n",
       "</style>\n",
       "<table border=\"1\" class=\"dataframe\">\n",
       "  <thead>\n",
       "    <tr style=\"text-align: right;\">\n",
       "      <th></th>\n",
       "      <th></th>\n",
       "      <th>url</th>\n",
       "      <th>content</th>\n",
       "      <th>posting_date</th>\n",
       "      <th>education</th>\n",
       "      <th>n_photos</th>\n",
       "      <th>availability</th>\n",
       "    </tr>\n",
       "    <tr>\n",
       "      <th>searched_zipcode</th>\n",
       "      <th>city</th>\n",
       "      <th></th>\n",
       "      <th></th>\n",
       "      <th></th>\n",
       "      <th></th>\n",
       "      <th></th>\n",
       "      <th></th>\n",
       "    </tr>\n",
       "  </thead>\n",
       "  <tbody>\n",
       "    <tr>\n",
       "      <td>10002</td>\n",
       "      <td>NewYork</td>\n",
       "      <td>2999</td>\n",
       "      <td>2999</td>\n",
       "      <td>2999</td>\n",
       "      <td>2999</td>\n",
       "      <td>2999</td>\n",
       "      <td>2999</td>\n",
       "    </tr>\n",
       "    <tr>\n",
       "      <td>10025</td>\n",
       "      <td>NewYork</td>\n",
       "      <td>2999</td>\n",
       "      <td>2999</td>\n",
       "      <td>2999</td>\n",
       "      <td>2999</td>\n",
       "      <td>2999</td>\n",
       "      <td>2999</td>\n",
       "    </tr>\n",
       "    <tr>\n",
       "      <td>10029</td>\n",
       "      <td>NewYork</td>\n",
       "      <td>3000</td>\n",
       "      <td>3000</td>\n",
       "      <td>3000</td>\n",
       "      <td>3000</td>\n",
       "      <td>3000</td>\n",
       "      <td>3000</td>\n",
       "    </tr>\n",
       "    <tr>\n",
       "      <td>28269</td>\n",
       "      <td>Charlotte</td>\n",
       "      <td>1059</td>\n",
       "      <td>1059</td>\n",
       "      <td>1059</td>\n",
       "      <td>1059</td>\n",
       "      <td>1059</td>\n",
       "      <td>1059</td>\n",
       "    </tr>\n",
       "    <tr>\n",
       "      <td>30349</td>\n",
       "      <td>Atlanta</td>\n",
       "      <td>850</td>\n",
       "      <td>850</td>\n",
       "      <td>850</td>\n",
       "      <td>850</td>\n",
       "      <td>850</td>\n",
       "      <td>850</td>\n",
       "    </tr>\n",
       "    <tr>\n",
       "      <td>37211</td>\n",
       "      <td>Nashville</td>\n",
       "      <td>552</td>\n",
       "      <td>552</td>\n",
       "      <td>552</td>\n",
       "      <td>552</td>\n",
       "      <td>552</td>\n",
       "      <td>552</td>\n",
       "    </tr>\n",
       "    <tr>\n",
       "      <td>60617</td>\n",
       "      <td>Chicago</td>\n",
       "      <td>820</td>\n",
       "      <td>820</td>\n",
       "      <td>820</td>\n",
       "      <td>820</td>\n",
       "      <td>820</td>\n",
       "      <td>820</td>\n",
       "    </tr>\n",
       "    <tr>\n",
       "      <td>60618</td>\n",
       "      <td>Chicago</td>\n",
       "      <td>811</td>\n",
       "      <td>811</td>\n",
       "      <td>811</td>\n",
       "      <td>811</td>\n",
       "      <td>811</td>\n",
       "      <td>811</td>\n",
       "    </tr>\n",
       "    <tr>\n",
       "      <td>60625</td>\n",
       "      <td>Chicago</td>\n",
       "      <td>812</td>\n",
       "      <td>812</td>\n",
       "      <td>812</td>\n",
       "      <td>812</td>\n",
       "      <td>812</td>\n",
       "      <td>812</td>\n",
       "    </tr>\n",
       "    <tr>\n",
       "      <td>60629</td>\n",
       "      <td>Chicago</td>\n",
       "      <td>818</td>\n",
       "      <td>818</td>\n",
       "      <td>818</td>\n",
       "      <td>818</td>\n",
       "      <td>818</td>\n",
       "      <td>818</td>\n",
       "    </tr>\n",
       "    <tr>\n",
       "      <td>60647</td>\n",
       "      <td>Chicago</td>\n",
       "      <td>811</td>\n",
       "      <td>811</td>\n",
       "      <td>811</td>\n",
       "      <td>811</td>\n",
       "      <td>811</td>\n",
       "      <td>811</td>\n",
       "    </tr>\n",
       "    <tr>\n",
       "      <td>75211</td>\n",
       "      <td>Dallas</td>\n",
       "      <td>994</td>\n",
       "      <td>994</td>\n",
       "      <td>994</td>\n",
       "      <td>994</td>\n",
       "      <td>994</td>\n",
       "      <td>994</td>\n",
       "    </tr>\n",
       "    <tr>\n",
       "      <td>75217</td>\n",
       "      <td>Dallas</td>\n",
       "      <td>976</td>\n",
       "      <td>976</td>\n",
       "      <td>976</td>\n",
       "      <td>976</td>\n",
       "      <td>976</td>\n",
       "      <td>976</td>\n",
       "    </tr>\n",
       "    <tr>\n",
       "      <td>77036</td>\n",
       "      <td>Houston</td>\n",
       "      <td>1004</td>\n",
       "      <td>1004</td>\n",
       "      <td>1004</td>\n",
       "      <td>1004</td>\n",
       "      <td>1004</td>\n",
       "      <td>1004</td>\n",
       "    </tr>\n",
       "    <tr>\n",
       "      <td>77083</td>\n",
       "      <td>Houston</td>\n",
       "      <td>1004</td>\n",
       "      <td>1004</td>\n",
       "      <td>1004</td>\n",
       "      <td>1004</td>\n",
       "      <td>1004</td>\n",
       "      <td>1004</td>\n",
       "    </tr>\n",
       "    <tr>\n",
       "      <td>77084</td>\n",
       "      <td>Houston</td>\n",
       "      <td>1008</td>\n",
       "      <td>1008</td>\n",
       "      <td>1008</td>\n",
       "      <td>1008</td>\n",
       "      <td>1008</td>\n",
       "      <td>1008</td>\n",
       "    </tr>\n",
       "    <tr>\n",
       "      <td>78521</td>\n",
       "      <td>Brownsville</td>\n",
       "      <td>116</td>\n",
       "      <td>116</td>\n",
       "      <td>116</td>\n",
       "      <td>116</td>\n",
       "      <td>116</td>\n",
       "      <td>116</td>\n",
       "    </tr>\n",
       "    <tr>\n",
       "      <td>79912</td>\n",
       "      <td>ElPaso</td>\n",
       "      <td>66</td>\n",
       "      <td>66</td>\n",
       "      <td>66</td>\n",
       "      <td>66</td>\n",
       "      <td>66</td>\n",
       "      <td>66</td>\n",
       "    </tr>\n",
       "    <tr>\n",
       "      <td>79936</td>\n",
       "      <td>ElPaso</td>\n",
       "      <td>66</td>\n",
       "      <td>66</td>\n",
       "      <td>66</td>\n",
       "      <td>66</td>\n",
       "      <td>66</td>\n",
       "      <td>66</td>\n",
       "    </tr>\n",
       "    <tr>\n",
       "      <td>85364</td>\n",
       "      <td>Yuma</td>\n",
       "      <td>1414</td>\n",
       "      <td>1414</td>\n",
       "      <td>1414</td>\n",
       "      <td>1414</td>\n",
       "      <td>1414</td>\n",
       "      <td>1414</td>\n",
       "    </tr>\n",
       "    <tr>\n",
       "      <td>87121</td>\n",
       "      <td>Albuquerque</td>\n",
       "      <td>120</td>\n",
       "      <td>120</td>\n",
       "      <td>120</td>\n",
       "      <td>120</td>\n",
       "      <td>120</td>\n",
       "      <td>120</td>\n",
       "    </tr>\n",
       "    <tr>\n",
       "      <td>89110</td>\n",
       "      <td>LasVegas</td>\n",
       "      <td>439</td>\n",
       "      <td>439</td>\n",
       "      <td>439</td>\n",
       "      <td>439</td>\n",
       "      <td>439</td>\n",
       "      <td>439</td>\n",
       "    </tr>\n",
       "    <tr>\n",
       "      <td>90011</td>\n",
       "      <td>LosAngeles</td>\n",
       "      <td>2163</td>\n",
       "      <td>2163</td>\n",
       "      <td>2163</td>\n",
       "      <td>2163</td>\n",
       "      <td>2163</td>\n",
       "      <td>2163</td>\n",
       "    </tr>\n",
       "    <tr>\n",
       "      <td>90044</td>\n",
       "      <td>LosAngeles</td>\n",
       "      <td>2161</td>\n",
       "      <td>2161</td>\n",
       "      <td>2161</td>\n",
       "      <td>2161</td>\n",
       "      <td>2161</td>\n",
       "      <td>2161</td>\n",
       "    </tr>\n",
       "    <tr>\n",
       "      <td>92154</td>\n",
       "      <td>SanDiego</td>\n",
       "      <td>2025</td>\n",
       "      <td>2025</td>\n",
       "      <td>2025</td>\n",
       "      <td>2025</td>\n",
       "      <td>2025</td>\n",
       "      <td>2025</td>\n",
       "    </tr>\n",
       "    <tr>\n",
       "      <td>93307</td>\n",
       "      <td>Bakersfield</td>\n",
       "      <td>2036</td>\n",
       "      <td>2036</td>\n",
       "      <td>2036</td>\n",
       "      <td>2036</td>\n",
       "      <td>2036</td>\n",
       "      <td>2036</td>\n",
       "    </tr>\n",
       "    <tr>\n",
       "      <td>93535</td>\n",
       "      <td>Lancaster</td>\n",
       "      <td>7</td>\n",
       "      <td>7</td>\n",
       "      <td>7</td>\n",
       "      <td>7</td>\n",
       "      <td>7</td>\n",
       "      <td>7</td>\n",
       "    </tr>\n",
       "    <tr>\n",
       "      <td>93722</td>\n",
       "      <td>Fresno</td>\n",
       "      <td>1381</td>\n",
       "      <td>1381</td>\n",
       "      <td>1381</td>\n",
       "      <td>1381</td>\n",
       "      <td>1381</td>\n",
       "      <td>1381</td>\n",
       "    </tr>\n",
       "    <tr>\n",
       "      <td>95823</td>\n",
       "      <td>Sacramento</td>\n",
       "      <td>1216</td>\n",
       "      <td>1216</td>\n",
       "      <td>1216</td>\n",
       "      <td>1216</td>\n",
       "      <td>1216</td>\n",
       "      <td>1216</td>\n",
       "    </tr>\n",
       "  </tbody>\n",
       "</table>\n",
       "</div>"
      ],
      "text/plain": [
       "                               url  content  posting_date  education  \\\n",
       "searched_zipcode city                                                  \n",
       "10002            NewYork      2999     2999          2999       2999   \n",
       "10025            NewYork      2999     2999          2999       2999   \n",
       "10029            NewYork      3000     3000          3000       3000   \n",
       "28269            Charlotte    1059     1059          1059       1059   \n",
       "30349            Atlanta       850      850           850        850   \n",
       "37211            Nashville     552      552           552        552   \n",
       "60617            Chicago       820      820           820        820   \n",
       "60618            Chicago       811      811           811        811   \n",
       "60625            Chicago       812      812           812        812   \n",
       "60629            Chicago       818      818           818        818   \n",
       "60647            Chicago       811      811           811        811   \n",
       "75211            Dallas        994      994           994        994   \n",
       "75217            Dallas        976      976           976        976   \n",
       "77036            Houston      1004     1004          1004       1004   \n",
       "77083            Houston      1004     1004          1004       1004   \n",
       "77084            Houston      1008     1008          1008       1008   \n",
       "78521            Brownsville   116      116           116        116   \n",
       "79912            ElPaso         66       66            66         66   \n",
       "79936            ElPaso         66       66            66         66   \n",
       "85364            Yuma         1414     1414          1414       1414   \n",
       "87121            Albuquerque   120      120           120        120   \n",
       "89110            LasVegas      439      439           439        439   \n",
       "90011            LosAngeles   2163     2163          2163       2163   \n",
       "90044            LosAngeles   2161     2161          2161       2161   \n",
       "92154            SanDiego     2025     2025          2025       2025   \n",
       "93307            Bakersfield  2036     2036          2036       2036   \n",
       "93535            Lancaster       7        7             7          7   \n",
       "93722            Fresno       1381     1381          1381       1381   \n",
       "95823            Sacramento   1216     1216          1216       1216   \n",
       "\n",
       "                              n_photos  availability  \n",
       "searched_zipcode city                                 \n",
       "10002            NewYork          2999          2999  \n",
       "10025            NewYork          2999          2999  \n",
       "10029            NewYork          3000          3000  \n",
       "28269            Charlotte        1059          1059  \n",
       "30349            Atlanta           850           850  \n",
       "37211            Nashville         552           552  \n",
       "60617            Chicago           820           820  \n",
       "60618            Chicago           811           811  \n",
       "60625            Chicago           812           812  \n",
       "60629            Chicago           818           818  \n",
       "60647            Chicago           811           811  \n",
       "75211            Dallas            994           994  \n",
       "75217            Dallas            976           976  \n",
       "77036            Houston          1004          1004  \n",
       "77083            Houston          1004          1004  \n",
       "77084            Houston          1008          1008  \n",
       "78521            Brownsville       116           116  \n",
       "79912            ElPaso             66            66  \n",
       "79936            ElPaso             66            66  \n",
       "85364            Yuma             1414          1414  \n",
       "87121            Albuquerque       120           120  \n",
       "89110            LasVegas          439           439  \n",
       "90011            LosAngeles       2163          2163  \n",
       "90044            LosAngeles       2161          2161  \n",
       "92154            SanDiego         2025          2025  \n",
       "93307            Bakersfield      2036          2036  \n",
       "93535            Lancaster           7             7  \n",
       "93722            Fresno           1381          1381  \n",
       "95823            Sacramento       1216          1216  "
      ]
     },
     "execution_count": 14,
     "metadata": {},
     "output_type": "execute_result"
    }
   ],
   "source": [
    "# Group by searched_zipcode then city\n",
    "df_large.groupby(by = ['searched_zipcode', 'city']).count()"
   ]
  },
  {
   "cell_type": "markdown",
   "metadata": {},
   "source": [
    "This example doesn't make sense because we know that each zip code only pertains to one city. However, it is important if you want to show certain relationships of features that don't depend on each other. If you have a dataset of vehicle registration, you can present the data grouped by `city` then `car model` to see what models are popular in certain cities or grouped by `car model` then `city` to see what city has a higher count of certain car model."
   ]
  },
  {
   "cell_type": "markdown",
   "metadata": {},
   "source": [
    "# Handling Text Data\n",
    "## Python String"
   ]
  },
  {
   "cell_type": "code",
   "execution_count": 15,
   "metadata": {},
   "outputs": [
    {
     "name": "stderr",
     "output_type": "stream",
     "text": [
      "[nltk_data] Downloading package punkt to\n",
      "[nltk_data]     /Users/princemallari/nltk_data...\n",
      "[nltk_data]   Package punkt is already up-to-date!\n"
     ]
    },
    {
     "data": {
      "text/plain": [
       "True"
      ]
     },
     "execution_count": 15,
     "metadata": {},
     "output_type": "execute_result"
    }
   ],
   "source": [
    "import string\n",
    "import re\n",
    "import nltk\n",
    "\n",
    "# Download nltk model if it doesn't exist\n",
    "nltk.download('punkt')"
   ]
  },
  {
   "cell_type": "markdown",
   "metadata": {},
   "source": [
    "Now we take a look at how we can clean and work with text data. We'll start with the urls first to get a better understanding of how we can use python to handle text."
   ]
  },
  {
   "cell_type": "code",
   "execution_count": 16,
   "metadata": {},
   "outputs": [
    {
     "data": {
      "text/plain": [
       "'https://lascruces.craigslist.org/res/d/in-need-of-employment/6943802725.html'"
      ]
     },
     "execution_count": 16,
     "metadata": {},
     "output_type": "execute_result"
    }
   ],
   "source": [
    "# Get 'random' url\n",
    "sample_url = df_large['url'][42]\n",
    "sample_url"
   ]
  },
  {
   "cell_type": "markdown",
   "metadata": {},
   "source": [
    "### .split()\n",
    "`.split()` splits the string based on the character inside the function. If left blank, it will split it based on white space."
   ]
  },
  {
   "cell_type": "code",
   "execution_count": 17,
   "metadata": {},
   "outputs": [
    {
     "data": {
      "text/plain": [
       "['My', 'name', 'is', 'Prince']"
      ]
     },
     "execution_count": 17,
     "metadata": {},
     "output_type": "execute_result"
    }
   ],
   "source": [
    "# Split by white space\n",
    "random_text = \"My    \\t\\t\\t\\tname is    \\n   Prince\"\n",
    "random_text.split()"
   ]
  },
  {
   "cell_type": "code",
   "execution_count": 18,
   "metadata": {},
   "outputs": [
    {
     "data": {
      "text/plain": [
       "['https:',\n",
       " '',\n",
       " 'lascruces.craigslist.org',\n",
       " 'res',\n",
       " 'd',\n",
       " 'in-need-of-employment',\n",
       " '6943802725.html']"
      ]
     },
     "execution_count": 18,
     "metadata": {},
     "output_type": "execute_result"
    }
   ],
   "source": [
    "# Split string based on the '/' character\n",
    "url_split = sample_url.split('/')\n",
    "url_split"
   ]
  },
  {
   "cell_type": "markdown",
   "metadata": {},
   "source": [
    "The text of interest here is on the 3rd and 2nd to the last elements of the array."
   ]
  },
  {
   "cell_type": "code",
   "execution_count": 19,
   "metadata": {},
   "outputs": [
    {
     "name": "stdout",
     "output_type": "stream",
     "text": [
      "The website is 'lascruces.craigslist.org' and the type of employment is 'in-need-of-employment'\n"
     ]
    }
   ],
   "source": [
    "domain_website = url_split[2]\n",
    "type_of_employ = url_split[-2]\n",
    "\n",
    "print(f\"The website is '{domain_website}' and the type of employment is '{type_of_employ}'\")"
   ]
  },
  {
   "cell_type": "markdown",
   "metadata": {},
   "source": [
    "Now we need to parse the domain website to focus on the region the website is focused on. We can split the string based on the `/` character."
   ]
  },
  {
   "cell_type": "code",
   "execution_count": 20,
   "metadata": {},
   "outputs": [
    {
     "data": {
      "text/plain": [
       "['lascruces', 'craigslist', 'org']"
      ]
     },
     "execution_count": 20,
     "metadata": {},
     "output_type": "execute_result"
    }
   ],
   "source": [
    "domain_split = domain_website.split('.')\n",
    "domain_split"
   ]
  },
  {
   "cell_type": "markdown",
   "metadata": {},
   "source": [
    "### Re\n",
    "`re` is short for regex and it's a powerful tool in using regular expressions to extract data. It looks intimidating learning regex but once you get the idea of how to use it, it's not that scary. Usually, just looking up the pattern that you want and adding 'regex' in your google search will lead you to a stackoverflow post."
   ]
  },
  {
   "cell_type": "code",
   "execution_count": 21,
   "metadata": {},
   "outputs": [
    {
     "data": {
      "text/plain": [
       "'https://lascruces.craigslist.org/res/d/in-need-of-employment/6943802725.html'"
      ]
     },
     "execution_count": 21,
     "metadata": {},
     "output_type": "execute_result"
    }
   ],
   "source": [
    "sample_url"
   ]
  },
  {
   "cell_type": "code",
   "execution_count": 22,
   "metadata": {},
   "outputs": [
    {
     "data": {
      "text/plain": [
       "['lascruces']"
      ]
     },
     "execution_count": 22,
     "metadata": {},
     "output_type": "execute_result"
    }
   ],
   "source": [
    "re.findall(\"//(.*?).craigslist\", sample_url)"
   ]
  },
  {
   "cell_type": "code",
   "execution_count": 23,
   "metadata": {},
   "outputs": [
    {
     "data": {
      "text/plain": [
       "['', 'res', 'in-need-of-employment']"
      ]
     },
     "execution_count": 23,
     "metadata": {},
     "output_type": "execute_result"
    }
   ],
   "source": [
    "re.findall(\"/(.*?)/\", sample_url)"
   ]
  },
  {
   "cell_type": "markdown",
   "metadata": {},
   "source": [
    "Below we've added the common regex functions that you might use and encounter."
   ]
  },
  {
   "cell_type": "code",
   "execution_count": 24,
   "metadata": {},
   "outputs": [],
   "source": [
    "random_text = \"Hello123world324.<>$%@#T123..23.4.55,!\""
   ]
  },
  {
   "cell_type": "code",
   "execution_count": 25,
   "metadata": {},
   "outputs": [
    {
     "data": {
      "text/plain": [
       "['123', '324', '123', '23', '4', '55']"
      ]
     },
     "execution_count": 25,
     "metadata": {},
     "output_type": "execute_result"
    }
   ],
   "source": [
    "# all numbers\n",
    "re.findall('[0-9]+', random_text)"
   ]
  },
  {
   "cell_type": "code",
   "execution_count": 26,
   "metadata": {},
   "outputs": [
    {
     "data": {
      "text/plain": [
       "['ello', 'world']"
      ]
     },
     "execution_count": 26,
     "metadata": {},
     "output_type": "execute_result"
    }
   ],
   "source": [
    "# all lowercase letters\n",
    "re.findall('[a-z]+', random_text)"
   ]
  },
  {
   "cell_type": "code",
   "execution_count": 27,
   "metadata": {},
   "outputs": [
    {
     "data": {
      "text/plain": [
       "['H', 'T']"
      ]
     },
     "execution_count": 27,
     "metadata": {},
     "output_type": "execute_result"
    }
   ],
   "source": [
    "# all uppercase letters\n",
    "re.findall('[A-Z]+', random_text)"
   ]
  },
  {
   "cell_type": "code",
   "execution_count": 28,
   "metadata": {},
   "outputs": [
    {
     "data": {
      "text/plain": [
       "['Hello', 'world', 'T']"
      ]
     },
     "execution_count": 28,
     "metadata": {},
     "output_type": "execute_result"
    }
   ],
   "source": [
    "# All letters\n",
    "re.findall('[a-zA-Z]+', random_text)"
   ]
  },
  {
   "cell_type": "code",
   "execution_count": 29,
   "metadata": {},
   "outputs": [
    {
     "data": {
      "text/plain": [
       "['Hello123world324', 'T123', '23', '4', '55']"
      ]
     },
     "execution_count": 29,
     "metadata": {},
     "output_type": "execute_result"
    }
   ],
   "source": [
    "# All alphanumeric characters\n",
    "re.findall('[a-zA-Z0-9]+', random_text)"
   ]
  },
  {
   "cell_type": "code",
   "execution_count": 30,
   "metadata": {},
   "outputs": [
    {
     "name": "stdout",
     "output_type": "stream",
     "text": [
      "!\"#$%&'()*+,-./:;<=>?@[\\]^_`{|}~\n"
     ]
    },
    {
     "data": {
      "text/plain": [
       "['.<>$%@#', '..', '.', '.', ',!']"
      ]
     },
     "execution_count": 30,
     "metadata": {},
     "output_type": "execute_result"
    }
   ],
   "source": [
    "# All punctuations\n",
    "print(f\"{string.punctuation}\") # a nifty way of listing all punctuations\n",
    "re.findall(f\"[{string.punctuation}]+\", random_text)"
   ]
  },
  {
   "cell_type": "markdown",
   "metadata": {},
   "source": [
    "And we can get the first item as our region.\n",
    "\n",
    "Now it would be inefficient for us to run this one by one for each of our data points. We can use the `.map()` of the pandas dataframe to map a function to our dataset but we have to write out the function first. We'll write a function for getting the region, and we'll write a function that will get the type of employment."
   ]
  },
  {
   "cell_type": "code",
   "execution_count": 31,
   "metadata": {},
   "outputs": [],
   "source": [
    "def get_region(url):\n",
    "    # Split the url based on the '/' character\n",
    "    url_split = url.split('/')\n",
    "    # Get the website string from the array\n",
    "    domain_website = url_split[2]\n",
    "    # Split the website string based on the '.' character\n",
    "    domain_split = domain_website.split('.')\n",
    "    # Get the region\n",
    "    region = domain_split[0]\n",
    "    # Return region\n",
    "    return region\n",
    "\n",
    "def get_type_employment(url):\n",
    "    # Split the url based on the '/' character\n",
    "    url_split = url.split('/')\n",
    "    # Get the employment type\n",
    "    employment_type = url_split[-2]\n",
    "    # Return employment type\n",
    "    return employment_type"
   ]
  },
  {
   "cell_type": "code",
   "execution_count": 32,
   "metadata": {},
   "outputs": [
    {
     "name": "stdout",
     "output_type": "stream",
     "text": [
      "https://lascruces.craigslist.org/res/d/in-need-of-employment/6943802725.html\n",
      "Region: \t\tlascruces\n",
      "Employment type: \tin-need-of-employment\n"
     ]
    }
   ],
   "source": [
    "# Test our function\n",
    "print(sample_url)\n",
    "print(f\"Region: \\t\\t{get_region(sample_url)}\")\n",
    "print(f\"Employment type: \\t{get_type_employment(sample_url)}\")"
   ]
  },
  {
   "cell_type": "code",
   "execution_count": 33,
   "metadata": {},
   "outputs": [],
   "source": [
    "# Create a copy of the dataframe\n",
    "df_large_copy = df_large"
   ]
  },
  {
   "cell_type": "markdown",
   "metadata": {},
   "source": [
    "We can now create two new features for a dataset based on the data we extracted from the url."
   ]
  },
  {
   "cell_type": "code",
   "execution_count": 34,
   "metadata": {},
   "outputs": [
    {
     "data": {
      "text/html": [
       "<div>\n",
       "<style scoped>\n",
       "    .dataframe tbody tr th:only-of-type {\n",
       "        vertical-align: middle;\n",
       "    }\n",
       "\n",
       "    .dataframe tbody tr th {\n",
       "        vertical-align: top;\n",
       "    }\n",
       "\n",
       "    .dataframe thead th {\n",
       "        text-align: right;\n",
       "    }\n",
       "</style>\n",
       "<table border=\"1\" class=\"dataframe\">\n",
       "  <thead>\n",
       "    <tr style=\"text-align: right;\">\n",
       "      <th></th>\n",
       "      <th>city</th>\n",
       "      <th>searched_zipcode</th>\n",
       "      <th>url</th>\n",
       "      <th>content</th>\n",
       "      <th>posting_date</th>\n",
       "      <th>education</th>\n",
       "      <th>n_photos</th>\n",
       "      <th>availability</th>\n",
       "      <th>region</th>\n",
       "      <th>type of employment</th>\n",
       "    </tr>\n",
       "  </thead>\n",
       "  <tbody>\n",
       "    <tr>\n",
       "      <td>0</td>\n",
       "      <td>ElPaso</td>\n",
       "      <td>79936</td>\n",
       "      <td>https://elpaso.craigslist.org/res/d/outbound-r...</td>\n",
       "      <td>ASIDE FROM WORD OF MOUTH OR FACE TO FACE , COL...</td>\n",
       "      <td>2019-08-27 11:31</td>\n",
       "      <td>some college</td>\n",
       "      <td>0</td>\n",
       "      <td>['weekdays']</td>\n",
       "      <td>elpaso</td>\n",
       "      <td>outbound-retention-specialist</td>\n",
       "    </tr>\n",
       "    <tr>\n",
       "      <td>1</td>\n",
       "      <td>ElPaso</td>\n",
       "      <td>79936</td>\n",
       "      <td>https://elpaso.craigslist.org/res/d/best-resum...</td>\n",
       "      <td>Looking for a new job and no respond from the ...</td>\n",
       "      <td>2019-08-07 22:59</td>\n",
       "      <td>bachelors</td>\n",
       "      <td>0</td>\n",
       "      <td>['weekends']</td>\n",
       "      <td>elpaso</td>\n",
       "      <td>best-resume-in-town-from-utep-technical</td>\n",
       "    </tr>\n",
       "    <tr>\n",
       "      <td>2</td>\n",
       "      <td>ElPaso</td>\n",
       "      <td>79936</td>\n",
       "      <td>https://elpaso.craigslist.org/res/d/looking-fo...</td>\n",
       "      <td>I DO BEST RESUMES IN TOWN.\\n\\nI AM TECHNICAL W...</td>\n",
       "      <td>2019-08-17 08:25</td>\n",
       "      <td>bachelors</td>\n",
       "      <td>0</td>\n",
       "      <td>['afternoons', 'evenings', 'mornings', 'weekda...</td>\n",
       "      <td>elpaso</td>\n",
       "      <td>looking-for-new-career-move-you-need</td>\n",
       "    </tr>\n",
       "    <tr>\n",
       "      <td>3</td>\n",
       "      <td>ElPaso</td>\n",
       "      <td>79936</td>\n",
       "      <td>https://elpaso.craigslist.org/res/d/job-needed...</td>\n",
       "      <td>Well I'm a 24 year old female just lost my job...</td>\n",
       "      <td>2019-09-04 13:20</td>\n",
       "      <td>some college</td>\n",
       "      <td>1</td>\n",
       "      <td>['evenings', 'mornings', 'overnight', 'weekday...</td>\n",
       "      <td>elpaso</td>\n",
       "      <td>job-needed</td>\n",
       "    </tr>\n",
       "    <tr>\n",
       "      <td>4</td>\n",
       "      <td>ElPaso</td>\n",
       "      <td>79936</td>\n",
       "      <td>https://lascruces.craigslist.org/res/d/caregiv...</td>\n",
       "      <td>Caregiver available immediately. 5 years hospi...</td>\n",
       "      <td>2019-09-03 09:47</td>\n",
       "      <td>bachelors</td>\n",
       "      <td>0</td>\n",
       "      <td>['afternoons', 'evenings', 'mornings', 'overni...</td>\n",
       "      <td>lascruces</td>\n",
       "      <td>caregiver</td>\n",
       "    </tr>\n",
       "  </tbody>\n",
       "</table>\n",
       "</div>"
      ],
      "text/plain": [
       "     city  searched_zipcode  \\\n",
       "0  ElPaso             79936   \n",
       "1  ElPaso             79936   \n",
       "2  ElPaso             79936   \n",
       "3  ElPaso             79936   \n",
       "4  ElPaso             79936   \n",
       "\n",
       "                                                 url  \\\n",
       "0  https://elpaso.craigslist.org/res/d/outbound-r...   \n",
       "1  https://elpaso.craigslist.org/res/d/best-resum...   \n",
       "2  https://elpaso.craigslist.org/res/d/looking-fo...   \n",
       "3  https://elpaso.craigslist.org/res/d/job-needed...   \n",
       "4  https://lascruces.craigslist.org/res/d/caregiv...   \n",
       "\n",
       "                                             content      posting_date  \\\n",
       "0  ASIDE FROM WORD OF MOUTH OR FACE TO FACE , COL...  2019-08-27 11:31   \n",
       "1  Looking for a new job and no respond from the ...  2019-08-07 22:59   \n",
       "2  I DO BEST RESUMES IN TOWN.\\n\\nI AM TECHNICAL W...  2019-08-17 08:25   \n",
       "3  Well I'm a 24 year old female just lost my job...  2019-09-04 13:20   \n",
       "4  Caregiver available immediately. 5 years hospi...  2019-09-03 09:47   \n",
       "\n",
       "      education  n_photos                                       availability  \\\n",
       "0  some college         0                                       ['weekdays']   \n",
       "1     bachelors         0                                       ['weekends']   \n",
       "2     bachelors         0  ['afternoons', 'evenings', 'mornings', 'weekda...   \n",
       "3  some college         1  ['evenings', 'mornings', 'overnight', 'weekday...   \n",
       "4     bachelors         0  ['afternoons', 'evenings', 'mornings', 'overni...   \n",
       "\n",
       "      region                       type of employment  \n",
       "0     elpaso            outbound-retention-specialist  \n",
       "1     elpaso  best-resume-in-town-from-utep-technical  \n",
       "2     elpaso     looking-for-new-career-move-you-need  \n",
       "3     elpaso                               job-needed  \n",
       "4  lascruces                                caregiver  "
      ]
     },
     "execution_count": 34,
     "metadata": {},
     "output_type": "execute_result"
    }
   ],
   "source": [
    "# Map our function and assign the output to a new column\n",
    "df_large_copy['region'] = df_large_copy['url'].map(get_region)\n",
    "df_large_copy['type of employment'] = df_large_copy['url'].map(get_type_employment)\n",
    "df_large_copy.head()"
   ]
  },
  {
   "cell_type": "markdown",
   "metadata": {},
   "source": [
    "Let's try to take a look at the the content and see if we can extract unique informations from it."
   ]
  },
  {
   "cell_type": "code",
   "execution_count": 35,
   "metadata": {},
   "outputs": [
    {
     "data": {
      "text/plain": [
       "'I DO BEST RESUMES IN TOWN.\\n\\nI AM TECHNICAL WRITER FROM UTEP\\n\\nIF YOU WANT A NEW JOB OR CAREER CHANGE AND NOT GOING ANYWHERE, ITS NOT YOU, ITS YOUR RESUME\\n\\nLET ME HELP YOU GET YOU NEW CAREER OPPORTUNITY\\n\\nMY RESUMES ARE NOT GENERIC, ALL PROFESSIONAL AND TECHNICAL WRITING ONE\\n\\nSEND ME AN EMAIL YO GET YOU ON YOUR WAY'"
      ]
     },
     "execution_count": 35,
     "metadata": {},
     "output_type": "execute_result"
    }
   ],
   "source": [
    "# Get 'random' content\n",
    "sample_content = df_large['content'][2]\n",
    "sample_content"
   ]
  },
  {
   "cell_type": "markdown",
   "metadata": {},
   "source": [
    "We can try to split the content into sentences however, we know that '.' will not always work. There will be words that will have '.' with them such as 'Mr.', 'Ms.', 'Dr.', and more. We also notice some characters that don't make sense such `\\n`. For this, we will rely with a popular python library called `nltk` which will help us parse the content into sentences and `re` for text regex."
   ]
  },
  {
   "cell_type": "markdown",
   "metadata": {},
   "source": [
    "`re` allows us to use regex expressions to substitute certain characters or phrases in our data. We can remove the `\\n` using `re.sub()` function."
   ]
  },
  {
   "cell_type": "code",
   "execution_count": 36,
   "metadata": {},
   "outputs": [
    {
     "data": {
      "text/plain": [
       "'I DO BEST RESUMES IN TOWN.. I AM TECHNICAL WRITER FROM UTEP. IF YOU WANT A NEW JOB OR CAREER CHANGE AND NOT GOING ANYWHERE, ITS NOT YOU, ITS YOUR RESUME. LET ME HELP YOU GET YOU NEW CAREER OPPORTUNITY. MY RESUMES ARE NOT GENERIC, ALL PROFESSIONAL AND TECHNICAL WRITING ONE. SEND ME AN EMAIL YO GET YOU ON YOUR WAY'"
      ]
     },
     "execution_count": 36,
     "metadata": {},
     "output_type": "execute_result"
    }
   ],
   "source": [
    "# re.sub(old_text, new_text, original_text)\n",
    "# the \"\\n+\" allows us to replace \\n's that repeat multiple times consecutively.\n",
    "# as you will notice, \\n is repeated twice everytime it shows up but that doesn't necessarily happen\n",
    "# to other data points\n",
    "\n",
    "# remove next lines\n",
    "clean = re.sub(\"\\n+\", \". \", sample_content)\n",
    "# remove tabs\n",
    "clean = re.sub(\"\\t+\", \". \", clean)\n",
    "clean"
   ]
  },
  {
   "cell_type": "markdown",
   "metadata": {},
   "source": [
    "Alternatively, you can also use the string function `.replace()` but it doesn't give you as much flexibility as a regex function."
   ]
  },
  {
   "cell_type": "code",
   "execution_count": 37,
   "metadata": {},
   "outputs": [
    {
     "data": {
      "text/plain": [
       "'I DO BEST RESUMES IN TOWN.. . I AM TECHNICAL WRITER FROM UTEP. . IF YOU WANT A NEW JOB OR CAREER CHANGE AND NOT GOING ANYWHERE, ITS NOT YOU, ITS YOUR RESUME. . LET ME HELP YOU GET YOU NEW CAREER OPPORTUNITY. . MY RESUMES ARE NOT GENERIC, ALL PROFESSIONAL AND TECHNICAL WRITING ONE. . SEND ME AN EMAIL YO GET YOU ON YOUR WAY'"
      ]
     },
     "execution_count": 37,
     "metadata": {},
     "output_type": "execute_result"
    }
   ],
   "source": [
    "sample_content.replace('\\n', '. ')"
   ]
  },
  {
   "cell_type": "markdown",
   "metadata": {},
   "source": [
    "With the cleaned text, we can now parse the information to sentences. We use `nltk.sent_tokenize()` for this."
   ]
  },
  {
   "cell_type": "code",
   "execution_count": 38,
   "metadata": {},
   "outputs": [
    {
     "data": {
      "text/plain": [
       "['I DO BEST RESUMES IN TOWN..',\n",
       " 'I AM TECHNICAL WRITER FROM UTEP.',\n",
       " 'IF YOU WANT A NEW JOB OR CAREER CHANGE AND NOT GOING ANYWHERE, ITS NOT YOU, ITS YOUR RESUME.',\n",
       " 'LET ME HELP YOU GET YOU NEW CAREER OPPORTUNITY.',\n",
       " 'MY RESUMES ARE NOT GENERIC, ALL PROFESSIONAL AND TECHNICAL WRITING ONE.',\n",
       " 'SEND ME AN EMAIL YO GET YOU ON YOUR WAY']"
      ]
     },
     "execution_count": 38,
     "metadata": {},
     "output_type": "execute_result"
    }
   ],
   "source": [
    "sentences = nltk.sent_tokenize(clean)\n",
    "sentences"
   ]
  },
  {
   "cell_type": "markdown",
   "metadata": {},
   "source": [
    "Notice, how our data is all in caps. We can modify the strings with several string functions such as `.lower()`, `.upper()`, or `.capitalize()`."
   ]
  },
  {
   "cell_type": "code",
   "execution_count": 39,
   "metadata": {},
   "outputs": [
    {
     "name": "stdout",
     "output_type": "stream",
     "text": [
      "Original: \tMary and I often visit the nearby park.\n",
      "\n",
      "Lowercase: \tmary and i often visit the nearby park.\n",
      "\n",
      "Uppercase: \tMARY AND I OFTEN VISIT THE NEARBY PARK.\n",
      "\n",
      "Capitalize: \tMary and i often visit the nearby park.\n"
     ]
    }
   ],
   "source": [
    "sample_sentence = \"Mary and I often visit the nearby park.\"\n",
    "print(f\"Original: \\t{sample_sentence}\\n\")\n",
    "print(f\"Lowercase: \\t{sample_sentence.lower()}\\n\")\n",
    "print(f\"Uppercase: \\t{sample_sentence.upper()}\\n\")\n",
    "print(f\"Capitalize: \\t{sample_sentence.capitalize()}\")"
   ]
  },
  {
   "cell_type": "markdown",
   "metadata": {},
   "source": [
    "In some analysis, text is usually lowercased to have a standard format. When words are being grouped or counted, the program will not be able to distinguish `Hello` from `hello` or `hElLo`.\n",
    "\n",
    "We can also split the text into words with nltk."
   ]
  },
  {
   "cell_type": "code",
   "execution_count": 40,
   "metadata": {
    "scrolled": true
   },
   "outputs": [
    {
     "data": {
      "text/plain": [
       "['I',\n",
       " 'DO',\n",
       " 'BEST',\n",
       " 'RESUMES',\n",
       " 'IN',\n",
       " 'TOWN..',\n",
       " 'I',\n",
       " 'AM',\n",
       " 'TECHNICAL',\n",
       " 'WRITER',\n",
       " 'FROM',\n",
       " 'UTEP',\n",
       " '.',\n",
       " 'IF',\n",
       " 'YOU',\n",
       " 'WANT',\n",
       " 'A',\n",
       " 'NEW',\n",
       " 'JOB',\n",
       " 'OR',\n",
       " 'CAREER',\n",
       " 'CHANGE',\n",
       " 'AND',\n",
       " 'NOT',\n",
       " 'GOING',\n",
       " 'ANYWHERE',\n",
       " ',',\n",
       " 'ITS',\n",
       " 'NOT',\n",
       " 'YOU',\n",
       " ',',\n",
       " 'ITS',\n",
       " 'YOUR',\n",
       " 'RESUME',\n",
       " '.',\n",
       " 'LET',\n",
       " 'ME',\n",
       " 'HELP',\n",
       " 'YOU',\n",
       " 'GET',\n",
       " 'YOU',\n",
       " 'NEW',\n",
       " 'CAREER',\n",
       " 'OPPORTUNITY',\n",
       " '.',\n",
       " 'MY',\n",
       " 'RESUMES',\n",
       " 'ARE',\n",
       " 'NOT',\n",
       " 'GENERIC',\n",
       " ',',\n",
       " 'ALL',\n",
       " 'PROFESSIONAL',\n",
       " 'AND',\n",
       " 'TECHNICAL',\n",
       " 'WRITING',\n",
       " 'ONE',\n",
       " '.',\n",
       " 'SEND',\n",
       " 'ME',\n",
       " 'AN',\n",
       " 'EMAIL',\n",
       " 'YO',\n",
       " 'GET',\n",
       " 'YOU',\n",
       " 'ON',\n",
       " 'YOUR',\n",
       " 'WAY']"
      ]
     },
     "execution_count": 40,
     "metadata": {},
     "output_type": "execute_result"
    }
   ],
   "source": [
    "words = nltk.word_tokenize(clean)\n",
    "words"
   ]
  },
  {
   "cell_type": "markdown",
   "metadata": {},
   "source": [
    "Let's write a function that will apply regex functions as well as turn the text to lowercase."
   ]
  },
  {
   "cell_type": "code",
   "execution_count": 41,
   "metadata": {},
   "outputs": [],
   "source": [
    "def clean_text(text):\n",
    "    # remove next lines\n",
    "    clean_text = re.sub(\"\\n+\", \". \", text)\n",
    "    # remove tabs\n",
    "    clean_text = re.sub(\"\\t+\", \". \", clean_text)\n",
    "    # lowercase text\n",
    "    clean_text = clean_text.lower()\n",
    "    \n",
    "    return clean_text"
   ]
  },
  {
   "cell_type": "markdown",
   "metadata": {},
   "source": [
    "Then we'll map that function."
   ]
  },
  {
   "cell_type": "code",
   "execution_count": 42,
   "metadata": {},
   "outputs": [
    {
     "data": {
      "text/html": [
       "<div>\n",
       "<style scoped>\n",
       "    .dataframe tbody tr th:only-of-type {\n",
       "        vertical-align: middle;\n",
       "    }\n",
       "\n",
       "    .dataframe tbody tr th {\n",
       "        vertical-align: top;\n",
       "    }\n",
       "\n",
       "    .dataframe thead th {\n",
       "        text-align: right;\n",
       "    }\n",
       "</style>\n",
       "<table border=\"1\" class=\"dataframe\">\n",
       "  <thead>\n",
       "    <tr style=\"text-align: right;\">\n",
       "      <th></th>\n",
       "      <th>city</th>\n",
       "      <th>searched_zipcode</th>\n",
       "      <th>url</th>\n",
       "      <th>content</th>\n",
       "      <th>posting_date</th>\n",
       "      <th>education</th>\n",
       "      <th>n_photos</th>\n",
       "      <th>availability</th>\n",
       "      <th>region</th>\n",
       "      <th>type of employment</th>\n",
       "      <th>clean_content</th>\n",
       "    </tr>\n",
       "  </thead>\n",
       "  <tbody>\n",
       "    <tr>\n",
       "      <td>0</td>\n",
       "      <td>ElPaso</td>\n",
       "      <td>79936</td>\n",
       "      <td>https://elpaso.craigslist.org/res/d/outbound-r...</td>\n",
       "      <td>ASIDE FROM WORD OF MOUTH OR FACE TO FACE , COL...</td>\n",
       "      <td>2019-08-27 11:31</td>\n",
       "      <td>some college</td>\n",
       "      <td>0</td>\n",
       "      <td>['weekdays']</td>\n",
       "      <td>elpaso</td>\n",
       "      <td>outbound-retention-specialist</td>\n",
       "      <td>aside from word of mouth or face to face , col...</td>\n",
       "    </tr>\n",
       "    <tr>\n",
       "      <td>1</td>\n",
       "      <td>ElPaso</td>\n",
       "      <td>79936</td>\n",
       "      <td>https://elpaso.craigslist.org/res/d/best-resum...</td>\n",
       "      <td>Looking for a new job and no respond from the ...</td>\n",
       "      <td>2019-08-07 22:59</td>\n",
       "      <td>bachelors</td>\n",
       "      <td>0</td>\n",
       "      <td>['weekends']</td>\n",
       "      <td>elpaso</td>\n",
       "      <td>best-resume-in-town-from-utep-technical</td>\n",
       "      <td>looking for a new job and no respond from the ...</td>\n",
       "    </tr>\n",
       "    <tr>\n",
       "      <td>2</td>\n",
       "      <td>ElPaso</td>\n",
       "      <td>79936</td>\n",
       "      <td>https://elpaso.craigslist.org/res/d/looking-fo...</td>\n",
       "      <td>I DO BEST RESUMES IN TOWN.\\n\\nI AM TECHNICAL W...</td>\n",
       "      <td>2019-08-17 08:25</td>\n",
       "      <td>bachelors</td>\n",
       "      <td>0</td>\n",
       "      <td>['afternoons', 'evenings', 'mornings', 'weekda...</td>\n",
       "      <td>elpaso</td>\n",
       "      <td>looking-for-new-career-move-you-need</td>\n",
       "      <td>i do best resumes in town.. i am technical wri...</td>\n",
       "    </tr>\n",
       "    <tr>\n",
       "      <td>3</td>\n",
       "      <td>ElPaso</td>\n",
       "      <td>79936</td>\n",
       "      <td>https://elpaso.craigslist.org/res/d/job-needed...</td>\n",
       "      <td>Well I'm a 24 year old female just lost my job...</td>\n",
       "      <td>2019-09-04 13:20</td>\n",
       "      <td>some college</td>\n",
       "      <td>1</td>\n",
       "      <td>['evenings', 'mornings', 'overnight', 'weekday...</td>\n",
       "      <td>elpaso</td>\n",
       "      <td>job-needed</td>\n",
       "      <td>well i'm a 24 year old female just lost my job...</td>\n",
       "    </tr>\n",
       "    <tr>\n",
       "      <td>4</td>\n",
       "      <td>ElPaso</td>\n",
       "      <td>79936</td>\n",
       "      <td>https://lascruces.craigslist.org/res/d/caregiv...</td>\n",
       "      <td>Caregiver available immediately. 5 years hospi...</td>\n",
       "      <td>2019-09-03 09:47</td>\n",
       "      <td>bachelors</td>\n",
       "      <td>0</td>\n",
       "      <td>['afternoons', 'evenings', 'mornings', 'overni...</td>\n",
       "      <td>lascruces</td>\n",
       "      <td>caregiver</td>\n",
       "      <td>caregiver available immediately. 5 years hospi...</td>\n",
       "    </tr>\n",
       "  </tbody>\n",
       "</table>\n",
       "</div>"
      ],
      "text/plain": [
       "     city  searched_zipcode  \\\n",
       "0  ElPaso             79936   \n",
       "1  ElPaso             79936   \n",
       "2  ElPaso             79936   \n",
       "3  ElPaso             79936   \n",
       "4  ElPaso             79936   \n",
       "\n",
       "                                                 url  \\\n",
       "0  https://elpaso.craigslist.org/res/d/outbound-r...   \n",
       "1  https://elpaso.craigslist.org/res/d/best-resum...   \n",
       "2  https://elpaso.craigslist.org/res/d/looking-fo...   \n",
       "3  https://elpaso.craigslist.org/res/d/job-needed...   \n",
       "4  https://lascruces.craigslist.org/res/d/caregiv...   \n",
       "\n",
       "                                             content      posting_date  \\\n",
       "0  ASIDE FROM WORD OF MOUTH OR FACE TO FACE , COL...  2019-08-27 11:31   \n",
       "1  Looking for a new job and no respond from the ...  2019-08-07 22:59   \n",
       "2  I DO BEST RESUMES IN TOWN.\\n\\nI AM TECHNICAL W...  2019-08-17 08:25   \n",
       "3  Well I'm a 24 year old female just lost my job...  2019-09-04 13:20   \n",
       "4  Caregiver available immediately. 5 years hospi...  2019-09-03 09:47   \n",
       "\n",
       "      education  n_photos                                       availability  \\\n",
       "0  some college         0                                       ['weekdays']   \n",
       "1     bachelors         0                                       ['weekends']   \n",
       "2     bachelors         0  ['afternoons', 'evenings', 'mornings', 'weekda...   \n",
       "3  some college         1  ['evenings', 'mornings', 'overnight', 'weekday...   \n",
       "4     bachelors         0  ['afternoons', 'evenings', 'mornings', 'overni...   \n",
       "\n",
       "      region                       type of employment  \\\n",
       "0     elpaso            outbound-retention-specialist   \n",
       "1     elpaso  best-resume-in-town-from-utep-technical   \n",
       "2     elpaso     looking-for-new-career-move-you-need   \n",
       "3     elpaso                               job-needed   \n",
       "4  lascruces                                caregiver   \n",
       "\n",
       "                                       clean_content  \n",
       "0  aside from word of mouth or face to face , col...  \n",
       "1  looking for a new job and no respond from the ...  \n",
       "2  i do best resumes in town.. i am technical wri...  \n",
       "3  well i'm a 24 year old female just lost my job...  \n",
       "4  caregiver available immediately. 5 years hospi...  "
      ]
     },
     "execution_count": 42,
     "metadata": {},
     "output_type": "execute_result"
    }
   ],
   "source": [
    "df_large_copy['clean_content'] = df_large_copy['content'].map(clean_text)\n",
    "df_large_copy.head()"
   ]
  },
  {
   "cell_type": "markdown",
   "metadata": {},
   "source": [
    "We can save the file to csv format with `.to_csv` function"
   ]
  },
  {
   "cell_type": "code",
   "execution_count": 43,
   "metadata": {},
   "outputs": [],
   "source": [
    "df_large_copy.to_csv(\"./../assets/data_large_clean.csv\")"
   ]
  },
  {
   "cell_type": "markdown",
   "metadata": {},
   "source": [
    "# Bonus Stuff:"
   ]
  },
  {
   "cell_type": "markdown",
   "metadata": {},
   "source": [
    "## Sentiment Analysis with TextBlob\n",
    "Sentiment analysis whether the text is positive(1.0) or negative(-1.0)."
   ]
  },
  {
   "cell_type": "code",
   "execution_count": 44,
   "metadata": {},
   "outputs": [],
   "source": [
    "from textblob import TextBlob"
   ]
  },
  {
   "cell_type": "code",
   "execution_count": 45,
   "metadata": {},
   "outputs": [],
   "source": [
    "positive_text = \"The movie was great.\"\n",
    "negative_text = \"The movie seat was dirty.\""
   ]
  },
  {
   "cell_type": "code",
   "execution_count": 46,
   "metadata": {},
   "outputs": [
    {
     "data": {
      "text/plain": [
       "Sentiment(polarity=0.8, subjectivity=0.75)"
      ]
     },
     "execution_count": 46,
     "metadata": {},
     "output_type": "execute_result"
    }
   ],
   "source": [
    "TextBlob(positive_text).sentiment"
   ]
  },
  {
   "cell_type": "code",
   "execution_count": 47,
   "metadata": {},
   "outputs": [
    {
     "data": {
      "text/plain": [
       "Sentiment(polarity=-0.6, subjectivity=0.8)"
      ]
     },
     "execution_count": 47,
     "metadata": {},
     "output_type": "execute_result"
    }
   ],
   "source": [
    "TextBlob(negative_text).sentiment"
   ]
  },
  {
   "cell_type": "code",
   "execution_count": 48,
   "metadata": {},
   "outputs": [],
   "source": [
    "def get_sentiment(text):\n",
    "    polarity, subjectivity = TextBlob(text).sentiment\n",
    "    print(text)\n",
    "    print(f\"Polarity = {polarity:.2f}\")\n",
    "    print(f\"Subjectivity = {subjectivity:.2f}\")\n",
    "    print(\"___\")"
   ]
  },
  {
   "cell_type": "code",
   "execution_count": 49,
   "metadata": {},
   "outputs": [
    {
     "name": "stdout",
     "output_type": "stream",
     "text": [
      "This taco\n",
      "Polarity = 0.00\n",
      "Subjectivity = 0.00\n",
      "___\n",
      "This taco is\n",
      "Polarity = 0.00\n",
      "Subjectivity = 0.00\n",
      "___\n",
      "This taco is disgusting\n",
      "Polarity = -1.00\n",
      "Subjectivity = 1.00\n",
      "___\n",
      "This taco is disgustingly good\n",
      "Polarity = 0.70\n",
      "Subjectivity = 0.60\n",
      "___\n"
     ]
    }
   ],
   "source": [
    "get_sentiment(\"This taco\")\n",
    "get_sentiment(\"This taco is\")\n",
    "get_sentiment(\"This taco is disgusting\")\n",
    "get_sentiment(\"This taco is disgustingly good\")"
   ]
  },
  {
   "cell_type": "markdown",
   "metadata": {},
   "source": [
    "Not always correct but is useful."
   ]
  },
  {
   "cell_type": "markdown",
   "metadata": {},
   "source": [
    "## Wordcloud"
   ]
  },
  {
   "cell_type": "markdown",
   "metadata": {},
   "source": [
    "The more a word appears in a document, the bigger and bolder the word appears in the Wordcloud."
   ]
  },
  {
   "cell_type": "code",
   "execution_count": 50,
   "metadata": {},
   "outputs": [],
   "source": [
    "from wordcloud import WordCloud\n",
    "from collections import Counter\n",
    "import matplotlib.pyplot as plt\n",
    "%matplotlib inline\n",
    "\n",
    "sample_idx = 300\n",
    "text = df_large_copy['clean_content'].iloc[sample_idx]\n",
    "wordcloud = WordCloud().generate(text)"
   ]
  },
  {
   "cell_type": "code",
   "execution_count": 51,
   "metadata": {},
   "outputs": [
    {
     "data": {
      "image/png": "[encoded data removed]",
      "text/plain": [
       "<Figure size 576x576 with 1 Axes>"
      ]
     },
     "metadata": {
      "needs_background": "light"
     },
     "output_type": "display_data"
    },
    {
     "name": "stdout",
     "output_type": "stream",
     "text": [
      "Original Text:\n",
      "offering tax preparation for individuals, sole proprietor, partnership, and corporations. free consultation and review of prior tax years.. * accounting services. * bookkeeping services. * payroll services. * bank and credit card reconciliations. * financial statements preparations. * federal & state tax audit representation. * tax resolution matters. * income tax preparation (individual, corporation, partnership, sole prop). * state board of equalization. * quickbooks set up, training and/or clean up. * new business structures. off site, control remote or on site if local. monthly fees, or hourly, or fixed rate. customized to each company/individual needs.. call for a free consultation. elda garza. @ galagarza tax and accounting. *** show contact info\n"
     ]
    }
   ],
   "source": [
    "plt.figure(figsize = (8,8))\n",
    "plt.imshow(wordcloud, interpolation=\"bilinear\")\n",
    "plt.axis(\"off\")\n",
    "plt.show()\n",
    "\n",
    "print(f\"Original Text:\\n{text}\")"
   ]
  },
  {
   "cell_type": "code",
   "execution_count": 52,
   "metadata": {},
   "outputs": [
    {
     "data": {
      "text/html": [
       "<div>\n",
       "<style scoped>\n",
       "    .dataframe tbody tr th:only-of-type {\n",
       "        vertical-align: middle;\n",
       "    }\n",
       "\n",
       "    .dataframe tbody tr th {\n",
       "        vertical-align: top;\n",
       "    }\n",
       "\n",
       "    .dataframe thead th {\n",
       "        text-align: right;\n",
       "    }\n",
       "</style>\n",
       "<table border=\"1\" class=\"dataframe\">\n",
       "  <thead>\n",
       "    <tr style=\"text-align: right;\">\n",
       "      <th></th>\n",
       "      <th>word</th>\n",
       "      <th>frequency</th>\n",
       "    </tr>\n",
       "  </thead>\n",
       "  <tbody>\n",
       "    <tr>\n",
       "      <td>0</td>\n",
       "      <td>tax</td>\n",
       "      <td>6</td>\n",
       "    </tr>\n",
       "    <tr>\n",
       "      <td>1</td>\n",
       "      <td>services</td>\n",
       "      <td>3</td>\n",
       "    </tr>\n",
       "    <tr>\n",
       "      <td>2</td>\n",
       "      <td>preparation</td>\n",
       "      <td>2</td>\n",
       "    </tr>\n",
       "    <tr>\n",
       "      <td>3</td>\n",
       "      <td>sole</td>\n",
       "      <td>2</td>\n",
       "    </tr>\n",
       "    <tr>\n",
       "      <td>4</td>\n",
       "      <td>partnership</td>\n",
       "      <td>2</td>\n",
       "    </tr>\n",
       "    <tr>\n",
       "      <td>5</td>\n",
       "      <td>free</td>\n",
       "      <td>2</td>\n",
       "    </tr>\n",
       "    <tr>\n",
       "      <td>6</td>\n",
       "      <td>consultation</td>\n",
       "      <td>2</td>\n",
       "    </tr>\n",
       "    <tr>\n",
       "      <td>7</td>\n",
       "      <td>accounting</td>\n",
       "      <td>2</td>\n",
       "    </tr>\n",
       "    <tr>\n",
       "      <td>8</td>\n",
       "      <td>state</td>\n",
       "      <td>2</td>\n",
       "    </tr>\n",
       "    <tr>\n",
       "      <td>9</td>\n",
       "      <td>individual</td>\n",
       "      <td>2</td>\n",
       "    </tr>\n",
       "  </tbody>\n",
       "</table>\n",
       "</div>"
      ],
      "text/plain": [
       "           word  frequency\n",
       "0           tax          6\n",
       "1      services          3\n",
       "2   preparation          2\n",
       "3          sole          2\n",
       "4   partnership          2\n",
       "5          free          2\n",
       "6  consultation          2\n",
       "7    accounting          2\n",
       "8         state          2\n",
       "9    individual          2"
      ]
     },
     "execution_count": 52,
     "metadata": {},
     "output_type": "execute_result"
    }
   ],
   "source": [
    "# The 'not-so-pretty' version\n",
    "frequency_df = []\n",
    "\n",
    "sample_paragraph    = text\n",
    "\n",
    "# Remove non alphanumeric text\n",
    "cleaned_paragraph   = re.sub('[^0-9a-zA-Z]+', ' ', sample_paragraph)\n",
    "\n",
    "# Tokenize the text\n",
    "tokenized_paragraph = nltk.word_tokenize(cleaned_paragraph)\n",
    "\n",
    "# Define stopword list\n",
    "stopwords = set(nltk.corpus.stopwords.words('english'))\n",
    "\n",
    "# Print the 10 most common words and their frequency\n",
    "for word, count in Counter(tokenized_paragraph).most_common():\n",
    "    \n",
    "    # Check if the word is a stop word or not\n",
    "    if word not in stopwords:\n",
    "        frequency_df.append([word, count])\n",
    "        \n",
    "        # Stop at 10 words\n",
    "        if len(frequency_df) == 10:\n",
    "            break\n",
    "\n",
    "# Convert to dataframe for better visualization\n",
    "frequency_df = pd.DataFrame(frequency_df, columns = ['word', 'frequency'])\n",
    "frequency_df"
   ]
  },
  {
   "cell_type": "markdown",
   "metadata": {},
   "source": [
    "Notice how wordcloud also removes stop words"
   ]
  }
 ],
 "metadata": {
  "kernelspec": {
   "display_name": "Python 3",
   "language": "python",
   "name": "python3"
  },
  "language_info": {
   "codemirror_mode": {
    "name": "ipython",
    "version": 3
   },
   "file_extension": ".py",
   "mimetype": "text/x-python",
   "name": "python",
   "nbconvert_exporter": "python",
   "pygments_lexer": "ipython3",
   "version": "3.7.3"
  }
 },
 "nbformat": 4,
 "nbformat_minor": 2
}
