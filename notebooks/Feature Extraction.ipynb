{
 "cells": [
  {
   "cell_type": "markdown",
   "metadata": {},
   "source": [
    "# Feature Extraction\n",
    "## Pandas"
   ]
  },
  {
   "cell_type": "code",
   "execution_count": 1,
   "metadata": {},
   "outputs": [],
   "source": [
    "import pandas as pd"
   ]
  },
  {
   "cell_type": "code",
   "execution_count": 2,
   "metadata": {},
   "outputs": [],
   "source": [
    "df_large = pd.read_csv(\"./../assets/data_large.csv\", index_col = 0)"
   ]
  },
  {
   "cell_type": "code",
   "execution_count": 3,
   "metadata": {},
   "outputs": [
    {
     "data": {
      "text/html": [
       "<div>\n",
       "<style scoped>\n",
       "    .dataframe tbody tr th:only-of-type {\n",
       "        vertical-align: middle;\n",
       "    }\n",
       "\n",
       "    .dataframe tbody tr th {\n",
       "        vertical-align: top;\n",
       "    }\n",
       "\n",
       "    .dataframe thead th {\n",
       "        text-align: right;\n",
       "    }\n",
       "</style>\n",
       "<table border=\"1\" class=\"dataframe\">\n",
       "  <thead>\n",
       "    <tr style=\"text-align: right;\">\n",
       "      <th></th>\n",
       "      <th>city</th>\n",
       "      <th>searched_zipcode</th>\n",
       "      <th>url</th>\n",
       "      <th>content</th>\n",
       "    </tr>\n",
       "  </thead>\n",
       "  <tbody>\n",
       "    <tr>\n",
       "      <th>29496</th>\n",
       "      <td>Dallas</td>\n",
       "      <td>75211</td>\n",
       "      <td>https://dallas.craigslist.org/ftw/res/d/profes...</td>\n",
       "      <td>My name Is Brian and I am a professional paint...</td>\n",
       "    </tr>\n",
       "    <tr>\n",
       "      <th>25618</th>\n",
       "      <td>Sacramento</td>\n",
       "      <td>95823</td>\n",
       "      <td>https://sfbay.craigslist.org/sfc/res/d/fashion...</td>\n",
       "      <td>Expertise in Trend Forecasting, Creative Conce...</td>\n",
       "    </tr>\n",
       "    <tr>\n",
       "      <th>29438</th>\n",
       "      <td>Dallas</td>\n",
       "      <td>75211</td>\n",
       "      <td>https://austin.craigslist.org/res/d/build-bran...</td>\n",
       "      <td>1 STOP SHOP FOR MANY SMALL BUSINESSES ON A TIG...</td>\n",
       "    </tr>\n",
       "    <tr>\n",
       "      <th>11038</th>\n",
       "      <td>Dallas</td>\n",
       "      <td>75217</td>\n",
       "      <td>https://dallas.craigslist.org/ftw/res/d/lookin...</td>\n",
       "      <td>I am trying to make some extra cash. I am curr...</td>\n",
       "    </tr>\n",
       "    <tr>\n",
       "      <th>9150</th>\n",
       "      <td>NewYork</td>\n",
       "      <td>10025</td>\n",
       "      <td>https://baltimore.craigslist.org/res/d/license...</td>\n",
       "      <td>Armed security agent looking for hire in Balti...</td>\n",
       "    </tr>\n",
       "    <tr>\n",
       "      <th>9580</th>\n",
       "      <td>NewYork</td>\n",
       "      <td>10025</td>\n",
       "      <td>https://baltimore.craigslist.org/res/d/kayla-s...</td>\n",
       "      <td>*TRAVELING MODEL*\\n\\nHello! Internationally pu...</td>\n",
       "    </tr>\n",
       "    <tr>\n",
       "      <th>14365</th>\n",
       "      <td>NewYork</td>\n",
       "      <td>10002</td>\n",
       "      <td>https://southjersey.craigslist.org/res/d/doors...</td>\n",
       "      <td>Interior-Exterior door installation of any sor...</td>\n",
       "    </tr>\n",
       "    <tr>\n",
       "      <th>19440</th>\n",
       "      <td>Fresno</td>\n",
       "      <td>93722</td>\n",
       "      <td>https://goldcountry.craigslist.org/res/d/affor...</td>\n",
       "      <td>Flexible schedule and affordable services. I h...</td>\n",
       "    </tr>\n",
       "    <tr>\n",
       "      <th>13542</th>\n",
       "      <td>Bakersfield</td>\n",
       "      <td>93307</td>\n",
       "      <td>https://ventura.craigslist.org/res/d/hvac-sale...</td>\n",
       "      <td>Responsibilities and duties:\\n\\n• Responsible ...</td>\n",
       "    </tr>\n",
       "    <tr>\n",
       "      <th>27136</th>\n",
       "      <td>Atlanta</td>\n",
       "      <td>30349</td>\n",
       "      <td>https://atlanta.craigslist.org/atl/res/d/entry...</td>\n",
       "      <td>Detail oriented, analytical professional seeki...</td>\n",
       "    </tr>\n",
       "  </tbody>\n",
       "</table>\n",
       "</div>"
      ],
      "text/plain": [
       "              city  searched_zipcode  \\\n",
       "29496       Dallas             75211   \n",
       "25618   Sacramento             95823   \n",
       "29438       Dallas             75211   \n",
       "11038       Dallas             75217   \n",
       "9150       NewYork             10025   \n",
       "9580       NewYork             10025   \n",
       "14365      NewYork             10002   \n",
       "19440       Fresno             93722   \n",
       "13542  Bakersfield             93307   \n",
       "27136      Atlanta             30349   \n",
       "\n",
       "                                                     url  \\\n",
       "29496  https://dallas.craigslist.org/ftw/res/d/profes...   \n",
       "25618  https://sfbay.craigslist.org/sfc/res/d/fashion...   \n",
       "29438  https://austin.craigslist.org/res/d/build-bran...   \n",
       "11038  https://dallas.craigslist.org/ftw/res/d/lookin...   \n",
       "9150   https://baltimore.craigslist.org/res/d/license...   \n",
       "9580   https://baltimore.craigslist.org/res/d/kayla-s...   \n",
       "14365  https://southjersey.craigslist.org/res/d/doors...   \n",
       "19440  https://goldcountry.craigslist.org/res/d/affor...   \n",
       "13542  https://ventura.craigslist.org/res/d/hvac-sale...   \n",
       "27136  https://atlanta.craigslist.org/atl/res/d/entry...   \n",
       "\n",
       "                                                 content  \n",
       "29496  My name Is Brian and I am a professional paint...  \n",
       "25618  Expertise in Trend Forecasting, Creative Conce...  \n",
       "29438  1 STOP SHOP FOR MANY SMALL BUSINESSES ON A TIG...  \n",
       "11038  I am trying to make some extra cash. I am curr...  \n",
       "9150   Armed security agent looking for hire in Balti...  \n",
       "9580   *TRAVELING MODEL*\\n\\nHello! Internationally pu...  \n",
       "14365  Interior-Exterior door installation of any sor...  \n",
       "19440  Flexible schedule and affordable services. I h...  \n",
       "13542  Responsibilities and duties:\\n\\n• Responsible ...  \n",
       "27136  Detail oriented, analytical professional seeki...  "
      ]
     },
     "execution_count": 3,
     "metadata": {},
     "output_type": "execute_result"
    }
   ],
   "source": [
    "df_large.sample(10)"
   ]
  },
  {
   "cell_type": "code",
   "execution_count": 4,
   "metadata": {},
   "outputs": [
    {
     "data": {
      "text/plain": [
       "(38912, 4)"
      ]
     },
     "execution_count": 4,
     "metadata": {},
     "output_type": "execute_result"
    }
   ],
   "source": [
    "df_large.shape"
   ]
  },
  {
   "cell_type": "markdown",
   "metadata": {},
   "source": [
    "### .loc([*condition*])\n",
    "`.loc([condition])` can be used to filter the dataframe"
   ]
  },
  {
   "cell_type": "code",
   "execution_count": 5,
   "metadata": {},
   "outputs": [
    {
     "data": {
      "text/html": [
       "<div>\n",
       "<style scoped>\n",
       "    .dataframe tbody tr th:only-of-type {\n",
       "        vertical-align: middle;\n",
       "    }\n",
       "\n",
       "    .dataframe tbody tr th {\n",
       "        vertical-align: top;\n",
       "    }\n",
       "\n",
       "    .dataframe thead th {\n",
       "        text-align: right;\n",
       "    }\n",
       "</style>\n",
       "<table border=\"1\" class=\"dataframe\">\n",
       "  <thead>\n",
       "    <tr style=\"text-align: right;\">\n",
       "      <th></th>\n",
       "      <th>city</th>\n",
       "      <th>searched_zipcode</th>\n",
       "      <th>url</th>\n",
       "      <th>content</th>\n",
       "    </tr>\n",
       "  </thead>\n",
       "  <tbody>\n",
       "    <tr>\n",
       "      <th>7708</th>\n",
       "      <td>NewYork</td>\n",
       "      <td>10025</td>\n",
       "      <td>https://allentown.craigslist.org/res/d/windows...</td>\n",
       "      <td>Replacement Windows, Window Capping, Painting....</td>\n",
       "    </tr>\n",
       "    <tr>\n",
       "      <th>7709</th>\n",
       "      <td>NewYork</td>\n",
       "      <td>10025</td>\n",
       "      <td>https://newyork.craigslist.org/jsy/res/d/remot...</td>\n",
       "      <td>*$30 per hour - remote work only\\n\\n*8 Years D...</td>\n",
       "    </tr>\n",
       "    <tr>\n",
       "      <th>7710</th>\n",
       "      <td>NewYork</td>\n",
       "      <td>10025</td>\n",
       "      <td>https://worcester.craigslist.org/res/d/meat-cu...</td>\n",
       "      <td>I'm looking to be trained as a meat cutter. I ...</td>\n",
       "    </tr>\n",
       "    <tr>\n",
       "      <th>7711</th>\n",
       "      <td>NewYork</td>\n",
       "      <td>10025</td>\n",
       "      <td>https://baltimore.craigslist.org/res/d/man-of-...</td>\n",
       "      <td>Local Christian man seeking employment and/or ...</td>\n",
       "    </tr>\n",
       "    <tr>\n",
       "      <th>7712</th>\n",
       "      <td>NewYork</td>\n",
       "      <td>10025</td>\n",
       "      <td>https://philadelphia.craigslist.org/res/d/hand...</td>\n",
       "      <td>When it comes to fast, quality work home impro...</td>\n",
       "    </tr>\n",
       "    <tr>\n",
       "      <th>7713</th>\n",
       "      <td>NewYork</td>\n",
       "      <td>10025</td>\n",
       "      <td>https://philadelphia.craigslist.org/res/d/hand...</td>\n",
       "      <td>When it comes to fast, quality work home impro...</td>\n",
       "    </tr>\n",
       "    <tr>\n",
       "      <th>7714</th>\n",
       "      <td>NewYork</td>\n",
       "      <td>10025</td>\n",
       "      <td>https://philadelphia.craigslist.org/res/d/hand...</td>\n",
       "      <td>When it comes to cheaper and quality work call...</td>\n",
       "    </tr>\n",
       "    <tr>\n",
       "      <th>7715</th>\n",
       "      <td>NewYork</td>\n",
       "      <td>10025</td>\n",
       "      <td>https://philadelphia.craigslist.org/res/d/hand...</td>\n",
       "      <td>When it comes to fast, quality work home impro...</td>\n",
       "    </tr>\n",
       "    <tr>\n",
       "      <th>7716</th>\n",
       "      <td>NewYork</td>\n",
       "      <td>10025</td>\n",
       "      <td>https://philadelphia.craigslist.org/res/d/gig-...</td>\n",
       "      <td>My freelance brand as a worker for hire:\\nMy n...</td>\n",
       "    </tr>\n",
       "    <tr>\n",
       "      <th>7717</th>\n",
       "      <td>NewYork</td>\n",
       "      <td>10025</td>\n",
       "      <td>https://southjersey.craigslist.org/res/d/dj-lo...</td>\n",
       "      <td>I have been DJiing over 15 years and i am look...</td>\n",
       "    </tr>\n",
       "  </tbody>\n",
       "</table>\n",
       "</div>"
      ],
      "text/plain": [
       "         city  searched_zipcode  \\\n",
       "7708  NewYork             10025   \n",
       "7709  NewYork             10025   \n",
       "7710  NewYork             10025   \n",
       "7711  NewYork             10025   \n",
       "7712  NewYork             10025   \n",
       "7713  NewYork             10025   \n",
       "7714  NewYork             10025   \n",
       "7715  NewYork             10025   \n",
       "7716  NewYork             10025   \n",
       "7717  NewYork             10025   \n",
       "\n",
       "                                                    url  \\\n",
       "7708  https://allentown.craigslist.org/res/d/windows...   \n",
       "7709  https://newyork.craigslist.org/jsy/res/d/remot...   \n",
       "7710  https://worcester.craigslist.org/res/d/meat-cu...   \n",
       "7711  https://baltimore.craigslist.org/res/d/man-of-...   \n",
       "7712  https://philadelphia.craigslist.org/res/d/hand...   \n",
       "7713  https://philadelphia.craigslist.org/res/d/hand...   \n",
       "7714  https://philadelphia.craigslist.org/res/d/hand...   \n",
       "7715  https://philadelphia.craigslist.org/res/d/hand...   \n",
       "7716  https://philadelphia.craigslist.org/res/d/gig-...   \n",
       "7717  https://southjersey.craigslist.org/res/d/dj-lo...   \n",
       "\n",
       "                                                content  \n",
       "7708  Replacement Windows, Window Capping, Painting....  \n",
       "7709  *$30 per hour - remote work only\\n\\n*8 Years D...  \n",
       "7710  I'm looking to be trained as a meat cutter. I ...  \n",
       "7711  Local Christian man seeking employment and/or ...  \n",
       "7712  When it comes to fast, quality work home impro...  \n",
       "7713  When it comes to fast, quality work home impro...  \n",
       "7714  When it comes to cheaper and quality work call...  \n",
       "7715  When it comes to fast, quality work home impro...  \n",
       "7716  My freelance brand as a worker for hire:\\nMy n...  \n",
       "7717  I have been DJiing over 15 years and i am look...  "
      ]
     },
     "execution_count": 5,
     "metadata": {},
     "output_type": "execute_result"
    }
   ],
   "source": [
    "new_york_df = df_large.loc[df_large['city'] == 'NewYork']\n",
    "new_york_df.head(10)"
   ]
  },
  {
   "cell_type": "markdown",
   "metadata": {},
   "source": [
    "### .nunique()\n",
    "`.nunique()` can be used to count the number of unique items in each column."
   ]
  },
  {
   "cell_type": "code",
   "execution_count": 6,
   "metadata": {},
   "outputs": [
    {
     "data": {
      "text/plain": [
       "city                   1\n",
       "searched_zipcode       3\n",
       "url                 3027\n",
       "content             2769\n",
       "dtype: int64"
      ]
     },
     "execution_count": 6,
     "metadata": {},
     "output_type": "execute_result"
    }
   ],
   "source": [
    "# Count number of unique information in each column\n",
    "new_york_df.nunique()"
   ]
  },
  {
   "cell_type": "code",
   "execution_count": 7,
   "metadata": {},
   "outputs": [
    {
     "data": {
      "text/plain": [
       "(9000, 4)"
      ]
     },
     "execution_count": 7,
     "metadata": {},
     "output_type": "execute_result"
    }
   ],
   "source": [
    "# Get the shape of the data (row, columns)\n",
    "new_york_df.shape"
   ]
  },
  {
   "cell_type": "markdown",
   "metadata": {},
   "source": [
    "### .drop_duplicates()\n",
    "`.drop_duplicates()` drops duplicate rows in the dataframe. Parameters can be modified to specify which rows to drop such as `subset` to specify which columns to check for duplicates and `keep` to specify which data point of the duplicates will be kept."
   ]
  },
  {
   "cell_type": "code",
   "execution_count": 8,
   "metadata": {},
   "outputs": [
    {
     "name": "stdout",
     "output_type": "stream",
     "text": [
      "Shape of no duplicates in content column (2769, 4)\n"
     ]
    },
    {
     "data": {
      "text/html": [
       "<div>\n",
       "<style scoped>\n",
       "    .dataframe tbody tr th:only-of-type {\n",
       "        vertical-align: middle;\n",
       "    }\n",
       "\n",
       "    .dataframe tbody tr th {\n",
       "        vertical-align: top;\n",
       "    }\n",
       "\n",
       "    .dataframe thead th {\n",
       "        text-align: right;\n",
       "    }\n",
       "</style>\n",
       "<table border=\"1\" class=\"dataframe\">\n",
       "  <thead>\n",
       "    <tr style=\"text-align: right;\">\n",
       "      <th></th>\n",
       "      <th>city</th>\n",
       "      <th>searched_zipcode</th>\n",
       "      <th>url</th>\n",
       "      <th>content</th>\n",
       "    </tr>\n",
       "  </thead>\n",
       "  <tbody>\n",
       "    <tr>\n",
       "      <th>7708</th>\n",
       "      <td>NewYork</td>\n",
       "      <td>10025</td>\n",
       "      <td>https://allentown.craigslist.org/res/d/windows...</td>\n",
       "      <td>Replacement Windows, Window Capping, Painting....</td>\n",
       "    </tr>\n",
       "    <tr>\n",
       "      <th>7709</th>\n",
       "      <td>NewYork</td>\n",
       "      <td>10025</td>\n",
       "      <td>https://newyork.craigslist.org/jsy/res/d/remot...</td>\n",
       "      <td>*$30 per hour - remote work only\\n\\n*8 Years D...</td>\n",
       "    </tr>\n",
       "    <tr>\n",
       "      <th>7710</th>\n",
       "      <td>NewYork</td>\n",
       "      <td>10025</td>\n",
       "      <td>https://worcester.craigslist.org/res/d/meat-cu...</td>\n",
       "      <td>I'm looking to be trained as a meat cutter. I ...</td>\n",
       "    </tr>\n",
       "    <tr>\n",
       "      <th>7711</th>\n",
       "      <td>NewYork</td>\n",
       "      <td>10025</td>\n",
       "      <td>https://baltimore.craigslist.org/res/d/man-of-...</td>\n",
       "      <td>Local Christian man seeking employment and/or ...</td>\n",
       "    </tr>\n",
       "    <tr>\n",
       "      <th>7712</th>\n",
       "      <td>NewYork</td>\n",
       "      <td>10025</td>\n",
       "      <td>https://philadelphia.craigslist.org/res/d/hand...</td>\n",
       "      <td>When it comes to fast, quality work home impro...</td>\n",
       "    </tr>\n",
       "  </tbody>\n",
       "</table>\n",
       "</div>"
      ],
      "text/plain": [
       "         city  searched_zipcode  \\\n",
       "7708  NewYork             10025   \n",
       "7709  NewYork             10025   \n",
       "7710  NewYork             10025   \n",
       "7711  NewYork             10025   \n",
       "7712  NewYork             10025   \n",
       "\n",
       "                                                    url  \\\n",
       "7708  https://allentown.craigslist.org/res/d/windows...   \n",
       "7709  https://newyork.craigslist.org/jsy/res/d/remot...   \n",
       "7710  https://worcester.craigslist.org/res/d/meat-cu...   \n",
       "7711  https://baltimore.craigslist.org/res/d/man-of-...   \n",
       "7712  https://philadelphia.craigslist.org/res/d/hand...   \n",
       "\n",
       "                                                content  \n",
       "7708  Replacement Windows, Window Capping, Painting....  \n",
       "7709  *$30 per hour - remote work only\\n\\n*8 Years D...  \n",
       "7710  I'm looking to be trained as a meat cutter. I ...  \n",
       "7711  Local Christian man seeking employment and/or ...  \n",
       "7712  When it comes to fast, quality work home impro...  "
      ]
     },
     "execution_count": 8,
     "metadata": {},
     "output_type": "execute_result"
    }
   ],
   "source": [
    "no_duplicate_shape = new_york_df.drop_duplicates(subset='content', keep = 'first').shape\n",
    "print(f\"Shape of no duplicates in content column {no_duplicate_shape}\")\n",
    "new_york_df.drop_duplicates(subset='content', keep = 'first').head()\n",
    "\n",
    "# It is important to note that .drop_duplicates() doesn't change the original data unless\n",
    "# the parameter 'inplace' is set to 'True'"
   ]
  },
  {
   "cell_type": "markdown",
   "metadata": {},
   "source": [
    "### .unique()\n",
    "`.unique()` returns a list of unique items in a Pandas Series."
   ]
  },
  {
   "cell_type": "code",
   "execution_count": 9,
   "metadata": {},
   "outputs": [
    {
     "data": {
      "text/plain": [
       "array([10025, 10002, 10029])"
      ]
     },
     "execution_count": 9,
     "metadata": {},
     "output_type": "execute_result"
    }
   ],
   "source": [
    "# Get the unique values in searched_zipcode\n",
    "new_york_df['searched_zipcode'].unique()"
   ]
  },
  {
   "cell_type": "markdown",
   "metadata": {},
   "source": [
    "### .groupby()\n",
    "`.groupby()` groups the dataframe based on a certain feature. It needs to be paired with another function such as `.sum()` or `.count()`. The parameter `by` takes in a string or list. If it's a list, the order of features matters."
   ]
  },
  {
   "cell_type": "code",
   "execution_count": 10,
   "metadata": {},
   "outputs": [
    {
     "data": {
      "text/plain": [
       "<pandas.core.groupby.groupby.DataFrameGroupBy object at 0x12bd47cd0>"
      ]
     },
     "execution_count": 10,
     "metadata": {},
     "output_type": "execute_result"
    }
   ],
   "source": [
    "# .groupby() alone doesn't help\n",
    "df_large.groupby(by = ['city'])"
   ]
  },
  {
   "cell_type": "code",
   "execution_count": 11,
   "metadata": {
    "scrolled": true
   },
   "outputs": [
    {
     "data": {
      "text/html": [
       "<div>\n",
       "<style scoped>\n",
       "    .dataframe tbody tr th:only-of-type {\n",
       "        vertical-align: middle;\n",
       "    }\n",
       "\n",
       "    .dataframe tbody tr th {\n",
       "        vertical-align: top;\n",
       "    }\n",
       "\n",
       "    .dataframe thead th {\n",
       "        text-align: right;\n",
       "    }\n",
       "</style>\n",
       "<table border=\"1\" class=\"dataframe\">\n",
       "  <thead>\n",
       "    <tr style=\"text-align: right;\">\n",
       "      <th></th>\n",
       "      <th></th>\n",
       "      <th>url</th>\n",
       "      <th>content</th>\n",
       "    </tr>\n",
       "    <tr>\n",
       "      <th>city</th>\n",
       "      <th>searched_zipcode</th>\n",
       "      <th></th>\n",
       "      <th></th>\n",
       "    </tr>\n",
       "  </thead>\n",
       "  <tbody>\n",
       "    <tr>\n",
       "      <th>Albuquerque</th>\n",
       "      <th>87121</th>\n",
       "      <td>145</td>\n",
       "      <td>145</td>\n",
       "    </tr>\n",
       "    <tr>\n",
       "      <th>Atlanta</th>\n",
       "      <th>30349</th>\n",
       "      <td>1039</td>\n",
       "      <td>1039</td>\n",
       "    </tr>\n",
       "    <tr>\n",
       "      <th>Bakersfield</th>\n",
       "      <th>93307</th>\n",
       "      <td>2462</td>\n",
       "      <td>2462</td>\n",
       "    </tr>\n",
       "    <tr>\n",
       "      <th>Brownsville</th>\n",
       "      <th>78521</th>\n",
       "      <td>133</td>\n",
       "      <td>133</td>\n",
       "    </tr>\n",
       "    <tr>\n",
       "      <th>Charlotte</th>\n",
       "      <th>28269</th>\n",
       "      <td>1311</td>\n",
       "      <td>1311</td>\n",
       "    </tr>\n",
       "    <tr>\n",
       "      <th rowspan=\"5\" valign=\"top\">Chicago</th>\n",
       "      <th>60617</th>\n",
       "      <td>1005</td>\n",
       "      <td>1005</td>\n",
       "    </tr>\n",
       "    <tr>\n",
       "      <th>60618</th>\n",
       "      <td>994</td>\n",
       "      <td>994</td>\n",
       "    </tr>\n",
       "    <tr>\n",
       "      <th>60625</th>\n",
       "      <td>993</td>\n",
       "      <td>993</td>\n",
       "    </tr>\n",
       "    <tr>\n",
       "      <th>60629</th>\n",
       "      <td>1004</td>\n",
       "      <td>1004</td>\n",
       "    </tr>\n",
       "    <tr>\n",
       "      <th>60647</th>\n",
       "      <td>994</td>\n",
       "      <td>994</td>\n",
       "    </tr>\n",
       "    <tr>\n",
       "      <th rowspan=\"2\" valign=\"top\">Dallas</th>\n",
       "      <th>75211</th>\n",
       "      <td>1159</td>\n",
       "      <td>1159</td>\n",
       "    </tr>\n",
       "    <tr>\n",
       "      <th>75217</th>\n",
       "      <td>1143</td>\n",
       "      <td>1143</td>\n",
       "    </tr>\n",
       "    <tr>\n",
       "      <th rowspan=\"2\" valign=\"top\">ElPaso</th>\n",
       "      <th>79912</th>\n",
       "      <td>92</td>\n",
       "      <td>92</td>\n",
       "    </tr>\n",
       "    <tr>\n",
       "      <th>79936</th>\n",
       "      <td>92</td>\n",
       "      <td>92</td>\n",
       "    </tr>\n",
       "    <tr>\n",
       "      <th>Fresno</th>\n",
       "      <th>93722</th>\n",
       "      <td>1667</td>\n",
       "      <td>1667</td>\n",
       "    </tr>\n",
       "    <tr>\n",
       "      <th rowspan=\"3\" valign=\"top\">Houston</th>\n",
       "      <th>77036</th>\n",
       "      <td>1193</td>\n",
       "      <td>1193</td>\n",
       "    </tr>\n",
       "    <tr>\n",
       "      <th>77083</th>\n",
       "      <td>1190</td>\n",
       "      <td>1190</td>\n",
       "    </tr>\n",
       "    <tr>\n",
       "      <th>77084</th>\n",
       "      <td>1197</td>\n",
       "      <td>1197</td>\n",
       "    </tr>\n",
       "    <tr>\n",
       "      <th>Lancaster</th>\n",
       "      <th>93535</th>\n",
       "      <td>6</td>\n",
       "      <td>6</td>\n",
       "    </tr>\n",
       "    <tr>\n",
       "      <th>LasVegas</th>\n",
       "      <th>89110</th>\n",
       "      <td>501</td>\n",
       "      <td>501</td>\n",
       "    </tr>\n",
       "    <tr>\n",
       "      <th rowspan=\"2\" valign=\"top\">LosAngeles</th>\n",
       "      <th>90011</th>\n",
       "      <td>2641</td>\n",
       "      <td>2641</td>\n",
       "    </tr>\n",
       "    <tr>\n",
       "      <th>90044</th>\n",
       "      <td>2641</td>\n",
       "      <td>2641</td>\n",
       "    </tr>\n",
       "    <tr>\n",
       "      <th>Nashville</th>\n",
       "      <th>37211</th>\n",
       "      <td>673</td>\n",
       "      <td>673</td>\n",
       "    </tr>\n",
       "    <tr>\n",
       "      <th rowspan=\"3\" valign=\"top\">NewYork</th>\n",
       "      <th>10002</th>\n",
       "      <td>3000</td>\n",
       "      <td>3000</td>\n",
       "    </tr>\n",
       "    <tr>\n",
       "      <th>10025</th>\n",
       "      <td>3000</td>\n",
       "      <td>3000</td>\n",
       "    </tr>\n",
       "    <tr>\n",
       "      <th>10029</th>\n",
       "      <td>3000</td>\n",
       "      <td>3000</td>\n",
       "    </tr>\n",
       "    <tr>\n",
       "      <th>Sacramento</th>\n",
       "      <th>95823</th>\n",
       "      <td>1482</td>\n",
       "      <td>1482</td>\n",
       "    </tr>\n",
       "    <tr>\n",
       "      <th>SanDiego</th>\n",
       "      <th>92154</th>\n",
       "      <td>2473</td>\n",
       "      <td>2473</td>\n",
       "    </tr>\n",
       "    <tr>\n",
       "      <th>Yuma</th>\n",
       "      <th>85364</th>\n",
       "      <td>1682</td>\n",
       "      <td>1682</td>\n",
       "    </tr>\n",
       "  </tbody>\n",
       "</table>\n",
       "</div>"
      ],
      "text/plain": [
       "                               url  content\n",
       "city        searched_zipcode               \n",
       "Albuquerque 87121              145      145\n",
       "Atlanta     30349             1039     1039\n",
       "Bakersfield 93307             2462     2462\n",
       "Brownsville 78521              133      133\n",
       "Charlotte   28269             1311     1311\n",
       "Chicago     60617             1005     1005\n",
       "            60618              994      994\n",
       "            60625              993      993\n",
       "            60629             1004     1004\n",
       "            60647              994      994\n",
       "Dallas      75211             1159     1159\n",
       "            75217             1143     1143\n",
       "ElPaso      79912               92       92\n",
       "            79936               92       92\n",
       "Fresno      93722             1667     1667\n",
       "Houston     77036             1193     1193\n",
       "            77083             1190     1190\n",
       "            77084             1197     1197\n",
       "Lancaster   93535                6        6\n",
       "LasVegas    89110              501      501\n",
       "LosAngeles  90011             2641     2641\n",
       "            90044             2641     2641\n",
       "Nashville   37211              673      673\n",
       "NewYork     10002             3000     3000\n",
       "            10025             3000     3000\n",
       "            10029             3000     3000\n",
       "Sacramento  95823             1482     1482\n",
       "SanDiego    92154             2473     2473\n",
       "Yuma        85364             1682     1682"
      ]
     },
     "execution_count": 11,
     "metadata": {},
     "output_type": "execute_result"
    }
   ],
   "source": [
    "# Group by city and then searched_zipcode\n",
    "df_large.groupby(by = ['city', 'searched_zipcode']).count()"
   ]
  },
  {
   "cell_type": "code",
   "execution_count": 12,
   "metadata": {
    "scrolled": true
   },
   "outputs": [
    {
     "data": {
      "text/html": [
       "<div>\n",
       "<style scoped>\n",
       "    .dataframe tbody tr th:only-of-type {\n",
       "        vertical-align: middle;\n",
       "    }\n",
       "\n",
       "    .dataframe tbody tr th {\n",
       "        vertical-align: top;\n",
       "    }\n",
       "\n",
       "    .dataframe thead th {\n",
       "        text-align: right;\n",
       "    }\n",
       "</style>\n",
       "<table border=\"1\" class=\"dataframe\">\n",
       "  <thead>\n",
       "    <tr style=\"text-align: right;\">\n",
       "      <th></th>\n",
       "      <th></th>\n",
       "      <th>url</th>\n",
       "      <th>content</th>\n",
       "    </tr>\n",
       "    <tr>\n",
       "      <th>searched_zipcode</th>\n",
       "      <th>city</th>\n",
       "      <th></th>\n",
       "      <th></th>\n",
       "    </tr>\n",
       "  </thead>\n",
       "  <tbody>\n",
       "    <tr>\n",
       "      <th>10002</th>\n",
       "      <th>NewYork</th>\n",
       "      <td>3000</td>\n",
       "      <td>3000</td>\n",
       "    </tr>\n",
       "    <tr>\n",
       "      <th>10025</th>\n",
       "      <th>NewYork</th>\n",
       "      <td>3000</td>\n",
       "      <td>3000</td>\n",
       "    </tr>\n",
       "    <tr>\n",
       "      <th>10029</th>\n",
       "      <th>NewYork</th>\n",
       "      <td>3000</td>\n",
       "      <td>3000</td>\n",
       "    </tr>\n",
       "    <tr>\n",
       "      <th>28269</th>\n",
       "      <th>Charlotte</th>\n",
       "      <td>1311</td>\n",
       "      <td>1311</td>\n",
       "    </tr>\n",
       "    <tr>\n",
       "      <th>30349</th>\n",
       "      <th>Atlanta</th>\n",
       "      <td>1039</td>\n",
       "      <td>1039</td>\n",
       "    </tr>\n",
       "    <tr>\n",
       "      <th>37211</th>\n",
       "      <th>Nashville</th>\n",
       "      <td>673</td>\n",
       "      <td>673</td>\n",
       "    </tr>\n",
       "    <tr>\n",
       "      <th>60617</th>\n",
       "      <th>Chicago</th>\n",
       "      <td>1005</td>\n",
       "      <td>1005</td>\n",
       "    </tr>\n",
       "    <tr>\n",
       "      <th>60618</th>\n",
       "      <th>Chicago</th>\n",
       "      <td>994</td>\n",
       "      <td>994</td>\n",
       "    </tr>\n",
       "    <tr>\n",
       "      <th>60625</th>\n",
       "      <th>Chicago</th>\n",
       "      <td>993</td>\n",
       "      <td>993</td>\n",
       "    </tr>\n",
       "    <tr>\n",
       "      <th>60629</th>\n",
       "      <th>Chicago</th>\n",
       "      <td>1004</td>\n",
       "      <td>1004</td>\n",
       "    </tr>\n",
       "    <tr>\n",
       "      <th>60647</th>\n",
       "      <th>Chicago</th>\n",
       "      <td>994</td>\n",
       "      <td>994</td>\n",
       "    </tr>\n",
       "    <tr>\n",
       "      <th>75211</th>\n",
       "      <th>Dallas</th>\n",
       "      <td>1159</td>\n",
       "      <td>1159</td>\n",
       "    </tr>\n",
       "    <tr>\n",
       "      <th>75217</th>\n",
       "      <th>Dallas</th>\n",
       "      <td>1143</td>\n",
       "      <td>1143</td>\n",
       "    </tr>\n",
       "    <tr>\n",
       "      <th>77036</th>\n",
       "      <th>Houston</th>\n",
       "      <td>1193</td>\n",
       "      <td>1193</td>\n",
       "    </tr>\n",
       "    <tr>\n",
       "      <th>77083</th>\n",
       "      <th>Houston</th>\n",
       "      <td>1190</td>\n",
       "      <td>1190</td>\n",
       "    </tr>\n",
       "    <tr>\n",
       "      <th>77084</th>\n",
       "      <th>Houston</th>\n",
       "      <td>1197</td>\n",
       "      <td>1197</td>\n",
       "    </tr>\n",
       "    <tr>\n",
       "      <th>78521</th>\n",
       "      <th>Brownsville</th>\n",
       "      <td>133</td>\n",
       "      <td>133</td>\n",
       "    </tr>\n",
       "    <tr>\n",
       "      <th>79912</th>\n",
       "      <th>ElPaso</th>\n",
       "      <td>92</td>\n",
       "      <td>92</td>\n",
       "    </tr>\n",
       "    <tr>\n",
       "      <th>79936</th>\n",
       "      <th>ElPaso</th>\n",
       "      <td>92</td>\n",
       "      <td>92</td>\n",
       "    </tr>\n",
       "    <tr>\n",
       "      <th>85364</th>\n",
       "      <th>Yuma</th>\n",
       "      <td>1682</td>\n",
       "      <td>1682</td>\n",
       "    </tr>\n",
       "    <tr>\n",
       "      <th>87121</th>\n",
       "      <th>Albuquerque</th>\n",
       "      <td>145</td>\n",
       "      <td>145</td>\n",
       "    </tr>\n",
       "    <tr>\n",
       "      <th>89110</th>\n",
       "      <th>LasVegas</th>\n",
       "      <td>501</td>\n",
       "      <td>501</td>\n",
       "    </tr>\n",
       "    <tr>\n",
       "      <th>90011</th>\n",
       "      <th>LosAngeles</th>\n",
       "      <td>2641</td>\n",
       "      <td>2641</td>\n",
       "    </tr>\n",
       "    <tr>\n",
       "      <th>90044</th>\n",
       "      <th>LosAngeles</th>\n",
       "      <td>2641</td>\n",
       "      <td>2641</td>\n",
       "    </tr>\n",
       "    <tr>\n",
       "      <th>92154</th>\n",
       "      <th>SanDiego</th>\n",
       "      <td>2473</td>\n",
       "      <td>2473</td>\n",
       "    </tr>\n",
       "    <tr>\n",
       "      <th>93307</th>\n",
       "      <th>Bakersfield</th>\n",
       "      <td>2462</td>\n",
       "      <td>2462</td>\n",
       "    </tr>\n",
       "    <tr>\n",
       "      <th>93535</th>\n",
       "      <th>Lancaster</th>\n",
       "      <td>6</td>\n",
       "      <td>6</td>\n",
       "    </tr>\n",
       "    <tr>\n",
       "      <th>93722</th>\n",
       "      <th>Fresno</th>\n",
       "      <td>1667</td>\n",
       "      <td>1667</td>\n",
       "    </tr>\n",
       "    <tr>\n",
       "      <th>95823</th>\n",
       "      <th>Sacramento</th>\n",
       "      <td>1482</td>\n",
       "      <td>1482</td>\n",
       "    </tr>\n",
       "  </tbody>\n",
       "</table>\n",
       "</div>"
      ],
      "text/plain": [
       "                               url  content\n",
       "searched_zipcode city                      \n",
       "10002            NewYork      3000     3000\n",
       "10025            NewYork      3000     3000\n",
       "10029            NewYork      3000     3000\n",
       "28269            Charlotte    1311     1311\n",
       "30349            Atlanta      1039     1039\n",
       "37211            Nashville     673      673\n",
       "60617            Chicago      1005     1005\n",
       "60618            Chicago       994      994\n",
       "60625            Chicago       993      993\n",
       "60629            Chicago      1004     1004\n",
       "60647            Chicago       994      994\n",
       "75211            Dallas       1159     1159\n",
       "75217            Dallas       1143     1143\n",
       "77036            Houston      1193     1193\n",
       "77083            Houston      1190     1190\n",
       "77084            Houston      1197     1197\n",
       "78521            Brownsville   133      133\n",
       "79912            ElPaso         92       92\n",
       "79936            ElPaso         92       92\n",
       "85364            Yuma         1682     1682\n",
       "87121            Albuquerque   145      145\n",
       "89110            LasVegas      501      501\n",
       "90011            LosAngeles   2641     2641\n",
       "90044            LosAngeles   2641     2641\n",
       "92154            SanDiego     2473     2473\n",
       "93307            Bakersfield  2462     2462\n",
       "93535            Lancaster       6        6\n",
       "93722            Fresno       1667     1667\n",
       "95823            Sacramento   1482     1482"
      ]
     },
     "execution_count": 12,
     "metadata": {},
     "output_type": "execute_result"
    }
   ],
   "source": [
    "# Group by searched_zipcode then city\n",
    "df_large.groupby(by = ['searched_zipcode', 'city']).count()"
   ]
  },
  {
   "cell_type": "markdown",
   "metadata": {},
   "source": [
    "This example doesn't make sense because we know that each zip code only pertains to one city. However, it is important if you want to show certain relationships of features that don't depend on each other. If you have a dataset of vehicle registration, you can present the data grouped by `city` then `car model` to see what models are popular in certain cities or grouped by `car model` then `city` to see what city has a higher count of certain car model."
   ]
  },
  {
   "cell_type": "markdown",
   "metadata": {},
   "source": [
    "# Handling Text Data\n",
    "## Python String"
   ]
  },
  {
   "cell_type": "code",
   "execution_count": 13,
   "metadata": {},
   "outputs": [
    {
     "name": "stdout",
     "output_type": "stream",
     "text": [
      "[nltk_data] Downloading package punkt to\n",
      "[nltk_data]     /Users/princemallari/nltk_data...\n",
      "[nltk_data]   Package punkt is already up-to-date!\n"
     ]
    },
    {
     "data": {
      "text/plain": [
       "True"
      ]
     },
     "execution_count": 13,
     "metadata": {},
     "output_type": "execute_result"
    }
   ],
   "source": [
    "import string\n",
    "import re\n",
    "import nltk\n",
    "\n",
    "# Download nltk model if it doesn't exist\n",
    "nltk.download('punkt')"
   ]
  },
  {
   "cell_type": "markdown",
   "metadata": {},
   "source": [
    "Now we take a look at how we can clean and work with text data. We'll start with the urls first to get a better understanding of how we can use python to handle text."
   ]
  },
  {
   "cell_type": "code",
   "execution_count": 14,
   "metadata": {},
   "outputs": [
    {
     "data": {
      "text/plain": [
       "'https://lascruces.craigslist.org/res/d/in-need-of-employment/6943802725.html'"
      ]
     },
     "execution_count": 14,
     "metadata": {},
     "output_type": "execute_result"
    }
   ],
   "source": [
    "# Get 'random' url\n",
    "sample_url = df_large['url'][42]\n",
    "sample_url"
   ]
  },
  {
   "cell_type": "markdown",
   "metadata": {},
   "source": [
    "### .split()\n",
    "`.split()` splits the string based on the character inside the function. If left blank, it will split it based on white space."
   ]
  },
  {
   "cell_type": "code",
   "execution_count": 15,
   "metadata": {},
   "outputs": [
    {
     "data": {
      "text/plain": [
       "['My', 'name', 'is', 'Prince']"
      ]
     },
     "execution_count": 15,
     "metadata": {},
     "output_type": "execute_result"
    }
   ],
   "source": [
    "# Split by white space\n",
    "random_text = \"My    \\t\\t\\t\\tname is    \\n   Prince\"\n",
    "random_text.split()"
   ]
  },
  {
   "cell_type": "code",
   "execution_count": 16,
   "metadata": {},
   "outputs": [
    {
     "data": {
      "text/plain": [
       "['https:',\n",
       " '',\n",
       " 'lascruces.craigslist.org',\n",
       " 'res',\n",
       " 'd',\n",
       " 'in-need-of-employment',\n",
       " '6943802725.html']"
      ]
     },
     "execution_count": 16,
     "metadata": {},
     "output_type": "execute_result"
    }
   ],
   "source": [
    "# Split string based on the '/' character\n",
    "url_split = sample_url.split('/')\n",
    "url_split"
   ]
  },
  {
   "cell_type": "markdown",
   "metadata": {},
   "source": [
    "The text of interest here is on the 3rd and 2nd to the last elements of the array."
   ]
  },
  {
   "cell_type": "code",
   "execution_count": 17,
   "metadata": {},
   "outputs": [
    {
     "name": "stdout",
     "output_type": "stream",
     "text": [
      "The website is 'lascruces.craigslist.org' and the type of employment is 'in-need-of-employment'\n"
     ]
    }
   ],
   "source": [
    "domain_website = url_split[2]\n",
    "type_of_employ = url_split[-2]\n",
    "\n",
    "print(f\"The website is '{domain_website}' and the type of employment is '{type_of_employ}'\")"
   ]
  },
  {
   "cell_type": "markdown",
   "metadata": {},
   "source": [
    "Now we need to parse the domain website to focus on the region the website is focused on. We can split the string based on the `/` character."
   ]
  },
  {
   "cell_type": "code",
   "execution_count": 18,
   "metadata": {},
   "outputs": [
    {
     "data": {
      "text/plain": [
       "['lascruces', 'craigslist', 'org']"
      ]
     },
     "execution_count": 18,
     "metadata": {},
     "output_type": "execute_result"
    }
   ],
   "source": [
    "domain_split = domain_website.split('.')\n",
    "domain_split"
   ]
  },
  {
   "cell_type": "markdown",
   "metadata": {},
   "source": [
    "### Re\n",
    "`re` is short for regex and it's a powerful tool in using regular expressions to extract data."
   ]
  },
  {
   "cell_type": "code",
   "execution_count": 19,
   "metadata": {},
   "outputs": [
    {
     "data": {
      "text/plain": [
       "'https://lascruces.craigslist.org/res/d/in-need-of-employment/6943802725.html'"
      ]
     },
     "execution_count": 19,
     "metadata": {},
     "output_type": "execute_result"
    }
   ],
   "source": [
    "sample_url"
   ]
  },
  {
   "cell_type": "code",
   "execution_count": 20,
   "metadata": {},
   "outputs": [
    {
     "data": {
      "text/plain": [
       "['lascruces']"
      ]
     },
     "execution_count": 20,
     "metadata": {},
     "output_type": "execute_result"
    }
   ],
   "source": [
    "re.findall(\"//(.*?).craigslist\", sample_url)"
   ]
  },
  {
   "cell_type": "code",
   "execution_count": 21,
   "metadata": {},
   "outputs": [
    {
     "data": {
      "text/plain": [
       "['', 'res', 'in-need-of-employment']"
      ]
     },
     "execution_count": 21,
     "metadata": {},
     "output_type": "execute_result"
    }
   ],
   "source": [
    "re.findall(\"/(.*?)/\", sample_url)"
   ]
  },
  {
   "cell_type": "markdown",
   "metadata": {},
   "source": [
    "Find specific characters inside a complicated string"
   ]
  },
  {
   "cell_type": "code",
   "execution_count": 22,
   "metadata": {},
   "outputs": [],
   "source": [
    "random_text = \"Hello123world324.<>$%@#T123..23.4.55,!\""
   ]
  },
  {
   "cell_type": "code",
   "execution_count": 23,
   "metadata": {},
   "outputs": [
    {
     "data": {
      "text/plain": [
       "['123', '324', '123', '23', '4', '55']"
      ]
     },
     "execution_count": 23,
     "metadata": {},
     "output_type": "execute_result"
    }
   ],
   "source": [
    "# all numbers\n",
    "re.findall('[0-9]+', random_text)"
   ]
  },
  {
   "cell_type": "code",
   "execution_count": 24,
   "metadata": {},
   "outputs": [
    {
     "data": {
      "text/plain": [
       "['ello', 'world']"
      ]
     },
     "execution_count": 24,
     "metadata": {},
     "output_type": "execute_result"
    }
   ],
   "source": [
    "# all lowercase letters\n",
    "re.findall('[a-z]+', random_text)"
   ]
  },
  {
   "cell_type": "code",
   "execution_count": 25,
   "metadata": {},
   "outputs": [
    {
     "data": {
      "text/plain": [
       "['H', 'T']"
      ]
     },
     "execution_count": 25,
     "metadata": {},
     "output_type": "execute_result"
    }
   ],
   "source": [
    "# all uppercase letters\n",
    "re.findall('[A-Z]+', random_text)"
   ]
  },
  {
   "cell_type": "code",
   "execution_count": 26,
   "metadata": {},
   "outputs": [
    {
     "data": {
      "text/plain": [
       "['Hello', 'world', 'T']"
      ]
     },
     "execution_count": 26,
     "metadata": {},
     "output_type": "execute_result"
    }
   ],
   "source": [
    "# All letters\n",
    "re.findall('[a-zA-Z]+', random_text)"
   ]
  },
  {
   "cell_type": "code",
   "execution_count": 27,
   "metadata": {},
   "outputs": [
    {
     "data": {
      "text/plain": [
       "['Hello123world324', 'T123', '23', '4', '55']"
      ]
     },
     "execution_count": 27,
     "metadata": {},
     "output_type": "execute_result"
    }
   ],
   "source": [
    "# All alphanumeric characters\n",
    "re.findall('[a-zA-Z0-9]+', random_text)"
   ]
  },
  {
   "cell_type": "code",
   "execution_count": 28,
   "metadata": {},
   "outputs": [
    {
     "name": "stdout",
     "output_type": "stream",
     "text": [
      "!\"#$%&'()*+,-./:;<=>?@[\\]^_`{|}~\n"
     ]
    },
    {
     "data": {
      "text/plain": [
       "['.<>$%@#', '..', '.', '.', ',!']"
      ]
     },
     "execution_count": 28,
     "metadata": {},
     "output_type": "execute_result"
    }
   ],
   "source": [
    "# All punctuations\n",
    "print(f\"{string.punctuation}\") # a nifty way of listing all punctuations\n",
    "re.findall(f\"[{string.punctuation}]+\", random_text)"
   ]
  },
  {
   "cell_type": "markdown",
   "metadata": {},
   "source": [
    "And we can get the first item as our region.\n",
    "\n",
    "Now it would be inefficient for us to run this one by one for each of our data points. We can use the `.map()` of the pandas dataframe to map a function to our dataset but we have to write out the function first. We'll write a function for getting the region, and we'll write a function that will get the type of employment."
   ]
  },
  {
   "cell_type": "code",
   "execution_count": 29,
   "metadata": {},
   "outputs": [],
   "source": [
    "def get_region(url):\n",
    "    # Split the url based on the '/' character\n",
    "    url_split = url.split('/')\n",
    "    # Get the website string from the array\n",
    "    domain_website = url_split[2]\n",
    "    # Split the website string based on the '.' character\n",
    "    domain_split = domain_website.split('.')\n",
    "    # Get the region\n",
    "    region = domain_split[0]\n",
    "    # Return region\n",
    "    return region\n",
    "\n",
    "def get_type_employment(url):\n",
    "    # Split the url based on the '/' character\n",
    "    url_split = url.split('/')\n",
    "    # Get the employment type\n",
    "    employment_type = url_split[-2]\n",
    "    # Return employment type\n",
    "    return employment_type"
   ]
  },
  {
   "cell_type": "code",
   "execution_count": 30,
   "metadata": {},
   "outputs": [
    {
     "name": "stdout",
     "output_type": "stream",
     "text": [
      "https://lascruces.craigslist.org/res/d/in-need-of-employment/6943802725.html\n",
      "Region: \t\tlascruces\n",
      "Employment type: \tin-need-of-employment\n"
     ]
    }
   ],
   "source": [
    "# Test our function\n",
    "print(sample_url)\n",
    "print(f\"Region: \\t\\t{get_region(sample_url)}\")\n",
    "print(f\"Employment type: \\t{get_type_employment(sample_url)}\")"
   ]
  },
  {
   "cell_type": "code",
   "execution_count": 31,
   "metadata": {},
   "outputs": [],
   "source": [
    "# Create a copy of the dataframe\n",
    "df_large_copy = df_large"
   ]
  },
  {
   "cell_type": "markdown",
   "metadata": {},
   "source": [
    "We can now create two new features for a dataset based on the data we extracted from the url."
   ]
  },
  {
   "cell_type": "code",
   "execution_count": 32,
   "metadata": {},
   "outputs": [
    {
     "data": {
      "text/html": [
       "<div>\n",
       "<style scoped>\n",
       "    .dataframe tbody tr th:only-of-type {\n",
       "        vertical-align: middle;\n",
       "    }\n",
       "\n",
       "    .dataframe tbody tr th {\n",
       "        vertical-align: top;\n",
       "    }\n",
       "\n",
       "    .dataframe thead th {\n",
       "        text-align: right;\n",
       "    }\n",
       "</style>\n",
       "<table border=\"1\" class=\"dataframe\">\n",
       "  <thead>\n",
       "    <tr style=\"text-align: right;\">\n",
       "      <th></th>\n",
       "      <th>city</th>\n",
       "      <th>searched_zipcode</th>\n",
       "      <th>url</th>\n",
       "      <th>content</th>\n",
       "      <th>region</th>\n",
       "      <th>type of employment</th>\n",
       "    </tr>\n",
       "  </thead>\n",
       "  <tbody>\n",
       "    <tr>\n",
       "      <th>0</th>\n",
       "      <td>ElPaso</td>\n",
       "      <td>79936</td>\n",
       "      <td>https://elpaso.craigslist.org/res/d/profession...</td>\n",
       "      <td>Reliable well organized professional with stro...</td>\n",
       "      <td>elpaso</td>\n",
       "      <td>professional-talented-and-energetic</td>\n",
       "    </tr>\n",
       "    <tr>\n",
       "      <th>1</th>\n",
       "      <td>ElPaso</td>\n",
       "      <td>79936</td>\n",
       "      <td>https://elpaso.craigslist.org/res/d/outbound-r...</td>\n",
       "      <td>ASIDE FROM WORD OF MOUTH OR FACE TO FACE , COL...</td>\n",
       "      <td>elpaso</td>\n",
       "      <td>outbound-retention-specialist</td>\n",
       "    </tr>\n",
       "    <tr>\n",
       "      <th>2</th>\n",
       "      <td>ElPaso</td>\n",
       "      <td>79936</td>\n",
       "      <td>https://elpaso.craigslist.org/res/d/looking-fo...</td>\n",
       "      <td>I DO BEST RESUMES IN TOWN.\\n\\nI AM TECHNICAL W...</td>\n",
       "      <td>elpaso</td>\n",
       "      <td>looking-for-new-career-move-you-need</td>\n",
       "    </tr>\n",
       "    <tr>\n",
       "      <th>3</th>\n",
       "      <td>ElPaso</td>\n",
       "      <td>79936</td>\n",
       "      <td>https://elpaso.craigslist.org/res/d/im-looking...</td>\n",
       "      <td>hola busco trabajo vivo para el east,me urge u...</td>\n",
       "      <td>elpaso</td>\n",
       "      <td>im-looking-for-work</td>\n",
       "    </tr>\n",
       "    <tr>\n",
       "      <th>4</th>\n",
       "      <td>ElPaso</td>\n",
       "      <td>79936</td>\n",
       "      <td>https://elpaso.craigslist.org/res/d/yard-work/...</td>\n",
       "      <td>Contact me to clean your yard today! Front and...</td>\n",
       "      <td>elpaso</td>\n",
       "      <td>yard-work</td>\n",
       "    </tr>\n",
       "  </tbody>\n",
       "</table>\n",
       "</div>"
      ],
      "text/plain": [
       "     city  searched_zipcode  \\\n",
       "0  ElPaso             79936   \n",
       "1  ElPaso             79936   \n",
       "2  ElPaso             79936   \n",
       "3  ElPaso             79936   \n",
       "4  ElPaso             79936   \n",
       "\n",
       "                                                 url  \\\n",
       "0  https://elpaso.craigslist.org/res/d/profession...   \n",
       "1  https://elpaso.craigslist.org/res/d/outbound-r...   \n",
       "2  https://elpaso.craigslist.org/res/d/looking-fo...   \n",
       "3  https://elpaso.craigslist.org/res/d/im-looking...   \n",
       "4  https://elpaso.craigslist.org/res/d/yard-work/...   \n",
       "\n",
       "                                             content  region  \\\n",
       "0  Reliable well organized professional with stro...  elpaso   \n",
       "1  ASIDE FROM WORD OF MOUTH OR FACE TO FACE , COL...  elpaso   \n",
       "2  I DO BEST RESUMES IN TOWN.\\n\\nI AM TECHNICAL W...  elpaso   \n",
       "3  hola busco trabajo vivo para el east,me urge u...  elpaso   \n",
       "4  Contact me to clean your yard today! Front and...  elpaso   \n",
       "\n",
       "                     type of employment  \n",
       "0   professional-talented-and-energetic  \n",
       "1         outbound-retention-specialist  \n",
       "2  looking-for-new-career-move-you-need  \n",
       "3                   im-looking-for-work  \n",
       "4                             yard-work  "
      ]
     },
     "execution_count": 32,
     "metadata": {},
     "output_type": "execute_result"
    }
   ],
   "source": [
    "# Map our function and assign the output to a new column\n",
    "df_large_copy['region'] = df_large_copy['url'].map(get_region)\n",
    "df_large_copy['type of employment'] = df_large_copy['url'].map(get_type_employment)\n",
    "df_large_copy.head()"
   ]
  },
  {
   "cell_type": "markdown",
   "metadata": {},
   "source": [
    "Let's try to take a look at the the content and see if we can extract unique informations from it."
   ]
  },
  {
   "cell_type": "code",
   "execution_count": 170,
   "metadata": {},
   "outputs": [
    {
     "data": {
      "text/plain": [
       "'I DO BEST RESUMES IN TOWN.\\n\\nI AM TECHNICAL WRITER FROM UTEP\\n\\nIF YOU WANT A NEW JOB OR CAREER CHANGE AND NOT GOING ANYWHERE, ITS NOT YOU, ITS YOUR RESUME\\n\\nLET ME HELP YOU GET YOU NEW CAREER OPPORTUNITY\\n\\nMY RESUMES ARE NOT GENERIC, ALL PROFESSIONAL AND TECHNICAL WRITING ONE\\n\\nSEND ME AN EMAIL YO GET YOU ON YOUR WAY'"
      ]
     },
     "execution_count": 170,
     "metadata": {},
     "output_type": "execute_result"
    }
   ],
   "source": [
    "# Get 'random' content\n",
    "sample_content = df_large['content'][2]\n",
    "sample_content"
   ]
  },
  {
   "cell_type": "markdown",
   "metadata": {},
   "source": [
    "We can try to split the content into sentences however, we know that '.' will not always work. There will be words that will have '.' with them such as 'Mr.', 'Ms.', 'Dr.', and more. We also notice some characters that don't make sense such `\\n`. For this, we will rely with a popular python library called `nltk` which will help us parse the content into sentences and `re` for text regex."
   ]
  },
  {
   "cell_type": "markdown",
   "metadata": {},
   "source": [
    "`re` allows us to use regex expressions to substitute certain characters or phrases in our data. We can remove the `\\n` using `re.sub()` function."
   ]
  },
  {
   "cell_type": "code",
   "execution_count": 35,
   "metadata": {},
   "outputs": [
    {
     "data": {
      "text/plain": [
       "'I DO BEST RESUMES IN TOWN.. I AM TECHNICAL WRITER FROM UTEP. IF YOU WANT A NEW JOB OR CAREER CHANGE AND NOT GOING ANYWHERE, ITS NOT YOU, ITS YOUR RESUME. LET ME HELP YOU GET YOU NEW CAREER OPPORTUNITY. MY RESUMES ARE NOT GENERIC, ALL PROFESSIONAL AND TECHNICAL WRITING ONE. SEND ME AN EMAIL YO GET YOU ON YOUR WAY'"
      ]
     },
     "execution_count": 35,
     "metadata": {},
     "output_type": "execute_result"
    }
   ],
   "source": [
    "# re.sub(old_text, new_text, original_text)\n",
    "# the \"\\n+\" allows us to replace \\n's that repeat multiple times consecutively.\n",
    "# as you will notice, \\n is repeated twice everytime it shows up but that doesn't necessarily happen\n",
    "# to other data points\n",
    "\n",
    "# remove next lines\n",
    "clean = re.sub(\"\\n+\", \". \", sample_content)\n",
    "# remove tabs\n",
    "clean = re.sub(\"\\t+\", \". \", clean)\n",
    "clean"
   ]
  },
  {
   "cell_type": "markdown",
   "metadata": {},
   "source": [
    "Alternatively, you can also use the string function `.replace()` but it doesn't give you as much flexibility as a regex function."
   ]
  },
  {
   "cell_type": "code",
   "execution_count": 36,
   "metadata": {},
   "outputs": [
    {
     "data": {
      "text/plain": [
       "'I DO BEST RESUMES IN TOWN.. . I AM TECHNICAL WRITER FROM UTEP. . IF YOU WANT A NEW JOB OR CAREER CHANGE AND NOT GOING ANYWHERE, ITS NOT YOU, ITS YOUR RESUME. . LET ME HELP YOU GET YOU NEW CAREER OPPORTUNITY. . MY RESUMES ARE NOT GENERIC, ALL PROFESSIONAL AND TECHNICAL WRITING ONE. . SEND ME AN EMAIL YO GET YOU ON YOUR WAY'"
      ]
     },
     "execution_count": 36,
     "metadata": {},
     "output_type": "execute_result"
    }
   ],
   "source": [
    "sample_content.replace('\\n', '. ')"
   ]
  },
  {
   "cell_type": "markdown",
   "metadata": {},
   "source": [
    "With the cleaned text, we can now parse the information to sentences. We use `nltk.sent_tokenize()` for this."
   ]
  },
  {
   "cell_type": "code",
   "execution_count": 37,
   "metadata": {},
   "outputs": [
    {
     "data": {
      "text/plain": [
       "['I DO BEST RESUMES IN TOWN..',\n",
       " 'I AM TECHNICAL WRITER FROM UTEP.',\n",
       " 'IF YOU WANT A NEW JOB OR CAREER CHANGE AND NOT GOING ANYWHERE, ITS NOT YOU, ITS YOUR RESUME.',\n",
       " 'LET ME HELP YOU GET YOU NEW CAREER OPPORTUNITY.',\n",
       " 'MY RESUMES ARE NOT GENERIC, ALL PROFESSIONAL AND TECHNICAL WRITING ONE.',\n",
       " 'SEND ME AN EMAIL YO GET YOU ON YOUR WAY']"
      ]
     },
     "execution_count": 37,
     "metadata": {},
     "output_type": "execute_result"
    }
   ],
   "source": [
    "sentences = nltk.sent_tokenize(clean)\n",
    "sentences"
   ]
  },
  {
   "cell_type": "markdown",
   "metadata": {},
   "source": [
    "Notice, how our data is all in caps. We can modify the strings with several string functions such as `.lower()`, `.upper()`, or `.capitalize()`."
   ]
  },
  {
   "cell_type": "code",
   "execution_count": 38,
   "metadata": {},
   "outputs": [
    {
     "name": "stdout",
     "output_type": "stream",
     "text": [
      "Original: \tMary and I often visit the nearby park.\n",
      "\n",
      "Lowercase: \tmary and i often visit the nearby park.\n",
      "\n",
      "Uppercase: \tMARY AND I OFTEN VISIT THE NEARBY PARK.\n",
      "\n",
      "Capitalize: \tMary and i often visit the nearby park.\n"
     ]
    }
   ],
   "source": [
    "sample_sentence = \"Mary and I often visit the nearby park.\"\n",
    "print(f\"Original: \\t{sample_sentence}\\n\")\n",
    "print(f\"Lowercase: \\t{sample_sentence.lower()}\\n\")\n",
    "print(f\"Uppercase: \\t{sample_sentence.upper()}\\n\")\n",
    "print(f\"Capitalize: \\t{sample_sentence.capitalize()}\")"
   ]
  },
  {
   "cell_type": "markdown",
   "metadata": {},
   "source": [
    "In some analysis, text is usually lowercased to have a standard format. When words are being grouped or counted, the program will not be able to distinguish `Hello` from `hello` or `hElLo`.\n",
    "\n",
    "We can also split the text into words with nltk."
   ]
  },
  {
   "cell_type": "code",
   "execution_count": 39,
   "metadata": {
    "scrolled": true
   },
   "outputs": [
    {
     "data": {
      "text/plain": [
       "['I',\n",
       " 'DO',\n",
       " 'BEST',\n",
       " 'RESUMES',\n",
       " 'IN',\n",
       " 'TOWN..',\n",
       " 'I',\n",
       " 'AM',\n",
       " 'TECHNICAL',\n",
       " 'WRITER',\n",
       " 'FROM',\n",
       " 'UTEP',\n",
       " '.',\n",
       " 'IF',\n",
       " 'YOU',\n",
       " 'WANT',\n",
       " 'A',\n",
       " 'NEW',\n",
       " 'JOB',\n",
       " 'OR',\n",
       " 'CAREER',\n",
       " 'CHANGE',\n",
       " 'AND',\n",
       " 'NOT',\n",
       " 'GOING',\n",
       " 'ANYWHERE',\n",
       " ',',\n",
       " 'ITS',\n",
       " 'NOT',\n",
       " 'YOU',\n",
       " ',',\n",
       " 'ITS',\n",
       " 'YOUR',\n",
       " 'RESUME',\n",
       " '.',\n",
       " 'LET',\n",
       " 'ME',\n",
       " 'HELP',\n",
       " 'YOU',\n",
       " 'GET',\n",
       " 'YOU',\n",
       " 'NEW',\n",
       " 'CAREER',\n",
       " 'OPPORTUNITY',\n",
       " '.',\n",
       " 'MY',\n",
       " 'RESUMES',\n",
       " 'ARE',\n",
       " 'NOT',\n",
       " 'GENERIC',\n",
       " ',',\n",
       " 'ALL',\n",
       " 'PROFESSIONAL',\n",
       " 'AND',\n",
       " 'TECHNICAL',\n",
       " 'WRITING',\n",
       " 'ONE',\n",
       " '.',\n",
       " 'SEND',\n",
       " 'ME',\n",
       " 'AN',\n",
       " 'EMAIL',\n",
       " 'YO',\n",
       " 'GET',\n",
       " 'YOU',\n",
       " 'ON',\n",
       " 'YOUR',\n",
       " 'WAY']"
      ]
     },
     "execution_count": 39,
     "metadata": {},
     "output_type": "execute_result"
    }
   ],
   "source": [
    "words = nltk.word_tokenize(clean)\n",
    "words"
   ]
  },
  {
   "cell_type": "markdown",
   "metadata": {},
   "source": [
    "Let's write a function that will apply regex functions as well as turn the text to lowercase."
   ]
  },
  {
   "cell_type": "code",
   "execution_count": 40,
   "metadata": {},
   "outputs": [],
   "source": [
    "def clean_text(text):\n",
    "    # remove next lines\n",
    "    clean_text = re.sub(\"\\n+\", \". \", text)\n",
    "    # remove tabs\n",
    "    clean_text = re.sub(\"\\t+\", \". \", clean_text)\n",
    "    # lowercase text\n",
    "    clean_text = clean_text.lower()\n",
    "    \n",
    "    return clean_text"
   ]
  },
  {
   "cell_type": "markdown",
   "metadata": {},
   "source": [
    "Then we'll map that function."
   ]
  },
  {
   "cell_type": "code",
   "execution_count": 41,
   "metadata": {},
   "outputs": [
    {
     "data": {
      "text/html": [
       "<div>\n",
       "<style scoped>\n",
       "    .dataframe tbody tr th:only-of-type {\n",
       "        vertical-align: middle;\n",
       "    }\n",
       "\n",
       "    .dataframe tbody tr th {\n",
       "        vertical-align: top;\n",
       "    }\n",
       "\n",
       "    .dataframe thead th {\n",
       "        text-align: right;\n",
       "    }\n",
       "</style>\n",
       "<table border=\"1\" class=\"dataframe\">\n",
       "  <thead>\n",
       "    <tr style=\"text-align: right;\">\n",
       "      <th></th>\n",
       "      <th>city</th>\n",
       "      <th>searched_zipcode</th>\n",
       "      <th>url</th>\n",
       "      <th>content</th>\n",
       "      <th>region</th>\n",
       "      <th>type of employment</th>\n",
       "      <th>clean_content</th>\n",
       "    </tr>\n",
       "  </thead>\n",
       "  <tbody>\n",
       "    <tr>\n",
       "      <th>0</th>\n",
       "      <td>ElPaso</td>\n",
       "      <td>79936</td>\n",
       "      <td>https://elpaso.craigslist.org/res/d/profession...</td>\n",
       "      <td>Reliable well organized professional with stro...</td>\n",
       "      <td>elpaso</td>\n",
       "      <td>professional-talented-and-energetic</td>\n",
       "      <td>reliable well organized professional with stro...</td>\n",
       "    </tr>\n",
       "    <tr>\n",
       "      <th>1</th>\n",
       "      <td>ElPaso</td>\n",
       "      <td>79936</td>\n",
       "      <td>https://elpaso.craigslist.org/res/d/outbound-r...</td>\n",
       "      <td>ASIDE FROM WORD OF MOUTH OR FACE TO FACE , COL...</td>\n",
       "      <td>elpaso</td>\n",
       "      <td>outbound-retention-specialist</td>\n",
       "      <td>aside from word of mouth or face to face , col...</td>\n",
       "    </tr>\n",
       "    <tr>\n",
       "      <th>2</th>\n",
       "      <td>ElPaso</td>\n",
       "      <td>79936</td>\n",
       "      <td>https://elpaso.craigslist.org/res/d/looking-fo...</td>\n",
       "      <td>I DO BEST RESUMES IN TOWN.\\n\\nI AM TECHNICAL W...</td>\n",
       "      <td>elpaso</td>\n",
       "      <td>looking-for-new-career-move-you-need</td>\n",
       "      <td>i do best resumes in town.. i am technical wri...</td>\n",
       "    </tr>\n",
       "    <tr>\n",
       "      <th>3</th>\n",
       "      <td>ElPaso</td>\n",
       "      <td>79936</td>\n",
       "      <td>https://elpaso.craigslist.org/res/d/im-looking...</td>\n",
       "      <td>hola busco trabajo vivo para el east,me urge u...</td>\n",
       "      <td>elpaso</td>\n",
       "      <td>im-looking-for-work</td>\n",
       "      <td>hola busco trabajo vivo para el east,me urge u...</td>\n",
       "    </tr>\n",
       "    <tr>\n",
       "      <th>4</th>\n",
       "      <td>ElPaso</td>\n",
       "      <td>79936</td>\n",
       "      <td>https://elpaso.craigslist.org/res/d/yard-work/...</td>\n",
       "      <td>Contact me to clean your yard today! Front and...</td>\n",
       "      <td>elpaso</td>\n",
       "      <td>yard-work</td>\n",
       "      <td>contact me to clean your yard today! front and...</td>\n",
       "    </tr>\n",
       "  </tbody>\n",
       "</table>\n",
       "</div>"
      ],
      "text/plain": [
       "     city  searched_zipcode  \\\n",
       "0  ElPaso             79936   \n",
       "1  ElPaso             79936   \n",
       "2  ElPaso             79936   \n",
       "3  ElPaso             79936   \n",
       "4  ElPaso             79936   \n",
       "\n",
       "                                                 url  \\\n",
       "0  https://elpaso.craigslist.org/res/d/profession...   \n",
       "1  https://elpaso.craigslist.org/res/d/outbound-r...   \n",
       "2  https://elpaso.craigslist.org/res/d/looking-fo...   \n",
       "3  https://elpaso.craigslist.org/res/d/im-looking...   \n",
       "4  https://elpaso.craigslist.org/res/d/yard-work/...   \n",
       "\n",
       "                                             content  region  \\\n",
       "0  Reliable well organized professional with stro...  elpaso   \n",
       "1  ASIDE FROM WORD OF MOUTH OR FACE TO FACE , COL...  elpaso   \n",
       "2  I DO BEST RESUMES IN TOWN.\\n\\nI AM TECHNICAL W...  elpaso   \n",
       "3  hola busco trabajo vivo para el east,me urge u...  elpaso   \n",
       "4  Contact me to clean your yard today! Front and...  elpaso   \n",
       "\n",
       "                     type of employment  \\\n",
       "0   professional-talented-and-energetic   \n",
       "1         outbound-retention-specialist   \n",
       "2  looking-for-new-career-move-you-need   \n",
       "3                   im-looking-for-work   \n",
       "4                             yard-work   \n",
       "\n",
       "                                       clean_content  \n",
       "0  reliable well organized professional with stro...  \n",
       "1  aside from word of mouth or face to face , col...  \n",
       "2  i do best resumes in town.. i am technical wri...  \n",
       "3  hola busco trabajo vivo para el east,me urge u...  \n",
       "4  contact me to clean your yard today! front and...  "
      ]
     },
     "execution_count": 41,
     "metadata": {},
     "output_type": "execute_result"
    }
   ],
   "source": [
    "df_large_copy['clean_content'] = df_large_copy['content'].map(clean_text)\n",
    "df_large_copy.head()"
   ]
  },
  {
   "cell_type": "code",
   "execution_count": 42,
   "metadata": {},
   "outputs": [
    {
     "data": {
      "text/html": [
       "<div>\n",
       "<style scoped>\n",
       "    .dataframe tbody tr th:only-of-type {\n",
       "        vertical-align: middle;\n",
       "    }\n",
       "\n",
       "    .dataframe tbody tr th {\n",
       "        vertical-align: top;\n",
       "    }\n",
       "\n",
       "    .dataframe thead th {\n",
       "        text-align: right;\n",
       "    }\n",
       "</style>\n",
       "<table border=\"1\" class=\"dataframe\">\n",
       "  <thead>\n",
       "    <tr style=\"text-align: right;\">\n",
       "      <th></th>\n",
       "      <th>city</th>\n",
       "      <th>searched_zipcode</th>\n",
       "      <th>url</th>\n",
       "      <th>region</th>\n",
       "      <th>type of employment</th>\n",
       "      <th>content</th>\n",
       "      <th>clean_content</th>\n",
       "    </tr>\n",
       "  </thead>\n",
       "  <tbody>\n",
       "    <tr>\n",
       "      <th>0</th>\n",
       "      <td>ElPaso</td>\n",
       "      <td>79936</td>\n",
       "      <td>https://elpaso.craigslist.org/res/d/profession...</td>\n",
       "      <td>elpaso</td>\n",
       "      <td>professional-talented-and-energetic</td>\n",
       "      <td>Reliable well organized professional with stro...</td>\n",
       "      <td>reliable well organized professional with stro...</td>\n",
       "    </tr>\n",
       "    <tr>\n",
       "      <th>1</th>\n",
       "      <td>ElPaso</td>\n",
       "      <td>79936</td>\n",
       "      <td>https://elpaso.craigslist.org/res/d/outbound-r...</td>\n",
       "      <td>elpaso</td>\n",
       "      <td>outbound-retention-specialist</td>\n",
       "      <td>ASIDE FROM WORD OF MOUTH OR FACE TO FACE , COL...</td>\n",
       "      <td>aside from word of mouth or face to face , col...</td>\n",
       "    </tr>\n",
       "    <tr>\n",
       "      <th>2</th>\n",
       "      <td>ElPaso</td>\n",
       "      <td>79936</td>\n",
       "      <td>https://elpaso.craigslist.org/res/d/looking-fo...</td>\n",
       "      <td>elpaso</td>\n",
       "      <td>looking-for-new-career-move-you-need</td>\n",
       "      <td>I DO BEST RESUMES IN TOWN.\\n\\nI AM TECHNICAL W...</td>\n",
       "      <td>i do best resumes in town.. i am technical wri...</td>\n",
       "    </tr>\n",
       "    <tr>\n",
       "      <th>3</th>\n",
       "      <td>ElPaso</td>\n",
       "      <td>79936</td>\n",
       "      <td>https://elpaso.craigslist.org/res/d/im-looking...</td>\n",
       "      <td>elpaso</td>\n",
       "      <td>im-looking-for-work</td>\n",
       "      <td>hola busco trabajo vivo para el east,me urge u...</td>\n",
       "      <td>hola busco trabajo vivo para el east,me urge u...</td>\n",
       "    </tr>\n",
       "    <tr>\n",
       "      <th>4</th>\n",
       "      <td>ElPaso</td>\n",
       "      <td>79936</td>\n",
       "      <td>https://elpaso.craigslist.org/res/d/yard-work/...</td>\n",
       "      <td>elpaso</td>\n",
       "      <td>yard-work</td>\n",
       "      <td>Contact me to clean your yard today! Front and...</td>\n",
       "      <td>contact me to clean your yard today! front and...</td>\n",
       "    </tr>\n",
       "  </tbody>\n",
       "</table>\n",
       "</div>"
      ],
      "text/plain": [
       "     city  searched_zipcode  \\\n",
       "0  ElPaso             79936   \n",
       "1  ElPaso             79936   \n",
       "2  ElPaso             79936   \n",
       "3  ElPaso             79936   \n",
       "4  ElPaso             79936   \n",
       "\n",
       "                                                 url  region  \\\n",
       "0  https://elpaso.craigslist.org/res/d/profession...  elpaso   \n",
       "1  https://elpaso.craigslist.org/res/d/outbound-r...  elpaso   \n",
       "2  https://elpaso.craigslist.org/res/d/looking-fo...  elpaso   \n",
       "3  https://elpaso.craigslist.org/res/d/im-looking...  elpaso   \n",
       "4  https://elpaso.craigslist.org/res/d/yard-work/...  elpaso   \n",
       "\n",
       "                     type of employment  \\\n",
       "0   professional-talented-and-energetic   \n",
       "1         outbound-retention-specialist   \n",
       "2  looking-for-new-career-move-you-need   \n",
       "3                   im-looking-for-work   \n",
       "4                             yard-work   \n",
       "\n",
       "                                             content  \\\n",
       "0  Reliable well organized professional with stro...   \n",
       "1  ASIDE FROM WORD OF MOUTH OR FACE TO FACE , COL...   \n",
       "2  I DO BEST RESUMES IN TOWN.\\n\\nI AM TECHNICAL W...   \n",
       "3  hola busco trabajo vivo para el east,me urge u...   \n",
       "4  Contact me to clean your yard today! Front and...   \n",
       "\n",
       "                                       clean_content  \n",
       "0  reliable well organized professional with stro...  \n",
       "1  aside from word of mouth or face to face , col...  \n",
       "2  i do best resumes in town.. i am technical wri...  \n",
       "3  hola busco trabajo vivo para el east,me urge u...  \n",
       "4  contact me to clean your yard today! front and...  "
      ]
     },
     "execution_count": 42,
     "metadata": {},
     "output_type": "execute_result"
    }
   ],
   "source": [
    "# Rearrange the columns\n",
    "df_large_copy = df_large_copy.reindex(columns=['city','searched_zipcode',\n",
    "                                               'url','region','type of employment', \n",
    "                                               'content', 'clean_content'])\n",
    "df_large_copy.head()"
   ]
  },
  {
   "cell_type": "markdown",
   "metadata": {},
   "source": [
    "We can save the file to csv format with `.to_csv` function"
   ]
  },
  {
   "cell_type": "code",
   "execution_count": 43,
   "metadata": {},
   "outputs": [],
   "source": [
    "df_large_copy.to_csv(\"./../assets/data_large_clean.csv\")"
   ]
  },
  {
   "cell_type": "markdown",
   "metadata": {},
   "source": [
    "# Bonus Stuff:"
   ]
  },
  {
   "cell_type": "markdown",
   "metadata": {},
   "source": [
    "## Sentiment Analysis with TextBlob\n",
    "Sentiment analysis whether the text is positive(1.0) or negative(-1.0)."
   ]
  },
  {
   "cell_type": "code",
   "execution_count": 44,
   "metadata": {},
   "outputs": [],
   "source": [
    "from textblob import TextBlob"
   ]
  },
  {
   "cell_type": "code",
   "execution_count": 45,
   "metadata": {},
   "outputs": [],
   "source": [
    "positive_text = \"The movie was great.\"\n",
    "negative_text = \"The movie seat was dirty.\""
   ]
  },
  {
   "cell_type": "code",
   "execution_count": 46,
   "metadata": {},
   "outputs": [
    {
     "data": {
      "text/plain": [
       "Sentiment(polarity=0.8, subjectivity=0.75)"
      ]
     },
     "execution_count": 46,
     "metadata": {},
     "output_type": "execute_result"
    }
   ],
   "source": [
    "TextBlob(positive_text).sentiment"
   ]
  },
  {
   "cell_type": "code",
   "execution_count": 47,
   "metadata": {},
   "outputs": [
    {
     "data": {
      "text/plain": [
       "Sentiment(polarity=-0.6, subjectivity=0.8)"
      ]
     },
     "execution_count": 47,
     "metadata": {},
     "output_type": "execute_result"
    }
   ],
   "source": [
    "TextBlob(negative_text).sentiment"
   ]
  },
  {
   "cell_type": "code",
   "execution_count": 149,
   "metadata": {},
   "outputs": [],
   "source": [
    "def get_sentiment(text):\n",
    "    polarity, subjectivity = TextBlob(text).sentiment\n",
    "    print(text)\n",
    "    print(f\"Polarity = {polarity:.2f}\")\n",
    "    print(f\"Subjectivity = {subjectivity:.2f}\")\n",
    "    print(\"___\")"
   ]
  },
  {
   "cell_type": "code",
   "execution_count": 150,
   "metadata": {},
   "outputs": [
    {
     "name": "stdout",
     "output_type": "stream",
     "text": [
      "This taco\n",
      "Polarity = 0.00\n",
      "Subjectivity = 0.00\n",
      "___\n",
      "This taco is\n",
      "Polarity = 0.00\n",
      "Subjectivity = 0.00\n",
      "___\n",
      "This taco is disgusting\n",
      "Polarity = -1.00\n",
      "Subjectivity = 1.00\n",
      "___\n",
      "This taco is disgustingly good\n",
      "Polarity = 0.70\n",
      "Subjectivity = 0.60\n",
      "___\n"
     ]
    }
   ],
   "source": [
    "get_sentiment(\"This taco\")\n",
    "get_sentiment(\"This taco is\")\n",
    "get_sentiment(\"This taco is disgusting\")\n",
    "get_sentiment(\"This taco is disgustingly good\")"
   ]
  },
  {
   "cell_type": "markdown",
   "metadata": {},
   "source": [
    "Not always correct but is useful."
   ]
  },
  {
   "cell_type": "markdown",
   "metadata": {},
   "source": [
    "## Wordcloud"
   ]
  },
  {
   "cell_type": "markdown",
   "metadata": {},
   "source": [
    "The more a word appears in a document, the bigger and bolder the word appears in the Wordcloud."
   ]
  },
  {
   "cell_type": "code",
   "execution_count": 166,
   "metadata": {},
   "outputs": [],
   "source": [
    "from wordcloud import WordCloud\n",
    "from collections import Counter\n",
    "import matplotlib.pyplot as plt\n",
    "%matplotlib inline\n",
    "\n",
    "sample_idx = 300\n",
    "text = df_large_copy['clean_content'].iloc[sample_idx]\n",
    "wordcloud = WordCloud().generate(text)"
   ]
  },
  {
   "cell_type": "code",
   "execution_count": 167,
   "metadata": {},
   "outputs": [
    {
     "data": {
      "image/png": "[encoded data removed]",
      "text/plain": [
       "<Figure size 576x576 with 1 Axes>"
      ]
     },
     "metadata": {
      "needs_background": "light"
     },
     "output_type": "display_data"
    },
    {
     "name": "stdout",
     "output_type": "stream",
     "text": [
      "Original Text:\n",
      "is your yard needing some attention? you have you tools but not the time? i can help.. i provide the services below.. -grass cutting. -weed and grass removal. -scraping. -raking. -sweeping. -moving. -organizeing. i my only handle small projects that don't envolve motorized tools or houling material of any type.. i'm a 20 year old dud that needs a little extra income. i already have a job, this isn't what i do for a living, however i have in the past for a large company. hard labor work does not scare me, send me your name home address a cell number i can reach you at together with the discription of what you want done and pictures of the project.. and i'll call you as soon as possible.\n"
     ]
    }
   ],
   "source": [
    "plt.figure(figsize = (8,8))\n",
    "plt.imshow(wordcloud, interpolation=\"bilinear\")\n",
    "plt.axis(\"off\")\n",
    "plt.show()\n",
    "\n",
    "print(f\"Original Text:\\n{text}\")"
   ]
  },
  {
   "cell_type": "code",
   "execution_count": 169,
   "metadata": {},
   "outputs": [
    {
     "name": "stdout",
     "output_type": "stream",
     "text": [
      "i\t\t9 times\n",
      "a\t\t6 times\n",
      "you\t\t5 times\n",
      "the\t\t5 times\n",
      "have\t\t3 times\n",
      "and\t\t3 times\n",
      "of\t\t3 times\n",
      "your\t\t2 times\n",
      "tools\t\t2 times\n",
      "not\t\t2 times\n"
     ]
    }
   ],
   "source": [
    "# The 'not-so-pretty' version\n",
    "sample_paragraph    = text\n",
    "# Remove non alphanumeric text\n",
    "cleaned_paragraph   = re.sub('[^0-9a-zA-Z]+', ' ', sample_paragraph)\n",
    "# Tokenize the text\n",
    "tokenized_paragraph = nltk.word_tokenize(cleaned_paragraph)\n",
    "# Print the 10 most common words and their frequency\n",
    "for word, count in Counter(tokenized_paragraph).most_common(10):\n",
    "    print(f\"{word}\\t\\t{count} times\")"
   ]
  },
  {
   "cell_type": "markdown",
   "metadata": {},
   "source": [
    "Notice how wordcloud also removes stop words"
   ]
  },
  {
   "cell_type": "code",
   "execution_count": null,
   "metadata": {},
   "outputs": [],
   "source": []
  }
 ],
 "metadata": {
  "kernelspec": {
   "display_name": "Python 3",
   "language": "python",
   "name": "python3"
  },
  "language_info": {
   "codemirror_mode": {
    "name": "ipython",
    "version": 3
   },
   "file_extension": ".py",
   "mimetype": "text/x-python",
   "name": "python",
   "nbconvert_exporter": "python",
   "pygments_lexer": "ipython3",
   "version": "3.7.4"
  }
 },
 "nbformat": 4,
 "nbformat_minor": 2
}
