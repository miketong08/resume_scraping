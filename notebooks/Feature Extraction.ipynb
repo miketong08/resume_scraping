{
 "cells": [
  {
   "cell_type": "markdown",
   "metadata": {},
   "source": [
    "# Feature Extraction\n",
    "## Pandas"
   ]
  },
  {
   "cell_type": "code",
   "execution_count": 1,
   "metadata": {},
   "outputs": [],
   "source": [
    "import pandas as pd"
   ]
  },
  {
   "cell_type": "code",
   "execution_count": 11,
   "metadata": {},
   "outputs": [],
   "source": [
    "df_1 = pd.read_csv(\"./../assets/data_large_041019.csv\", index_col = 0)\n",
    "df_2 = pd.read_csv(\"./../assets/data_large_211019.csv\", index_col = 0)\n",
    "df_3 = pd.read_csv(\"./../assets/data_large_270919.csv\", index_col = 0)\n",
    "df_4 = pd.read_csv(\"./../assets/data_large_300919.csv\", index_col = 0)\n",
    "df_5 = pd.read_csv(\"./../assets/data_large.csv\", index_col = 0)\n",
    "\n",
    "df_large = pd.concat([df_1, df_2, df_3, df_4, df_5]).reset_index(drop = True)\n",
    "df.fillna(\"NaN\", inplace = True)\n"
   ]
  },
  {
   "cell_type": "code",
   "execution_count": 12,
   "metadata": {},
   "outputs": [
    {
     "data": {
      "text/html": [
       "<div>\n",
       "<style scoped>\n",
       "    .dataframe tbody tr th:only-of-type {\n",
       "        vertical-align: middle;\n",
       "    }\n",
       "\n",
       "    .dataframe tbody tr th {\n",
       "        vertical-align: top;\n",
       "    }\n",
       "\n",
       "    .dataframe thead th {\n",
       "        text-align: right;\n",
       "    }\n",
       "</style>\n",
       "<table border=\"1\" class=\"dataframe\">\n",
       "  <thead>\n",
       "    <tr style=\"text-align: right;\">\n",
       "      <th></th>\n",
       "      <th>city</th>\n",
       "      <th>searched_zipcode</th>\n",
       "      <th>url</th>\n",
       "      <th>content</th>\n",
       "      <th>posting_date</th>\n",
       "      <th>education</th>\n",
       "      <th>n_photos</th>\n",
       "      <th>availability</th>\n",
       "    </tr>\n",
       "  </thead>\n",
       "  <tbody>\n",
       "    <tr>\n",
       "      <th>34916</th>\n",
       "      <td>Bakersfield</td>\n",
       "      <td>93307</td>\n",
       "      <td>https://losangeles.craigslist.org/wst/res/d/co...</td>\n",
       "      <td>Are you looking for an experienced, reliable, ...</td>\n",
       "      <td>2019-08-25 10:09</td>\n",
       "      <td>bachelors</td>\n",
       "      <td>5</td>\n",
       "      <td>['afternoons', 'evenings', 'mornings', 'overni...</td>\n",
       "    </tr>\n",
       "    <tr>\n",
       "      <th>74860</th>\n",
       "      <td>NewYork</td>\n",
       "      <td>10002</td>\n",
       "      <td>https://boston.craigslist.org/nos/res/d/tile-m...</td>\n",
       "      <td>Hi my name is Howard, just relocated back to M...</td>\n",
       "      <td>2019-09-03 11:42</td>\n",
       "      <td>some college</td>\n",
       "      <td>18</td>\n",
       "      <td>['afternoons', 'evenings', 'mornings', 'overni...</td>\n",
       "    </tr>\n",
       "    <tr>\n",
       "      <th>72615</th>\n",
       "      <td>Bakersfield</td>\n",
       "      <td>93307</td>\n",
       "      <td>https://losangeles.craigslist.org/lac/res/d/yo...</td>\n",
       "      <td>1 on 1 Yoga or small class\\r\\n\\r\\nINCREASE YOU...</td>\n",
       "      <td>2019-08-20 09:42</td>\n",
       "      <td>associates</td>\n",
       "      <td>1</td>\n",
       "      <td>['weekdays', 'weekends']</td>\n",
       "    </tr>\n",
       "    <tr>\n",
       "      <th>91987</th>\n",
       "      <td>Chicago</td>\n",
       "      <td>60625</td>\n",
       "      <td>https://kalamazoo.craigslist.org/res/d/constru...</td>\n",
       "      <td>can also install windows, doors, stairs, and d...</td>\n",
       "      <td>2019-08-23 23:09</td>\n",
       "      <td>some college</td>\n",
       "      <td>0</td>\n",
       "      <td>['afternoons', 'evenings', 'mornings']</td>\n",
       "    </tr>\n",
       "    <tr>\n",
       "      <th>4814</th>\n",
       "      <td>NewYork</td>\n",
       "      <td>10025</td>\n",
       "      <td>https://philadelphia.craigslist.org/res/d/phot...</td>\n",
       "      <td>I'm an amateur photographer looking to expand ...</td>\n",
       "      <td>2019-09-19 12:00</td>\n",
       "      <td>bachelors</td>\n",
       "      <td>0</td>\n",
       "      <td>['evenings', 'weekdays', 'weekends']</td>\n",
       "    </tr>\n",
       "  </tbody>\n",
       "</table>\n",
       "</div>"
      ],
      "text/plain": [
       "              city  searched_zipcode  \\\n",
       "34916  Bakersfield             93307   \n",
       "74860      NewYork             10002   \n",
       "72615  Bakersfield             93307   \n",
       "91987      Chicago             60625   \n",
       "4814       NewYork             10025   \n",
       "\n",
       "                                                     url  \\\n",
       "34916  https://losangeles.craigslist.org/wst/res/d/co...   \n",
       "74860  https://boston.craigslist.org/nos/res/d/tile-m...   \n",
       "72615  https://losangeles.craigslist.org/lac/res/d/yo...   \n",
       "91987  https://kalamazoo.craigslist.org/res/d/constru...   \n",
       "4814   https://philadelphia.craigslist.org/res/d/phot...   \n",
       "\n",
       "                                                 content      posting_date  \\\n",
       "34916  Are you looking for an experienced, reliable, ...  2019-08-25 10:09   \n",
       "74860  Hi my name is Howard, just relocated back to M...  2019-09-03 11:42   \n",
       "72615  1 on 1 Yoga or small class\\r\\n\\r\\nINCREASE YOU...  2019-08-20 09:42   \n",
       "91987  can also install windows, doors, stairs, and d...  2019-08-23 23:09   \n",
       "4814   I'm an amateur photographer looking to expand ...  2019-09-19 12:00   \n",
       "\n",
       "          education  n_photos  \\\n",
       "34916     bachelors         5   \n",
       "74860  some college        18   \n",
       "72615    associates         1   \n",
       "91987  some college         0   \n",
       "4814      bachelors         0   \n",
       "\n",
       "                                            availability  \n",
       "34916  ['afternoons', 'evenings', 'mornings', 'overni...  \n",
       "74860  ['afternoons', 'evenings', 'mornings', 'overni...  \n",
       "72615                           ['weekdays', 'weekends']  \n",
       "91987             ['afternoons', 'evenings', 'mornings']  \n",
       "4814                ['evenings', 'weekdays', 'weekends']  "
      ]
     },
     "execution_count": 12,
     "metadata": {},
     "output_type": "execute_result"
    }
   ],
   "source": [
    "df_large.sample(5)"
   ]
  },
  {
   "cell_type": "code",
   "execution_count": 13,
   "metadata": {},
   "outputs": [
    {
     "data": {
      "text/plain": [
       "(95743, 8)"
      ]
     },
     "execution_count": 13,
     "metadata": {},
     "output_type": "execute_result"
    }
   ],
   "source": [
    "df_large.shape"
   ]
  },
  {
   "cell_type": "code",
   "execution_count": 14,
   "metadata": {},
   "outputs": [
    {
     "name": "stdout",
     "output_type": "stream",
     "text": [
      "<class 'pandas.core.frame.DataFrame'>\n",
      "RangeIndex: 95743 entries, 0 to 95742\n",
      "Data columns (total 8 columns):\n",
      "city                95743 non-null object\n",
      "searched_zipcode    95743 non-null int64\n",
      "url                 95743 non-null object\n",
      "content             95740 non-null object\n",
      "posting_date        95743 non-null object\n",
      "education           95717 non-null object\n",
      "n_photos            95743 non-null int64\n",
      "availability        95743 non-null object\n",
      "dtypes: int64(2), object(6)\n",
      "memory usage: 5.8+ MB\n"
     ]
    }
   ],
   "source": [
    "df_large.info()"
   ]
  },
  {
   "cell_type": "markdown",
   "metadata": {},
   "source": [
    "### .fillna()\n",
    "`.fillna(object)` can be used to fill any empty item in the dataframe"
   ]
  },
  {
   "cell_type": "code",
   "execution_count": 15,
   "metadata": {},
   "outputs": [],
   "source": [
    "df_large.fillna(\"-\", inplace = True)"
   ]
  },
  {
   "cell_type": "markdown",
   "metadata": {},
   "source": [
    "### .loc([*condition*])\n",
    "`.loc([condition])` can be used to filter the dataframe"
   ]
  },
  {
   "cell_type": "code",
   "execution_count": 16,
   "metadata": {},
   "outputs": [
    {
     "data": {
      "text/html": [
       "<div>\n",
       "<style scoped>\n",
       "    .dataframe tbody tr th:only-of-type {\n",
       "        vertical-align: middle;\n",
       "    }\n",
       "\n",
       "    .dataframe tbody tr th {\n",
       "        vertical-align: top;\n",
       "    }\n",
       "\n",
       "    .dataframe thead th {\n",
       "        text-align: right;\n",
       "    }\n",
       "</style>\n",
       "<table border=\"1\" class=\"dataframe\">\n",
       "  <thead>\n",
       "    <tr style=\"text-align: right;\">\n",
       "      <th></th>\n",
       "      <th>city</th>\n",
       "      <th>searched_zipcode</th>\n",
       "      <th>url</th>\n",
       "      <th>content</th>\n",
       "      <th>posting_date</th>\n",
       "      <th>education</th>\n",
       "      <th>n_photos</th>\n",
       "      <th>availability</th>\n",
       "    </tr>\n",
       "  </thead>\n",
       "  <tbody>\n",
       "    <tr>\n",
       "      <th>3626</th>\n",
       "      <td>NewYork</td>\n",
       "      <td>10025</td>\n",
       "      <td>https://newjersey.craigslist.org/res/d/copywri...</td>\n",
       "      <td>WRITER * COPY EDITOR * PROOFREADER * PUBLICIST...</td>\n",
       "      <td>2019-09-11 10:35</td>\n",
       "      <td>bachelors</td>\n",
       "      <td>0</td>\n",
       "      <td>['afternoons', 'evenings', 'mornings', 'weekda...</td>\n",
       "    </tr>\n",
       "    <tr>\n",
       "      <th>3627</th>\n",
       "      <td>NewYork</td>\n",
       "      <td>10025</td>\n",
       "      <td>https://newyork.craigslist.org/mnh/res/d/skill...</td>\n",
       "      <td>PROFILE:\\r\\n* Experienced bilingual communicat...</td>\n",
       "      <td>2019-09-06 10:56</td>\n",
       "      <td>bachelors</td>\n",
       "      <td>0</td>\n",
       "      <td>['afternoons', 'evenings', 'mornings', 'weekda...</td>\n",
       "    </tr>\n",
       "    <tr>\n",
       "      <th>3628</th>\n",
       "      <td>NewYork</td>\n",
       "      <td>10025</td>\n",
       "      <td>https://newyork.craigslist.org/mnh/res/d/copy-...</td>\n",
       "      <td>Copy Editor/Medical Editor/Medical Proofreader...</td>\n",
       "      <td>2019-09-24 23:24</td>\n",
       "      <td>bachelors</td>\n",
       "      <td>0</td>\n",
       "      <td>['afternoons', 'evenings', 'mornings', 'weekda...</td>\n",
       "    </tr>\n",
       "    <tr>\n",
       "      <th>3629</th>\n",
       "      <td>NewYork</td>\n",
       "      <td>10025</td>\n",
       "      <td>https://newjersey.craigslist.org/res/d/van-dri...</td>\n",
       "      <td>Van Driver\\r\\n\\r\\nLooking to drive your compan...</td>\n",
       "      <td>2019-10-01 12:19</td>\n",
       "      <td>bachelors</td>\n",
       "      <td>0</td>\n",
       "      <td>['afternoons', 'evenings', 'mornings', 'overni...</td>\n",
       "    </tr>\n",
       "    <tr>\n",
       "      <th>3630</th>\n",
       "      <td>NewYork</td>\n",
       "      <td>10025</td>\n",
       "      <td>https://newyork.craigslist.org/mnh/res/d/quick...</td>\n",
       "      <td>Hello,\\r\\n\\r\\nI'm a professional bookkeeper in...</td>\n",
       "      <td>2019-09-12 13:26</td>\n",
       "      <td>bachelors</td>\n",
       "      <td>0</td>\n",
       "      <td>['afternoons', 'evenings', 'mornings', 'weekda...</td>\n",
       "    </tr>\n",
       "    <tr>\n",
       "      <th>3631</th>\n",
       "      <td>NewYork</td>\n",
       "      <td>10025</td>\n",
       "      <td>https://newyork.craigslist.org/brk/res/d/looki...</td>\n",
       "      <td>Chase Bond\\r\\nBrooklyn, NY 11213\\r\\nshow conta...</td>\n",
       "      <td>2019-10-04 08:27</td>\n",
       "      <td>bachelors</td>\n",
       "      <td>1</td>\n",
       "      <td>['afternoons', 'evenings', 'mornings', 'overni...</td>\n",
       "    </tr>\n",
       "    <tr>\n",
       "      <th>3632</th>\n",
       "      <td>NewYork</td>\n",
       "      <td>10025</td>\n",
       "      <td>https://newyork.craigslist.org/wch/res/d/will-...</td>\n",
       "      <td>Please read this entire post before contacting...</td>\n",
       "      <td>2019-10-01 18:22</td>\n",
       "      <td>some college</td>\n",
       "      <td>0</td>\n",
       "      <td>['afternoons', 'evenings', 'mornings', 'overni...</td>\n",
       "    </tr>\n",
       "    <tr>\n",
       "      <th>3633</th>\n",
       "      <td>NewYork</td>\n",
       "      <td>10025</td>\n",
       "      <td>https://philadelphia.craigslist.org/res/d/expe...</td>\n",
       "      <td>I am a licensed permit expediter. Expediting, ...</td>\n",
       "      <td>2019-10-04 08:58</td>\n",
       "      <td>some college</td>\n",
       "      <td>0</td>\n",
       "      <td>['afternoons', 'mornings']</td>\n",
       "    </tr>\n",
       "    <tr>\n",
       "      <th>3634</th>\n",
       "      <td>NewYork</td>\n",
       "      <td>10025</td>\n",
       "      <td>https://albany.craigslist.org/res/d/personal-a...</td>\n",
       "      <td>PCA looking to care for your loved one.I have ...</td>\n",
       "      <td>2019-09-05 10:35</td>\n",
       "      <td>high school/GED</td>\n",
       "      <td>1</td>\n",
       "      <td>['weekdays']</td>\n",
       "    </tr>\n",
       "    <tr>\n",
       "      <th>3635</th>\n",
       "      <td>NewYork</td>\n",
       "      <td>10025</td>\n",
       "      <td>https://newyork.craigslist.org/mnh/res/d/shopi...</td>\n",
       "      <td>I'm a professional with over 18 years of exper...</td>\n",
       "      <td>2019-09-07 09:24</td>\n",
       "      <td>bachelors</td>\n",
       "      <td>1</td>\n",
       "      <td>['afternoons', 'evenings', 'mornings', 'overni...</td>\n",
       "    </tr>\n",
       "  </tbody>\n",
       "</table>\n",
       "</div>"
      ],
      "text/plain": [
       "         city  searched_zipcode  \\\n",
       "3626  NewYork             10025   \n",
       "3627  NewYork             10025   \n",
       "3628  NewYork             10025   \n",
       "3629  NewYork             10025   \n",
       "3630  NewYork             10025   \n",
       "3631  NewYork             10025   \n",
       "3632  NewYork             10025   \n",
       "3633  NewYork             10025   \n",
       "3634  NewYork             10025   \n",
       "3635  NewYork             10025   \n",
       "\n",
       "                                                    url  \\\n",
       "3626  https://newjersey.craigslist.org/res/d/copywri...   \n",
       "3627  https://newyork.craigslist.org/mnh/res/d/skill...   \n",
       "3628  https://newyork.craigslist.org/mnh/res/d/copy-...   \n",
       "3629  https://newjersey.craigslist.org/res/d/van-dri...   \n",
       "3630  https://newyork.craigslist.org/mnh/res/d/quick...   \n",
       "3631  https://newyork.craigslist.org/brk/res/d/looki...   \n",
       "3632  https://newyork.craigslist.org/wch/res/d/will-...   \n",
       "3633  https://philadelphia.craigslist.org/res/d/expe...   \n",
       "3634  https://albany.craigslist.org/res/d/personal-a...   \n",
       "3635  https://newyork.craigslist.org/mnh/res/d/shopi...   \n",
       "\n",
       "                                                content      posting_date  \\\n",
       "3626  WRITER * COPY EDITOR * PROOFREADER * PUBLICIST...  2019-09-11 10:35   \n",
       "3627  PROFILE:\\r\\n* Experienced bilingual communicat...  2019-09-06 10:56   \n",
       "3628  Copy Editor/Medical Editor/Medical Proofreader...  2019-09-24 23:24   \n",
       "3629  Van Driver\\r\\n\\r\\nLooking to drive your compan...  2019-10-01 12:19   \n",
       "3630  Hello,\\r\\n\\r\\nI'm a professional bookkeeper in...  2019-09-12 13:26   \n",
       "3631  Chase Bond\\r\\nBrooklyn, NY 11213\\r\\nshow conta...  2019-10-04 08:27   \n",
       "3632  Please read this entire post before contacting...  2019-10-01 18:22   \n",
       "3633  I am a licensed permit expediter. Expediting, ...  2019-10-04 08:58   \n",
       "3634  PCA looking to care for your loved one.I have ...  2019-09-05 10:35   \n",
       "3635  I'm a professional with over 18 years of exper...  2019-09-07 09:24   \n",
       "\n",
       "            education  n_photos  \\\n",
       "3626        bachelors         0   \n",
       "3627        bachelors         0   \n",
       "3628        bachelors         0   \n",
       "3629        bachelors         0   \n",
       "3630        bachelors         0   \n",
       "3631        bachelors         1   \n",
       "3632     some college         0   \n",
       "3633     some college         0   \n",
       "3634  high school/GED         1   \n",
       "3635        bachelors         1   \n",
       "\n",
       "                                           availability  \n",
       "3626  ['afternoons', 'evenings', 'mornings', 'weekda...  \n",
       "3627  ['afternoons', 'evenings', 'mornings', 'weekda...  \n",
       "3628  ['afternoons', 'evenings', 'mornings', 'weekda...  \n",
       "3629  ['afternoons', 'evenings', 'mornings', 'overni...  \n",
       "3630  ['afternoons', 'evenings', 'mornings', 'weekda...  \n",
       "3631  ['afternoons', 'evenings', 'mornings', 'overni...  \n",
       "3632  ['afternoons', 'evenings', 'mornings', 'overni...  \n",
       "3633                         ['afternoons', 'mornings']  \n",
       "3634                                       ['weekdays']  \n",
       "3635  ['afternoons', 'evenings', 'mornings', 'overni...  "
      ]
     },
     "execution_count": 16,
     "metadata": {},
     "output_type": "execute_result"
    }
   ],
   "source": [
    "new_york_df = df_large.loc[df_large['city'] == 'NewYork']\n",
    "new_york_df.head(10)"
   ]
  },
  {
   "cell_type": "markdown",
   "metadata": {},
   "source": [
    "### .nunique()\n",
    "`.nunique()` can be used to count the number of unique items in each column."
   ]
  },
  {
   "cell_type": "code",
   "execution_count": 17,
   "metadata": {},
   "outputs": [
    {
     "data": {
      "text/plain": [
       "city                   1\n",
       "searched_zipcode       3\n",
       "url                 5433\n",
       "content             4495\n",
       "posting_date        4959\n",
       "education              8\n",
       "n_photos              25\n",
       "availability          62\n",
       "dtype: int64"
      ]
     },
     "execution_count": 17,
     "metadata": {},
     "output_type": "execute_result"
    }
   ],
   "source": [
    "# Count number of unique information in each column\n",
    "new_york_df.nunique()"
   ]
  },
  {
   "cell_type": "code",
   "execution_count": 18,
   "metadata": {},
   "outputs": [
    {
     "data": {
      "text/plain": [
       "(31641, 8)"
      ]
     },
     "execution_count": 18,
     "metadata": {},
     "output_type": "execute_result"
    }
   ],
   "source": [
    "# Get the shape of the data (row, columns)\n",
    "new_york_df.shape"
   ]
  },
  {
   "cell_type": "markdown",
   "metadata": {},
   "source": [
    "### .drop_duplicates()\n",
    "`.drop_duplicates()` drops duplicate rows in the dataframe. Parameters can be modified to specify which rows to drop such as `subset` to specify which columns to check for duplicates and `keep` to specify which data point of the duplicates will be kept."
   ]
  },
  {
   "cell_type": "code",
   "execution_count": 19,
   "metadata": {},
   "outputs": [
    {
     "name": "stdout",
     "output_type": "stream",
     "text": [
      "Shape of no duplicates in content column (4495, 8)\n"
     ]
    },
    {
     "data": {
      "text/html": [
       "<div>\n",
       "<style scoped>\n",
       "    .dataframe tbody tr th:only-of-type {\n",
       "        vertical-align: middle;\n",
       "    }\n",
       "\n",
       "    .dataframe tbody tr th {\n",
       "        vertical-align: top;\n",
       "    }\n",
       "\n",
       "    .dataframe thead th {\n",
       "        text-align: right;\n",
       "    }\n",
       "</style>\n",
       "<table border=\"1\" class=\"dataframe\">\n",
       "  <thead>\n",
       "    <tr style=\"text-align: right;\">\n",
       "      <th></th>\n",
       "      <th>city</th>\n",
       "      <th>searched_zipcode</th>\n",
       "      <th>url</th>\n",
       "      <th>content</th>\n",
       "      <th>posting_date</th>\n",
       "      <th>education</th>\n",
       "      <th>n_photos</th>\n",
       "      <th>availability</th>\n",
       "    </tr>\n",
       "  </thead>\n",
       "  <tbody>\n",
       "    <tr>\n",
       "      <th>3626</th>\n",
       "      <td>NewYork</td>\n",
       "      <td>10025</td>\n",
       "      <td>https://newjersey.craigslist.org/res/d/copywri...</td>\n",
       "      <td>WRITER * COPY EDITOR * PROOFREADER * PUBLICIST...</td>\n",
       "      <td>2019-09-11 10:35</td>\n",
       "      <td>bachelors</td>\n",
       "      <td>0</td>\n",
       "      <td>['afternoons', 'evenings', 'mornings', 'weekda...</td>\n",
       "    </tr>\n",
       "    <tr>\n",
       "      <th>3627</th>\n",
       "      <td>NewYork</td>\n",
       "      <td>10025</td>\n",
       "      <td>https://newyork.craigslist.org/mnh/res/d/skill...</td>\n",
       "      <td>PROFILE:\\r\\n* Experienced bilingual communicat...</td>\n",
       "      <td>2019-09-06 10:56</td>\n",
       "      <td>bachelors</td>\n",
       "      <td>0</td>\n",
       "      <td>['afternoons', 'evenings', 'mornings', 'weekda...</td>\n",
       "    </tr>\n",
       "    <tr>\n",
       "      <th>3628</th>\n",
       "      <td>NewYork</td>\n",
       "      <td>10025</td>\n",
       "      <td>https://newyork.craigslist.org/mnh/res/d/copy-...</td>\n",
       "      <td>Copy Editor/Medical Editor/Medical Proofreader...</td>\n",
       "      <td>2019-09-24 23:24</td>\n",
       "      <td>bachelors</td>\n",
       "      <td>0</td>\n",
       "      <td>['afternoons', 'evenings', 'mornings', 'weekda...</td>\n",
       "    </tr>\n",
       "    <tr>\n",
       "      <th>3629</th>\n",
       "      <td>NewYork</td>\n",
       "      <td>10025</td>\n",
       "      <td>https://newjersey.craigslist.org/res/d/van-dri...</td>\n",
       "      <td>Van Driver\\r\\n\\r\\nLooking to drive your compan...</td>\n",
       "      <td>2019-10-01 12:19</td>\n",
       "      <td>bachelors</td>\n",
       "      <td>0</td>\n",
       "      <td>['afternoons', 'evenings', 'mornings', 'overni...</td>\n",
       "    </tr>\n",
       "    <tr>\n",
       "      <th>3630</th>\n",
       "      <td>NewYork</td>\n",
       "      <td>10025</td>\n",
       "      <td>https://newyork.craigslist.org/mnh/res/d/quick...</td>\n",
       "      <td>Hello,\\r\\n\\r\\nI'm a professional bookkeeper in...</td>\n",
       "      <td>2019-09-12 13:26</td>\n",
       "      <td>bachelors</td>\n",
       "      <td>0</td>\n",
       "      <td>['afternoons', 'evenings', 'mornings', 'weekda...</td>\n",
       "    </tr>\n",
       "  </tbody>\n",
       "</table>\n",
       "</div>"
      ],
      "text/plain": [
       "         city  searched_zipcode  \\\n",
       "3626  NewYork             10025   \n",
       "3627  NewYork             10025   \n",
       "3628  NewYork             10025   \n",
       "3629  NewYork             10025   \n",
       "3630  NewYork             10025   \n",
       "\n",
       "                                                    url  \\\n",
       "3626  https://newjersey.craigslist.org/res/d/copywri...   \n",
       "3627  https://newyork.craigslist.org/mnh/res/d/skill...   \n",
       "3628  https://newyork.craigslist.org/mnh/res/d/copy-...   \n",
       "3629  https://newjersey.craigslist.org/res/d/van-dri...   \n",
       "3630  https://newyork.craigslist.org/mnh/res/d/quick...   \n",
       "\n",
       "                                                content      posting_date  \\\n",
       "3626  WRITER * COPY EDITOR * PROOFREADER * PUBLICIST...  2019-09-11 10:35   \n",
       "3627  PROFILE:\\r\\n* Experienced bilingual communicat...  2019-09-06 10:56   \n",
       "3628  Copy Editor/Medical Editor/Medical Proofreader...  2019-09-24 23:24   \n",
       "3629  Van Driver\\r\\n\\r\\nLooking to drive your compan...  2019-10-01 12:19   \n",
       "3630  Hello,\\r\\n\\r\\nI'm a professional bookkeeper in...  2019-09-12 13:26   \n",
       "\n",
       "      education  n_photos                                       availability  \n",
       "3626  bachelors         0  ['afternoons', 'evenings', 'mornings', 'weekda...  \n",
       "3627  bachelors         0  ['afternoons', 'evenings', 'mornings', 'weekda...  \n",
       "3628  bachelors         0  ['afternoons', 'evenings', 'mornings', 'weekda...  \n",
       "3629  bachelors         0  ['afternoons', 'evenings', 'mornings', 'overni...  \n",
       "3630  bachelors         0  ['afternoons', 'evenings', 'mornings', 'weekda...  "
      ]
     },
     "execution_count": 19,
     "metadata": {},
     "output_type": "execute_result"
    }
   ],
   "source": [
    "no_duplicate_shape = new_york_df.drop_duplicates(subset='content', keep = 'first').shape\n",
    "print(f\"Shape of no duplicates in content column {no_duplicate_shape}\")\n",
    "new_york_df.drop_duplicates(subset='content', keep = 'first').head()\n",
    "\n",
    "# It is important to note that .drop_duplicates() doesn't change the original data unless\n",
    "# the parameter 'inplace' is set to 'True'"
   ]
  },
  {
   "cell_type": "markdown",
   "metadata": {},
   "source": [
    "### .unique()\n",
    "`.unique()` returns a list of unique items in a Pandas Series."
   ]
  },
  {
   "cell_type": "code",
   "execution_count": 20,
   "metadata": {},
   "outputs": [
    {
     "data": {
      "text/plain": [
       "array([10025, 10002, 10029], dtype=int64)"
      ]
     },
     "execution_count": 20,
     "metadata": {},
     "output_type": "execute_result"
    }
   ],
   "source": [
    "# Get the unique values in searched_zipcode\n",
    "new_york_df['searched_zipcode'].unique()"
   ]
  },
  {
   "cell_type": "markdown",
   "metadata": {},
   "source": [
    "### .groupby()\n",
    "`.groupby()` groups the dataframe based on a certain feature. It needs to be paired with another function such as `.sum()` or `.count()`. The parameter `by` takes in a string or list. If it's a list, the order of features matters."
   ]
  },
  {
   "cell_type": "code",
   "execution_count": 21,
   "metadata": {},
   "outputs": [
    {
     "data": {
      "text/plain": [
       "<pandas.core.groupby.generic.DataFrameGroupBy object at 0x0000015FBF20E9B0>"
      ]
     },
     "execution_count": 21,
     "metadata": {},
     "output_type": "execute_result"
    }
   ],
   "source": [
    "# .groupby() alone doesn't help\n",
    "df_large.groupby(by = ['city'])"
   ]
  },
  {
   "cell_type": "code",
   "execution_count": 22,
   "metadata": {
    "scrolled": true
   },
   "outputs": [
    {
     "data": {
      "text/html": [
       "<div>\n",
       "<style scoped>\n",
       "    .dataframe tbody tr th:only-of-type {\n",
       "        vertical-align: middle;\n",
       "    }\n",
       "\n",
       "    .dataframe tbody tr th {\n",
       "        vertical-align: top;\n",
       "    }\n",
       "\n",
       "    .dataframe thead th {\n",
       "        text-align: right;\n",
       "    }\n",
       "</style>\n",
       "<table border=\"1\" class=\"dataframe\">\n",
       "  <thead>\n",
       "    <tr style=\"text-align: right;\">\n",
       "      <th></th>\n",
       "      <th></th>\n",
       "      <th>url</th>\n",
       "      <th>content</th>\n",
       "      <th>posting_date</th>\n",
       "      <th>education</th>\n",
       "      <th>n_photos</th>\n",
       "      <th>availability</th>\n",
       "    </tr>\n",
       "    <tr>\n",
       "      <th>city</th>\n",
       "      <th>searched_zipcode</th>\n",
       "      <th></th>\n",
       "      <th></th>\n",
       "      <th></th>\n",
       "      <th></th>\n",
       "      <th></th>\n",
       "      <th></th>\n",
       "    </tr>\n",
       "  </thead>\n",
       "  <tbody>\n",
       "    <tr>\n",
       "      <th>Albuquerque</th>\n",
       "      <th>87121</th>\n",
       "      <td>225</td>\n",
       "      <td>225</td>\n",
       "      <td>225</td>\n",
       "      <td>225</td>\n",
       "      <td>225</td>\n",
       "      <td>225</td>\n",
       "    </tr>\n",
       "    <tr>\n",
       "      <th>Atlanta</th>\n",
       "      <th>30349</th>\n",
       "      <td>1554</td>\n",
       "      <td>1554</td>\n",
       "      <td>1554</td>\n",
       "      <td>1554</td>\n",
       "      <td>1554</td>\n",
       "      <td>1554</td>\n",
       "    </tr>\n",
       "    <tr>\n",
       "      <th>Bakersfield</th>\n",
       "      <th>93307</th>\n",
       "      <td>6641</td>\n",
       "      <td>6641</td>\n",
       "      <td>6641</td>\n",
       "      <td>6641</td>\n",
       "      <td>6641</td>\n",
       "      <td>6641</td>\n",
       "    </tr>\n",
       "    <tr>\n",
       "      <th>Brownsville</th>\n",
       "      <th>78521</th>\n",
       "      <td>321</td>\n",
       "      <td>321</td>\n",
       "      <td>321</td>\n",
       "      <td>321</td>\n",
       "      <td>321</td>\n",
       "      <td>321</td>\n",
       "    </tr>\n",
       "    <tr>\n",
       "      <th>Charlotte</th>\n",
       "      <th>28269</th>\n",
       "      <td>2009</td>\n",
       "      <td>2009</td>\n",
       "      <td>2009</td>\n",
       "      <td>2009</td>\n",
       "      <td>2009</td>\n",
       "      <td>2009</td>\n",
       "    </tr>\n",
       "    <tr>\n",
       "      <th rowspan=\"5\" valign=\"top\">Chicago</th>\n",
       "      <th>60617</th>\n",
       "      <td>1329</td>\n",
       "      <td>1329</td>\n",
       "      <td>1329</td>\n",
       "      <td>1329</td>\n",
       "      <td>1329</td>\n",
       "      <td>1329</td>\n",
       "    </tr>\n",
       "    <tr>\n",
       "      <th>60618</th>\n",
       "      <td>2286</td>\n",
       "      <td>2286</td>\n",
       "      <td>2286</td>\n",
       "      <td>2286</td>\n",
       "      <td>2286</td>\n",
       "      <td>2286</td>\n",
       "    </tr>\n",
       "    <tr>\n",
       "      <th>60625</th>\n",
       "      <td>1793</td>\n",
       "      <td>1793</td>\n",
       "      <td>1793</td>\n",
       "      <td>1793</td>\n",
       "      <td>1793</td>\n",
       "      <td>1793</td>\n",
       "    </tr>\n",
       "    <tr>\n",
       "      <th>60629</th>\n",
       "      <td>2724</td>\n",
       "      <td>2724</td>\n",
       "      <td>2724</td>\n",
       "      <td>2724</td>\n",
       "      <td>2724</td>\n",
       "      <td>2724</td>\n",
       "    </tr>\n",
       "    <tr>\n",
       "      <th>60647</th>\n",
       "      <td>1792</td>\n",
       "      <td>1792</td>\n",
       "      <td>1792</td>\n",
       "      <td>1792</td>\n",
       "      <td>1792</td>\n",
       "      <td>1792</td>\n",
       "    </tr>\n",
       "    <tr>\n",
       "      <th rowspan=\"2\" valign=\"top\">Dallas</th>\n",
       "      <th>75211</th>\n",
       "      <td>1924</td>\n",
       "      <td>1924</td>\n",
       "      <td>1924</td>\n",
       "      <td>1924</td>\n",
       "      <td>1924</td>\n",
       "      <td>1924</td>\n",
       "    </tr>\n",
       "    <tr>\n",
       "      <th>75217</th>\n",
       "      <td>2337</td>\n",
       "      <td>2337</td>\n",
       "      <td>2337</td>\n",
       "      <td>2337</td>\n",
       "      <td>2337</td>\n",
       "      <td>2337</td>\n",
       "    </tr>\n",
       "    <tr>\n",
       "      <th rowspan=\"2\" valign=\"top\">ElPaso</th>\n",
       "      <th>79912</th>\n",
       "      <td>158</td>\n",
       "      <td>158</td>\n",
       "      <td>158</td>\n",
       "      <td>158</td>\n",
       "      <td>158</td>\n",
       "      <td>158</td>\n",
       "    </tr>\n",
       "    <tr>\n",
       "      <th>79936</th>\n",
       "      <td>181</td>\n",
       "      <td>181</td>\n",
       "      <td>181</td>\n",
       "      <td>181</td>\n",
       "      <td>181</td>\n",
       "      <td>181</td>\n",
       "    </tr>\n",
       "    <tr>\n",
       "      <th>Fresno</th>\n",
       "      <th>93722</th>\n",
       "      <td>3899</td>\n",
       "      <td>3899</td>\n",
       "      <td>3899</td>\n",
       "      <td>3899</td>\n",
       "      <td>3899</td>\n",
       "      <td>3899</td>\n",
       "    </tr>\n",
       "    <tr>\n",
       "      <th rowspan=\"3\" valign=\"top\">Houston</th>\n",
       "      <th>77036</th>\n",
       "      <td>2435</td>\n",
       "      <td>2435</td>\n",
       "      <td>2435</td>\n",
       "      <td>2435</td>\n",
       "      <td>2435</td>\n",
       "      <td>2435</td>\n",
       "    </tr>\n",
       "    <tr>\n",
       "      <th>77083</th>\n",
       "      <td>1957</td>\n",
       "      <td>1957</td>\n",
       "      <td>1957</td>\n",
       "      <td>1957</td>\n",
       "      <td>1957</td>\n",
       "      <td>1957</td>\n",
       "    </tr>\n",
       "    <tr>\n",
       "      <th>77084</th>\n",
       "      <td>2815</td>\n",
       "      <td>2815</td>\n",
       "      <td>2815</td>\n",
       "      <td>2815</td>\n",
       "      <td>2815</td>\n",
       "      <td>2815</td>\n",
       "    </tr>\n",
       "    <tr>\n",
       "      <th>Lancaster</th>\n",
       "      <th>93535</th>\n",
       "      <td>15</td>\n",
       "      <td>15</td>\n",
       "      <td>15</td>\n",
       "      <td>15</td>\n",
       "      <td>15</td>\n",
       "      <td>15</td>\n",
       "    </tr>\n",
       "    <tr>\n",
       "      <th>LasVegas</th>\n",
       "      <th>89110</th>\n",
       "      <td>905</td>\n",
       "      <td>905</td>\n",
       "      <td>905</td>\n",
       "      <td>905</td>\n",
       "      <td>905</td>\n",
       "      <td>905</td>\n",
       "    </tr>\n",
       "    <tr>\n",
       "      <th rowspan=\"2\" valign=\"top\">LosAngeles</th>\n",
       "      <th>90011</th>\n",
       "      <td>7402</td>\n",
       "      <td>7402</td>\n",
       "      <td>7402</td>\n",
       "      <td>7402</td>\n",
       "      <td>7402</td>\n",
       "      <td>7402</td>\n",
       "    </tr>\n",
       "    <tr>\n",
       "      <th>90044</th>\n",
       "      <td>7400</td>\n",
       "      <td>7400</td>\n",
       "      <td>7400</td>\n",
       "      <td>7400</td>\n",
       "      <td>7400</td>\n",
       "      <td>7400</td>\n",
       "    </tr>\n",
       "    <tr>\n",
       "      <th>Nashville</th>\n",
       "      <th>37211</th>\n",
       "      <td>1142</td>\n",
       "      <td>1142</td>\n",
       "      <td>1142</td>\n",
       "      <td>1142</td>\n",
       "      <td>1142</td>\n",
       "      <td>1142</td>\n",
       "    </tr>\n",
       "    <tr>\n",
       "      <th rowspan=\"3\" valign=\"top\">NewYork</th>\n",
       "      <th>10002</th>\n",
       "      <td>11813</td>\n",
       "      <td>11813</td>\n",
       "      <td>11813</td>\n",
       "      <td>11813</td>\n",
       "      <td>11813</td>\n",
       "      <td>11813</td>\n",
       "    </tr>\n",
       "    <tr>\n",
       "      <th>10025</th>\n",
       "      <td>12143</td>\n",
       "      <td>12143</td>\n",
       "      <td>12143</td>\n",
       "      <td>12143</td>\n",
       "      <td>12143</td>\n",
       "      <td>12143</td>\n",
       "    </tr>\n",
       "    <tr>\n",
       "      <th>10029</th>\n",
       "      <td>7685</td>\n",
       "      <td>7685</td>\n",
       "      <td>7685</td>\n",
       "      <td>7685</td>\n",
       "      <td>7685</td>\n",
       "      <td>7685</td>\n",
       "    </tr>\n",
       "    <tr>\n",
       "      <th>Sacramento</th>\n",
       "      <th>95823</th>\n",
       "      <td>2758</td>\n",
       "      <td>2758</td>\n",
       "      <td>2758</td>\n",
       "      <td>2758</td>\n",
       "      <td>2758</td>\n",
       "      <td>2758</td>\n",
       "    </tr>\n",
       "    <tr>\n",
       "      <th>SanDiego</th>\n",
       "      <th>92154</th>\n",
       "      <td>5178</td>\n",
       "      <td>5178</td>\n",
       "      <td>5178</td>\n",
       "      <td>5178</td>\n",
       "      <td>5178</td>\n",
       "      <td>5178</td>\n",
       "    </tr>\n",
       "    <tr>\n",
       "      <th>Yuma</th>\n",
       "      <th>85364</th>\n",
       "      <td>2922</td>\n",
       "      <td>2922</td>\n",
       "      <td>2922</td>\n",
       "      <td>2922</td>\n",
       "      <td>2922</td>\n",
       "      <td>2922</td>\n",
       "    </tr>\n",
       "  </tbody>\n",
       "</table>\n",
       "</div>"
      ],
      "text/plain": [
       "                                url  content  posting_date  education  \\\n",
       "city        searched_zipcode                                            \n",
       "Albuquerque 87121               225      225           225        225   \n",
       "Atlanta     30349              1554     1554          1554       1554   \n",
       "Bakersfield 93307              6641     6641          6641       6641   \n",
       "Brownsville 78521               321      321           321        321   \n",
       "Charlotte   28269              2009     2009          2009       2009   \n",
       "Chicago     60617              1329     1329          1329       1329   \n",
       "            60618              2286     2286          2286       2286   \n",
       "            60625              1793     1793          1793       1793   \n",
       "            60629              2724     2724          2724       2724   \n",
       "            60647              1792     1792          1792       1792   \n",
       "Dallas      75211              1924     1924          1924       1924   \n",
       "            75217              2337     2337          2337       2337   \n",
       "ElPaso      79912               158      158           158        158   \n",
       "            79936               181      181           181        181   \n",
       "Fresno      93722              3899     3899          3899       3899   \n",
       "Houston     77036              2435     2435          2435       2435   \n",
       "            77083              1957     1957          1957       1957   \n",
       "            77084              2815     2815          2815       2815   \n",
       "Lancaster   93535                15       15            15         15   \n",
       "LasVegas    89110               905      905           905        905   \n",
       "LosAngeles  90011              7402     7402          7402       7402   \n",
       "            90044              7400     7400          7400       7400   \n",
       "Nashville   37211              1142     1142          1142       1142   \n",
       "NewYork     10002             11813    11813         11813      11813   \n",
       "            10025             12143    12143         12143      12143   \n",
       "            10029              7685     7685          7685       7685   \n",
       "Sacramento  95823              2758     2758          2758       2758   \n",
       "SanDiego    92154              5178     5178          5178       5178   \n",
       "Yuma        85364              2922     2922          2922       2922   \n",
       "\n",
       "                              n_photos  availability  \n",
       "city        searched_zipcode                          \n",
       "Albuquerque 87121                  225           225  \n",
       "Atlanta     30349                 1554          1554  \n",
       "Bakersfield 93307                 6641          6641  \n",
       "Brownsville 78521                  321           321  \n",
       "Charlotte   28269                 2009          2009  \n",
       "Chicago     60617                 1329          1329  \n",
       "            60618                 2286          2286  \n",
       "            60625                 1793          1793  \n",
       "            60629                 2724          2724  \n",
       "            60647                 1792          1792  \n",
       "Dallas      75211                 1924          1924  \n",
       "            75217                 2337          2337  \n",
       "ElPaso      79912                  158           158  \n",
       "            79936                  181           181  \n",
       "Fresno      93722                 3899          3899  \n",
       "Houston     77036                 2435          2435  \n",
       "            77083                 1957          1957  \n",
       "            77084                 2815          2815  \n",
       "Lancaster   93535                   15            15  \n",
       "LasVegas    89110                  905           905  \n",
       "LosAngeles  90011                 7402          7402  \n",
       "            90044                 7400          7400  \n",
       "Nashville   37211                 1142          1142  \n",
       "NewYork     10002                11813         11813  \n",
       "            10025                12143         12143  \n",
       "            10029                 7685          7685  \n",
       "Sacramento  95823                 2758          2758  \n",
       "SanDiego    92154                 5178          5178  \n",
       "Yuma        85364                 2922          2922  "
      ]
     },
     "execution_count": 22,
     "metadata": {},
     "output_type": "execute_result"
    }
   ],
   "source": [
    "# Group by city and then searched_zipcode\n",
    "df_large.groupby(by = ['city', 'searched_zipcode']).count()"
   ]
  },
  {
   "cell_type": "code",
   "execution_count": 23,
   "metadata": {
    "scrolled": true
   },
   "outputs": [
    {
     "data": {
      "text/html": [
       "<div>\n",
       "<style scoped>\n",
       "    .dataframe tbody tr th:only-of-type {\n",
       "        vertical-align: middle;\n",
       "    }\n",
       "\n",
       "    .dataframe tbody tr th {\n",
       "        vertical-align: top;\n",
       "    }\n",
       "\n",
       "    .dataframe thead th {\n",
       "        text-align: right;\n",
       "    }\n",
       "</style>\n",
       "<table border=\"1\" class=\"dataframe\">\n",
       "  <thead>\n",
       "    <tr style=\"text-align: right;\">\n",
       "      <th></th>\n",
       "      <th></th>\n",
       "      <th>url</th>\n",
       "      <th>content</th>\n",
       "      <th>posting_date</th>\n",
       "      <th>education</th>\n",
       "      <th>n_photos</th>\n",
       "      <th>availability</th>\n",
       "    </tr>\n",
       "    <tr>\n",
       "      <th>searched_zipcode</th>\n",
       "      <th>city</th>\n",
       "      <th></th>\n",
       "      <th></th>\n",
       "      <th></th>\n",
       "      <th></th>\n",
       "      <th></th>\n",
       "      <th></th>\n",
       "    </tr>\n",
       "  </thead>\n",
       "  <tbody>\n",
       "    <tr>\n",
       "      <th>10002</th>\n",
       "      <th>NewYork</th>\n",
       "      <td>11813</td>\n",
       "      <td>11813</td>\n",
       "      <td>11813</td>\n",
       "      <td>11813</td>\n",
       "      <td>11813</td>\n",
       "      <td>11813</td>\n",
       "    </tr>\n",
       "    <tr>\n",
       "      <th>10025</th>\n",
       "      <th>NewYork</th>\n",
       "      <td>12143</td>\n",
       "      <td>12143</td>\n",
       "      <td>12143</td>\n",
       "      <td>12143</td>\n",
       "      <td>12143</td>\n",
       "      <td>12143</td>\n",
       "    </tr>\n",
       "    <tr>\n",
       "      <th>10029</th>\n",
       "      <th>NewYork</th>\n",
       "      <td>7685</td>\n",
       "      <td>7685</td>\n",
       "      <td>7685</td>\n",
       "      <td>7685</td>\n",
       "      <td>7685</td>\n",
       "      <td>7685</td>\n",
       "    </tr>\n",
       "    <tr>\n",
       "      <th>28269</th>\n",
       "      <th>Charlotte</th>\n",
       "      <td>2009</td>\n",
       "      <td>2009</td>\n",
       "      <td>2009</td>\n",
       "      <td>2009</td>\n",
       "      <td>2009</td>\n",
       "      <td>2009</td>\n",
       "    </tr>\n",
       "    <tr>\n",
       "      <th>30349</th>\n",
       "      <th>Atlanta</th>\n",
       "      <td>1554</td>\n",
       "      <td>1554</td>\n",
       "      <td>1554</td>\n",
       "      <td>1554</td>\n",
       "      <td>1554</td>\n",
       "      <td>1554</td>\n",
       "    </tr>\n",
       "    <tr>\n",
       "      <th>37211</th>\n",
       "      <th>Nashville</th>\n",
       "      <td>1142</td>\n",
       "      <td>1142</td>\n",
       "      <td>1142</td>\n",
       "      <td>1142</td>\n",
       "      <td>1142</td>\n",
       "      <td>1142</td>\n",
       "    </tr>\n",
       "    <tr>\n",
       "      <th>60617</th>\n",
       "      <th>Chicago</th>\n",
       "      <td>1329</td>\n",
       "      <td>1329</td>\n",
       "      <td>1329</td>\n",
       "      <td>1329</td>\n",
       "      <td>1329</td>\n",
       "      <td>1329</td>\n",
       "    </tr>\n",
       "    <tr>\n",
       "      <th>60618</th>\n",
       "      <th>Chicago</th>\n",
       "      <td>2286</td>\n",
       "      <td>2286</td>\n",
       "      <td>2286</td>\n",
       "      <td>2286</td>\n",
       "      <td>2286</td>\n",
       "      <td>2286</td>\n",
       "    </tr>\n",
       "    <tr>\n",
       "      <th>60625</th>\n",
       "      <th>Chicago</th>\n",
       "      <td>1793</td>\n",
       "      <td>1793</td>\n",
       "      <td>1793</td>\n",
       "      <td>1793</td>\n",
       "      <td>1793</td>\n",
       "      <td>1793</td>\n",
       "    </tr>\n",
       "    <tr>\n",
       "      <th>60629</th>\n",
       "      <th>Chicago</th>\n",
       "      <td>2724</td>\n",
       "      <td>2724</td>\n",
       "      <td>2724</td>\n",
       "      <td>2724</td>\n",
       "      <td>2724</td>\n",
       "      <td>2724</td>\n",
       "    </tr>\n",
       "    <tr>\n",
       "      <th>60647</th>\n",
       "      <th>Chicago</th>\n",
       "      <td>1792</td>\n",
       "      <td>1792</td>\n",
       "      <td>1792</td>\n",
       "      <td>1792</td>\n",
       "      <td>1792</td>\n",
       "      <td>1792</td>\n",
       "    </tr>\n",
       "    <tr>\n",
       "      <th>75211</th>\n",
       "      <th>Dallas</th>\n",
       "      <td>1924</td>\n",
       "      <td>1924</td>\n",
       "      <td>1924</td>\n",
       "      <td>1924</td>\n",
       "      <td>1924</td>\n",
       "      <td>1924</td>\n",
       "    </tr>\n",
       "    <tr>\n",
       "      <th>75217</th>\n",
       "      <th>Dallas</th>\n",
       "      <td>2337</td>\n",
       "      <td>2337</td>\n",
       "      <td>2337</td>\n",
       "      <td>2337</td>\n",
       "      <td>2337</td>\n",
       "      <td>2337</td>\n",
       "    </tr>\n",
       "    <tr>\n",
       "      <th>77036</th>\n",
       "      <th>Houston</th>\n",
       "      <td>2435</td>\n",
       "      <td>2435</td>\n",
       "      <td>2435</td>\n",
       "      <td>2435</td>\n",
       "      <td>2435</td>\n",
       "      <td>2435</td>\n",
       "    </tr>\n",
       "    <tr>\n",
       "      <th>77083</th>\n",
       "      <th>Houston</th>\n",
       "      <td>1957</td>\n",
       "      <td>1957</td>\n",
       "      <td>1957</td>\n",
       "      <td>1957</td>\n",
       "      <td>1957</td>\n",
       "      <td>1957</td>\n",
       "    </tr>\n",
       "    <tr>\n",
       "      <th>77084</th>\n",
       "      <th>Houston</th>\n",
       "      <td>2815</td>\n",
       "      <td>2815</td>\n",
       "      <td>2815</td>\n",
       "      <td>2815</td>\n",
       "      <td>2815</td>\n",
       "      <td>2815</td>\n",
       "    </tr>\n",
       "    <tr>\n",
       "      <th>78521</th>\n",
       "      <th>Brownsville</th>\n",
       "      <td>321</td>\n",
       "      <td>321</td>\n",
       "      <td>321</td>\n",
       "      <td>321</td>\n",
       "      <td>321</td>\n",
       "      <td>321</td>\n",
       "    </tr>\n",
       "    <tr>\n",
       "      <th>79912</th>\n",
       "      <th>ElPaso</th>\n",
       "      <td>158</td>\n",
       "      <td>158</td>\n",
       "      <td>158</td>\n",
       "      <td>158</td>\n",
       "      <td>158</td>\n",
       "      <td>158</td>\n",
       "    </tr>\n",
       "    <tr>\n",
       "      <th>79936</th>\n",
       "      <th>ElPaso</th>\n",
       "      <td>181</td>\n",
       "      <td>181</td>\n",
       "      <td>181</td>\n",
       "      <td>181</td>\n",
       "      <td>181</td>\n",
       "      <td>181</td>\n",
       "    </tr>\n",
       "    <tr>\n",
       "      <th>85364</th>\n",
       "      <th>Yuma</th>\n",
       "      <td>2922</td>\n",
       "      <td>2922</td>\n",
       "      <td>2922</td>\n",
       "      <td>2922</td>\n",
       "      <td>2922</td>\n",
       "      <td>2922</td>\n",
       "    </tr>\n",
       "    <tr>\n",
       "      <th>87121</th>\n",
       "      <th>Albuquerque</th>\n",
       "      <td>225</td>\n",
       "      <td>225</td>\n",
       "      <td>225</td>\n",
       "      <td>225</td>\n",
       "      <td>225</td>\n",
       "      <td>225</td>\n",
       "    </tr>\n",
       "    <tr>\n",
       "      <th>89110</th>\n",
       "      <th>LasVegas</th>\n",
       "      <td>905</td>\n",
       "      <td>905</td>\n",
       "      <td>905</td>\n",
       "      <td>905</td>\n",
       "      <td>905</td>\n",
       "      <td>905</td>\n",
       "    </tr>\n",
       "    <tr>\n",
       "      <th>90011</th>\n",
       "      <th>LosAngeles</th>\n",
       "      <td>7402</td>\n",
       "      <td>7402</td>\n",
       "      <td>7402</td>\n",
       "      <td>7402</td>\n",
       "      <td>7402</td>\n",
       "      <td>7402</td>\n",
       "    </tr>\n",
       "    <tr>\n",
       "      <th>90044</th>\n",
       "      <th>LosAngeles</th>\n",
       "      <td>7400</td>\n",
       "      <td>7400</td>\n",
       "      <td>7400</td>\n",
       "      <td>7400</td>\n",
       "      <td>7400</td>\n",
       "      <td>7400</td>\n",
       "    </tr>\n",
       "    <tr>\n",
       "      <th>92154</th>\n",
       "      <th>SanDiego</th>\n",
       "      <td>5178</td>\n",
       "      <td>5178</td>\n",
       "      <td>5178</td>\n",
       "      <td>5178</td>\n",
       "      <td>5178</td>\n",
       "      <td>5178</td>\n",
       "    </tr>\n",
       "    <tr>\n",
       "      <th>93307</th>\n",
       "      <th>Bakersfield</th>\n",
       "      <td>6641</td>\n",
       "      <td>6641</td>\n",
       "      <td>6641</td>\n",
       "      <td>6641</td>\n",
       "      <td>6641</td>\n",
       "      <td>6641</td>\n",
       "    </tr>\n",
       "    <tr>\n",
       "      <th>93535</th>\n",
       "      <th>Lancaster</th>\n",
       "      <td>15</td>\n",
       "      <td>15</td>\n",
       "      <td>15</td>\n",
       "      <td>15</td>\n",
       "      <td>15</td>\n",
       "      <td>15</td>\n",
       "    </tr>\n",
       "    <tr>\n",
       "      <th>93722</th>\n",
       "      <th>Fresno</th>\n",
       "      <td>3899</td>\n",
       "      <td>3899</td>\n",
       "      <td>3899</td>\n",
       "      <td>3899</td>\n",
       "      <td>3899</td>\n",
       "      <td>3899</td>\n",
       "    </tr>\n",
       "    <tr>\n",
       "      <th>95823</th>\n",
       "      <th>Sacramento</th>\n",
       "      <td>2758</td>\n",
       "      <td>2758</td>\n",
       "      <td>2758</td>\n",
       "      <td>2758</td>\n",
       "      <td>2758</td>\n",
       "      <td>2758</td>\n",
       "    </tr>\n",
       "  </tbody>\n",
       "</table>\n",
       "</div>"
      ],
      "text/plain": [
       "                                url  content  posting_date  education  \\\n",
       "searched_zipcode city                                                   \n",
       "10002            NewYork      11813    11813         11813      11813   \n",
       "10025            NewYork      12143    12143         12143      12143   \n",
       "10029            NewYork       7685     7685          7685       7685   \n",
       "28269            Charlotte     2009     2009          2009       2009   \n",
       "30349            Atlanta       1554     1554          1554       1554   \n",
       "37211            Nashville     1142     1142          1142       1142   \n",
       "60617            Chicago       1329     1329          1329       1329   \n",
       "60618            Chicago       2286     2286          2286       2286   \n",
       "60625            Chicago       1793     1793          1793       1793   \n",
       "60629            Chicago       2724     2724          2724       2724   \n",
       "60647            Chicago       1792     1792          1792       1792   \n",
       "75211            Dallas        1924     1924          1924       1924   \n",
       "75217            Dallas        2337     2337          2337       2337   \n",
       "77036            Houston       2435     2435          2435       2435   \n",
       "77083            Houston       1957     1957          1957       1957   \n",
       "77084            Houston       2815     2815          2815       2815   \n",
       "78521            Brownsville    321      321           321        321   \n",
       "79912            ElPaso         158      158           158        158   \n",
       "79936            ElPaso         181      181           181        181   \n",
       "85364            Yuma          2922     2922          2922       2922   \n",
       "87121            Albuquerque    225      225           225        225   \n",
       "89110            LasVegas       905      905           905        905   \n",
       "90011            LosAngeles    7402     7402          7402       7402   \n",
       "90044            LosAngeles    7400     7400          7400       7400   \n",
       "92154            SanDiego      5178     5178          5178       5178   \n",
       "93307            Bakersfield   6641     6641          6641       6641   \n",
       "93535            Lancaster       15       15            15         15   \n",
       "93722            Fresno        3899     3899          3899       3899   \n",
       "95823            Sacramento    2758     2758          2758       2758   \n",
       "\n",
       "                              n_photos  availability  \n",
       "searched_zipcode city                                 \n",
       "10002            NewYork         11813         11813  \n",
       "10025            NewYork         12143         12143  \n",
       "10029            NewYork          7685          7685  \n",
       "28269            Charlotte        2009          2009  \n",
       "30349            Atlanta          1554          1554  \n",
       "37211            Nashville        1142          1142  \n",
       "60617            Chicago          1329          1329  \n",
       "60618            Chicago          2286          2286  \n",
       "60625            Chicago          1793          1793  \n",
       "60629            Chicago          2724          2724  \n",
       "60647            Chicago          1792          1792  \n",
       "75211            Dallas           1924          1924  \n",
       "75217            Dallas           2337          2337  \n",
       "77036            Houston          2435          2435  \n",
       "77083            Houston          1957          1957  \n",
       "77084            Houston          2815          2815  \n",
       "78521            Brownsville       321           321  \n",
       "79912            ElPaso            158           158  \n",
       "79936            ElPaso            181           181  \n",
       "85364            Yuma             2922          2922  \n",
       "87121            Albuquerque       225           225  \n",
       "89110            LasVegas          905           905  \n",
       "90011            LosAngeles       7402          7402  \n",
       "90044            LosAngeles       7400          7400  \n",
       "92154            SanDiego         5178          5178  \n",
       "93307            Bakersfield      6641          6641  \n",
       "93535            Lancaster          15            15  \n",
       "93722            Fresno           3899          3899  \n",
       "95823            Sacramento       2758          2758  "
      ]
     },
     "execution_count": 23,
     "metadata": {},
     "output_type": "execute_result"
    }
   ],
   "source": [
    "# Group by searched_zipcode then city\n",
    "df_large.groupby(by = ['searched_zipcode', 'city']).count()"
   ]
  },
  {
   "cell_type": "markdown",
   "metadata": {},
   "source": [
    "This example doesn't make sense because we know that each zip code only pertains to one city. However, it is important if you want to show certain relationships of features that don't depend on each other. If you have a dataset of vehicle registration, you can present the data grouped by `city` then `car model` to see what models are popular in certain cities or grouped by `car model` then `city` to see what city has a higher count of certain car model."
   ]
  },
  {
   "cell_type": "markdown",
   "metadata": {},
   "source": [
    "# Handling Text Data\n",
    "## Python String"
   ]
  },
  {
   "cell_type": "code",
   "execution_count": 24,
   "metadata": {},
   "outputs": [
    {
     "name": "stderr",
     "output_type": "stream",
     "text": [
      "[nltk_data] Downloading package punkt to\n",
      "[nltk_data]     C:\\Users\\Prince\\AppData\\Roaming\\nltk_data...\n",
      "[nltk_data]   Package punkt is already up-to-date!\n"
     ]
    },
    {
     "data": {
      "text/plain": [
       "True"
      ]
     },
     "execution_count": 24,
     "metadata": {},
     "output_type": "execute_result"
    }
   ],
   "source": [
    "import string\n",
    "import re\n",
    "import nltk\n",
    "\n",
    "# Download nltk model if it doesn't exist\n",
    "nltk.download('punkt')"
   ]
  },
  {
   "cell_type": "markdown",
   "metadata": {},
   "source": [
    "Now we take a look at how we can clean and work with text data. We'll start with the urls first to get a better understanding of how we can use python to handle text."
   ]
  },
  {
   "cell_type": "code",
   "execution_count": 25,
   "metadata": {},
   "outputs": [
    {
     "data": {
      "text/plain": [
       "'https://losangeles.craigslist.org/wst/res/d/caregiver-driver/6992296668.html'"
      ]
     },
     "execution_count": 25,
     "metadata": {},
     "output_type": "execute_result"
    }
   ],
   "source": [
    "# Get 'random' url\n",
    "sample_url = df_large['url'][42]\n",
    "sample_url"
   ]
  },
  {
   "cell_type": "markdown",
   "metadata": {},
   "source": [
    "### .split()\n",
    "`.split()` splits the string based on the character inside the function. If left blank, it will split it based on white space."
   ]
  },
  {
   "cell_type": "code",
   "execution_count": 26,
   "metadata": {},
   "outputs": [
    {
     "data": {
      "text/plain": [
       "['My', 'name', 'is', 'Prince']"
      ]
     },
     "execution_count": 26,
     "metadata": {},
     "output_type": "execute_result"
    }
   ],
   "source": [
    "# Split by white space\n",
    "random_text = \"My    \\t\\t\\t\\tname is    \\n   Prince\"\n",
    "random_text.split()"
   ]
  },
  {
   "cell_type": "code",
   "execution_count": 27,
   "metadata": {},
   "outputs": [
    {
     "data": {
      "text/plain": [
       "['https:',\n",
       " '',\n",
       " 'losangeles.craigslist.org',\n",
       " 'wst',\n",
       " 'res',\n",
       " 'd',\n",
       " 'caregiver-driver',\n",
       " '6992296668.html']"
      ]
     },
     "execution_count": 27,
     "metadata": {},
     "output_type": "execute_result"
    }
   ],
   "source": [
    "# Split string based on the '/' character\n",
    "url_split = sample_url.split('/')\n",
    "url_split"
   ]
  },
  {
   "cell_type": "markdown",
   "metadata": {},
   "source": [
    "The text of interest here is on the 3rd and 2nd to the last elements of the array."
   ]
  },
  {
   "cell_type": "code",
   "execution_count": 28,
   "metadata": {},
   "outputs": [
    {
     "name": "stdout",
     "output_type": "stream",
     "text": [
      "The website is 'losangeles.craigslist.org' and the type of employment is 'caregiver-driver'\n"
     ]
    }
   ],
   "source": [
    "domain_website = url_split[2]\n",
    "type_of_employ = url_split[-2]\n",
    "\n",
    "print(f\"The website is '{domain_website}' and the type of employment is '{type_of_employ}'\")"
   ]
  },
  {
   "cell_type": "markdown",
   "metadata": {},
   "source": [
    "Now we need to parse the domain website to focus on the region the website is focused on. We can split the string based on the `/` character."
   ]
  },
  {
   "cell_type": "code",
   "execution_count": 29,
   "metadata": {},
   "outputs": [
    {
     "data": {
      "text/plain": [
       "['losangeles', 'craigslist', 'org']"
      ]
     },
     "execution_count": 29,
     "metadata": {},
     "output_type": "execute_result"
    }
   ],
   "source": [
    "domain_split = domain_website.split('.')\n",
    "domain_split"
   ]
  },
  {
   "cell_type": "markdown",
   "metadata": {},
   "source": [
    "### Re\n",
    "`re` is short for regex and it's a powerful tool in using regular expressions to extract data. It looks intimidating learning regex but once you get the idea of how to use it, it's not that scary. Usually, just looking up the pattern that you want and adding 'regex' in your google search will lead you to a stackoverflow post."
   ]
  },
  {
   "cell_type": "code",
   "execution_count": 30,
   "metadata": {},
   "outputs": [
    {
     "data": {
      "text/plain": [
       "'https://losangeles.craigslist.org/wst/res/d/caregiver-driver/6992296668.html'"
      ]
     },
     "execution_count": 30,
     "metadata": {},
     "output_type": "execute_result"
    }
   ],
   "source": [
    "sample_url"
   ]
  },
  {
   "cell_type": "code",
   "execution_count": 31,
   "metadata": {},
   "outputs": [
    {
     "data": {
      "text/plain": [
       "['losangeles']"
      ]
     },
     "execution_count": 31,
     "metadata": {},
     "output_type": "execute_result"
    }
   ],
   "source": [
    "re.findall(\"//(.*?).craigslist\", sample_url)"
   ]
  },
  {
   "cell_type": "code",
   "execution_count": 32,
   "metadata": {},
   "outputs": [
    {
     "data": {
      "text/plain": [
       "['', 'wst', 'd']"
      ]
     },
     "execution_count": 32,
     "metadata": {},
     "output_type": "execute_result"
    }
   ],
   "source": [
    "re.findall(\"/(.*?)/\", sample_url)"
   ]
  },
  {
   "cell_type": "markdown",
   "metadata": {},
   "source": [
    "Below we've added the common regex functions that you might use and encounter."
   ]
  },
  {
   "cell_type": "code",
   "execution_count": 33,
   "metadata": {},
   "outputs": [],
   "source": [
    "random_text = \"Hello123world324.<>$%@#T123..23.4.55,!\""
   ]
  },
  {
   "cell_type": "code",
   "execution_count": 34,
   "metadata": {},
   "outputs": [
    {
     "data": {
      "text/plain": [
       "['123', '324', '123', '23', '4', '55']"
      ]
     },
     "execution_count": 34,
     "metadata": {},
     "output_type": "execute_result"
    }
   ],
   "source": [
    "# all numbers\n",
    "re.findall('[0-9]+', random_text)"
   ]
  },
  {
   "cell_type": "code",
   "execution_count": 35,
   "metadata": {},
   "outputs": [
    {
     "data": {
      "text/plain": [
       "['ello', 'world']"
      ]
     },
     "execution_count": 35,
     "metadata": {},
     "output_type": "execute_result"
    }
   ],
   "source": [
    "# all lowercase letters\n",
    "re.findall('[a-z]+', random_text)"
   ]
  },
  {
   "cell_type": "code",
   "execution_count": 36,
   "metadata": {},
   "outputs": [
    {
     "data": {
      "text/plain": [
       "['H', 'T']"
      ]
     },
     "execution_count": 36,
     "metadata": {},
     "output_type": "execute_result"
    }
   ],
   "source": [
    "# all uppercase letters\n",
    "re.findall('[A-Z]+', random_text)"
   ]
  },
  {
   "cell_type": "code",
   "execution_count": 37,
   "metadata": {},
   "outputs": [
    {
     "data": {
      "text/plain": [
       "['Hello', 'world', 'T']"
      ]
     },
     "execution_count": 37,
     "metadata": {},
     "output_type": "execute_result"
    }
   ],
   "source": [
    "# All letters\n",
    "re.findall('[a-zA-Z]+', random_text)"
   ]
  },
  {
   "cell_type": "code",
   "execution_count": 38,
   "metadata": {},
   "outputs": [
    {
     "data": {
      "text/plain": [
       "['Hello123world324', 'T123', '23', '4', '55']"
      ]
     },
     "execution_count": 38,
     "metadata": {},
     "output_type": "execute_result"
    }
   ],
   "source": [
    "# All alphanumeric characters\n",
    "re.findall('[a-zA-Z0-9]+', random_text)"
   ]
  },
  {
   "cell_type": "code",
   "execution_count": 39,
   "metadata": {},
   "outputs": [
    {
     "name": "stdout",
     "output_type": "stream",
     "text": [
      "!\"#$%&'()*+,-./:;<=>?@[\\]^_`{|}~\n"
     ]
    },
    {
     "data": {
      "text/plain": [
       "['.<>$%@#', '..', '.', '.', ',!']"
      ]
     },
     "execution_count": 39,
     "metadata": {},
     "output_type": "execute_result"
    }
   ],
   "source": [
    "# All punctuations\n",
    "print(f\"{string.punctuation}\") # a nifty way of listing all punctuations\n",
    "re.findall(f\"[{string.punctuation}]+\", random_text)"
   ]
  },
  {
   "cell_type": "markdown",
   "metadata": {},
   "source": [
    "And we can get the first item as our region.\n",
    "\n",
    "Now it would be inefficient for us to run this one by one for each of our data points. We can use the `.map()` of the pandas dataframe to map a function to our dataset but we have to write out the function first. We'll write a function for getting the region, and we'll write a function that will get the type of employment."
   ]
  },
  {
   "cell_type": "code",
   "execution_count": 40,
   "metadata": {},
   "outputs": [],
   "source": [
    "def get_region(url):\n",
    "    # Split the url based on the '/' character\n",
    "    url_split = url.split('/')\n",
    "    # Get the website string from the array\n",
    "    domain_website = url_split[2]\n",
    "    # Split the website string based on the '.' character\n",
    "    domain_split = domain_website.split('.')\n",
    "    # Get the region\n",
    "    region = domain_split[0]\n",
    "    # Return region\n",
    "    return region\n",
    "\n",
    "def get_type_employment(url):\n",
    "    # Split the url based on the '/' character\n",
    "    url_split = url.split('/')\n",
    "    # Get the employment type\n",
    "    employment_type = url_split[-2]\n",
    "    # Return employment type\n",
    "    return employment_type"
   ]
  },
  {
   "cell_type": "code",
   "execution_count": 41,
   "metadata": {},
   "outputs": [
    {
     "name": "stdout",
     "output_type": "stream",
     "text": [
      "https://losangeles.craigslist.org/wst/res/d/caregiver-driver/6992296668.html\n",
      "Region: \t\tlosangeles\n",
      "Employment type: \tcaregiver-driver\n"
     ]
    }
   ],
   "source": [
    "# Test our function\n",
    "print(sample_url)\n",
    "print(f\"Region: \\t\\t{get_region(sample_url)}\")\n",
    "print(f\"Employment type: \\t{get_type_employment(sample_url)}\")"
   ]
  },
  {
   "cell_type": "code",
   "execution_count": 42,
   "metadata": {},
   "outputs": [],
   "source": [
    "# Create a copy of the dataframe\n",
    "df_large_copy = df_large"
   ]
  },
  {
   "cell_type": "markdown",
   "metadata": {},
   "source": [
    "We can now create two new features for a dataset based on the data we extracted from the url."
   ]
  },
  {
   "cell_type": "code",
   "execution_count": 43,
   "metadata": {},
   "outputs": [
    {
     "data": {
      "text/html": [
       "<div>\n",
       "<style scoped>\n",
       "    .dataframe tbody tr th:only-of-type {\n",
       "        vertical-align: middle;\n",
       "    }\n",
       "\n",
       "    .dataframe tbody tr th {\n",
       "        vertical-align: top;\n",
       "    }\n",
       "\n",
       "    .dataframe thead th {\n",
       "        text-align: right;\n",
       "    }\n",
       "</style>\n",
       "<table border=\"1\" class=\"dataframe\">\n",
       "  <thead>\n",
       "    <tr style=\"text-align: right;\">\n",
       "      <th></th>\n",
       "      <th>city</th>\n",
       "      <th>searched_zipcode</th>\n",
       "      <th>url</th>\n",
       "      <th>content</th>\n",
       "      <th>posting_date</th>\n",
       "      <th>education</th>\n",
       "      <th>n_photos</th>\n",
       "      <th>availability</th>\n",
       "      <th>region</th>\n",
       "      <th>type of employment</th>\n",
       "    </tr>\n",
       "  </thead>\n",
       "  <tbody>\n",
       "    <tr>\n",
       "      <th>0</th>\n",
       "      <td>ElPaso</td>\n",
       "      <td>79936</td>\n",
       "      <td>https://elpaso.craigslist.org/res/d/you-tired-...</td>\n",
       "      <td>I DO BEST RESUMES IN TOWN.\\r\\n\\r\\nI AM TECHNIC...</td>\n",
       "      <td>2019-09-30 18:45</td>\n",
       "      <td>bachelors</td>\n",
       "      <td>0</td>\n",
       "      <td>['afternoons', 'evenings', 'mornings', 'overni...</td>\n",
       "      <td>elpaso</td>\n",
       "      <td>you-tired-of-being-unemployed-aint-the</td>\n",
       "    </tr>\n",
       "    <tr>\n",
       "      <th>1</th>\n",
       "      <td>ElPaso</td>\n",
       "      <td>79936</td>\n",
       "      <td>https://lascruces.craigslist.org/res/d/looking...</td>\n",
       "      <td>hello i'm Carlos im looking for some part time...</td>\n",
       "      <td>2019-09-30 15:28</td>\n",
       "      <td>associates</td>\n",
       "      <td>0</td>\n",
       "      <td>['afternoons', 'evenings', 'mornings']</td>\n",
       "      <td>lascruces</td>\n",
       "      <td>looking-for-work-immediately</td>\n",
       "    </tr>\n",
       "    <tr>\n",
       "      <th>2</th>\n",
       "      <td>ElPaso</td>\n",
       "      <td>79936</td>\n",
       "      <td>https://lascruces.craigslist.org/res/d/marketi...</td>\n",
       "      <td>I have a fully equipped home office and do bot...</td>\n",
       "      <td>2019-09-30 09:58</td>\n",
       "      <td>some college</td>\n",
       "      <td>0</td>\n",
       "      <td>['afternoons', 'evenings', 'mornings', 'weekda...</td>\n",
       "      <td>lascruces</td>\n",
       "      <td>marketing-man-seeking-remote-gigs</td>\n",
       "    </tr>\n",
       "    <tr>\n",
       "      <th>3</th>\n",
       "      <td>ElPaso</td>\n",
       "      <td>79936</td>\n",
       "      <td>https://elpaso.craigslist.org/res/d/you-tired-...</td>\n",
       "      <td>I DO BEST RESUMES IN TOWN.\\r\\n\\r\\nI AM TECHNIC...</td>\n",
       "      <td>2019-09-06 08:57</td>\n",
       "      <td>bachelors</td>\n",
       "      <td>0</td>\n",
       "      <td>['afternoons', 'evenings', 'mornings', 'overni...</td>\n",
       "      <td>elpaso</td>\n",
       "      <td>you-tired-of-being-unemployed-aint-the</td>\n",
       "    </tr>\n",
       "    <tr>\n",
       "      <th>4</th>\n",
       "      <td>ElPaso</td>\n",
       "      <td>79936</td>\n",
       "      <td>https://elpaso.craigslist.org/res/d/you-tired-...</td>\n",
       "      <td>I DO BEST RESUMES IN TOWN.\\r\\n\\r\\nI AM TECHNIC...</td>\n",
       "      <td>2019-09-27 14:06</td>\n",
       "      <td>bachelors</td>\n",
       "      <td>0</td>\n",
       "      <td>['evenings', 'mornings', 'overnight']</td>\n",
       "      <td>elpaso</td>\n",
       "      <td>you-tired-of-being-unemployed-aint-the</td>\n",
       "    </tr>\n",
       "  </tbody>\n",
       "</table>\n",
       "</div>"
      ],
      "text/plain": [
       "     city  searched_zipcode  \\\n",
       "0  ElPaso             79936   \n",
       "1  ElPaso             79936   \n",
       "2  ElPaso             79936   \n",
       "3  ElPaso             79936   \n",
       "4  ElPaso             79936   \n",
       "\n",
       "                                                 url  \\\n",
       "0  https://elpaso.craigslist.org/res/d/you-tired-...   \n",
       "1  https://lascruces.craigslist.org/res/d/looking...   \n",
       "2  https://lascruces.craigslist.org/res/d/marketi...   \n",
       "3  https://elpaso.craigslist.org/res/d/you-tired-...   \n",
       "4  https://elpaso.craigslist.org/res/d/you-tired-...   \n",
       "\n",
       "                                             content      posting_date  \\\n",
       "0  I DO BEST RESUMES IN TOWN.\\r\\n\\r\\nI AM TECHNIC...  2019-09-30 18:45   \n",
       "1  hello i'm Carlos im looking for some part time...  2019-09-30 15:28   \n",
       "2  I have a fully equipped home office and do bot...  2019-09-30 09:58   \n",
       "3  I DO BEST RESUMES IN TOWN.\\r\\n\\r\\nI AM TECHNIC...  2019-09-06 08:57   \n",
       "4  I DO BEST RESUMES IN TOWN.\\r\\n\\r\\nI AM TECHNIC...  2019-09-27 14:06   \n",
       "\n",
       "      education  n_photos                                       availability  \\\n",
       "0     bachelors         0  ['afternoons', 'evenings', 'mornings', 'overni...   \n",
       "1    associates         0             ['afternoons', 'evenings', 'mornings']   \n",
       "2  some college         0  ['afternoons', 'evenings', 'mornings', 'weekda...   \n",
       "3     bachelors         0  ['afternoons', 'evenings', 'mornings', 'overni...   \n",
       "4     bachelors         0              ['evenings', 'mornings', 'overnight']   \n",
       "\n",
       "      region                      type of employment  \n",
       "0     elpaso  you-tired-of-being-unemployed-aint-the  \n",
       "1  lascruces            looking-for-work-immediately  \n",
       "2  lascruces       marketing-man-seeking-remote-gigs  \n",
       "3     elpaso  you-tired-of-being-unemployed-aint-the  \n",
       "4     elpaso  you-tired-of-being-unemployed-aint-the  "
      ]
     },
     "execution_count": 43,
     "metadata": {},
     "output_type": "execute_result"
    }
   ],
   "source": [
    "# Map our function and assign the output to a new column\n",
    "df_large_copy['region'] = df_large_copy['url'].map(get_region)\n",
    "df_large_copy['type of employment'] = df_large_copy['url'].map(get_type_employment)\n",
    "df_large_copy.head()"
   ]
  },
  {
   "cell_type": "markdown",
   "metadata": {},
   "source": [
    "Let's try to take a look at the the content and see if we can extract unique informations from it."
   ]
  },
  {
   "cell_type": "code",
   "execution_count": 44,
   "metadata": {},
   "outputs": [
    {
     "data": {
      "text/plain": [
       "'I have a fully equipped home office and do both online and offline Marketing.\\r\\nNeed Ad Buys, Social Media, Web Design, Commercial Voice-Over, and more????\\r\\nContact me with details about your project.\\r\\n\\r\\n1099 or contract Payment via Paypal.\\r\\n\\r\\nEmail today!'"
      ]
     },
     "execution_count": 44,
     "metadata": {},
     "output_type": "execute_result"
    }
   ],
   "source": [
    "# Get 'random' content\n",
    "sample_content = df_large['content'][2]\n",
    "sample_content"
   ]
  },
  {
   "cell_type": "markdown",
   "metadata": {},
   "source": [
    "We can try to split the content into sentences however, we know that '.' will not always work. There will be words that will have '.' with them such as 'Mr.', 'Ms.', 'Dr.', and more. We also notice some characters that don't make sense such `\\n`. For this, we will rely with a popular python library called `nltk` which will help us parse the content into sentences and `re` for text regex."
   ]
  },
  {
   "cell_type": "markdown",
   "metadata": {},
   "source": [
    "`re` allows us to use regex expressions to substitute certain characters or phrases in our data. We can remove the `\\n` using `re.sub()` function."
   ]
  },
  {
   "cell_type": "code",
   "execution_count": 45,
   "metadata": {},
   "outputs": [
    {
     "data": {
      "text/plain": [
       "'I have a fully equipped home office and do both online and offline Marketing.\\r. Need Ad Buys, Social Media, Web Design, Commercial Voice-Over, and more????\\r. Contact me with details about your project.\\r. \\r. 1099 or contract Payment via Paypal.\\r. \\r. Email today!'"
      ]
     },
     "execution_count": 45,
     "metadata": {},
     "output_type": "execute_result"
    }
   ],
   "source": [
    "# re.sub(old_text, new_text, original_text)\n",
    "# the \"\\n+\" allows us to replace \\n's that repeat multiple times consecutively.\n",
    "# as you will notice, \\n is repeated twice everytime it shows up but that doesn't necessarily happen\n",
    "# to other data points\n",
    "\n",
    "# remove next lines\n",
    "clean = re.sub(\"\\n+\", \". \", sample_content)\n",
    "# remove tabs\n",
    "clean = re.sub(\"\\t+\", \". \", clean)\n",
    "clean"
   ]
  },
  {
   "cell_type": "markdown",
   "metadata": {},
   "source": [
    "Alternatively, you can also use the string function `.replace()` but it doesn't give you as much flexibility as a regex function."
   ]
  },
  {
   "cell_type": "code",
   "execution_count": 46,
   "metadata": {},
   "outputs": [
    {
     "data": {
      "text/plain": [
       "'I have a fully equipped home office and do both online and offline Marketing.\\r. Need Ad Buys, Social Media, Web Design, Commercial Voice-Over, and more????\\r. Contact me with details about your project.\\r. \\r. 1099 or contract Payment via Paypal.\\r. \\r. Email today!'"
      ]
     },
     "execution_count": 46,
     "metadata": {},
     "output_type": "execute_result"
    }
   ],
   "source": [
    "sample_content.replace('\\n', '. ')"
   ]
  },
  {
   "cell_type": "markdown",
   "metadata": {},
   "source": [
    "With the cleaned text, we can now parse the information to sentences. We use `nltk.sent_tokenize()` for this."
   ]
  },
  {
   "cell_type": "code",
   "execution_count": 47,
   "metadata": {},
   "outputs": [
    {
     "data": {
      "text/plain": [
       "['I have a fully equipped home office and do both online and offline Marketing.',\n",
       " '.',\n",
       " 'Need Ad Buys, Social Media, Web Design, Commercial Voice-Over, and more????',\n",
       " '.',\n",
       " 'Contact me with details about your project.',\n",
       " '.',\n",
       " '.',\n",
       " '1099 or contract Payment via Paypal.',\n",
       " '.',\n",
       " '.',\n",
       " 'Email today!']"
      ]
     },
     "execution_count": 47,
     "metadata": {},
     "output_type": "execute_result"
    }
   ],
   "source": [
    "sentences = nltk.sent_tokenize(clean)\n",
    "sentences"
   ]
  },
  {
   "cell_type": "markdown",
   "metadata": {},
   "source": [
    "Notice, how our data is all in caps. We can modify the strings with several string functions such as `.lower()`, `.upper()`, or `.capitalize()`."
   ]
  },
  {
   "cell_type": "code",
   "execution_count": 48,
   "metadata": {},
   "outputs": [
    {
     "name": "stdout",
     "output_type": "stream",
     "text": [
      "Original: \tMary and I often visit the nearby park.\n",
      "\n",
      "Lowercase: \tmary and i often visit the nearby park.\n",
      "\n",
      "Uppercase: \tMARY AND I OFTEN VISIT THE NEARBY PARK.\n",
      "\n",
      "Capitalize: \tMary and i often visit the nearby park.\n"
     ]
    }
   ],
   "source": [
    "sample_sentence = \"Mary and I often visit the nearby park.\"\n",
    "print(f\"Original: \\t{sample_sentence}\\n\")\n",
    "print(f\"Lowercase: \\t{sample_sentence.lower()}\\n\")\n",
    "print(f\"Uppercase: \\t{sample_sentence.upper()}\\n\")\n",
    "print(f\"Capitalize: \\t{sample_sentence.capitalize()}\")"
   ]
  },
  {
   "cell_type": "markdown",
   "metadata": {},
   "source": [
    "In some analysis, text is usually lowercased to have a standard format. When words are being grouped or counted, the program will not be able to distinguish `Hello` from `hello` or `hElLo`.\n",
    "\n",
    "We can also split the text into words with nltk."
   ]
  },
  {
   "cell_type": "code",
   "execution_count": 49,
   "metadata": {
    "scrolled": true
   },
   "outputs": [
    {
     "data": {
      "text/plain": [
       "['I',\n",
       " 'have',\n",
       " 'a',\n",
       " 'fully',\n",
       " 'equipped',\n",
       " 'home',\n",
       " 'office',\n",
       " 'and',\n",
       " 'do',\n",
       " 'both',\n",
       " 'online',\n",
       " 'and',\n",
       " 'offline',\n",
       " 'Marketing',\n",
       " '.',\n",
       " '.',\n",
       " 'Need',\n",
       " 'Ad',\n",
       " 'Buys',\n",
       " ',',\n",
       " 'Social',\n",
       " 'Media',\n",
       " ',',\n",
       " 'Web',\n",
       " 'Design',\n",
       " ',',\n",
       " 'Commercial',\n",
       " 'Voice-Over',\n",
       " ',',\n",
       " 'and',\n",
       " 'more',\n",
       " '?',\n",
       " '?',\n",
       " '?',\n",
       " '?',\n",
       " '.',\n",
       " 'Contact',\n",
       " 'me',\n",
       " 'with',\n",
       " 'details',\n",
       " 'about',\n",
       " 'your',\n",
       " 'project',\n",
       " '.',\n",
       " '.',\n",
       " '.',\n",
       " '1099',\n",
       " 'or',\n",
       " 'contract',\n",
       " 'Payment',\n",
       " 'via',\n",
       " 'Paypal',\n",
       " '.',\n",
       " '.',\n",
       " '.',\n",
       " 'Email',\n",
       " 'today',\n",
       " '!']"
      ]
     },
     "execution_count": 49,
     "metadata": {},
     "output_type": "execute_result"
    }
   ],
   "source": [
    "words = nltk.word_tokenize(clean)\n",
    "words"
   ]
  },
  {
   "cell_type": "markdown",
   "metadata": {},
   "source": [
    "Let's write a function that will apply regex functions as well as turn the text to lowercase."
   ]
  },
  {
   "cell_type": "code",
   "execution_count": 50,
   "metadata": {},
   "outputs": [],
   "source": [
    "def clean_text(text):\n",
    "    # remove next lines\n",
    "    clean_text = re.sub(\"\\n+\", \". \", text)\n",
    "    # remove tabs\n",
    "    clean_text = re.sub(\"\\t+\", \". \", clean_text)\n",
    "    # lowercase text\n",
    "    clean_text = clean_text.lower()\n",
    "    \n",
    "    return clean_text"
   ]
  },
  {
   "cell_type": "markdown",
   "metadata": {},
   "source": [
    "Then we'll map that function."
   ]
  },
  {
   "cell_type": "code",
   "execution_count": 51,
   "metadata": {},
   "outputs": [
    {
     "data": {
      "text/html": [
       "<div>\n",
       "<style scoped>\n",
       "    .dataframe tbody tr th:only-of-type {\n",
       "        vertical-align: middle;\n",
       "    }\n",
       "\n",
       "    .dataframe tbody tr th {\n",
       "        vertical-align: top;\n",
       "    }\n",
       "\n",
       "    .dataframe thead th {\n",
       "        text-align: right;\n",
       "    }\n",
       "</style>\n",
       "<table border=\"1\" class=\"dataframe\">\n",
       "  <thead>\n",
       "    <tr style=\"text-align: right;\">\n",
       "      <th></th>\n",
       "      <th>city</th>\n",
       "      <th>searched_zipcode</th>\n",
       "      <th>url</th>\n",
       "      <th>content</th>\n",
       "      <th>posting_date</th>\n",
       "      <th>education</th>\n",
       "      <th>n_photos</th>\n",
       "      <th>availability</th>\n",
       "      <th>region</th>\n",
       "      <th>type of employment</th>\n",
       "      <th>clean_content</th>\n",
       "    </tr>\n",
       "  </thead>\n",
       "  <tbody>\n",
       "    <tr>\n",
       "      <th>0</th>\n",
       "      <td>ElPaso</td>\n",
       "      <td>79936</td>\n",
       "      <td>https://elpaso.craigslist.org/res/d/you-tired-...</td>\n",
       "      <td>I DO BEST RESUMES IN TOWN.\\r\\n\\r\\nI AM TECHNIC...</td>\n",
       "      <td>2019-09-30 18:45</td>\n",
       "      <td>bachelors</td>\n",
       "      <td>0</td>\n",
       "      <td>['afternoons', 'evenings', 'mornings', 'overni...</td>\n",
       "      <td>elpaso</td>\n",
       "      <td>you-tired-of-being-unemployed-aint-the</td>\n",
       "      <td>i do best resumes in town.\\r. \\r. i am technic...</td>\n",
       "    </tr>\n",
       "    <tr>\n",
       "      <th>1</th>\n",
       "      <td>ElPaso</td>\n",
       "      <td>79936</td>\n",
       "      <td>https://lascruces.craigslist.org/res/d/looking...</td>\n",
       "      <td>hello i'm Carlos im looking for some part time...</td>\n",
       "      <td>2019-09-30 15:28</td>\n",
       "      <td>associates</td>\n",
       "      <td>0</td>\n",
       "      <td>['afternoons', 'evenings', 'mornings']</td>\n",
       "      <td>lascruces</td>\n",
       "      <td>looking-for-work-immediately</td>\n",
       "      <td>hello i'm carlos im looking for some part time...</td>\n",
       "    </tr>\n",
       "    <tr>\n",
       "      <th>2</th>\n",
       "      <td>ElPaso</td>\n",
       "      <td>79936</td>\n",
       "      <td>https://lascruces.craigslist.org/res/d/marketi...</td>\n",
       "      <td>I have a fully equipped home office and do bot...</td>\n",
       "      <td>2019-09-30 09:58</td>\n",
       "      <td>some college</td>\n",
       "      <td>0</td>\n",
       "      <td>['afternoons', 'evenings', 'mornings', 'weekda...</td>\n",
       "      <td>lascruces</td>\n",
       "      <td>marketing-man-seeking-remote-gigs</td>\n",
       "      <td>i have a fully equipped home office and do bot...</td>\n",
       "    </tr>\n",
       "    <tr>\n",
       "      <th>3</th>\n",
       "      <td>ElPaso</td>\n",
       "      <td>79936</td>\n",
       "      <td>https://elpaso.craigslist.org/res/d/you-tired-...</td>\n",
       "      <td>I DO BEST RESUMES IN TOWN.\\r\\n\\r\\nI AM TECHNIC...</td>\n",
       "      <td>2019-09-06 08:57</td>\n",
       "      <td>bachelors</td>\n",
       "      <td>0</td>\n",
       "      <td>['afternoons', 'evenings', 'mornings', 'overni...</td>\n",
       "      <td>elpaso</td>\n",
       "      <td>you-tired-of-being-unemployed-aint-the</td>\n",
       "      <td>i do best resumes in town.\\r. \\r. i am technic...</td>\n",
       "    </tr>\n",
       "    <tr>\n",
       "      <th>4</th>\n",
       "      <td>ElPaso</td>\n",
       "      <td>79936</td>\n",
       "      <td>https://elpaso.craigslist.org/res/d/you-tired-...</td>\n",
       "      <td>I DO BEST RESUMES IN TOWN.\\r\\n\\r\\nI AM TECHNIC...</td>\n",
       "      <td>2019-09-27 14:06</td>\n",
       "      <td>bachelors</td>\n",
       "      <td>0</td>\n",
       "      <td>['evenings', 'mornings', 'overnight']</td>\n",
       "      <td>elpaso</td>\n",
       "      <td>you-tired-of-being-unemployed-aint-the</td>\n",
       "      <td>i do best resumes in town.\\r. \\r. i am technic...</td>\n",
       "    </tr>\n",
       "  </tbody>\n",
       "</table>\n",
       "</div>"
      ],
      "text/plain": [
       "     city  searched_zipcode  \\\n",
       "0  ElPaso             79936   \n",
       "1  ElPaso             79936   \n",
       "2  ElPaso             79936   \n",
       "3  ElPaso             79936   \n",
       "4  ElPaso             79936   \n",
       "\n",
       "                                                 url  \\\n",
       "0  https://elpaso.craigslist.org/res/d/you-tired-...   \n",
       "1  https://lascruces.craigslist.org/res/d/looking...   \n",
       "2  https://lascruces.craigslist.org/res/d/marketi...   \n",
       "3  https://elpaso.craigslist.org/res/d/you-tired-...   \n",
       "4  https://elpaso.craigslist.org/res/d/you-tired-...   \n",
       "\n",
       "                                             content      posting_date  \\\n",
       "0  I DO BEST RESUMES IN TOWN.\\r\\n\\r\\nI AM TECHNIC...  2019-09-30 18:45   \n",
       "1  hello i'm Carlos im looking for some part time...  2019-09-30 15:28   \n",
       "2  I have a fully equipped home office and do bot...  2019-09-30 09:58   \n",
       "3  I DO BEST RESUMES IN TOWN.\\r\\n\\r\\nI AM TECHNIC...  2019-09-06 08:57   \n",
       "4  I DO BEST RESUMES IN TOWN.\\r\\n\\r\\nI AM TECHNIC...  2019-09-27 14:06   \n",
       "\n",
       "      education  n_photos                                       availability  \\\n",
       "0     bachelors         0  ['afternoons', 'evenings', 'mornings', 'overni...   \n",
       "1    associates         0             ['afternoons', 'evenings', 'mornings']   \n",
       "2  some college         0  ['afternoons', 'evenings', 'mornings', 'weekda...   \n",
       "3     bachelors         0  ['afternoons', 'evenings', 'mornings', 'overni...   \n",
       "4     bachelors         0              ['evenings', 'mornings', 'overnight']   \n",
       "\n",
       "      region                      type of employment  \\\n",
       "0     elpaso  you-tired-of-being-unemployed-aint-the   \n",
       "1  lascruces            looking-for-work-immediately   \n",
       "2  lascruces       marketing-man-seeking-remote-gigs   \n",
       "3     elpaso  you-tired-of-being-unemployed-aint-the   \n",
       "4     elpaso  you-tired-of-being-unemployed-aint-the   \n",
       "\n",
       "                                       clean_content  \n",
       "0  i do best resumes in town.\\r. \\r. i am technic...  \n",
       "1  hello i'm carlos im looking for some part time...  \n",
       "2  i have a fully equipped home office and do bot...  \n",
       "3  i do best resumes in town.\\r. \\r. i am technic...  \n",
       "4  i do best resumes in town.\\r. \\r. i am technic...  "
      ]
     },
     "execution_count": 51,
     "metadata": {},
     "output_type": "execute_result"
    }
   ],
   "source": [
    "df_large_copy['clean_content'] = df_large_copy['content'].map(clean_text)\n",
    "df_large_copy.head()"
   ]
  },
  {
   "cell_type": "markdown",
   "metadata": {},
   "source": [
    "We can save the file to csv format with `.to_csv` function"
   ]
  },
  {
   "cell_type": "code",
   "execution_count": 52,
   "metadata": {},
   "outputs": [],
   "source": [
    "df_large_copy.to_csv(\"./../assets/data_large_clean.csv\")"
   ]
  },
  {
   "cell_type": "markdown",
   "metadata": {},
   "source": [
    "# Bonus Stuff:"
   ]
  },
  {
   "cell_type": "markdown",
   "metadata": {},
   "source": [
    "## Sentiment Analysis with TextBlob\n",
    "Sentiment analysis whether the text is positive(1.0) or negative(-1.0)."
   ]
  },
  {
   "cell_type": "code",
   "execution_count": 53,
   "metadata": {},
   "outputs": [],
   "source": [
    "from textblob import TextBlob"
   ]
  },
  {
   "cell_type": "code",
   "execution_count": 54,
   "metadata": {},
   "outputs": [],
   "source": [
    "positive_text = \"The movie was great.\"\n",
    "negative_text = \"The movie seat was dirty.\""
   ]
  },
  {
   "cell_type": "code",
   "execution_count": 55,
   "metadata": {},
   "outputs": [
    {
     "data": {
      "text/plain": [
       "Sentiment(polarity=0.8, subjectivity=0.75)"
      ]
     },
     "execution_count": 55,
     "metadata": {},
     "output_type": "execute_result"
    }
   ],
   "source": [
    "TextBlob(positive_text).sentiment"
   ]
  },
  {
   "cell_type": "code",
   "execution_count": 56,
   "metadata": {},
   "outputs": [
    {
     "data": {
      "text/plain": [
       "Sentiment(polarity=-0.6, subjectivity=0.8)"
      ]
     },
     "execution_count": 56,
     "metadata": {},
     "output_type": "execute_result"
    }
   ],
   "source": [
    "TextBlob(negative_text).sentiment"
   ]
  },
  {
   "cell_type": "code",
   "execution_count": 57,
   "metadata": {},
   "outputs": [],
   "source": [
    "def get_sentiment(text):\n",
    "    polarity, subjectivity = TextBlob(text).sentiment\n",
    "    print(text)\n",
    "    print(f\"Polarity = {polarity:.2f}\")\n",
    "    print(f\"Subjectivity = {subjectivity:.2f}\")\n",
    "    print(\"___\")"
   ]
  },
  {
   "cell_type": "code",
   "execution_count": 58,
   "metadata": {},
   "outputs": [
    {
     "name": "stdout",
     "output_type": "stream",
     "text": [
      "This taco\n",
      "Polarity = 0.00\n",
      "Subjectivity = 0.00\n",
      "___\n",
      "This taco is\n",
      "Polarity = 0.00\n",
      "Subjectivity = 0.00\n",
      "___\n",
      "This taco is disgusting\n",
      "Polarity = -1.00\n",
      "Subjectivity = 1.00\n",
      "___\n",
      "This taco is disgustingly good\n",
      "Polarity = 0.70\n",
      "Subjectivity = 0.60\n",
      "___\n"
     ]
    }
   ],
   "source": [
    "get_sentiment(\"This taco\")\n",
    "get_sentiment(\"This taco is\")\n",
    "get_sentiment(\"This taco is disgusting\")\n",
    "get_sentiment(\"This taco is disgustingly good\")"
   ]
  },
  {
   "cell_type": "markdown",
   "metadata": {},
   "source": [
    "Not always correct but is useful."
   ]
  },
  {
   "cell_type": "markdown",
   "metadata": {},
   "source": [
    "## Wordcloud"
   ]
  },
  {
   "cell_type": "markdown",
   "metadata": {},
   "source": [
    "The more a word appears in a document, the bigger and bolder the word appears in the Wordcloud."
   ]
  },
  {
   "cell_type": "code",
   "execution_count": 59,
   "metadata": {},
   "outputs": [],
   "source": [
    "from wordcloud import WordCloud\n",
    "from collections import Counter\n",
    "import matplotlib.pyplot as plt\n",
    "%matplotlib inline\n",
    "\n",
    "sample_idx = 300\n",
    "text = df_large_copy['clean_content'].iloc[sample_idx]\n",
    "wordcloud = WordCloud().generate(text)"
   ]
  },
  {
   "cell_type": "code",
   "execution_count": 60,
   "metadata": {},
   "outputs": [
    {
     "data": {
      "image/png": "[encoded data removed]",
      "text/plain": [
       "<Figure size 576x576 with 1 Axes>"
      ]
     },
     "metadata": {
      "needs_background": "light"
     },
     "output_type": "display_data"
    },
    {
     "name": "stdout",
     "output_type": "stream",
     "text": [
      "Original Text:\n",
      ". edith rodriguez\n"
     ]
    }
   ],
   "source": [
    "plt.figure(figsize = (8,8))\n",
    "plt.imshow(wordcloud, interpolation=\"bilinear\")\n",
    "plt.axis(\"off\")\n",
    "plt.show()\n",
    "\n",
    "print(f\"Original Text:\\n{text}\")"
   ]
  },
  {
   "cell_type": "code",
   "execution_count": 61,
   "metadata": {},
   "outputs": [
    {
     "data": {
      "text/html": [
       "<div>\n",
       "<style scoped>\n",
       "    .dataframe tbody tr th:only-of-type {\n",
       "        vertical-align: middle;\n",
       "    }\n",
       "\n",
       "    .dataframe tbody tr th {\n",
       "        vertical-align: top;\n",
       "    }\n",
       "\n",
       "    .dataframe thead th {\n",
       "        text-align: right;\n",
       "    }\n",
       "</style>\n",
       "<table border=\"1\" class=\"dataframe\">\n",
       "  <thead>\n",
       "    <tr style=\"text-align: right;\">\n",
       "      <th></th>\n",
       "      <th>word</th>\n",
       "      <th>frequency</th>\n",
       "    </tr>\n",
       "  </thead>\n",
       "  <tbody>\n",
       "    <tr>\n",
       "      <th>0</th>\n",
       "      <td>quickbooks</td>\n",
       "      <td>6</td>\n",
       "    </tr>\n",
       "    <tr>\n",
       "      <th>1</th>\n",
       "      <td>accounts</td>\n",
       "      <td>3</td>\n",
       "    </tr>\n",
       "    <tr>\n",
       "      <th>2</th>\n",
       "      <td>accouting</td>\n",
       "      <td>2</td>\n",
       "    </tr>\n",
       "    <tr>\n",
       "      <th>3</th>\n",
       "      <td>schedule</td>\n",
       "      <td>2</td>\n",
       "    </tr>\n",
       "    <tr>\n",
       "      <th>4</th>\n",
       "      <td>one</td>\n",
       "      <td>2</td>\n",
       "    </tr>\n",
       "    <tr>\n",
       "      <th>5</th>\n",
       "      <td>training</td>\n",
       "      <td>2</td>\n",
       "    </tr>\n",
       "    <tr>\n",
       "      <th>6</th>\n",
       "      <td>setup</td>\n",
       "      <td>2</td>\n",
       "    </tr>\n",
       "    <tr>\n",
       "      <th>7</th>\n",
       "      <td>using</td>\n",
       "      <td>2</td>\n",
       "    </tr>\n",
       "    <tr>\n",
       "      <th>8</th>\n",
       "      <td>online</td>\n",
       "      <td>2</td>\n",
       "    </tr>\n",
       "    <tr>\n",
       "      <th>9</th>\n",
       "      <td>documents</td>\n",
       "      <td>2</td>\n",
       "    </tr>\n",
       "  </tbody>\n",
       "</table>\n",
       "</div>"
      ],
      "text/plain": [
       "         word  frequency\n",
       "0  quickbooks          6\n",
       "1    accounts          3\n",
       "2   accouting          2\n",
       "3    schedule          2\n",
       "4         one          2\n",
       "5    training          2\n",
       "6       setup          2\n",
       "7       using          2\n",
       "8      online          2\n",
       "9   documents          2"
      ]
     },
     "execution_count": 61,
     "metadata": {},
     "output_type": "execute_result"
    }
   ],
   "source": [
    "# The 'not-so-pretty' version\n",
    "frequency_df = []\n",
    "\n",
    "sample_paragraph    = text\n",
    "\n",
    "# Remove non alphanumeric text\n",
    "cleaned_paragraph   = re.sub('[^0-9a-zA-Z]+', ' ', sample_paragraph)\n",
    "\n",
    "# Tokenize the text\n",
    "tokenized_paragraph = nltk.word_tokenize(cleaned_paragraph)\n",
    "\n",
    "# Define stopword list\n",
    "stopwords = set(nltk.corpus.stopwords.words('english'))\n",
    "\n",
    "# Print the 10 most common words and their frequency\n",
    "for word, count in Counter(tokenized_paragraph).most_common():\n",
    "    \n",
    "    # Check if the word is a stop word or not\n",
    "    if word not in stopwords:\n",
    "        frequency_df.append([word, count])\n",
    "        \n",
    "        # Stop at 10 words\n",
    "        if len(frequency_df) == 10:\n",
    "            break\n",
    "\n",
    "# Convert to dataframe for better visualization\n",
    "frequency_df = pd.DataFrame(frequency_df, columns = ['word', 'frequency'])\n",
    "frequency_df"
   ]
  },
  {
   "cell_type": "markdown",
   "metadata": {},
   "source": [
    "Notice how wordcloud also removes stop words"
   ]
  },
  {
   "cell_type": "code",
   "execution_count": null,
   "metadata": {},
   "outputs": [],
   "source": []
  },
  {
   "cell_type": "code",
   "execution_count": null,
   "metadata": {},
   "outputs": [],
   "source": []
  },
  {
   "cell_type": "code",
   "execution_count": null,
   "metadata": {},
   "outputs": [],
   "source": []
  },
  {
   "cell_type": "code",
   "execution_count": null,
   "metadata": {},
   "outputs": [],
   "source": []
  }
 ],
 "metadata": {
  "kernelspec": {
   "display_name": "Python 3",
   "language": "python",
   "name": "python3"
  },
  "language_info": {
   "codemirror_mode": {
    "name": "ipython",
    "version": 3
   },
   "file_extension": ".py",
   "mimetype": "text/x-python",
   "name": "python",
   "nbconvert_exporter": "python",
   "pygments_lexer": "ipython3",
   "version": "3.7.2"
  }
 },
 "nbformat": 4,
 "nbformat_minor": 2
}
