{
 "cells": [
  {
   "cell_type": "markdown",
   "metadata": {},
   "source": [
    "Using the person's resume, we will try to predict what the education level is of the person. We will explore 2 approaches: (1) a bag-of-words model then using random forest classifier and (2) a bag-of-words model then applying a simple neural network."
   ]
  },
  {
   "cell_type": "code",
   "execution_count": 50,
   "metadata": {},
   "outputs": [],
   "source": [
    "import numpy as np\n",
    "import pandas as pd\n",
    "\n",
    "import matplotlib.pyplot as plt\n",
    "\n",
    "%matplotlib inline"
   ]
  },
  {
   "cell_type": "code",
   "execution_count": 51,
   "metadata": {},
   "outputs": [],
   "source": [
    "df = pd.read_csv(\"./../assets/data_large_clean.csv\", index_col = 0)"
   ]
  },
  {
   "cell_type": "markdown",
   "metadata": {},
   "source": [
    "Let's explore how our data is distributed."
   ]
  },
  {
   "cell_type": "code",
   "execution_count": 70,
   "metadata": {},
   "outputs": [
    {
     "data": {
      "image/png": "[encoded data removed]",
      "text/plain": [
       "<Figure size 576x432 with 1 Axes>"
      ]
     },
     "metadata": {
      "needs_background": "light"
     },
     "output_type": "display_data"
    }
   ],
   "source": [
    "def plot_df():\n",
    "    x = []\n",
    "    y = []\n",
    "\n",
    "    educ_count = df.groupby(['education']).count()['city']\n",
    "    educ_list = list(sorted(df['education'].unique()))\n",
    "\n",
    "    for educ in educ_list:\n",
    "        x.append(educ)\n",
    "        y.append(educ_count[educ])\n",
    "\n",
    "    plt.figure(figsize = (8,6))\n",
    "    plt.title(\"Education Level Count\")\n",
    "    plt.xlabel(\"Education Level\")\n",
    "    plt.ylabel(\"Count\")\n",
    "    plt.grid()\n",
    "    plt.xticks(rotation=45)\n",
    "\n",
    "    for idx, value in enumerate(y):\n",
    "        plt.text(x = idx, y = value + 35, \n",
    "                 s = f\"{value:,}\", fontweight='bold', \n",
    "                 horizontalalignment='center')\n",
    "\n",
    "    plt.bar(x, y);\n",
    "    \n",
    "plot_df()"
   ]
  },
  {
   "cell_type": "markdown",
   "metadata": {},
   "source": [
    "Machine learning models are very sensitive to imbalanced data. For an exaggerated example, imagine training a model to predict dogs and cats. If your training data has 99 images of dogs and only 1 image of a cat, your model will most likely overfit and only predict dogs and still get 99% accuracy.\n",
    "\n",
    "We will filter and clean our data in preparation for the prediction and become a data janitor.\n",
    "\n",
    "With our data collection process, some of the posts were repeated. They were either posted in different times or different locations. We'll take a look at all data points that aren't unique in the `clean_content` column."
   ]
  },
  {
   "cell_type": "code",
   "execution_count": 73,
   "metadata": {},
   "outputs": [
    {
     "data": {
      "text/html": [
       "<div>\n",
       "<style scoped>\n",
       "    .dataframe tbody tr th:only-of-type {\n",
       "        vertical-align: middle;\n",
       "    }\n",
       "\n",
       "    .dataframe tbody tr th {\n",
       "        vertical-align: top;\n",
       "    }\n",
       "\n",
       "    .dataframe thead th {\n",
       "        text-align: right;\n",
       "    }\n",
       "</style>\n",
       "<table border=\"1\" class=\"dataframe\">\n",
       "  <thead>\n",
       "    <tr style=\"text-align: right;\">\n",
       "      <th></th>\n",
       "      <th>city</th>\n",
       "      <th>searched_zipcode</th>\n",
       "      <th>url</th>\n",
       "      <th>content</th>\n",
       "      <th>posting_date</th>\n",
       "      <th>education</th>\n",
       "      <th>n_photos</th>\n",
       "      <th>availability</th>\n",
       "      <th>region</th>\n",
       "      <th>type of employment</th>\n",
       "      <th>clean_content</th>\n",
       "    </tr>\n",
       "  </thead>\n",
       "  <tbody>\n",
       "    <tr>\n",
       "      <td>10</td>\n",
       "      <td>ElPaso</td>\n",
       "      <td>79936</td>\n",
       "      <td>https://elpaso.craigslist.org/res/d/looking-fo...</td>\n",
       "      <td>I DO BEST RESUMES IN TOWN.\\n\\nI AM TECHNICAL W...</td>\n",
       "      <td>2019-07-25 10:12</td>\n",
       "      <td>bachelors</td>\n",
       "      <td>0</td>\n",
       "      <td>['afternoons', 'evenings', 'mornings', 'weekda...</td>\n",
       "      <td>elpaso</td>\n",
       "      <td>looking-for-new-career-move-you-need</td>\n",
       "      <td>i do best resumes in town.. i am technical wri...</td>\n",
       "    </tr>\n",
       "    <tr>\n",
       "      <td>11</td>\n",
       "      <td>ElPaso</td>\n",
       "      <td>79936</td>\n",
       "      <td>https://elpaso.craigslist.org/res/d/you-tired-...</td>\n",
       "      <td>I DO BEST RESUMES IN TOWN.\\n\\nI AM TECHNICAL W...</td>\n",
       "      <td>2019-07-25 10:08</td>\n",
       "      <td>bachelors</td>\n",
       "      <td>0</td>\n",
       "      <td>['evenings', 'mornings', 'overnight']</td>\n",
       "      <td>elpaso</td>\n",
       "      <td>you-tired-of-being-unemployed-aint-the</td>\n",
       "      <td>i do best resumes in town.. i am technical wri...</td>\n",
       "    </tr>\n",
       "    <tr>\n",
       "      <td>15</td>\n",
       "      <td>ElPaso</td>\n",
       "      <td>79936</td>\n",
       "      <td>https://elpaso.craigslist.org/res/d/you-tired-...</td>\n",
       "      <td>I DO BEST RESUMES IN TOWN.\\n\\nI AM TECHNICAL W...</td>\n",
       "      <td>2019-07-23 11:01</td>\n",
       "      <td>bachelors</td>\n",
       "      <td>0</td>\n",
       "      <td>['afternoons', 'evenings', 'mornings', 'overni...</td>\n",
       "      <td>elpaso</td>\n",
       "      <td>you-tired-of-being-unemployed-aint-the</td>\n",
       "      <td>i do best resumes in town.. i am technical wri...</td>\n",
       "    </tr>\n",
       "    <tr>\n",
       "      <td>22</td>\n",
       "      <td>ElPaso</td>\n",
       "      <td>79936</td>\n",
       "      <td>https://elpaso.craigslist.org/res/d/massages/6...</td>\n",
       "      <td>Hello my name is Adrian I am 23 years old I am...</td>\n",
       "      <td>2019-08-10 12:15</td>\n",
       "      <td>high school/GED</td>\n",
       "      <td>1</td>\n",
       "      <td>['mornings']</td>\n",
       "      <td>elpaso</td>\n",
       "      <td>massages</td>\n",
       "      <td>hello my name is adrian i am 23 years old i am...</td>\n",
       "    </tr>\n",
       "    <tr>\n",
       "      <td>75</td>\n",
       "      <td>LosAngeles</td>\n",
       "      <td>90011</td>\n",
       "      <td>https://sandiego.craigslist.org/csd/res/d/medi...</td>\n",
       "      <td>Hello,\\nMy name is Ronnie I've been a MA for o...</td>\n",
       "      <td>2019-09-03 15:37</td>\n",
       "      <td>some college</td>\n",
       "      <td>3</td>\n",
       "      <td>['afternoons', 'evenings', 'mornings', 'overni...</td>\n",
       "      <td>sandiego</td>\n",
       "      <td>medical-assistant</td>\n",
       "      <td>hello,. my name is ronnie i've been a ma for o...</td>\n",
       "    </tr>\n",
       "    <tr>\n",
       "      <td>76</td>\n",
       "      <td>LosAngeles</td>\n",
       "      <td>90011</td>\n",
       "      <td>https://sandiego.craigslist.org/csd/res/d/medi...</td>\n",
       "      <td>Hello,\\nMy name is Ronnie I've been a MA for o...</td>\n",
       "      <td>2019-09-03 15:39</td>\n",
       "      <td>some college</td>\n",
       "      <td>2</td>\n",
       "      <td>['afternoons', 'evenings', 'mornings', 'overni...</td>\n",
       "      <td>sandiego</td>\n",
       "      <td>medical-assistant</td>\n",
       "      <td>hello,. my name is ronnie i've been a ma for o...</td>\n",
       "    </tr>\n",
       "    <tr>\n",
       "      <td>77</td>\n",
       "      <td>LosAngeles</td>\n",
       "      <td>90011</td>\n",
       "      <td>https://sandiego.craigslist.org/csd/res/d/medi...</td>\n",
       "      <td>Hello,\\nMy name is Ronnie I've been a MA for o...</td>\n",
       "      <td>2019-09-03 15:38</td>\n",
       "      <td>some college</td>\n",
       "      <td>3</td>\n",
       "      <td>['afternoons', 'evenings', 'mornings', 'overni...</td>\n",
       "      <td>sandiego</td>\n",
       "      <td>medical-assistant</td>\n",
       "      <td>hello,. my name is ronnie i've been a ma for o...</td>\n",
       "    </tr>\n",
       "    <tr>\n",
       "      <td>82</td>\n",
       "      <td>LosAngeles</td>\n",
       "      <td>90011</td>\n",
       "      <td>https://losangeles.craigslist.org/lac/res/d/it...</td>\n",
       "      <td>I'm an independent contractor in IT industry s...</td>\n",
       "      <td>2019-08-23 17:17</td>\n",
       "      <td>bachelors</td>\n",
       "      <td>0</td>\n",
       "      <td>['afternoons', 'evenings', 'mornings', 'overni...</td>\n",
       "      <td>losangeles</td>\n",
       "      <td>it-tech-is-looking-for-project-an</td>\n",
       "      <td>i'm an independent contractor in it industry s...</td>\n",
       "    </tr>\n",
       "    <tr>\n",
       "      <td>88</td>\n",
       "      <td>LosAngeles</td>\n",
       "      <td>90011</td>\n",
       "      <td>https://sandiego.craigslist.org/esd/res/d/real...</td>\n",
       "      <td>Hello, my name is Andres Alvarado. I am an art...</td>\n",
       "      <td>2019-09-05 16:10</td>\n",
       "      <td>high school/GED</td>\n",
       "      <td>2</td>\n",
       "      <td>['afternoons', 'evenings', 'mornings']</td>\n",
       "      <td>sandiego</td>\n",
       "      <td>real-professional-individual</td>\n",
       "      <td>hello, my name is andres alvarado. i am an art...</td>\n",
       "    </tr>\n",
       "    <tr>\n",
       "      <td>104</td>\n",
       "      <td>LosAngeles</td>\n",
       "      <td>90011</td>\n",
       "      <td>https://losangeles.craigslist.org/sgv/res/d/se...</td>\n",
       "      <td>I am low voltage tech with experience in secur...</td>\n",
       "      <td>2019-08-12 16:21</td>\n",
       "      <td>some college</td>\n",
       "      <td>5</td>\n",
       "      <td>['afternoons', 'evenings', 'mornings', 'overni...</td>\n",
       "      <td>losangeles</td>\n",
       "      <td>security-and-alarm-tech-looking-for</td>\n",
       "      <td>i am low voltage tech with experience in secur...</td>\n",
       "    </tr>\n",
       "  </tbody>\n",
       "</table>\n",
       "</div>"
      ],
      "text/plain": [
       "           city  searched_zipcode  \\\n",
       "10       ElPaso             79936   \n",
       "11       ElPaso             79936   \n",
       "15       ElPaso             79936   \n",
       "22       ElPaso             79936   \n",
       "75   LosAngeles             90011   \n",
       "76   LosAngeles             90011   \n",
       "77   LosAngeles             90011   \n",
       "82   LosAngeles             90011   \n",
       "88   LosAngeles             90011   \n",
       "104  LosAngeles             90011   \n",
       "\n",
       "                                                   url  \\\n",
       "10   https://elpaso.craigslist.org/res/d/looking-fo...   \n",
       "11   https://elpaso.craigslist.org/res/d/you-tired-...   \n",
       "15   https://elpaso.craigslist.org/res/d/you-tired-...   \n",
       "22   https://elpaso.craigslist.org/res/d/massages/6...   \n",
       "75   https://sandiego.craigslist.org/csd/res/d/medi...   \n",
       "76   https://sandiego.craigslist.org/csd/res/d/medi...   \n",
       "77   https://sandiego.craigslist.org/csd/res/d/medi...   \n",
       "82   https://losangeles.craigslist.org/lac/res/d/it...   \n",
       "88   https://sandiego.craigslist.org/esd/res/d/real...   \n",
       "104  https://losangeles.craigslist.org/sgv/res/d/se...   \n",
       "\n",
       "                                               content      posting_date  \\\n",
       "10   I DO BEST RESUMES IN TOWN.\\n\\nI AM TECHNICAL W...  2019-07-25 10:12   \n",
       "11   I DO BEST RESUMES IN TOWN.\\n\\nI AM TECHNICAL W...  2019-07-25 10:08   \n",
       "15   I DO BEST RESUMES IN TOWN.\\n\\nI AM TECHNICAL W...  2019-07-23 11:01   \n",
       "22   Hello my name is Adrian I am 23 years old I am...  2019-08-10 12:15   \n",
       "75   Hello,\\nMy name is Ronnie I've been a MA for o...  2019-09-03 15:37   \n",
       "76   Hello,\\nMy name is Ronnie I've been a MA for o...  2019-09-03 15:39   \n",
       "77   Hello,\\nMy name is Ronnie I've been a MA for o...  2019-09-03 15:38   \n",
       "82   I'm an independent contractor in IT industry s...  2019-08-23 17:17   \n",
       "88   Hello, my name is Andres Alvarado. I am an art...  2019-09-05 16:10   \n",
       "104  I am low voltage tech with experience in secur...  2019-08-12 16:21   \n",
       "\n",
       "           education  n_photos  \\\n",
       "10         bachelors         0   \n",
       "11         bachelors         0   \n",
       "15         bachelors         0   \n",
       "22   high school/GED         1   \n",
       "75      some college         3   \n",
       "76      some college         2   \n",
       "77      some college         3   \n",
       "82         bachelors         0   \n",
       "88   high school/GED         2   \n",
       "104     some college         5   \n",
       "\n",
       "                                          availability      region  \\\n",
       "10   ['afternoons', 'evenings', 'mornings', 'weekda...      elpaso   \n",
       "11               ['evenings', 'mornings', 'overnight']      elpaso   \n",
       "15   ['afternoons', 'evenings', 'mornings', 'overni...      elpaso   \n",
       "22                                        ['mornings']      elpaso   \n",
       "75   ['afternoons', 'evenings', 'mornings', 'overni...    sandiego   \n",
       "76   ['afternoons', 'evenings', 'mornings', 'overni...    sandiego   \n",
       "77   ['afternoons', 'evenings', 'mornings', 'overni...    sandiego   \n",
       "82   ['afternoons', 'evenings', 'mornings', 'overni...  losangeles   \n",
       "88              ['afternoons', 'evenings', 'mornings']    sandiego   \n",
       "104  ['afternoons', 'evenings', 'mornings', 'overni...  losangeles   \n",
       "\n",
       "                         type of employment  \\\n",
       "10     looking-for-new-career-move-you-need   \n",
       "11   you-tired-of-being-unemployed-aint-the   \n",
       "15   you-tired-of-being-unemployed-aint-the   \n",
       "22                                 massages   \n",
       "75                        medical-assistant   \n",
       "76                        medical-assistant   \n",
       "77                        medical-assistant   \n",
       "82        it-tech-is-looking-for-project-an   \n",
       "88             real-professional-individual   \n",
       "104     security-and-alarm-tech-looking-for   \n",
       "\n",
       "                                         clean_content  \n",
       "10   i do best resumes in town.. i am technical wri...  \n",
       "11   i do best resumes in town.. i am technical wri...  \n",
       "15   i do best resumes in town.. i am technical wri...  \n",
       "22   hello my name is adrian i am 23 years old i am...  \n",
       "75   hello,. my name is ronnie i've been a ma for o...  \n",
       "76   hello,. my name is ronnie i've been a ma for o...  \n",
       "77   hello,. my name is ronnie i've been a ma for o...  \n",
       "82   i'm an independent contractor in it industry s...  \n",
       "88   hello, my name is andres alvarado. i am an art...  \n",
       "104  i am low voltage tech with experience in secur...  "
      ]
     },
     "execution_count": 73,
     "metadata": {},
     "output_type": "execute_result"
    }
   ],
   "source": [
    "df[df.duplicated(subset = 'clean_content')].head(10)"
   ]
  },
  {
   "cell_type": "markdown",
   "metadata": {},
   "source": [
    "Notice that some of the data points were posted at different times or region. However, we only need one instance of that data."
   ]
  },
  {
   "cell_type": "code",
   "execution_count": 79,
   "metadata": {},
   "outputs": [],
   "source": [
    "df.drop_duplicates(subset = 'clean_content', keep = 'first', inplace = True)\n",
    "df.reset_index(drop = True, inplace = True)"
   ]
  },
  {
   "cell_type": "code",
   "execution_count": 82,
   "metadata": {},
   "outputs": [
    {
     "data": {
      "image/png": "[encoded data removed]",
      "text/plain": [
       "<Figure size 576x432 with 1 Axes>"
      ]
     },
     "metadata": {
      "needs_background": "light"
     },
     "output_type": "display_data"
    }
   ],
   "source": [
    "plot_df()"
   ]
  },
  {
   "cell_type": "markdown",
   "metadata": {},
   "source": [
    "We reduced the amount of data tha we have to about 1/3. We notice that some of the labels only have a few data points. There are several ways to address imbalance datasets such as upsampling or downsampling. However for this exercise, we will only use labels that have at least 500 samples."
   ]
  },
  {
   "cell_type": "code",
   "execution_count": 91,
   "metadata": {},
   "outputs": [],
   "source": [
    "# List out education levels that we will include\n",
    "included_educ_level = ['high school/GED',\n",
    "                       'some college',\n",
    "                       'associates',\n",
    "                       'bachelors',\n",
    "                       'masters']\n",
    "\n",
    "# Filter out our data and only include samples that are in the selected education levels\n",
    "df = df[df['education'].isin(included_educ_level)].reset_index(drop = True)"
   ]
  },
  {
   "cell_type": "code",
   "execution_count": 96,
   "metadata": {},
   "outputs": [
    {
     "data": {
      "image/png": "[encoded data removed]",
      "text/plain": [
       "<Figure size 576x432 with 1 Axes>"
      ]
     },
     "metadata": {
      "needs_background": "light"
     },
     "output_type": "display_data"
    }
   ],
   "source": [
    "plot_df()"
   ]
  },
  {
   "cell_type": "markdown",
   "metadata": {},
   "source": [
    "Now our data looks good and we can work on developing the classification model."
   ]
  },
  {
   "cell_type": "code",
   "execution_count": 97,
   "metadata": {},
   "outputs": [],
   "source": [
    "# We only need the clean_content and education\n",
    "working_data = df[['clean_content', 'education']]"
   ]
  },
  {
   "cell_type": "code",
   "execution_count": 98,
   "metadata": {},
   "outputs": [
    {
     "data": {
      "text/html": [
       "<div>\n",
       "<style scoped>\n",
       "    .dataframe tbody tr th:only-of-type {\n",
       "        vertical-align: middle;\n",
       "    }\n",
       "\n",
       "    .dataframe tbody tr th {\n",
       "        vertical-align: top;\n",
       "    }\n",
       "\n",
       "    .dataframe thead th {\n",
       "        text-align: right;\n",
       "    }\n",
       "</style>\n",
       "<table border=\"1\" class=\"dataframe\">\n",
       "  <thead>\n",
       "    <tr style=\"text-align: right;\">\n",
       "      <th></th>\n",
       "      <th>clean_content</th>\n",
       "      <th>education</th>\n",
       "    </tr>\n",
       "  </thead>\n",
       "  <tbody>\n",
       "    <tr>\n",
       "      <td>0</td>\n",
       "      <td>aside from word of mouth or face to face , col...</td>\n",
       "      <td>some college</td>\n",
       "    </tr>\n",
       "    <tr>\n",
       "      <td>1</td>\n",
       "      <td>looking for a new job and no respond from the ...</td>\n",
       "      <td>bachelors</td>\n",
       "    </tr>\n",
       "    <tr>\n",
       "      <td>2</td>\n",
       "      <td>i do best resumes in town.. i am technical wri...</td>\n",
       "      <td>bachelors</td>\n",
       "    </tr>\n",
       "    <tr>\n",
       "      <td>3</td>\n",
       "      <td>well i'm a 24 year old female just lost my job...</td>\n",
       "      <td>some college</td>\n",
       "    </tr>\n",
       "    <tr>\n",
       "      <td>4</td>\n",
       "      <td>caregiver available immediately. 5 years hospi...</td>\n",
       "      <td>bachelors</td>\n",
       "    </tr>\n",
       "    <tr>\n",
       "      <td>...</td>\n",
       "      <td>...</td>\n",
       "      <td>...</td>\n",
       "    </tr>\n",
       "    <tr>\n",
       "      <td>10631</td>\n",
       "      <td>master’s degreed accountant looking for client...</td>\n",
       "      <td>masters</td>\n",
       "    </tr>\n",
       "    <tr>\n",
       "      <td>10632</td>\n",
       "      <td>hello i need to make extra cash for upcoming s...</td>\n",
       "      <td>high school/GED</td>\n",
       "    </tr>\n",
       "    <tr>\n",
       "      <td>10633</td>\n",
       "      <td>swm 5'10\" and 160# blonde and hazel caregiver/...</td>\n",
       "      <td>some college</td>\n",
       "    </tr>\n",
       "    <tr>\n",
       "      <td>10634</td>\n",
       "      <td>hello. i am looking for an warehouse managemen...</td>\n",
       "      <td>some college</td>\n",
       "    </tr>\n",
       "    <tr>\n",
       "      <td>10635</td>\n",
       "      <td>hello i am a pet sitter/dog walker i am availa...</td>\n",
       "      <td>high school/GED</td>\n",
       "    </tr>\n",
       "  </tbody>\n",
       "</table>\n",
       "<p>10636 rows × 2 columns</p>\n",
       "</div>"
      ],
      "text/plain": [
       "                                           clean_content        education\n",
       "0      aside from word of mouth or face to face , col...     some college\n",
       "1      looking for a new job and no respond from the ...        bachelors\n",
       "2      i do best resumes in town.. i am technical wri...        bachelors\n",
       "3      well i'm a 24 year old female just lost my job...     some college\n",
       "4      caregiver available immediately. 5 years hospi...        bachelors\n",
       "...                                                  ...              ...\n",
       "10631  master’s degreed accountant looking for client...          masters\n",
       "10632  hello i need to make extra cash for upcoming s...  high school/GED\n",
       "10633  swm 5'10\" and 160# blonde and hazel caregiver/...     some college\n",
       "10634  hello. i am looking for an warehouse managemen...     some college\n",
       "10635  hello i am a pet sitter/dog walker i am availa...  high school/GED\n",
       "\n",
       "[10636 rows x 2 columns]"
      ]
     },
     "execution_count": 98,
     "metadata": {},
     "output_type": "execute_result"
    }
   ],
   "source": [
    "working_data"
   ]
  },
  {
   "cell_type": "markdown",
   "metadata": {},
   "source": [
    "# Classification"
   ]
  },
  {
   "cell_type": "code",
   "execution_count": 297,
   "metadata": {},
   "outputs": [],
   "source": [
    "from sklearn.feature_extraction.text import CountVectorizer\n",
    "from sklearn.preprocessing import LabelBinarizer, LabelEncoder\n",
    "from sklearn.model_selection import train_test_split\n",
    "from sklearn.tree import DecisionTreeClassifier"
   ]
  },
  {
   "cell_type": "markdown",
   "metadata": {},
   "source": [
    "### Bag of Words\n",
    "\n",
    "<img src=\"./../assets/images/bow-image.png\" style=\"width: 300px;\">\n",
    "\n",
    "A bag-of-words model puts every word in your document into a bag (vector) and returns the bag. The most common bag of words model is the count vectorizer where you count each occurence of a word in a document. The visual above represents the count vectorizer. It's easy to use however this removes the sentence structure of the document.\n"
   ]
  },
  {
   "cell_type": "code",
   "execution_count": 377,
   "metadata": {},
   "outputs": [],
   "source": [
    "vector = CountVectorizer(analyzer = 'word',\n",
    "                         stop_words = 'english',\n",
    "                         max_features = 10000)\n",
    "\n",
    "features = vector.fit_transform(df_sub['clean_content'])"
   ]
  },
  {
   "cell_type": "markdown",
   "metadata": {},
   "source": [
    "### One Hot Encoding\n",
    "Our data contains multiple classes. Our first intuition would be to label each class by number such as 0 - high school/GED, 1 - some college, and 2 - bachelors. However, this doesn't correctly translate to numerical values. The average of 0 and 2 is 1 but the average of bachelors and highschool/GED isn't some college. The solution to this problem is called `one hot encoding` where you assign a value 1 to the feature that matches your data."
   ]
  },
  {
   "cell_type": "code",
   "execution_count": 191,
   "metadata": {},
   "outputs": [
    {
     "data": {
      "text/html": [
       "<div>\n",
       "<style scoped>\n",
       "    .dataframe tbody tr th:only-of-type {\n",
       "        vertical-align: middle;\n",
       "    }\n",
       "\n",
       "    .dataframe tbody tr th {\n",
       "        vertical-align: top;\n",
       "    }\n",
       "\n",
       "    .dataframe thead th {\n",
       "        text-align: right;\n",
       "    }\n",
       "</style>\n",
       "<table border=\"1\" class=\"dataframe\">\n",
       "  <thead>\n",
       "    <tr style=\"text-align: right;\">\n",
       "      <th></th>\n",
       "      <th>education</th>\n",
       "      <th>target</th>\n",
       "    </tr>\n",
       "  </thead>\n",
       "  <tbody>\n",
       "    <tr>\n",
       "      <td>9172</td>\n",
       "      <td>high school/GED</td>\n",
       "      <td>2</td>\n",
       "    </tr>\n",
       "    <tr>\n",
       "      <td>8056</td>\n",
       "      <td>high school/GED</td>\n",
       "      <td>2</td>\n",
       "    </tr>\n",
       "    <tr>\n",
       "      <td>4164</td>\n",
       "      <td>high school/GED</td>\n",
       "      <td>2</td>\n",
       "    </tr>\n",
       "    <tr>\n",
       "      <td>3994</td>\n",
       "      <td>high school/GED</td>\n",
       "      <td>2</td>\n",
       "    </tr>\n",
       "    <tr>\n",
       "      <td>8680</td>\n",
       "      <td>bachelors</td>\n",
       "      <td>1</td>\n",
       "    </tr>\n",
       "    <tr>\n",
       "      <td>10456</td>\n",
       "      <td>bachelors</td>\n",
       "      <td>1</td>\n",
       "    </tr>\n",
       "    <tr>\n",
       "      <td>2127</td>\n",
       "      <td>some college</td>\n",
       "      <td>4</td>\n",
       "    </tr>\n",
       "    <tr>\n",
       "      <td>8389</td>\n",
       "      <td>some college</td>\n",
       "      <td>4</td>\n",
       "    </tr>\n",
       "    <tr>\n",
       "      <td>4641</td>\n",
       "      <td>high school/GED</td>\n",
       "      <td>2</td>\n",
       "    </tr>\n",
       "    <tr>\n",
       "      <td>5226</td>\n",
       "      <td>high school/GED</td>\n",
       "      <td>2</td>\n",
       "    </tr>\n",
       "  </tbody>\n",
       "</table>\n",
       "</div>"
      ],
      "text/plain": [
       "             education  target\n",
       "9172   high school/GED       2\n",
       "8056   high school/GED       2\n",
       "4164   high school/GED       2\n",
       "3994   high school/GED       2\n",
       "8680         bachelors       1\n",
       "10456        bachelors       1\n",
       "2127      some college       4\n",
       "8389      some college       4\n",
       "4641   high school/GED       2\n",
       "5226   high school/GED       2"
      ]
     },
     "execution_count": 191,
     "metadata": {},
     "output_type": "execute_result"
    }
   ],
   "source": [
    "encoder = LabelEncoder()\n",
    "target = encoder.fit_transform(working_data['education'])\n",
    "\n",
    "target = pd.DataFrame({'education':working_data['education'].values,\n",
    "                       'target':target})\n",
    "target.sample(10)"
   ]
  },
  {
   "cell_type": "code",
   "execution_count": 159,
   "metadata": {},
   "outputs": [
    {
     "data": {
      "text/html": [
       "<div>\n",
       "<style scoped>\n",
       "    .dataframe tbody tr th:only-of-type {\n",
       "        vertical-align: middle;\n",
       "    }\n",
       "\n",
       "    .dataframe tbody tr th {\n",
       "        vertical-align: top;\n",
       "    }\n",
       "\n",
       "    .dataframe thead th {\n",
       "        text-align: right;\n",
       "    }\n",
       "</style>\n",
       "<table border=\"1\" class=\"dataframe\">\n",
       "  <thead>\n",
       "    <tr style=\"text-align: right;\">\n",
       "      <th></th>\n",
       "      <th>education</th>\n",
       "      <th>0</th>\n",
       "      <th>1</th>\n",
       "      <th>2</th>\n",
       "      <th>3</th>\n",
       "      <th>4</th>\n",
       "    </tr>\n",
       "  </thead>\n",
       "  <tbody>\n",
       "    <tr>\n",
       "      <td>1100</td>\n",
       "      <td>masters</td>\n",
       "      <td>0</td>\n",
       "      <td>0</td>\n",
       "      <td>0</td>\n",
       "      <td>1</td>\n",
       "      <td>0</td>\n",
       "    </tr>\n",
       "    <tr>\n",
       "      <td>6200</td>\n",
       "      <td>high school/GED</td>\n",
       "      <td>0</td>\n",
       "      <td>0</td>\n",
       "      <td>1</td>\n",
       "      <td>0</td>\n",
       "      <td>0</td>\n",
       "    </tr>\n",
       "    <tr>\n",
       "      <td>9546</td>\n",
       "      <td>associates</td>\n",
       "      <td>1</td>\n",
       "      <td>0</td>\n",
       "      <td>0</td>\n",
       "      <td>0</td>\n",
       "      <td>0</td>\n",
       "    </tr>\n",
       "    <tr>\n",
       "      <td>6794</td>\n",
       "      <td>high school/GED</td>\n",
       "      <td>0</td>\n",
       "      <td>0</td>\n",
       "      <td>1</td>\n",
       "      <td>0</td>\n",
       "      <td>0</td>\n",
       "    </tr>\n",
       "    <tr>\n",
       "      <td>932</td>\n",
       "      <td>some college</td>\n",
       "      <td>0</td>\n",
       "      <td>0</td>\n",
       "      <td>0</td>\n",
       "      <td>0</td>\n",
       "      <td>1</td>\n",
       "    </tr>\n",
       "    <tr>\n",
       "      <td>10233</td>\n",
       "      <td>some college</td>\n",
       "      <td>0</td>\n",
       "      <td>0</td>\n",
       "      <td>0</td>\n",
       "      <td>0</td>\n",
       "      <td>1</td>\n",
       "    </tr>\n",
       "    <tr>\n",
       "      <td>6915</td>\n",
       "      <td>some college</td>\n",
       "      <td>0</td>\n",
       "      <td>0</td>\n",
       "      <td>0</td>\n",
       "      <td>0</td>\n",
       "      <td>1</td>\n",
       "    </tr>\n",
       "    <tr>\n",
       "      <td>9173</td>\n",
       "      <td>associates</td>\n",
       "      <td>1</td>\n",
       "      <td>0</td>\n",
       "      <td>0</td>\n",
       "      <td>0</td>\n",
       "      <td>0</td>\n",
       "    </tr>\n",
       "    <tr>\n",
       "      <td>3889</td>\n",
       "      <td>some college</td>\n",
       "      <td>0</td>\n",
       "      <td>0</td>\n",
       "      <td>0</td>\n",
       "      <td>0</td>\n",
       "      <td>1</td>\n",
       "    </tr>\n",
       "    <tr>\n",
       "      <td>9939</td>\n",
       "      <td>bachelors</td>\n",
       "      <td>0</td>\n",
       "      <td>1</td>\n",
       "      <td>0</td>\n",
       "      <td>0</td>\n",
       "      <td>0</td>\n",
       "    </tr>\n",
       "  </tbody>\n",
       "</table>\n",
       "</div>"
      ],
      "text/plain": [
       "             education  0  1  2  3  4\n",
       "1100           masters  0  0  0  1  0\n",
       "6200   high school/GED  0  0  1  0  0\n",
       "9546        associates  1  0  0  0  0\n",
       "6794   high school/GED  0  0  1  0  0\n",
       "932       some college  0  0  0  0  1\n",
       "10233     some college  0  0  0  0  1\n",
       "6915      some college  0  0  0  0  1\n",
       "9173        associates  1  0  0  0  0\n",
       "3889      some college  0  0  0  0  1\n",
       "9939         bachelors  0  1  0  0  0"
      ]
     },
     "execution_count": 159,
     "metadata": {},
     "output_type": "execute_result"
    }
   ],
   "source": [
    "encoder = LabelBinarizer()\n",
    "target = encoder.fit_transform(working_data['education'])\n",
    "\n",
    "target = pd.DataFrame(target)\n",
    "target['education'] = working_data['education']\n",
    "target = target[['education', 0, 1, 2, 3, 4]]\n",
    "target.sample(10)"
   ]
  },
  {
   "cell_type": "code",
   "execution_count": 376,
   "metadata": {},
   "outputs": [],
   "source": [
    "encoder = LabelEncoder()\n",
    "\n",
    "target = encoder.fit_transform(df_sub['education'])\n",
    "labels = list(encoder.classes_)"
   ]
  },
  {
   "cell_type": "code",
   "execution_count": 377,
   "metadata": {},
   "outputs": [],
   "source": [
    "vector = CountVectorizer(analyzer = 'word',\n",
    "                         stop_words = 'english',\n",
    "                         max_features = 10000)\n",
    "\n",
    "features = vector.fit_transform(df_sub['clean_content'])"
   ]
  },
  {
   "cell_type": "code",
   "execution_count": 378,
   "metadata": {},
   "outputs": [],
   "source": [
    "X_train, X_test, y_train, y_test = train_test_split(features, target, test_size = 0.3, shuffle = True)"
   ]
  },
  {
   "cell_type": "code",
   "execution_count": 379,
   "metadata": {},
   "outputs": [],
   "source": [
    "clf = RandomForestClassifier(n_estimators = 100,\n",
    "                             max_depth = 200,\n",
    "                             min_samples_split = 10,\n",
    "                             bootstrap = True)"
   ]
  },
  {
   "cell_type": "code",
   "execution_count": 380,
   "metadata": {},
   "outputs": [],
   "source": [
    "clf.fit(X_train, y_train);"
   ]
  },
  {
   "cell_type": "code",
   "execution_count": 381,
   "metadata": {},
   "outputs": [
    {
     "name": "stdout",
     "output_type": "stream",
     "text": [
      "Training score:\t98.59%\n",
      "Testing score:\t90.62%\n"
     ]
    }
   ],
   "source": [
    "train_score = clf.score(X_train, y_train)\n",
    "test_score  = clf.score(X_test, y_test)\n",
    "\n",
    "print(f\"Training score:\\t{train_score*100:.2f}%\")\n",
    "print(f\"Testing score:\\t{test_score*100:.2f}%\")"
   ]
  },
  {
   "cell_type": "code",
   "execution_count": 382,
   "metadata": {},
   "outputs": [],
   "source": [
    "sample_resume = \"i have a masters degree in interior architecture & design. www.lifestylesaint.com the expertise in design i have is diverse, working on projects ranging from high end residential to hotels, hotel, pip's, commercial projects, offices, building facades, renovations, multifamily, etc. some past clients include starbucks, hampton inn, la quinta and residential rehabs. no matter the size of your project, i am ready to provide solutions at good price.\"\n",
    "sample_resume = \"cleaning driving driving driving\""
   ]
  },
  {
   "cell_type": "code",
   "execution_count": 386,
   "metadata": {},
   "outputs": [
    {
     "name": "stdout",
     "output_type": "stream",
     "text": [
      "[4]\n",
      "['some college']\n",
      "well i'm a 24 year old female just lost my job and my friend is 34 female and were both looking for work , can help with chores around the house , just need to make cash to pay bills let me know if there is anything i can help you with , thank you \n",
      "\n",
      "Predict:\tsome college\n"
     ]
    }
   ],
   "source": [
    "def get_prediction(text):\n",
    "    sample_vec = vector.transform([text])\n",
    "    predict = clf.predict(sample_vec)\n",
    "    print(predict)\n",
    "    predict_class = encoder.inverse_transform(predict.astype(int))\n",
    "    print(predict_class)\n",
    "    \n",
    "    print(text,\"\\n\")\n",
    "    print(f\"Predict:\\t{predict_class[0]}\")\n",
    "\n",
    "get_prediction(working_data['clean_content'].iloc[3])"
   ]
  },
  {
   "cell_type": "markdown",
   "metadata": {},
   "source": [
    "# Neural Network"
   ]
  },
  {
   "cell_type": "code",
   "execution_count": 387,
   "metadata": {},
   "outputs": [],
   "source": [
    "import numpy as np\n",
    "\n",
    "import torch\n",
    "import torchvision\n",
    "\n",
    "from torch import nn, optim\n",
    "import torch.nn.functional as F\n",
    "import torch.utils.data as utils"
   ]
  },
  {
   "cell_type": "code",
   "execution_count": 388,
   "metadata": {},
   "outputs": [
    {
     "name": "stdout",
     "output_type": "stream",
     "text": [
      "No GPU detected. Training with CPU\n"
     ]
    }
   ],
   "source": [
    "cuda = torch.cuda.is_available()\n",
    "\n",
    "if cuda:\n",
    "    print(\"GPU detected. Training with GPU\")\n",
    "else:\n",
    "    print(\"No GPU detected. Training with CPU\")"
   ]
  },
  {
   "cell_type": "code",
   "execution_count": 404,
   "metadata": {},
   "outputs": [],
   "source": [
    "encoder = LabelEncoder()\n",
    "\n",
    "target = encoder.fit_transform(df_sub['education'])\n",
    "labels = list(encoder.classes_)"
   ]
  },
  {
   "cell_type": "code",
   "execution_count": 405,
   "metadata": {},
   "outputs": [],
   "source": [
    "vector = CountVectorizer(analyzer = 'word',\n",
    "                         stop_words = 'english',\n",
    "                         max_features = 10000)\n",
    "\n",
    "features = vector.fit_transform(df_sub['clean_content'])"
   ]
  },
  {
   "cell_type": "code",
   "execution_count": 406,
   "metadata": {},
   "outputs": [],
   "source": [
    "tensor_X = torch.stack([torch.Tensor(row.todense()) for row in features])\n",
    "tensor_y = torch.tensor(target)"
   ]
  },
  {
   "cell_type": "code",
   "execution_count": 407,
   "metadata": {},
   "outputs": [],
   "source": [
    "dataset = utils.TensorDataset(tensor_X, tensor_y)\n",
    "dataloader = utils.DataLoader(dataset, batch_size = 32,\n",
    "                              shuffle = True)"
   ]
  },
  {
   "cell_type": "code",
   "execution_count": 408,
   "metadata": {},
   "outputs": [],
   "source": [
    "class Classifier(nn.Module):\n",
    "    def __init__(self):\n",
    "        super().__init__()\n",
    "        \n",
    "        self.fc1 = nn.Linear(10000, 2000)\n",
    "        self.fc2 = nn.Linear(2000, 500)\n",
    "        self.fc3 = nn.Linear(500, 100)\n",
    "        self.fc4 = nn.Linear(100, 5)\n",
    "        \n",
    "        self.drop = nn.Dropout(0.25)\n",
    "        \n",
    "    def forward(self, x):\n",
    "        x = x.view(x.shape[0], -1)\n",
    "        x = F.relu(self.fc1(x))\n",
    "        x = F.relu(self.fc2(x))\n",
    "        x = F.relu(self.fc3(x))\n",
    "        x = F.log_softmax(self.fc4(x), dim = 1)\n",
    "        \n",
    "        return x"
   ]
  },
  {
   "cell_type": "code",
   "execution_count": 409,
   "metadata": {},
   "outputs": [],
   "source": [
    "model = Classifier()\n",
    "criterion = nn.NLLLoss()\n",
    "optimizer = optim.Adam(model.parameters(), lr = 0.003)"
   ]
  },
  {
   "cell_type": "code",
   "execution_count": 411,
   "metadata": {},
   "outputs": [
    {
     "name": "stdout",
     "output_type": "stream",
     "text": [
      "Training loss: 0.7740208445577929\n"
     ]
    },
    {
     "ename": "KeyboardInterrupt",
     "evalue": "",
     "output_type": "error",
     "traceback": [
      "\u001b[0;31m---------------------------------------------------------------------------\u001b[0m",
      "\u001b[0;31mKeyboardInterrupt\u001b[0m                         Traceback (most recent call last)",
      "\u001b[0;32m<ipython-input-411-1fdb7cd98929>\u001b[0m in \u001b[0;36m<module>\u001b[0;34m\u001b[0m\n\u001b[1;32m     12\u001b[0m         \u001b[0moptimizer\u001b[0m\u001b[0;34m.\u001b[0m\u001b[0mzero_grad\u001b[0m\u001b[0;34m(\u001b[0m\u001b[0;34m)\u001b[0m\u001b[0;34m\u001b[0m\u001b[0;34m\u001b[0m\u001b[0m\n\u001b[1;32m     13\u001b[0m         \u001b[0mloss\u001b[0m\u001b[0;34m.\u001b[0m\u001b[0mbackward\u001b[0m\u001b[0;34m(\u001b[0m\u001b[0;34m)\u001b[0m\u001b[0;34m\u001b[0m\u001b[0;34m\u001b[0m\u001b[0m\n\u001b[0;32m---> 14\u001b[0;31m         \u001b[0moptimizer\u001b[0m\u001b[0;34m.\u001b[0m\u001b[0mstep\u001b[0m\u001b[0;34m(\u001b[0m\u001b[0;34m)\u001b[0m\u001b[0;34m\u001b[0m\u001b[0;34m\u001b[0m\u001b[0m\n\u001b[0m\u001b[1;32m     15\u001b[0m \u001b[0;34m\u001b[0m\u001b[0m\n\u001b[1;32m     16\u001b[0m         \u001b[0mrunning_loss\u001b[0m \u001b[0;34m+=\u001b[0m \u001b[0mloss\u001b[0m\u001b[0;34m.\u001b[0m\u001b[0mitem\u001b[0m\u001b[0;34m(\u001b[0m\u001b[0;34m)\u001b[0m\u001b[0;34m\u001b[0m\u001b[0;34m\u001b[0m\u001b[0m\n",
      "\u001b[0;32m~/anaconda3/lib/python3.6/site-packages/torch/optim/adam.py\u001b[0m in \u001b[0;36mstep\u001b[0;34m(self, closure)\u001b[0m\n\u001b[1;32m    105\u001b[0m                 \u001b[0mstep_size\u001b[0m \u001b[0;34m=\u001b[0m \u001b[0mgroup\u001b[0m\u001b[0;34m[\u001b[0m\u001b[0;34m'lr'\u001b[0m\u001b[0;34m]\u001b[0m \u001b[0;34m*\u001b[0m \u001b[0mmath\u001b[0m\u001b[0;34m.\u001b[0m\u001b[0msqrt\u001b[0m\u001b[0;34m(\u001b[0m\u001b[0mbias_correction2\u001b[0m\u001b[0;34m)\u001b[0m \u001b[0;34m/\u001b[0m \u001b[0mbias_correction1\u001b[0m\u001b[0;34m\u001b[0m\u001b[0;34m\u001b[0m\u001b[0m\n\u001b[1;32m    106\u001b[0m \u001b[0;34m\u001b[0m\u001b[0m\n\u001b[0;32m--> 107\u001b[0;31m                 \u001b[0mp\u001b[0m\u001b[0;34m.\u001b[0m\u001b[0mdata\u001b[0m\u001b[0;34m.\u001b[0m\u001b[0maddcdiv_\u001b[0m\u001b[0;34m(\u001b[0m\u001b[0;34m-\u001b[0m\u001b[0mstep_size\u001b[0m\u001b[0;34m,\u001b[0m \u001b[0mexp_avg\u001b[0m\u001b[0;34m,\u001b[0m \u001b[0mdenom\u001b[0m\u001b[0;34m)\u001b[0m\u001b[0;34m\u001b[0m\u001b[0;34m\u001b[0m\u001b[0m\n\u001b[0m\u001b[1;32m    108\u001b[0m \u001b[0;34m\u001b[0m\u001b[0m\n\u001b[1;32m    109\u001b[0m         \u001b[0;32mreturn\u001b[0m \u001b[0mloss\u001b[0m\u001b[0;34m\u001b[0m\u001b[0;34m\u001b[0m\u001b[0m\n",
      "\u001b[0;31mKeyboardInterrupt\u001b[0m: "
     ]
    }
   ],
   "source": [
    "epochs = 10\n",
    "if cuda:\n",
    "    model = model.tocuda()\n",
    "for e in range(epochs):\n",
    "    running_loss = 0\n",
    "    for text, labels in dataloader:\n",
    "        if cuda:\n",
    "            text = text.tocuda()\n",
    "        log_ps = model(text)\n",
    "        loss = criterion(log_ps, labels)\n",
    "        \n",
    "        optimizer.zero_grad()\n",
    "        loss.backward()\n",
    "        optimizer.step()\n",
    "        \n",
    "        running_loss += loss.item()\n",
    "    else:\n",
    "        print(f\"Training loss: {running_loss/len(dataloader)}\")"
   ]
  },
  {
   "cell_type": "code",
   "execution_count": 52,
   "metadata": {},
   "outputs": [
    {
     "data": {
      "text/plain": [
       "3"
      ]
     },
     "execution_count": 52,
     "metadata": {},
     "output_type": "execute_result"
    }
   ],
   "source": [
    "def softmax(x):\n",
    "    \"\"\"Compute softmax values for each sets of scores in x.\"\"\"\n",
    "    e_x = np.exp(x - np.max(x))\n",
    "    return e_x / e_x.sum()\n",
    "\n",
    "def model_predict(text, model):\n",
    "    text = vector.transform([text])\n",
    "    text = torch.Tensor(text.todense())\n",
    "    if cuda:\n",
    "        model = model.tocuda()\n",
    "        text = text.tocuda()\n",
    "    predict = model(text)\n",
    "    predict = predict.detach().numpy()[0]\n",
    "    predict = softmax(predict)\n",
    "    predict = predict.argmax()\n",
    "    return predict\n",
    "\n",
    "model_predict(\"I have a degree\", model)"
   ]
  },
  {
   "cell_type": "code",
   "execution_count": null,
   "metadata": {},
   "outputs": [],
   "source": [
    "from sklearn.neural_network import MLPClassifier"
   ]
  },
  {
   "cell_type": "code",
   "execution_count": null,
   "metadata": {},
   "outputs": [],
   "source": [
    "mlp = MLPClassifier(hidden_layer_sizes = (2000, 500, 100),\n",
    "                    activation = 'relu',\n",
    "                    solver = 'adam',\n",
    "                    batch_size = 32,\n",
    "                    learning_rate_init = 0.003,\n",
    "                    max_iter = 5,\n",
    "                    shuffle = True,\n",
    "                    verbose = 1)"
   ]
  },
  {
   "cell_type": "code",
   "execution_count": null,
   "metadata": {},
   "outputs": [],
   "source": [
    "mlp.fit(X_train, y_train)"
   ]
  },
  {
   "cell_type": "code",
   "execution_count": null,
   "metadata": {},
   "outputs": [],
   "source": []
  }
 ],
 "metadata": {
  "kernelspec": {
   "display_name": "Python 3",
   "language": "python",
   "name": "python3"
  },
  "language_info": {
   "codemirror_mode": {
    "name": "ipython",
    "version": 3
   },
   "file_extension": ".py",
   "mimetype": "text/x-python",
   "name": "python",
   "nbconvert_exporter": "python",
   "pygments_lexer": "ipython3",
   "version": "3.6.9"
  }
 },
 "nbformat": 4,
 "nbformat_minor": 4
}
