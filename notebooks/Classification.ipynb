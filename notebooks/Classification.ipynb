{
 "cells": [
  {
   "cell_type": "markdown",
   "metadata": {},
   "source": [
    "# Classification with Decision Trees and Neural Networks\n",
    "\n",
    "In this notebook, we will predict what the education level based on the content of the post. We will explore 2 approaches: (1) a bag-of-words model then using a decision tree classifier and (2) a bag-of-words model then applying a simple neural network."
   ]
  },
  {
   "cell_type": "code",
   "execution_count": 1,
   "metadata": {},
   "outputs": [],
   "source": [
    "import numpy as np\n",
    "import pandas as pd\n",
    "\n",
    "import re\n",
    "\n",
    "import matplotlib.pyplot as plt\n",
    "from tqdm import tqdm\n",
    "\n",
    "%matplotlib inline"
   ]
  },
  {
   "cell_type": "code",
   "execution_count": 2,
   "metadata": {},
   "outputs": [],
   "source": [
    "df_1 = pd.read_csv(\"./../assets/data_large_041019.csv\", index_col = 0)\n",
    "df_2 = pd.read_csv(\"./../assets/data_large_211019.csv\", index_col = 0)\n",
    "df_3 = pd.read_csv(\"./../assets/data_large_270919.csv\", index_col = 0)\n",
    "df_4 = pd.read_csv(\"./../assets/data_large_300919.csv\", index_col = 0)\n",
    "df_5 = pd.read_csv(\"./../assets/data_large.csv\", index_col = 0)"
   ]
  },
  {
   "cell_type": "code",
   "execution_count": 3,
   "metadata": {},
   "outputs": [],
   "source": [
    "df = pd.concat([df_1, df_2, df_3, df_4, df_5]).reset_index(drop = True)\n",
    "df.fillna(\"NaN\", inplace = True)\n",
    "\n",
    "# We'll filter out the columns since we're only concerned with the content and education level\n",
    "df = df[['content', 'education']]"
   ]
  },
  {
   "cell_type": "code",
   "execution_count": 4,
   "metadata": {},
   "outputs": [
    {
     "data": {
      "text/html": [
       "<div>\n",
       "<style scoped>\n",
       "    .dataframe tbody tr th:only-of-type {\n",
       "        vertical-align: middle;\n",
       "    }\n",
       "\n",
       "    .dataframe tbody tr th {\n",
       "        vertical-align: top;\n",
       "    }\n",
       "\n",
       "    .dataframe thead th {\n",
       "        text-align: right;\n",
       "    }\n",
       "</style>\n",
       "<table border=\"1\" class=\"dataframe\">\n",
       "  <thead>\n",
       "    <tr style=\"text-align: right;\">\n",
       "      <th></th>\n",
       "      <th>content</th>\n",
       "      <th>education</th>\n",
       "    </tr>\n",
       "  </thead>\n",
       "  <tbody>\n",
       "    <tr>\n",
       "      <th>9331</th>\n",
       "      <td>I am a Carpet Mechanic (installer) W/Over 23-y...</td>\n",
       "      <td>bachelors</td>\n",
       "    </tr>\n",
       "    <tr>\n",
       "      <th>41242</th>\n",
       "      <td>SAMANTHA\\r\\n\\r\\n\\r\\nPROFESSIONAL SUMMARY\\r\\n\\r...</td>\n",
       "      <td>high school/GED</td>\n",
       "    </tr>\n",
       "    <tr>\n",
       "      <th>61939</th>\n",
       "      <td>Home and Business Owners,\\r\\nGet items repaire...</td>\n",
       "      <td>associates</td>\n",
       "    </tr>\n",
       "    <tr>\n",
       "      <th>66457</th>\n",
       "      <td>l am looking a job in orange county only you c...</td>\n",
       "      <td>less than high school</td>\n",
       "    </tr>\n",
       "    <tr>\n",
       "      <th>93956</th>\n",
       "      <td>Private clases and interpretation, I've been t...</td>\n",
       "      <td>bachelors</td>\n",
       "    </tr>\n",
       "    <tr>\n",
       "      <th>45529</th>\n",
       "      <td>600.00 Weekly\\r\\nBegan In This Field 35 Yrs Ag...</td>\n",
       "      <td>some college</td>\n",
       "    </tr>\n",
       "    <tr>\n",
       "      <th>68648</th>\n",
       "      <td>I am looking for a live-in or live-out caregiv...</td>\n",
       "      <td>masters</td>\n",
       "    </tr>\n",
       "    <tr>\n",
       "      <th>38284</th>\n",
       "      <td>I am a licensed electrician with bucket truck ...</td>\n",
       "      <td>some college</td>\n",
       "    </tr>\n",
       "    <tr>\n",
       "      <th>16885</th>\n",
       "      <td>Hard Working Male Looking For Some Sort Of Off...</td>\n",
       "      <td>high school/GED</td>\n",
       "    </tr>\n",
       "    <tr>\n",
       "      <th>69861</th>\n",
       "      <td>If someone need help with any proyet let not I...</td>\n",
       "      <td>high school/GED</td>\n",
       "    </tr>\n",
       "  </tbody>\n",
       "</table>\n",
       "</div>"
      ],
      "text/plain": [
       "                                                 content  \\\n",
       "9331   I am a Carpet Mechanic (installer) W/Over 23-y...   \n",
       "41242  SAMANTHA\\r\\n\\r\\n\\r\\nPROFESSIONAL SUMMARY\\r\\n\\r...   \n",
       "61939  Home and Business Owners,\\r\\nGet items repaire...   \n",
       "66457  l am looking a job in orange county only you c...   \n",
       "93956  Private clases and interpretation, I've been t...   \n",
       "45529  600.00 Weekly\\r\\nBegan In This Field 35 Yrs Ag...   \n",
       "68648  I am looking for a live-in or live-out caregiv...   \n",
       "38284  I am a licensed electrician with bucket truck ...   \n",
       "16885  Hard Working Male Looking For Some Sort Of Off...   \n",
       "69861  If someone need help with any proyet let not I...   \n",
       "\n",
       "                   education  \n",
       "9331               bachelors  \n",
       "41242        high school/GED  \n",
       "61939             associates  \n",
       "66457  less than high school  \n",
       "93956              bachelors  \n",
       "45529           some college  \n",
       "68648                masters  \n",
       "38284           some college  \n",
       "16885        high school/GED  \n",
       "69861        high school/GED  "
      ]
     },
     "execution_count": 4,
     "metadata": {},
     "output_type": "execute_result"
    }
   ],
   "source": [
    "df.sample(10)"
   ]
  },
  {
   "cell_type": "markdown",
   "metadata": {},
   "source": [
    "## Data Cleaning"
   ]
  },
  {
   "cell_type": "markdown",
   "metadata": {},
   "source": [
    "Machine learning models are very sensitive to imbalanced data. For an exaggerated example, imagine training a model to predict dogs and cats. If your training data has 99 images of dogs and only 1 image of a cat, your model will most likely overfit and only predict dogs and still get 99% accuracy.\n",
    "\n",
    "We will filter and clean our data in preparation for the prediction and become a data janitor.\n",
    "\n",
    "With our data collection process, some of the posts were repeated. They were either posted in different times or different locations. We'll take a look at all data points that aren't unique in the `content` column."
   ]
  },
  {
   "cell_type": "code",
   "execution_count": 5,
   "metadata": {},
   "outputs": [
    {
     "data": {
      "text/html": [
       "<div>\n",
       "<style scoped>\n",
       "    .dataframe tbody tr th:only-of-type {\n",
       "        vertical-align: middle;\n",
       "    }\n",
       "\n",
       "    .dataframe tbody tr th {\n",
       "        vertical-align: top;\n",
       "    }\n",
       "\n",
       "    .dataframe thead th {\n",
       "        text-align: right;\n",
       "    }\n",
       "</style>\n",
       "<table border=\"1\" class=\"dataframe\">\n",
       "  <thead>\n",
       "    <tr style=\"text-align: right;\">\n",
       "      <th></th>\n",
       "      <th>content</th>\n",
       "      <th>education</th>\n",
       "    </tr>\n",
       "  </thead>\n",
       "  <tbody>\n",
       "    <tr>\n",
       "      <th>3</th>\n",
       "      <td>I DO BEST RESUMES IN TOWN.\\r\\n\\r\\nI AM TECHNIC...</td>\n",
       "      <td>bachelors</td>\n",
       "    </tr>\n",
       "    <tr>\n",
       "      <th>4</th>\n",
       "      <td>I DO BEST RESUMES IN TOWN.\\r\\n\\r\\nI AM TECHNIC...</td>\n",
       "      <td>bachelors</td>\n",
       "    </tr>\n",
       "    <tr>\n",
       "      <th>12</th>\n",
       "      <td>We will professionally write your resume, so y...</td>\n",
       "      <td>masters</td>\n",
       "    </tr>\n",
       "    <tr>\n",
       "      <th>13</th>\n",
       "      <td>I DO BEST RESUMES IN TOWN.\\r\\n\\r\\nI AM TECHNIC...</td>\n",
       "      <td>bachelors</td>\n",
       "    </tr>\n",
       "    <tr>\n",
       "      <th>24</th>\n",
       "      <td>I DO BEST RESUMES IN TOWN.\\r\\n\\r\\nI AM TECHNIC...</td>\n",
       "      <td>bachelors</td>\n",
       "    </tr>\n",
       "    <tr>\n",
       "      <th>25</th>\n",
       "      <td>I DO BEST RESUMES IN TOWN.\\r\\n\\r\\nI AM TECHNIC...</td>\n",
       "      <td>bachelors</td>\n",
       "    </tr>\n",
       "    <tr>\n",
       "      <th>35</th>\n",
       "      <td>Hello. I am looking for office work. I have ex...</td>\n",
       "      <td>bachelors</td>\n",
       "    </tr>\n",
       "    <tr>\n",
       "      <th>82</th>\n",
       "      <td>Hey CL, I'm a 27 year old male trying to make ...</td>\n",
       "      <td>some college</td>\n",
       "    </tr>\n",
       "    <tr>\n",
       "      <th>113</th>\n",
       "      <td>Quickbooks and Quicken Bookkeeper\\r\\n\\r\\nAvail...</td>\n",
       "      <td>some college</td>\n",
       "    </tr>\n",
       "    <tr>\n",
       "      <th>151</th>\n",
       "      <td>I would love to tutor your child to improve hi...</td>\n",
       "      <td>bachelors</td>\n",
       "    </tr>\n",
       "  </tbody>\n",
       "</table>\n",
       "</div>"
      ],
      "text/plain": [
       "                                               content     education\n",
       "3    I DO BEST RESUMES IN TOWN.\\r\\n\\r\\nI AM TECHNIC...     bachelors\n",
       "4    I DO BEST RESUMES IN TOWN.\\r\\n\\r\\nI AM TECHNIC...     bachelors\n",
       "12   We will professionally write your resume, so y...       masters\n",
       "13   I DO BEST RESUMES IN TOWN.\\r\\n\\r\\nI AM TECHNIC...     bachelors\n",
       "24   I DO BEST RESUMES IN TOWN.\\r\\n\\r\\nI AM TECHNIC...     bachelors\n",
       "25   I DO BEST RESUMES IN TOWN.\\r\\n\\r\\nI AM TECHNIC...     bachelors\n",
       "35   Hello. I am looking for office work. I have ex...     bachelors\n",
       "82   Hey CL, I'm a 27 year old male trying to make ...  some college\n",
       "113  Quickbooks and Quicken Bookkeeper\\r\\n\\r\\nAvail...  some college\n",
       "151  I would love to tutor your child to improve hi...     bachelors"
      ]
     },
     "execution_count": 5,
     "metadata": {},
     "output_type": "execute_result"
    }
   ],
   "source": [
    "df[df.duplicated(subset = 'content')].head(10)"
   ]
  },
  {
   "cell_type": "markdown",
   "metadata": {},
   "source": [
    "Notice that some of the data points were posted at different times or region. However, we want only one instance of that data. So we'll go ahead and remove all documents that have duplicates and keep the first occurance."
   ]
  },
  {
   "cell_type": "code",
   "execution_count": 6,
   "metadata": {},
   "outputs": [],
   "source": [
    "df.drop_duplicates(subset = 'content', keep = 'first', inplace = True)\n",
    "df.reset_index(drop = True, inplace = True) #reset index just makes it cleaner to look at when all processing is done"
   ]
  },
  {
   "cell_type": "markdown",
   "metadata": {},
   "source": [
    "We removed the duplicates from our dataset. Now, let's take a look at how our data is distributed."
   ]
  },
  {
   "cell_type": "code",
   "execution_count": 7,
   "metadata": {},
   "outputs": [
    {
     "data": {
      "image/png": "[encoded data removed]",
      "text/plain": [
       "<Figure size 576x432 with 1 Axes>"
      ]
     },
     "metadata": {
      "needs_background": "light"
     },
     "output_type": "display_data"
    }
   ],
   "source": [
    "x = []\n",
    "y = []\n",
    "\n",
    "# Get the number of occurence of each unique class in our education list\n",
    "educ_count = df.groupby(['education']).count()['content']\n",
    "educ_list = list(sorted(df['education'].unique()))\n",
    "\n",
    "# Store it in x and y for easier use later\n",
    "for educ in educ_list:\n",
    "    x.append(educ)\n",
    "    y.append(educ_count[educ])\n",
    "\n",
    "# Set figure size\n",
    "plt.figure(figsize = (8,6))\n",
    "# Set plot title\n",
    "plt.title(\"Education Level Count\")\n",
    "# Set x label\n",
    "plt.xlabel(\"Education Level\")\n",
    "# Set y label\n",
    "plt.ylabel(\"Count\")\n",
    "# Rotate the x labels so they don't look weird when they overlap\n",
    "plt.xticks(rotation=45)\n",
    "\n",
    "# Plot the bar graph of each label's frequency\n",
    "plt.bar(x, y)\n",
    "\n",
    "# Plot grid lines\n",
    "plt.grid()\n",
    "\n",
    "# Annotate the frequency at the top of each bar\n",
    "# x - which label id\n",
    "# y - heigh of bar graph, we add 35 to offset the text location\n",
    "# s - text\n",
    "# fontweight - make it bold or italic\n",
    "# horizontalalignment - alignment of text\n",
    "for idx, value in enumerate(y):\n",
    "    plt.text(x = idx, y = value + 35, \n",
    "             s = f\"{value:,}\", fontweight='bold', \n",
    "             horizontalalignment='center')\n",
    "\n",
    "# Add more matplotlib code to your heart's desire to make it look cooler\n",
    "# But don't add too much\n",
    "\n",
    "# Show the graph\n",
    "plt.show()"
   ]
  },
  {
   "cell_type": "code",
   "execution_count": 8,
   "metadata": {},
   "outputs": [
    {
     "data": {
      "text/plain": [
       "education\n",
       "NaN                         2\n",
       "associates               1855\n",
       "bachelors                2937\n",
       "doctoral                  183\n",
       "high school/GED          4275\n",
       "less than high school     460\n",
       "masters                  1251\n",
       "some college             4793\n",
       "Name: content, dtype: int64"
      ]
     },
     "execution_count": 8,
     "metadata": {},
     "output_type": "execute_result"
    }
   ],
   "source": [
    "# If you don't need to plot it\n",
    "df.groupby(['education']).count()['content']"
   ]
  },
  {
   "cell_type": "markdown",
   "metadata": {},
   "source": [
    "Here, we notice that we have classes that only have a few examples. We will have some difficulties training a model that can accurately predict these classes. There different approaches for this problem such as downsampling or upsampling but we won't go through it here. For now, we will only select the classes that has at least 1,000 examples."
   ]
  },
  {
   "cell_type": "code",
   "execution_count": 9,
   "metadata": {},
   "outputs": [],
   "source": [
    "# List out education levels that we will include\n",
    "included_educ_level = ['high school/GED',\n",
    "                       'some college',\n",
    "                       'associates',\n",
    "                       'bachelors',\n",
    "                       'masters']\n",
    "\n",
    "# Filter out our data and only include samples that are in the selected education levels\n",
    "df = df[df['education'].isin(included_educ_level)].reset_index(drop = True)"
   ]
  },
  {
   "cell_type": "markdown",
   "metadata": {},
   "source": [
    "Okay so the distribution seems good enough for our use case. Let's try to take a look at the text and see if we need more preprocessing for it."
   ]
  },
  {
   "cell_type": "markdown",
   "metadata": {},
   "source": [
    "## Text Cleaning\n",
    "\n",
    "After cleaning up our data, we'll dive deeper and look at the text that we have."
   ]
  },
  {
   "cell_type": "code",
   "execution_count": 10,
   "metadata": {},
   "outputs": [
    {
     "data": {
      "text/plain": [
       "1648     If u need my service comercial work\\r\\n\\r\\nThi...\n",
       "11747    Looking for a small job, specifically 5 days a...\n",
       "13198    Hi there, I'm in need of side work. Caregiving...\n",
       "10210    2 SKILLED Guys💥\\r\\nOur Own Tools and Trucks 🛠\\...\n",
       "1451     Exceptionally caring, reliable, male caregiver...\n",
       "6900     I am looking for a job as a welder's helper. I...\n",
       "14111    Two person residential electrical sub crew loo...\n",
       "9025     Currently looking for cash paying security gua...\n",
       "11589                Outstanding Chef here for your needs.\n",
       "10495    We are expert skillful men proving many servic...\n",
       "Name: content, dtype: object"
      ]
     },
     "execution_count": 10,
     "metadata": {},
     "output_type": "execute_result"
    }
   ],
   "source": [
    "df['content'].sample(10, random_state = 237)"
   ]
  },
  {
   "cell_type": "markdown",
   "metadata": {},
   "source": [
    "Looks like some of the posts have emojis or weird characters in their text. We can do a simple regex function to filter out each text in the dataframe and replace it with only alphanumeric characters."
   ]
  },
  {
   "cell_type": "code",
   "execution_count": 11,
   "metadata": {},
   "outputs": [
    {
     "data": {
      "text/plain": [
       "1648     If u need my service comercial workThis is wha...\n",
       "11747    Looking for a small job, specifically 5 days a...\n",
       "13198    Hi there, Im in need of side work. Caregiving,...\n",
       "10210    2 SKILLED GuysOur Own Tools and Trucks Availab...\n",
       "1451     Exceptionally caring, reliable, male caregiver...\n",
       "6900     I am looking for a job as a welders helper. I ...\n",
       "14111    Two person residential electrical sub crew loo...\n",
       "9025     Currently looking for cash paying security gua...\n",
       "11589                Outstanding Chef here for your needs.\n",
       "10495    We are expert skillful men proving many servic...\n",
       "Name: content, dtype: object"
      ]
     },
     "execution_count": 11,
     "metadata": {},
     "output_type": "execute_result"
    }
   ],
   "source": [
    "df['content'] = df['content'].map(lambda x: re.sub('[^A-Za-z0-9 _.,?!/$]*', '', x))\n",
    "df['content'].sample(10, random_state = 237)"
   ]
  },
  {
   "cell_type": "markdown",
   "metadata": {},
   "source": [
    "Let's break down the regex function: <br />\n",
    "`re.sub(pattern, repl, string)` <br /> <br />\n",
    "`pattern` is the regular expression that the function will look for to replace. <br />\n",
    "`repl` is the new string that will replace the `pattern` <br />\n",
    "`string` is the string that you want to run the pattern matching and replacement.\n",
    "\n",
    "Now, let's break down the regular expression. <br />\n",
    "`[^A-Za-z0-9 _.,?!/$]*` <br />\n",
    "`[]` anything inside the square brace will be characters that will be considered in replacement<br />\n",
    "`^` Performs a `not` function. We will list down all the characters that we want to keep and perform `not` to take out those that don't match.<br />\n",
    "`A-Z` All uppercase letters<br />\n",
    "`a-z` All lowercase characters<br />\n",
    "`0-9` All numerical characters<br />\n",
    "` _.,?!/` Space, underscore, period, and other punctuations that we want to keep.<br />\n",
    "`*` The length of the pattern doens't matter as long as each character matches the criterion."
   ]
  },
  {
   "cell_type": "markdown",
   "metadata": {},
   "source": [
    "One thing that machine learning models don't intuitively know is the difference in cases. For us, `attention` is the same as `Attention` or `aTtEnTiOn`. In a bag of words model, this will be separated into 3 different tokens. What we can do is to make every text lowercase to keep it standardized.\n",
    "\n",
    "You can add the `.lower()` at the end of a string to convert it to lower case. Another solution is to use `.upper()` to make it all upper case but that would sound like an internet argument."
   ]
  },
  {
   "cell_type": "code",
   "execution_count": 12,
   "metadata": {},
   "outputs": [
    {
     "data": {
      "text/plain": [
       "1648     if u need my service comercial workthis is wha...\n",
       "11747    looking for a small job, specifically 5 days a...\n",
       "13198    hi there, im in need of side work. caregiving,...\n",
       "10210    2 skilled guysour own tools and trucks availab...\n",
       "1451     exceptionally caring, reliable, male caregiver...\n",
       "6900     i am looking for a job as a welders helper. i ...\n",
       "14111    two person residential electrical sub crew loo...\n",
       "9025     currently looking for cash paying security gua...\n",
       "11589                outstanding chef here for your needs.\n",
       "10495    we are expert skillful men proving many servic...\n",
       "Name: content, dtype: object"
      ]
     },
     "execution_count": 12,
     "metadata": {},
     "output_type": "execute_result"
    }
   ],
   "source": [
    "df['content'] = df['content'].map(lambda x: x.lower())\n",
    "df['content'].sample(10, random_state = 237)"
   ]
  },
  {
   "cell_type": "markdown",
   "metadata": {},
   "source": [
    "In most cases, this preprocessing is enough to process your data and use in a machine learning model."
   ]
  },
  {
   "cell_type": "markdown",
   "metadata": {},
   "source": [
    "# Classification Models\n",
    "\n",
    "Now that our data is cleaned up, we'll first discuss how we'll convert these texts to features that we can feed to our machine learning model. "
   ]
  },
  {
   "cell_type": "code",
   "execution_count": 13,
   "metadata": {},
   "outputs": [],
   "source": [
    "from sklearn.feature_extraction.text import CountVectorizer\n",
    "from sklearn.preprocessing import LabelBinarizer, LabelEncoder\n",
    "from sklearn.model_selection import train_test_split\n",
    "from sklearn.tree import DecisionTreeClassifier\n",
    "import sklearn.tree as tree\n",
    "import graphviz"
   ]
  },
  {
   "cell_type": "markdown",
   "metadata": {},
   "source": [
    "## FEATURES"
   ]
  },
  {
   "cell_type": "markdown",
   "metadata": {},
   "source": [
    "### Count Vectorizer\n",
    "\n",
    "<img src=\"./../assets/images/bow-image.png\" style=\"width: 300px;\">\n",
    "\n",
    "A bag-of-words model puts every word in your document into a bag (vector) and returns the bag. The most common bag of words model is the Count Vectorizer where you count each occurence of a word in a document. The visual above represents how a Count Vectorizer works. It's easy to use however this removes the sentence structure of the document."
   ]
  },
  {
   "cell_type": "code",
   "execution_count": 14,
   "metadata": {},
   "outputs": [],
   "source": [
    "vector = CountVectorizer(analyzer = 'word',\n",
    "                         stop_words = 'english')\n",
    "\n",
    "features = vector.fit_transform(df['content'].head(5))"
   ]
  },
  {
   "cell_type": "markdown",
   "metadata": {},
   "source": [
    "The dataframe below is how your data would look like once it is converted by the Count Vectorizer. Each column represents a token. For big matrices, the vectorizer converts the data into a sparse matrix to reduce the amount of memory used. You can revert it to an array with the `.todense()` function."
   ]
  },
  {
   "cell_type": "code",
   "execution_count": 15,
   "metadata": {},
   "outputs": [
    {
     "data": {
      "text/html": [
       "<div>\n",
       "<style scoped>\n",
       "    .dataframe tbody tr th:only-of-type {\n",
       "        vertical-align: middle;\n",
       "    }\n",
       "\n",
       "    .dataframe tbody tr th {\n",
       "        vertical-align: top;\n",
       "    }\n",
       "\n",
       "    .dataframe thead th {\n",
       "        text-align: right;\n",
       "    }\n",
       "</style>\n",
       "<table border=\"1\" class=\"dataframe\">\n",
       "  <thead>\n",
       "    <tr style=\"text-align: right;\">\n",
       "      <th></th>\n",
       "      <th>0</th>\n",
       "      <th>1</th>\n",
       "      <th>2</th>\n",
       "      <th>3</th>\n",
       "      <th>4</th>\n",
       "      <th>5</th>\n",
       "      <th>6</th>\n",
       "      <th>7</th>\n",
       "      <th>8</th>\n",
       "      <th>9</th>\n",
       "      <th>...</th>\n",
       "      <th>214</th>\n",
       "      <th>215</th>\n",
       "      <th>216</th>\n",
       "      <th>217</th>\n",
       "      <th>218</th>\n",
       "      <th>219</th>\n",
       "      <th>220</th>\n",
       "      <th>221</th>\n",
       "      <th>222</th>\n",
       "      <th>223</th>\n",
       "    </tr>\n",
       "  </thead>\n",
       "  <tbody>\n",
       "    <tr>\n",
       "      <th>0</th>\n",
       "      <td>0</td>\n",
       "      <td>0</td>\n",
       "      <td>0</td>\n",
       "      <td>0</td>\n",
       "      <td>0</td>\n",
       "      <td>0</td>\n",
       "      <td>0</td>\n",
       "      <td>0</td>\n",
       "      <td>0</td>\n",
       "      <td>0</td>\n",
       "      <td>...</td>\n",
       "      <td>0</td>\n",
       "      <td>0</td>\n",
       "      <td>0</td>\n",
       "      <td>0</td>\n",
       "      <td>1</td>\n",
       "      <td>1</td>\n",
       "      <td>1</td>\n",
       "      <td>0</td>\n",
       "      <td>0</td>\n",
       "      <td>0</td>\n",
       "    </tr>\n",
       "    <tr>\n",
       "      <th>1</th>\n",
       "      <td>0</td>\n",
       "      <td>0</td>\n",
       "      <td>0</td>\n",
       "      <td>0</td>\n",
       "      <td>0</td>\n",
       "      <td>0</td>\n",
       "      <td>0</td>\n",
       "      <td>1</td>\n",
       "      <td>0</td>\n",
       "      <td>0</td>\n",
       "      <td>...</td>\n",
       "      <td>0</td>\n",
       "      <td>1</td>\n",
       "      <td>0</td>\n",
       "      <td>1</td>\n",
       "      <td>0</td>\n",
       "      <td>0</td>\n",
       "      <td>0</td>\n",
       "      <td>0</td>\n",
       "      <td>0</td>\n",
       "      <td>0</td>\n",
       "    </tr>\n",
       "    <tr>\n",
       "      <th>2</th>\n",
       "      <td>0</td>\n",
       "      <td>1</td>\n",
       "      <td>0</td>\n",
       "      <td>0</td>\n",
       "      <td>0</td>\n",
       "      <td>1</td>\n",
       "      <td>0</td>\n",
       "      <td>0</td>\n",
       "      <td>0</td>\n",
       "      <td>0</td>\n",
       "      <td>...</td>\n",
       "      <td>0</td>\n",
       "      <td>0</td>\n",
       "      <td>0</td>\n",
       "      <td>0</td>\n",
       "      <td>0</td>\n",
       "      <td>0</td>\n",
       "      <td>0</td>\n",
       "      <td>0</td>\n",
       "      <td>0</td>\n",
       "      <td>0</td>\n",
       "    </tr>\n",
       "    <tr>\n",
       "      <th>3</th>\n",
       "      <td>1</td>\n",
       "      <td>0</td>\n",
       "      <td>0</td>\n",
       "      <td>0</td>\n",
       "      <td>1</td>\n",
       "      <td>0</td>\n",
       "      <td>2</td>\n",
       "      <td>0</td>\n",
       "      <td>1</td>\n",
       "      <td>2</td>\n",
       "      <td>...</td>\n",
       "      <td>0</td>\n",
       "      <td>0</td>\n",
       "      <td>0</td>\n",
       "      <td>0</td>\n",
       "      <td>0</td>\n",
       "      <td>0</td>\n",
       "      <td>0</td>\n",
       "      <td>1</td>\n",
       "      <td>0</td>\n",
       "      <td>0</td>\n",
       "    </tr>\n",
       "    <tr>\n",
       "      <th>4</th>\n",
       "      <td>1</td>\n",
       "      <td>0</td>\n",
       "      <td>1</td>\n",
       "      <td>1</td>\n",
       "      <td>0</td>\n",
       "      <td>0</td>\n",
       "      <td>0</td>\n",
       "      <td>0</td>\n",
       "      <td>0</td>\n",
       "      <td>0</td>\n",
       "      <td>...</td>\n",
       "      <td>1</td>\n",
       "      <td>0</td>\n",
       "      <td>2</td>\n",
       "      <td>0</td>\n",
       "      <td>0</td>\n",
       "      <td>0</td>\n",
       "      <td>0</td>\n",
       "      <td>0</td>\n",
       "      <td>2</td>\n",
       "      <td>3</td>\n",
       "    </tr>\n",
       "  </tbody>\n",
       "</table>\n",
       "<p>5 rows × 224 columns</p>\n",
       "</div>"
      ],
      "text/plain": [
       "   0    1    2    3    4    5    6    7    8    9    ...  214  215  216  217  \\\n",
       "0    0    0    0    0    0    0    0    0    0    0  ...    0    0    0    0   \n",
       "1    0    0    0    0    0    0    0    1    0    0  ...    0    1    0    1   \n",
       "2    0    1    0    0    0    1    0    0    0    0  ...    0    0    0    0   \n",
       "3    1    0    0    0    1    0    2    0    1    2  ...    0    0    0    0   \n",
       "4    1    0    1    1    0    0    0    0    0    0  ...    1    0    2    0   \n",
       "\n",
       "   218  219  220  221  222  223  \n",
       "0    1    1    1    0    0    0  \n",
       "1    0    0    0    0    0    0  \n",
       "2    0    0    0    0    0    0  \n",
       "3    0    0    0    1    0    0  \n",
       "4    0    0    0    0    2    3  \n",
       "\n",
       "[5 rows x 224 columns]"
      ]
     },
     "execution_count": 15,
     "metadata": {},
     "output_type": "execute_result"
    }
   ],
   "source": [
    "pd.DataFrame(features.todense())"
   ]
  },
  {
   "cell_type": "markdown",
   "metadata": {},
   "source": [
    "You can get the features with the `.vocabulary_` function."
   ]
  },
  {
   "cell_type": "code",
   "execution_count": 16,
   "metadata": {},
   "outputs": [],
   "source": [
    "#vector.vocabulary_"
   ]
  },
  {
   "cell_type": "markdown",
   "metadata": {},
   "source": [
    "You can also see read more about the Count Vectorizer documentation [here](https://scikit-learn.org/stable/modules/generated/sklearn.feature_extraction.text.CountVectorizer.html)."
   ]
  },
  {
   "cell_type": "markdown",
   "metadata": {},
   "source": [
    "## LABELS"
   ]
  },
  {
   "cell_type": "markdown",
   "metadata": {},
   "source": [
    "### Label Encoding\n",
    "We will convert each label into a numerical index. From 'highschool', 'college', and 'masters', we will convert it to '0', '1', and '2'."
   ]
  },
  {
   "cell_type": "code",
   "execution_count": 17,
   "metadata": {},
   "outputs": [
    {
     "data": {
      "text/html": [
       "<div>\n",
       "<style scoped>\n",
       "    .dataframe tbody tr th:only-of-type {\n",
       "        vertical-align: middle;\n",
       "    }\n",
       "\n",
       "    .dataframe tbody tr th {\n",
       "        vertical-align: top;\n",
       "    }\n",
       "\n",
       "    .dataframe thead th {\n",
       "        text-align: right;\n",
       "    }\n",
       "</style>\n",
       "<table border=\"1\" class=\"dataframe\">\n",
       "  <thead>\n",
       "    <tr style=\"text-align: right;\">\n",
       "      <th></th>\n",
       "      <th>education</th>\n",
       "      <th>target</th>\n",
       "    </tr>\n",
       "  </thead>\n",
       "  <tbody>\n",
       "    <tr>\n",
       "      <th>5682</th>\n",
       "      <td>associates</td>\n",
       "      <td>0</td>\n",
       "    </tr>\n",
       "    <tr>\n",
       "      <th>5296</th>\n",
       "      <td>associates</td>\n",
       "      <td>0</td>\n",
       "    </tr>\n",
       "    <tr>\n",
       "      <th>2987</th>\n",
       "      <td>masters</td>\n",
       "      <td>3</td>\n",
       "    </tr>\n",
       "    <tr>\n",
       "      <th>9673</th>\n",
       "      <td>bachelors</td>\n",
       "      <td>1</td>\n",
       "    </tr>\n",
       "    <tr>\n",
       "      <th>9750</th>\n",
       "      <td>some college</td>\n",
       "      <td>4</td>\n",
       "    </tr>\n",
       "    <tr>\n",
       "      <th>5170</th>\n",
       "      <td>masters</td>\n",
       "      <td>3</td>\n",
       "    </tr>\n",
       "    <tr>\n",
       "      <th>4305</th>\n",
       "      <td>associates</td>\n",
       "      <td>0</td>\n",
       "    </tr>\n",
       "    <tr>\n",
       "      <th>10829</th>\n",
       "      <td>bachelors</td>\n",
       "      <td>1</td>\n",
       "    </tr>\n",
       "    <tr>\n",
       "      <th>3014</th>\n",
       "      <td>associates</td>\n",
       "      <td>0</td>\n",
       "    </tr>\n",
       "    <tr>\n",
       "      <th>7731</th>\n",
       "      <td>bachelors</td>\n",
       "      <td>1</td>\n",
       "    </tr>\n",
       "  </tbody>\n",
       "</table>\n",
       "</div>"
      ],
      "text/plain": [
       "          education  target\n",
       "5682     associates       0\n",
       "5296     associates       0\n",
       "2987        masters       3\n",
       "9673      bachelors       1\n",
       "9750   some college       4\n",
       "5170        masters       3\n",
       "4305     associates       0\n",
       "10829     bachelors       1\n",
       "3014     associates       0\n",
       "7731      bachelors       1"
      ]
     },
     "execution_count": 17,
     "metadata": {},
     "output_type": "execute_result"
    }
   ],
   "source": [
    "encoder = LabelEncoder()\n",
    "target = encoder.fit_transform(df['education'])\n",
    "\n",
    "target = pd.DataFrame({'education':df['education'].values,\n",
    "                       'target':target})\n",
    "target.sample(10)"
   ]
  },
  {
   "cell_type": "markdown",
   "metadata": {},
   "source": [
    "Now let's write out the code again to clean it up."
   ]
  },
  {
   "cell_type": "code",
   "execution_count": 18,
   "metadata": {},
   "outputs": [],
   "source": [
    "vector = CountVectorizer(analyzer = 'word',\n",
    "                         stop_words = 'english',\n",
    "                         max_features = 10000)\n",
    "\n",
    "features = vector.fit_transform(df['content'])\n",
    "# Create list of feature index to token\n",
    "token_list = {b:a for a,b in vector.vocabulary_.items()}"
   ]
  },
  {
   "cell_type": "code",
   "execution_count": 19,
   "metadata": {},
   "outputs": [],
   "source": [
    "sorted_tokens = []\n",
    "for a in sorted(token_list):\n",
    "    sorted_tokens.append(token_list[a])"
   ]
  },
  {
   "cell_type": "code",
   "execution_count": 20,
   "metadata": {},
   "outputs": [],
   "source": [
    "encoder = LabelEncoder()\n",
    "\n",
    "target = encoder.fit_transform(df['education'])\n",
    "# Get the list of labels\n",
    "labels = list(encoder.classes_)"
   ]
  },
  {
   "cell_type": "markdown",
   "metadata": {},
   "source": [
    "To train our model, we'll split the data into a training and test set. We train the model on our training data and validate the performance of the model on our test set.\n",
    "\n",
    "For our neural network, we'll split the data into training, validation, and test set. The validation set will be used as a way to validate checkpoints in our neural network training to prevent overfitting."
   ]
  },
  {
   "cell_type": "code",
   "execution_count": 21,
   "metadata": {},
   "outputs": [],
   "source": [
    "X_train_full, X_test, y_train_full, y_test = train_test_split(features, target, test_size = 0.2, shuffle = True)\n",
    "\n",
    "X_train, X_valid, y_train, y_valid = train_test_split(X_train_full, y_train_full, test_size = 0.25)"
   ]
  },
  {
   "cell_type": "markdown",
   "metadata": {},
   "source": [
    "## Decision Tree\n",
    "\n",
    "<img src=\"./../assets/images/decision_tree.png\" style=\"width: 600px;\">\n",
    "\n",
    "Decision Trees are created by the data into groups based on which feature can differentiate each node. You can change the parameters of the decision tree such as the maximum depth of the tree and the minimum samples in a node before it can be split. A Decision Tree learns by splitting your data based on the features and labels.\n",
    "\n",
    "<img src=\"./../assets/images/dtc1.png\" style=\"width: 600px;\">\n"
   ]
  },
  {
   "cell_type": "code",
   "execution_count": 22,
   "metadata": {},
   "outputs": [],
   "source": [
    "clf = DecisionTreeClassifier(max_depth = 20,\n",
    "                             min_samples_split = 10,\n",
    "                             criterion = 'entropy')"
   ]
  },
  {
   "cell_type": "code",
   "execution_count": 23,
   "metadata": {},
   "outputs": [
    {
     "data": {
      "text/plain": [
       "DecisionTreeClassifier(class_weight=None, criterion='entropy', max_depth=20,\n",
       "                       max_features=None, max_leaf_nodes=None,\n",
       "                       min_impurity_decrease=0.0, min_impurity_split=None,\n",
       "                       min_samples_leaf=1, min_samples_split=10,\n",
       "                       min_weight_fraction_leaf=0.0, presort=False,\n",
       "                       random_state=None, splitter='best')"
      ]
     },
     "execution_count": 23,
     "metadata": {},
     "output_type": "execute_result"
    }
   ],
   "source": [
    "clf.fit(X_train_full, y_train_full)"
   ]
  },
  {
   "cell_type": "markdown",
   "metadata": {},
   "source": [
    "We can check how well our model performed both in the training and test data."
   ]
  },
  {
   "cell_type": "code",
   "execution_count": 24,
   "metadata": {},
   "outputs": [
    {
     "name": "stdout",
     "output_type": "stream",
     "text": [
      "Training score:\t51.49%\n",
      "Testing score:\t39.70%\n"
     ]
    }
   ],
   "source": [
    "train_score = clf.score(X_train_full, y_train_full)\n",
    "test_score  = clf.score(X_test, y_test)\n",
    "\n",
    "print(f\"Training score:\\t{train_score*100:.2f}%\")\n",
    "print(f\"Testing score:\\t{test_score*100:.2f}%\")"
   ]
  },
  {
   "cell_type": "markdown",
   "metadata": {},
   "source": [
    "We can also retrieve the most important features from the data."
   ]
  },
  {
   "cell_type": "code",
   "execution_count": 25,
   "metadata": {},
   "outputs": [
    {
     "name": "stdout",
     "output_type": "stream",
     "text": [
      "Top 10 most important features:\n",
      " - business\n",
      " - degree\n",
      " - design\n",
      " - marketing\n",
      " - professional\n",
      " - work\n",
      " - teacher\n",
      " - masters\n",
      " - mba\n",
      " - im\n"
     ]
    }
   ],
   "source": [
    "print(\"Top 10 most important features:\")\n",
    "for a in np.argsort(clf.feature_importances_)[::-1][:10]:\n",
    "    print(\" -\",token_list[a])"
   ]
  },
  {
   "cell_type": "code",
   "execution_count": 26,
   "metadata": {},
   "outputs": [
    {
     "name": "stdout",
     "output_type": "stream",
     "text": [
      "my name is melissa i specialize in housekeeping services and have good references. i am reliable and efficient. no job is too much. i am located in truth or consequences . message me if you need housekeeping. thank u \n",
      "\n",
      "Predict:\tsome college\n",
      "Truth \t\thigh school/GED\n"
     ]
    }
   ],
   "source": [
    "def get_prediction(text):\n",
    "    sample_vec = vector.transform([text])\n",
    "    predict = clf.predict(sample_vec)\n",
    "    predict_class = encoder.inverse_transform(predict.astype(int))\n",
    "    \n",
    "    print(text,\"\\n\")\n",
    "    print(f\"Predict:\\t{predict_class[0]}\")\n",
    "\n",
    "get_prediction(df['content'].iloc[10])\n",
    "print(f\"Truth \\t\\t{df['education'].iloc[10]}\")"
   ]
  },
  {
   "cell_type": "markdown",
   "metadata": {},
   "source": [
    "With the new update in scikit learn, you can now create pdfs of the tree generated by your model.\n",
    "\n",
    "We would need to download graphviz, export the file, and set it as one of our PATH variables below.</br>\n",
    "https://www.graphviz.org/download/"
   ]
  },
  {
   "cell_type": "code",
   "execution_count": 27,
   "metadata": {},
   "outputs": [
    {
     "data": {
      "text/plain": [
       "'nlp.pdf'"
      ]
     },
     "execution_count": 27,
     "metadata": {},
     "output_type": "execute_result"
    }
   ],
   "source": [
    "import os\n",
    "os.environ[\"PATH\"] += os.pathsep + 'D:/Program Files (x86)/graphviz/release/bin'\n",
    "\n",
    "dot_data = tree.export_graphviz(clf, out_file=None, feature_names = sorted_tokens, \n",
    "                                filled = True, class_names = encoder.classes_) \n",
    "graph = graphviz.Source(dot_data) \n",
    "graph.render(\"nlp\") "
   ]
  },
  {
   "cell_type": "markdown",
   "metadata": {},
   "source": [
    "## Neural Network\n",
    "<img src=\"./../assets/images/nn.jpg\" style=\"width: 600px;\">\n",
    "\n",
    "The Neural Network is a series of layers of nodes that are connected. The model learns by updating its parameters based on 'how wrong' the model is. Model training follows this series of steps:<br/>\n",
    "\n",
    "- Model predicts the output\n",
    "- Calculate the loss\n",
    "- Propagate the loss through the entire network\n",
    "- Update the weights\n",
    "- Repeat\n",
    "\n",
    "For this exercise, we will be using PyTorch."
   ]
  },
  {
   "cell_type": "code",
   "execution_count": 28,
   "metadata": {},
   "outputs": [],
   "source": [
    "import numpy as np\n",
    "\n",
    "import torch\n",
    "import torchvision\n",
    "\n",
    "from torch import nn, optim\n",
    "import torch.nn.functional as F\n",
    "import torch.utils.data as utils"
   ]
  },
  {
   "cell_type": "markdown",
   "metadata": {},
   "source": [
    "We first need to check if a GPU is available."
   ]
  },
  {
   "cell_type": "code",
   "execution_count": 29,
   "metadata": {},
   "outputs": [
    {
     "name": "stdout",
     "output_type": "stream",
     "text": [
      "GPU detected. Training with GPU\n"
     ]
    }
   ],
   "source": [
    "cuda = torch.cuda.is_available()\n",
    "\n",
    "if cuda:\n",
    "    print(\"GPU detected. Training with GPU\")\n",
    "else:\n",
    "    print(\"No GPU detected. Training with CPU\")"
   ]
  },
  {
   "cell_type": "markdown",
   "metadata": {},
   "source": [
    "PyTorch uses its own data structure called Tensor (which is similar to how other deep learning frameworks call it). We need to convert our data to Tensors."
   ]
  },
  {
   "cell_type": "code",
   "execution_count": 30,
   "metadata": {},
   "outputs": [],
   "source": [
    "tensor_X_train = torch.stack([torch.Tensor(row.todense()) for row in X_train])\n",
    "tensor_y_train = torch.tensor(y_train)\n",
    "\n",
    "tensor_X_valid = torch.stack([torch.Tensor(row.todense()) for row in X_valid])\n",
    "tensor_y_valid = torch.tensor(y_valid)\n",
    "\n",
    "tensor_X_test = torch.stack([torch.Tensor(row.todense()) for row in X_test])\n",
    "tensor_y_test = torch.tensor(y_test)"
   ]
  },
  {
   "cell_type": "markdown",
   "metadata": {},
   "source": [
    "We then load the our data into a data loader that will create the mini-batches that we will feed into our network."
   ]
  },
  {
   "cell_type": "code",
   "execution_count": 31,
   "metadata": {},
   "outputs": [],
   "source": [
    "traindataset = utils.TensorDataset(tensor_X_train, tensor_y_train)\n",
    "trainloader = utils.DataLoader(traindataset, batch_size = 32, shuffle = True)\n",
    "\n",
    "validdataset = utils.TensorDataset(tensor_X_valid, tensor_y_valid)\n",
    "validloader = utils.DataLoader(validdataset, batch_size = 32, shuffle = True)\n",
    "\n",
    "testdataset = utils.TensorDataset(tensor_X_test, tensor_y_test)\n",
    "testloader = utils.DataLoader(testdataset, batch_size = 32)"
   ]
  },
  {
   "cell_type": "markdown",
   "metadata": {},
   "source": [
    "Now, we can define our neural network! To build a simple neural network class, we need to define the `__init__` and `forward` function. <br/>\n",
    "\n",
    "In the `__init__` function, we define the layers and processes of our network: <br/>\n",
    "\n",
    "`nn.Linear()` is the hidden layer in the neural network. It takes in the input and output size. We create 3 different hidden layers. Notice that the first hidden layer's input size is equivalent to the number of features in our data. The last hidden layer has output size equivalent to the number of classes of our data.  <br/>\n",
    "`nn.Dropout()` is a function that randomly turns off certain nodes. With this, the model becomes more robust and less prone to overfit.\n",
    "\n",
    "In the `forward` function, we define how our model intakes, calculates, and outputs our data. There are 2 functions that we introduce here as well:<br/>\n",
    "\n",
    "`F.relu()` performs the activation function ReLU (Rectified Linear Unit) on our model.<br/>\n",
    "`F.log_softmax()` returns the LogSoftmax of the output and returns the class probabilty."
   ]
  },
  {
   "cell_type": "code",
   "execution_count": 32,
   "metadata": {},
   "outputs": [],
   "source": [
    "# Model must always inherit the nn.Module class\n",
    "class Classifier(nn.Module):\n",
    "    # Define the init function\n",
    "    def __init__(self):\n",
    "        super().__init__()\n",
    "        \n",
    "        # Create the first hidden layer with input 10,000 and output 2,000\n",
    "        self.fc1 = nn.Linear(10000, 2000)\n",
    "        # Create the second hidden layer with input 2,000 and output 500\n",
    "        self.fc2 = nn.Linear(2000, 500)\n",
    "        # Create the third hidden layer with input 500 and output 5\n",
    "        self.fc3 = nn.Linear(500, 5)\n",
    "        \n",
    "        # Define the dropout function\n",
    "        self.drop = nn.Dropout(0.5)\n",
    "        \n",
    "    # Define the forward function\n",
    "    def forward(self, x):\n",
    "        # Reshape the data\n",
    "        x = x.view(x.shape[0], -1)\n",
    "        # Feed the input data to the first hidden layer, apply dropout, and then apply the ReLU activation\n",
    "        x = F.relu(self.drop(self.fc1(x)))\n",
    "        # Same process as applies but using the second hidden layer\n",
    "        x = F.relu(self.drop(self.fc2(x)))\n",
    "        # Feed the features into the last hidden layer and feed it to a log soft max\n",
    "        x = F.log_softmax(self.fc3(x), dim = 1)\n",
    "        # Return output\n",
    "        return x"
   ]
  },
  {
   "cell_type": "markdown",
   "metadata": {},
   "source": [
    "Now that the model has been defined, we now need to define the loss function for our model and the optimizer.<br/>\n",
    "\n",
    "The `loss function` calculates 'how wrong' our model is based on the ground truth values. In our example, we will use the __Negative Loss Likelihood function__.<br/>\n",
    "The `optimizer` defines how you calculate the gradients that will update the neural network parameters. __Adam__ is one of the popular optimizers."
   ]
  },
  {
   "cell_type": "code",
   "execution_count": 33,
   "metadata": {},
   "outputs": [],
   "source": [
    "# Instantiate our model\n",
    "model = Classifier()\n",
    "# Define our loss function\n",
    "criterion = nn.NLLLoss()\n",
    "# Define our optimizer\n",
    "optimizer = optim.Adam(model.parameters(), lr = 0.0003)"
   ]
  },
  {
   "cell_type": "markdown",
   "metadata": {},
   "source": [
    "Next we will define our training loop. The training loop will run over n number of epochs. Earlier, we mentioned that neural networks tend to overfit the data, which is why we add a validation set in our training. The validation set is similar to the test set where we select the model that has the highest validation set. The difference between the validation and test set is the model never went through the test set. Since we're selecting our model based on the validation set, the validation set is, in a way, a bias in our model."
   ]
  },
  {
   "cell_type": "code",
   "execution_count": 34,
   "metadata": {},
   "outputs": [
    {
     "name": "stdout",
     "output_type": "stream",
     "text": [
      "Epoch 0: Training loss: \t1.390400\tValid loss: \t\t1.287995\n",
      "Validation loss improved... Saving model\n",
      "Epoch 1: Training loss: \t1.057799\tValid loss: \t\t1.297287\n",
      "Epoch 2: Training loss: \t0.686436\tValid loss: \t\t1.526657\n",
      "Epoch 3: Training loss: \t0.405262\tValid loss: \t\t1.853529\n",
      "Epoch 4: Training loss: \t0.228052\tValid loss: \t\t2.103699\n",
      "Epoch 5: Training loss: \t0.151096\tValid loss: \t\t2.354072\n",
      "Epoch 6: Training loss: \t0.111097\tValid loss: \t\t2.555210\n",
      "Epoch 7: Training loss: \t0.091499\tValid loss: \t\t2.682097\n",
      "Epoch 8: Training loss: \t0.066871\tValid loss: \t\t2.791855\n",
      "Epoch 9: Training loss: \t0.053388\tValid loss: \t\t3.059007\n"
     ]
    }
   ],
   "source": [
    "# Define how many epochs we want\n",
    "epochs = 10\n",
    "\n",
    "# Set the best loss as infinity and best_model as none\n",
    "best_loss = np.inf\n",
    "best_model = None\n",
    "\n",
    "# Create empty arrays for our training losses for analysis\n",
    "train_losses = []\n",
    "valid_losses = []\n",
    "\n",
    "# If we are using a GPU, import the model to the GPU\n",
    "if cuda:\n",
    "    model = model.cuda()\n",
    "    \n",
    "# Training loop\n",
    "for e in range(epochs):\n",
    "    # Set training loss for this epoch as 0\n",
    "    train_loss = 0.\n",
    "    \n",
    "    # Set the model to `train` mode\n",
    "    # This will let the functions that are important in training but\n",
    "    # not validation to activate (i.e. Dropouts)\n",
    "    model.train()\n",
    "    \n",
    "    ####################\n",
    "    ##### TRAINING #####\n",
    "    ####################\n",
    "    \n",
    "    # Loop for the mini batches using our dataloader\n",
    "    for feat, labels in trainloader:\n",
    "        # If we are using a GPU, move the features and the labels to the GPU\n",
    "        if cuda:\n",
    "            feat, labels = feat.cuda(), labels.cuda()\n",
    "            \n",
    "        # Get the output of the model\n",
    "        log_ps = model(feat)\n",
    "        \n",
    "        # Calculate the loss for this mini batch size\n",
    "        loss = criterion(log_ps, labels.long())\n",
    "        \n",
    "        # Zero out the gradients. By default, the gradients accumulate\n",
    "        # which is convenient for RNNs\n",
    "        optimizer.zero_grad()\n",
    "        \n",
    "        # Propage the loss to our model\n",
    "        loss.backward()\n",
    "        \n",
    "        # Update our models weights\n",
    "        optimizer.step()\n",
    "        \n",
    "        # Get the training loss for this mini batch\n",
    "        train_loss += loss.item()\n",
    "        \n",
    "    # Get the average training loss for the entire training data for this epoch\n",
    "    train_loss /= len(trainloader)\n",
    "    train_losses.append(train_loss)\n",
    "    \n",
    "    ####################\n",
    "    #### VALIDATION ####\n",
    "    ####################\n",
    "    \n",
    "    # Set the valid loss\n",
    "    valid_loss = 0.\n",
    "    \n",
    "    # Turn the model to eval mode so dropouts are turned off\n",
    "    model.eval()\n",
    "    \n",
    "    # Loop for the validation set\n",
    "    for feat, labels in validloader:\n",
    "        # Move to GPU\n",
    "        if cuda:\n",
    "            feat, labels = feat.cuda(), labels.cuda()\n",
    "        \n",
    "        # Calculate predictions\n",
    "        log_ps = model(feat)\n",
    "        \n",
    "        # Get loss function\n",
    "        loss = criterion(log_ps, labels.long())\n",
    "        \n",
    "        # Get the loss for the mini batch\n",
    "        valid_loss += loss.item()\n",
    "        \n",
    "        # Notice that we didn't zero out the gradients, propagate the loss\n",
    "        # nor did we update the weights. The validation loop is merely for\n",
    "        # evaluating the performance of our model\n",
    "        \n",
    "    # Get the average validation loss\n",
    "    valid_loss /= len(validloader)\n",
    "    valid_losses.append(valid_loss)\n",
    "    \n",
    "    # Print the training loss and validation loss of this epoch\n",
    "    print(f\"Epoch {e}: Training loss: \\t{train_loss:.6f}\\tValid loss: \\t\\t{valid_loss:.6f}\")\n",
    "    \n",
    "    # If the validation loss improved, we save the model as the best model\n",
    "    if valid_loss < best_loss:\n",
    "        print(\"Validation loss improved... Saving model\")\n",
    "        best_loss = valid_loss\n",
    "        best_model = model\n",
    "\n",
    "model = best_model"
   ]
  },
  {
   "cell_type": "markdown",
   "metadata": {},
   "source": [
    "Now, if you have a GPU, you can make a cup of coffe while you wait for the training loop. If you don't, might be good time watch an episode of a series you've been following.\n",
    "\n",
    "Afterwards, we'll plot and see our training and validation loss."
   ]
  },
  {
   "cell_type": "code",
   "execution_count": 35,
   "metadata": {},
   "outputs": [
    {
     "data": {
      "image/png": "[encoded data removed]",
      "text/plain": [
       "<Figure size 432x288 with 1 Axes>"
      ]
     },
     "metadata": {
      "needs_background": "light"
     },
     "output_type": "display_data"
    }
   ],
   "source": [
    "plt.plot(train_losses, label = 'Train')\n",
    "plt.plot(valid_losses, label = 'Valid')\n",
    "plt.legend()\n",
    "plt.show()"
   ]
  },
  {
   "cell_type": "code",
   "execution_count": 49,
   "metadata": {},
   "outputs": [
    {
     "data": {
      "text/plain": [
       "3"
      ]
     },
     "execution_count": 49,
     "metadata": {},
     "output_type": "execute_result"
    }
   ],
   "source": [
    "def model_predict(text, model):\n",
    "    # Convert our text to the vector representation\n",
    "    if type(text) == str:\n",
    "        text = vector.transform([text])\n",
    "    # Convert it into a torch Tensor\n",
    "    text = torch.Tensor(text.todense())\n",
    "    # Move to GPU if you have GPU\n",
    "    if cuda:\n",
    "        model = model.cuda()\n",
    "        text = text.cuda()\n",
    "        \n",
    "    # Predict probabilities\n",
    "    predict = model(text)\n",
    "    # Move the predictions to cpu\n",
    "    predict = predict.cpu().detach().numpy()[0]\n",
    "    # Get the prediction with highest probability\n",
    "    predict = predict.argmax()\n",
    "    predict_class = encoder.inverse_transform([predict.astype(int)])\n",
    "    return predict\n",
    "\n",
    "model_predict(\"I have a degree\", model)"
   ]
  },
  {
   "cell_type": "markdown",
   "metadata": {},
   "source": [
    "Now we have a working model. Let's see it's accuracy in the training and test data."
   ]
  },
  {
   "cell_type": "code",
   "execution_count": 50,
   "metadata": {
    "scrolled": true
   },
   "outputs": [
    {
     "name": "stderr",
     "output_type": "stream",
     "text": [
      "100%|██████████████████████████████████████████████████████████████████████████| 9066/9066 [00:09<00:00, 970.56it/s]\n"
     ]
    },
    {
     "name": "stdout",
     "output_type": "stream",
     "text": [
      "Model train accuracy: 99.65%\n"
     ]
    },
    {
     "name": "stderr",
     "output_type": "stream",
     "text": [
      "100%|██████████████████████████████████████████████████████████████████████████| 3023/3023 [00:03<00:00, 983.80it/s]\n"
     ]
    },
    {
     "name": "stdout",
     "output_type": "stream",
     "text": [
      "Model test accuracy: 47.27%\n"
     ]
    }
   ],
   "source": [
    "correct_count = 0\n",
    "for feat, val in tqdm(zip(X_train, y_train), total = len(y_train)):\n",
    "    if model_predict(feat, model) == val:\n",
    "        correct_count += 1\n",
    "\n",
    "print(f\"Model train accuracy: {correct_count*100/len(y_train):.2f}%\")\n",
    "\n",
    "for feat, val in tqdm(zip(X_test, y_test), total = len(y_test)):\n",
    "    if model_predict(feat, model) == val:\n",
    "        correct_count += 1\n",
    "\n",
    "print(f\"Model test accuracy: {correct_count*100/len(y_test):.2f}%\")"
   ]
  },
  {
   "cell_type": "markdown",
   "metadata": {},
   "source": [
    "It's a lot to take in. Luckily, scikit-learn has very simple implementation. MLPClassifier is short for Multi Layer Perceptron Classifier which is another term for the simple feed forward neural network."
   ]
  },
  {
   "cell_type": "code",
   "execution_count": 42,
   "metadata": {},
   "outputs": [],
   "source": [
    "from sklearn.neural_network import MLPClassifier"
   ]
  },
  {
   "cell_type": "code",
   "execution_count": 43,
   "metadata": {},
   "outputs": [],
   "source": [
    "mlp = MLPClassifier(hidden_layer_sizes = (2000, 500),\n",
    "                    activation = 'relu',\n",
    "                    solver = 'adam',\n",
    "                    batch_size = 32,\n",
    "                    learning_rate_init = 0.0003,\n",
    "                    max_iter = 1,\n",
    "                    shuffle = True,\n",
    "                    verbose = 1)"
   ]
  },
  {
   "cell_type": "code",
   "execution_count": null,
   "metadata": {},
   "outputs": [],
   "source": [
    "mlp.fit(X_train, y_train)"
   ]
  },
  {
   "cell_type": "code",
   "execution_count": null,
   "metadata": {},
   "outputs": [],
   "source": [
    "mlp.score(X_test, y_test)"
   ]
  },
  {
   "cell_type": "code",
   "execution_count": null,
   "metadata": {},
   "outputs": [],
   "source": []
  }
 ],
 "metadata": {
  "kernelspec": {
   "display_name": "Python 3",
   "language": "python",
   "name": "python3"
  },
  "language_info": {
   "codemirror_mode": {
    "name": "ipython",
    "version": 3
   },
   "file_extension": ".py",
   "mimetype": "text/x-python",
   "name": "python",
   "nbconvert_exporter": "python",
   "pygments_lexer": "ipython3",
   "version": "3.7.2"
  }
 },
 "nbformat": 4,
 "nbformat_minor": 4
}
