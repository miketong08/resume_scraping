{
 "cells": [
  {
   "cell_type": "code",
   "execution_count": 1,
   "metadata": {},
   "outputs": [],
   "source": [
    "import numpy as np\n",
    "import pandas as pd\n",
    "\n",
    "import matplotlib.pyplot as plt\n",
    "\n",
    "%matplotlib inline"
   ]
  },
  {
   "cell_type": "code",
   "execution_count": 2,
   "metadata": {},
   "outputs": [],
   "source": [
    "df = pd.read_csv(\"./../assets/data_large_clean.csv\", index_col = 0)"
   ]
  },
  {
   "cell_type": "code",
   "execution_count": 3,
   "metadata": {},
   "outputs": [],
   "source": [
    "df.drop_duplicates(subset = ['education', 'clean_content'], \n",
    "                   keep = 'first',\n",
    "                   inplace = True)\n",
    "df.reset_index(inplace = True)"
   ]
  },
  {
   "cell_type": "markdown",
   "metadata": {},
   "source": [
    "## Predict the Education Level based on the Text Content"
   ]
  },
  {
   "cell_type": "code",
   "execution_count": 4,
   "metadata": {},
   "outputs": [
    {
     "data": {
      "image/png": "[encoded data removed]",
      "text/plain": [
       "<Figure size 576x432 with 1 Axes>"
      ]
     },
     "metadata": {
      "needs_background": "light"
     },
     "output_type": "display_data"
    }
   ],
   "source": [
    "x = []\n",
    "y = []\n",
    "\n",
    "educ_count = df.groupby(['education']).count()\n",
    "educ_count = educ_count['index'].sort_values()\n",
    "\n",
    "educ_list = ['-',\n",
    "             'less than high school',\n",
    "             'high school/GED',\n",
    "             'some college',\n",
    "             'associates',\n",
    "             'bachelors',\n",
    "             'masters',\n",
    "             'doctoral']\n",
    "\n",
    "for educ in educ_list:\n",
    "    x.append(educ)\n",
    "    y.append(educ_count[educ])\n",
    "    \n",
    "plt.figure(figsize = (8,6))\n",
    "plt.title(\"Education Level Count\")\n",
    "plt.xlabel(\"Education Level\")\n",
    "plt.ylabel(\"Count\")\n",
    "plt.grid()\n",
    "plt.xticks(rotation=45)\n",
    "\n",
    "for idx, value in enumerate(y):\n",
    "    plt.text(x = idx, y = value + 35, \n",
    "             s = f\"{value:,}\", fontweight='bold', \n",
    "             horizontalalignment='center')\n",
    "\n",
    "plt.bar(x, y);"
   ]
  },
  {
   "cell_type": "markdown",
   "metadata": {},
   "source": [
    "For the purpose of this prediction, we will only predict the ones with a total count of at least 500."
   ]
  },
  {
   "cell_type": "code",
   "execution_count": 5,
   "metadata": {},
   "outputs": [],
   "source": [
    "included_educ_level = ['high school/GED',\n",
    "                       'some college',\n",
    "                       'associates',\n",
    "                       'bachelors',\n",
    "                       'masters']\n",
    "\n",
    "df_sub = df.loc[df['education'].isin(included_educ_level)].reset_index()\n",
    "df_sub.drop(['index', 'level_0', \n",
    "             'city', 'searched_zipcode',\n",
    "             'url', 'content', 'posting_date', \n",
    "             'n_photos', 'availability', \n",
    "             'region', 'type of employment'], axis = 1, inplace = True)"
   ]
  },
  {
   "cell_type": "code",
   "execution_count": 6,
   "metadata": {},
   "outputs": [
    {
     "name": "stdout",
     "output_type": "stream",
     "text": [
      "(10668, 2)\n"
     ]
    },
    {
     "data": {
      "text/plain": [
       "education            5\n",
       "clean_content    10636\n",
       "dtype: int64"
      ]
     },
     "execution_count": 6,
     "metadata": {},
     "output_type": "execute_result"
    }
   ],
   "source": [
    "print(df_sub.shape)\n",
    "df_sub.nunique()"
   ]
  },
  {
   "cell_type": "markdown",
   "metadata": {},
   "source": [
    "MORE CLEANING"
   ]
  },
  {
   "cell_type": "code",
   "execution_count": 7,
   "metadata": {},
   "outputs": [
    {
     "data": {
      "text/html": [
       "<div>\n",
       "<style scoped>\n",
       "    .dataframe tbody tr th:only-of-type {\n",
       "        vertical-align: middle;\n",
       "    }\n",
       "\n",
       "    .dataframe tbody tr th {\n",
       "        vertical-align: top;\n",
       "    }\n",
       "\n",
       "    .dataframe thead th {\n",
       "        text-align: right;\n",
       "    }\n",
       "</style>\n",
       "<table border=\"1\" class=\"dataframe\">\n",
       "  <thead>\n",
       "    <tr style=\"text-align: right;\">\n",
       "      <th></th>\n",
       "      <th>education</th>\n",
       "      <th>clean_content</th>\n",
       "    </tr>\n",
       "  </thead>\n",
       "  <tbody>\n",
       "    <tr>\n",
       "      <td>7013</td>\n",
       "      <td>high school/GED</td>\n",
       "      <td>25 year body and paint technician ,, looking f...</td>\n",
       "    </tr>\n",
       "    <tr>\n",
       "      <td>7014</td>\n",
       "      <td>some college</td>\n",
       "      <td>25 year body and paint technician ,, looking f...</td>\n",
       "    </tr>\n",
       "    <tr>\n",
       "      <td>207</td>\n",
       "      <td>some college</td>\n",
       "      <td>3yrs exp in construction ,demolition ,trenchin...</td>\n",
       "    </tr>\n",
       "    <tr>\n",
       "      <td>208</td>\n",
       "      <td>high school/GED</td>\n",
       "      <td>3yrs exp in construction ,demolition ,trenchin...</td>\n",
       "    </tr>\n",
       "    <tr>\n",
       "      <td>209</td>\n",
       "      <td>some college</td>\n",
       "      <td>3yrs exp in construction ,demolition ,trenchin...</td>\n",
       "    </tr>\n",
       "    <tr>\n",
       "      <td>210</td>\n",
       "      <td>associates</td>\n",
       "      <td>3yrs exp in construction ,demolition ,trenchin...</td>\n",
       "    </tr>\n",
       "    <tr>\n",
       "      <td>1838</td>\n",
       "      <td>associates</td>\n",
       "      <td>are you looking for someone to bolster your sa...</td>\n",
       "    </tr>\n",
       "    <tr>\n",
       "      <td>1795</td>\n",
       "      <td>some college</td>\n",
       "      <td>are you looking for someone to bolster your sa...</td>\n",
       "    </tr>\n",
       "    <tr>\n",
       "      <td>2695</td>\n",
       "      <td>high school/GED</td>\n",
       "      <td>aside from word of mouth or face to face , col...</td>\n",
       "    </tr>\n",
       "    <tr>\n",
       "      <td>0</td>\n",
       "      <td>some college</td>\n",
       "      <td>aside from word of mouth or face to face , col...</td>\n",
       "    </tr>\n",
       "  </tbody>\n",
       "</table>\n",
       "</div>"
      ],
      "text/plain": [
       "            education                                      clean_content\n",
       "7013  high school/GED  25 year body and paint technician ,, looking f...\n",
       "7014     some college  25 year body and paint technician ,, looking f...\n",
       "207      some college  3yrs exp in construction ,demolition ,trenchin...\n",
       "208   high school/GED  3yrs exp in construction ,demolition ,trenchin...\n",
       "209      some college  3yrs exp in construction ,demolition ,trenchin...\n",
       "210        associates  3yrs exp in construction ,demolition ,trenchin...\n",
       "1838       associates  are you looking for someone to bolster your sa...\n",
       "1795     some college  are you looking for someone to bolster your sa...\n",
       "2695  high school/GED  aside from word of mouth or face to face , col...\n",
       "0        some college  aside from word of mouth or face to face , col..."
      ]
     },
     "execution_count": 7,
     "metadata": {},
     "output_type": "execute_result"
    }
   ],
   "source": [
    "df_sub.loc[df_sub.duplicated(subset = 'clean_content', keep = False)].sort_values('clean_content').head(10)"
   ]
  },
  {
   "cell_type": "code",
   "execution_count": 8,
   "metadata": {},
   "outputs": [],
   "source": [
    "df_sub = df_sub[~df_sub.duplicated(subset = 'clean_content', keep = False)]"
   ]
  },
  {
   "cell_type": "code",
   "execution_count": 9,
   "metadata": {},
   "outputs": [
    {
     "name": "stdout",
     "output_type": "stream",
     "text": [
      "(10604, 2)\n"
     ]
    },
    {
     "data": {
      "text/plain": [
       "education            5\n",
       "clean_content    10604\n",
       "dtype: int64"
      ]
     },
     "execution_count": 9,
     "metadata": {},
     "output_type": "execute_result"
    }
   ],
   "source": [
    "print(df_sub.shape)\n",
    "df_sub.nunique()"
   ]
  },
  {
   "cell_type": "code",
   "execution_count": 10,
   "metadata": {},
   "outputs": [
    {
     "data": {
      "text/html": [
       "<div>\n",
       "<style scoped>\n",
       "    .dataframe tbody tr th:only-of-type {\n",
       "        vertical-align: middle;\n",
       "    }\n",
       "\n",
       "    .dataframe tbody tr th {\n",
       "        vertical-align: top;\n",
       "    }\n",
       "\n",
       "    .dataframe thead th {\n",
       "        text-align: right;\n",
       "    }\n",
       "</style>\n",
       "<table border=\"1\" class=\"dataframe\">\n",
       "  <thead>\n",
       "    <tr style=\"text-align: right;\">\n",
       "      <th></th>\n",
       "      <th>education</th>\n",
       "      <th>clean_content</th>\n",
       "    </tr>\n",
       "  </thead>\n",
       "  <tbody>\n",
       "    <tr>\n",
       "      <td>8776</td>\n",
       "      <td>high school/GED</td>\n",
       "      <td>also have experience as a chef, server, catere...</td>\n",
       "    </tr>\n",
       "    <tr>\n",
       "      <td>190</td>\n",
       "      <td>masters</td>\n",
       "      <td>i am looking for an interactive project manage...</td>\n",
       "    </tr>\n",
       "    <tr>\n",
       "      <td>7283</td>\n",
       "      <td>some college</td>\n",
       "      <td>randy l. ross. 33 sanford ave. richmond, calif...</td>\n",
       "    </tr>\n",
       "    <tr>\n",
       "      <td>9825</td>\n",
       "      <td>some college</td>\n",
       "      <td>roofer available. monsoon season is here and i...</td>\n",
       "    </tr>\n",
       "    <tr>\n",
       "      <td>3866</td>\n",
       "      <td>masters</td>\n",
       "      <td>experienced closing attorney seeks part-time w...</td>\n",
       "    </tr>\n",
       "    <tr>\n",
       "      <td>7975</td>\n",
       "      <td>some college</td>\n",
       "      <td>hey there, my name is wendy. i am 63 an i have...</td>\n",
       "    </tr>\n",
       "    <tr>\n",
       "      <td>2208</td>\n",
       "      <td>bachelors</td>\n",
       "      <td>serious inquiries only!!. for senior/elder/dis...</td>\n",
       "    </tr>\n",
       "    <tr>\n",
       "      <td>5194</td>\n",
       "      <td>bachelors</td>\n",
       "      <td>if you need help with your lawn. grass cutting...</td>\n",
       "    </tr>\n",
       "    <tr>\n",
       "      <td>5953</td>\n",
       "      <td>some college</td>\n",
       "      <td>my name is jenny!!! i'm looking for work! i'm ...</td>\n",
       "    </tr>\n",
       "    <tr>\n",
       "      <td>5546</td>\n",
       "      <td>high school/GED</td>\n",
       "      <td>thorough / reliable cleaning lady $20. per hou...</td>\n",
       "    </tr>\n",
       "  </tbody>\n",
       "</table>\n",
       "</div>"
      ],
      "text/plain": [
       "            education                                      clean_content\n",
       "8776  high school/GED  also have experience as a chef, server, catere...\n",
       "190           masters  i am looking for an interactive project manage...\n",
       "7283     some college  randy l. ross. 33 sanford ave. richmond, calif...\n",
       "9825     some college  roofer available. monsoon season is here and i...\n",
       "3866          masters  experienced closing attorney seeks part-time w...\n",
       "7975     some college  hey there, my name is wendy. i am 63 an i have...\n",
       "2208        bachelors  serious inquiries only!!. for senior/elder/dis...\n",
       "5194        bachelors  if you need help with your lawn. grass cutting...\n",
       "5953     some college  my name is jenny!!! i'm looking for work! i'm ...\n",
       "5546  high school/GED  thorough / reliable cleaning lady $20. per hou..."
      ]
     },
     "execution_count": 10,
     "metadata": {},
     "output_type": "execute_result"
    }
   ],
   "source": [
    "df_sub.sample(10)"
   ]
  },
  {
   "cell_type": "markdown",
   "metadata": {},
   "source": [
    "# Random Forest Classifier"
   ]
  },
  {
   "cell_type": "code",
   "execution_count": 11,
   "metadata": {},
   "outputs": [],
   "source": [
    "from sklearn.feature_extraction.text import CountVectorizer\n",
    "from sklearn.preprocessing import LabelEncoder\n",
    "from sklearn.model_selection import train_test_split\n",
    "from sklearn.ensemble import RandomForestClassifier"
   ]
  },
  {
   "cell_type": "code",
   "execution_count": 12,
   "metadata": {},
   "outputs": [],
   "source": [
    "encoder = LabelEncoder()\n",
    "\n",
    "target = encoder.fit_transform(df_sub['education'])"
   ]
  },
  {
   "cell_type": "code",
   "execution_count": 13,
   "metadata": {},
   "outputs": [
    {
     "name": "stdout",
     "output_type": "stream",
     "text": [
      "bachelors\t\t1\n",
      "bachelors\t\t1\n",
      "some college\t\t4\n",
      "bachelors\t\t1\n",
      "masters\t\t3\n",
      "high school/GED\t\t2\n",
      "high school/GED\t\t2\n",
      "associates\t\t0\n",
      "some college\t\t4\n",
      "high school/GED\t\t2\n"
     ]
    }
   ],
   "source": [
    "for idx in range(10):\n",
    "    print(f\"{df_sub['education'].iloc[idx]}\\t\\t{target[idx]}\")"
   ]
  },
  {
   "cell_type": "code",
   "execution_count": 14,
   "metadata": {},
   "outputs": [],
   "source": [
    "vector = CountVectorizer(analyzer = 'word',\n",
    "                         stop_words = 'english')\n",
    "\n",
    "features = vector.fit_transform(df_sub['clean_content'])"
   ]
  },
  {
   "cell_type": "code",
   "execution_count": 15,
   "metadata": {},
   "outputs": [],
   "source": [
    "X_train, X_test, y_train, y_test = train_test_split(features, target, test_size = 0.3, shuffle = True)"
   ]
  },
  {
   "cell_type": "code",
   "execution_count": 16,
   "metadata": {},
   "outputs": [],
   "source": [
    "rfc = RandomForestClassifier(n_estimators = 500,\n",
    "                             max_depth = 30,\n",
    "                             min_samples_split = 10)"
   ]
  },
  {
   "cell_type": "code",
   "execution_count": 17,
   "metadata": {},
   "outputs": [],
   "source": [
    "rfc.fit(X_train, y_train);"
   ]
  },
  {
   "cell_type": "code",
   "execution_count": 18,
   "metadata": {},
   "outputs": [
    {
     "name": "stdout",
     "output_type": "stream",
     "text": [
      "Training score:\t67.07%\n",
      "Testing score:\t45.29%\n"
     ]
    }
   ],
   "source": [
    "train_score = rfc.score(X_train, y_train)\n",
    "test_score  = rfc.score(X_test, y_test)\n",
    "\n",
    "print(f\"Training score:\\t{train_score*100:.2f}%\")\n",
    "print(f\"Testing score:\\t{test_score*100:.2f}%\")"
   ]
  },
  {
   "cell_type": "code",
   "execution_count": 19,
   "metadata": {},
   "outputs": [],
   "source": [
    "sample_resume = \"i have a masters degree in interior architecture & design. www.lifestylesaint.com the expertise in design i have is diverse, working on projects ranging from high end residential to hotels, hotel, pip's, commercial projects, offices, building facades, renovations, multifamily, etc. some past clients include starbucks, hampton inn, la quinta and residential rehabs. no matter the size of your project, i am ready to provide solutions at good price.\""
   ]
  },
  {
   "cell_type": "code",
   "execution_count": 20,
   "metadata": {},
   "outputs": [
    {
     "name": "stdout",
     "output_type": "stream",
     "text": [
      "i am a female seeking work as a appointment setter.. i work from home.. i have 5 years experience and i am very good at setting appointments.. i have a bubbly voice and and a upbeat personality.. i am available 7 days a week any hours.. i have used dialer systems or make calls from my cell phone.. i have no barking dogs or children so a very quite environment.. no scammers!!!! \n",
      "\n",
      "Truth:\t\tsome college\n",
      "Predict:\tsome college\n"
     ]
    }
   ],
   "source": [
    "def get_prediction(data):\n",
    "    \n",
    "    truth, text = data\n",
    "    sample_vec = vector.transform([text])\n",
    "\n",
    "    predict = rfc.predict(sample_vec)\n",
    "\n",
    "    predict_class = encoder.inverse_transform(predict)\n",
    "    \n",
    "    print(text,\"\\n\")\n",
    "    print(f\"Truth:\\t\\t{truth}\")\n",
    "    print(f\"Predict:\\t{predict_class[0]}\")\n",
    "\n",
    "get_prediction(df_sub.sample().values[0])"
   ]
  },
  {
   "cell_type": "markdown",
   "metadata": {},
   "source": [
    "# Neural Network"
   ]
  },
  {
   "cell_type": "code",
   "execution_count": 21,
   "metadata": {},
   "outputs": [],
   "source": [
    "import numpy as np\n",
    "\n",
    "import torch\n",
    "import torchvision\n",
    "\n",
    "from torch import nn, optim\n",
    "import torch.nn.functional as F\n",
    "import torch.utils.data as utils"
   ]
  },
  {
   "cell_type": "code",
   "execution_count": 22,
   "metadata": {},
   "outputs": [
    {
     "name": "stdout",
     "output_type": "stream",
     "text": [
      "No GPU detected. Training with CPU\n"
     ]
    }
   ],
   "source": [
    "cuda = torch.cuda.is_available()\n",
    "\n",
    "if cuda:\n",
    "    print(\"GPU detected. Training with GPU\")\n",
    "else:\n",
    "    print(\"No GPU detected. Training with CPU\")"
   ]
  },
  {
   "cell_type": "code",
   "execution_count": 23,
   "metadata": {},
   "outputs": [],
   "source": [
    "vector = CountVectorizer(analyzer = 'word',\n",
    "                         stop_words = 'english',\n",
    "                         max_features = 10000)\n",
    "\n",
    "features = vector.fit_transform(df_sub['clean_content'])"
   ]
  },
  {
   "cell_type": "code",
   "execution_count": 24,
   "metadata": {},
   "outputs": [],
   "source": [
    "tensor_X = torch.stack([torch.Tensor(row.todense()) for row in features])\n",
    "tensor_y = torch.tensor(target)"
   ]
  },
  {
   "cell_type": "code",
   "execution_count": 25,
   "metadata": {},
   "outputs": [],
   "source": [
    "dataset = utils.TensorDataset(tensor_X, tensor_y)\n",
    "dataloader = utils.DataLoader(dataset, batch_size = 32,\n",
    "                              shuffle = True)"
   ]
  },
  {
   "cell_type": "code",
   "execution_count": 26,
   "metadata": {},
   "outputs": [],
   "source": [
    "class Classifier(nn.Module):\n",
    "    def __init__(self):\n",
    "        super().__init__()\n",
    "        \n",
    "        self.fc1 = nn.Linear(10000, 2000)\n",
    "        self.fc2 = nn.Linear(2000, 500)\n",
    "        self.fc3 = nn.Linear(500, 100)\n",
    "        self.fc4 = nn.Linear(100, 5)\n",
    "        \n",
    "        self.drop = nn.Dropout(0.25)\n",
    "        \n",
    "    def forward(self, x):\n",
    "        x = x.view(x.shape[0], -1)\n",
    "        x = F.relu(self.fc1(x))\n",
    "        x = F.relu(self.fc2(x))\n",
    "        x = F.relu(self.fc3(x))\n",
    "        x = F.log_softmax(self.fc4(x), dim = 1)\n",
    "        \n",
    "        return x"
   ]
  },
  {
   "cell_type": "code",
   "execution_count": 27,
   "metadata": {},
   "outputs": [],
   "source": [
    "model = Classifier()\n",
    "criterion = nn.NLLLoss()\n",
    "optimizer = optim.Adam(model.parameters(), lr = 0.003)"
   ]
  },
  {
   "cell_type": "code",
   "execution_count": 28,
   "metadata": {},
   "outputs": [
    {
     "name": "stdout",
     "output_type": "stream",
     "text": [
      "Training loss: 1.3551863607871963\n",
      "Training loss: 1.0429964254060424\n",
      "Training loss: 0.5522257933864393\n",
      "Training loss: 0.2984438639762531\n",
      "Training loss: 0.13274543315203052\n"
     ]
    }
   ],
   "source": [
    "epochs = 5\n",
    "if cuda:\n",
    "    model = model.tocuda()\n",
    "for e in range(epochs):\n",
    "    running_loss = 0\n",
    "    for text, labels in dataloader:\n",
    "        if cuda:\n",
    "            text = text.tocuda()\n",
    "        log_ps = model(text)\n",
    "        loss = criterion(log_ps, labels)\n",
    "        \n",
    "        optimizer.zero_grad()\n",
    "        loss.backward()\n",
    "        optimizer.step()\n",
    "        \n",
    "        running_loss += loss.item()\n",
    "    else:\n",
    "        print(f\"Training loss: {running_loss/len(dataloader)}\")"
   ]
  },
  {
   "cell_type": "code",
   "execution_count": 29,
   "metadata": {},
   "outputs": [
    {
     "ename": "ValueError",
     "evalue": "Iterable over raw text documents expected, string object received.",
     "output_type": "error",
     "traceback": [
      "\u001b[0;31m---------------------------------------------------------------------------\u001b[0m",
      "\u001b[0;31mValueError\u001b[0m                                Traceback (most recent call last)",
      "\u001b[0;32m<ipython-input-29-0e4a47a73844>\u001b[0m in \u001b[0;36m<module>\u001b[0;34m\u001b[0m\n\u001b[1;32m      8\u001b[0m     \u001b[0;32mreturn\u001b[0m \u001b[0mpredict\u001b[0m\u001b[0;34m\u001b[0m\u001b[0;34m\u001b[0m\u001b[0m\n\u001b[1;32m      9\u001b[0m \u001b[0;34m\u001b[0m\u001b[0m\n\u001b[0;32m---> 10\u001b[0;31m \u001b[0mmodel_predict\u001b[0m\u001b[0;34m(\u001b[0m\u001b[0;34m\"I have a master's degree\"\u001b[0m\u001b[0;34m)\u001b[0m\u001b[0;34m\u001b[0m\u001b[0;34m\u001b[0m\u001b[0m\n\u001b[0m",
      "\u001b[0;32m<ipython-input-29-0e4a47a73844>\u001b[0m in \u001b[0;36mmodel_predict\u001b[0;34m(text)\u001b[0m\n\u001b[1;32m      1\u001b[0m \u001b[0;32mdef\u001b[0m \u001b[0mmodel_predict\u001b[0m\u001b[0;34m(\u001b[0m\u001b[0mtext\u001b[0m\u001b[0;34m)\u001b[0m\u001b[0;34m:\u001b[0m\u001b[0;34m\u001b[0m\u001b[0;34m\u001b[0m\u001b[0m\n\u001b[0;32m----> 2\u001b[0;31m     \u001b[0mtext\u001b[0m \u001b[0;34m=\u001b[0m \u001b[0mvector\u001b[0m\u001b[0;34m.\u001b[0m\u001b[0mtransform\u001b[0m\u001b[0;34m(\u001b[0m\u001b[0mtext\u001b[0m\u001b[0;34m)\u001b[0m\u001b[0;34m\u001b[0m\u001b[0;34m\u001b[0m\u001b[0m\n\u001b[0m\u001b[1;32m      3\u001b[0m     \u001b[0mtext\u001b[0m \u001b[0;34m=\u001b[0m \u001b[0mtorch\u001b[0m\u001b[0;34m.\u001b[0m\u001b[0mTensor\u001b[0m\u001b[0;34m(\u001b[0m\u001b[0mtext\u001b[0m\u001b[0;34m)\u001b[0m\u001b[0;34m\u001b[0m\u001b[0;34m\u001b[0m\u001b[0m\n\u001b[1;32m      4\u001b[0m     \u001b[0;32mif\u001b[0m \u001b[0mcuda\u001b[0m\u001b[0;34m:\u001b[0m\u001b[0;34m\u001b[0m\u001b[0;34m\u001b[0m\u001b[0m\n\u001b[1;32m      5\u001b[0m         \u001b[0mmodel\u001b[0m \u001b[0;34m=\u001b[0m \u001b[0mmodel\u001b[0m\u001b[0;34m.\u001b[0m\u001b[0mtocuda\u001b[0m\u001b[0;34m(\u001b[0m\u001b[0;34m)\u001b[0m\u001b[0;34m\u001b[0m\u001b[0;34m\u001b[0m\u001b[0m\n",
      "\u001b[0;32m/Library/Frameworks/Python.framework/Versions/3.7/lib/python3.7/site-packages/sklearn/feature_extraction/text.py\u001b[0m in \u001b[0;36mtransform\u001b[0;34m(self, raw_documents)\u001b[0m\n\u001b[1;32m   1101\u001b[0m         \u001b[0;32mif\u001b[0m \u001b[0misinstance\u001b[0m\u001b[0;34m(\u001b[0m\u001b[0mraw_documents\u001b[0m\u001b[0;34m,\u001b[0m \u001b[0mstr\u001b[0m\u001b[0;34m)\u001b[0m\u001b[0;34m:\u001b[0m\u001b[0;34m\u001b[0m\u001b[0;34m\u001b[0m\u001b[0m\n\u001b[1;32m   1102\u001b[0m             raise ValueError(\n\u001b[0;32m-> 1103\u001b[0;31m                 \u001b[0;34m\"Iterable over raw text documents expected, \"\u001b[0m\u001b[0;34m\u001b[0m\u001b[0;34m\u001b[0m\u001b[0m\n\u001b[0m\u001b[1;32m   1104\u001b[0m                 \"string object received.\")\n\u001b[1;32m   1105\u001b[0m \u001b[0;34m\u001b[0m\u001b[0m\n",
      "\u001b[0;31mValueError\u001b[0m: Iterable over raw text documents expected, string object received."
     ]
    }
   ],
   "source": [
    "def model_predict(text):\n",
    "    text = vector.transform(text)\n",
    "    text = torch.Tensor(text)\n",
    "    if cuda:\n",
    "        model = model.tocuda()\n",
    "        text = text.tocuda()\n",
    "    predict = model(text)\n",
    "    return predict\n",
    "\n",
    "model_predict(\"I have a master's degree\")"
   ]
  },
  {
   "cell_type": "code",
   "execution_count": null,
   "metadata": {},
   "outputs": [],
   "source": [
    "from sklearn.neural_network import MLPClassifier"
   ]
  },
  {
   "cell_type": "code",
   "execution_count": null,
   "metadata": {},
   "outputs": [],
   "source": [
    "mlp = MLPClassifier(hidden_layer_sizes = (2000, 500, 100),\n",
    "                    activation = 'relu',\n",
    "                    solver = 'adam',\n",
    "                    batch_size = 32,\n",
    "                    learning_rate_init = 0.003,\n",
    "                    max_iter = 5,\n",
    "                    shuffle = True,\n",
    "                    verbose = 1)"
   ]
  },
  {
   "cell_type": "code",
   "execution_count": null,
   "metadata": {},
   "outputs": [],
   "source": [
    "mlp.fit(X_train, y_train)"
   ]
  },
  {
   "cell_type": "code",
   "execution_count": null,
   "metadata": {},
   "outputs": [],
   "source": []
  }
 ],
 "metadata": {
  "kernelspec": {
   "display_name": "Python 3",
   "language": "python",
   "name": "python3"
  },
  "language_info": {
   "codemirror_mode": {
    "name": "ipython",
    "version": 3
   },
   "file_extension": ".py",
   "mimetype": "text/x-python",
   "name": "python",
   "nbconvert_exporter": "python",
   "pygments_lexer": "ipython3",
   "version": "3.7.4"
  }
 },
 "nbformat": 4,
 "nbformat_minor": 2
}
